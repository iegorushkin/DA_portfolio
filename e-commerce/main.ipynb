{
 "cells": [
  {
   "cell_type": "markdown",
   "id": "65789885-7780-48f1-930c-df35ab735551",
   "metadata": {
    "tags": []
   },
   "source": [
    "# Проект e-commerce\n",
    "Ноутбук посвящён изучению данных онлайн-магазина ([источник](https://karpov.courses/analytics)). Были найдены ответы на следующие вопросы и реализованы следующие процедуры:\n",
    "<br>1. Сколько пользователей совершили покупку только один раз?\n",
    "<br>2. Сколько заказов в месяц в среднем не доставляются?\n",
    "<br>3. Для каждого товара определить, в какой день недели он покупается чаще всего.\n",
    "<br>4. Для каждого пользователя определить среднее количество покупок в неделю с разбивкой по месяцам.\n",
    "<br>5. Разделить пользователей, совершивших покупки в 2017 году, на когорты по месяцам. Найти когорту с самым высоким показателем retention на 3-й месяц.\n",
    "<br>6. Выполнить RFM-сегментацию пользователей и провести качественную оценку аудитории."
   ]
  },
  {
   "cell_type": "markdown",
   "id": "f1dbacf1-f57d-43e1-8ecb-ecf6ff2fd8f3",
   "metadata": {
    "tags": []
   },
   "source": [
    "## Описание данных\n",
    "### olist_customers_datase.csv - таблица с информацией о клиентах\n",
    "* *customer_id* - идентификатор клиента в системе.\n",
    "* *customer_unique_id* - уникальный идентификатор клиента (аналог номера паспорта).\n",
    "* *customer_zip_code_prefix* - почтовый индекс клиента.\n",
    "* *customer_city* - город, в котором проживает клиент.\n",
    "* *customer_state* - штат, в котором проживает клиент.\n",
    "### olist_orders_dataset.csv - таблица с информацией о заказах\n",
    "* *order_id* - уникальный идентификатор заказа (номер чека).\n",
    "* *customer_id* - идентификатор клиента в системе.\n",
    "* *order_status* - статус заказа; один из _**created (создан), approved (одобрен), invoiced (выставлен счёт), processing (в процессе сборки), shipped (отправлен), delivered (доставлен), unavailable (недоступен), canceled (отменён)**_.\n",
    "* *order_purchase_timestamp* - время создания заказа.\n",
    "* *order_approved_at* - время подтверждения оплаты заказа.\n",
    "* *order_delivered_carrier_date* - время передачи заказа логистической службе.\n",
    "* *order_delivered_customer_date* - время доставки заказа.\n",
    "* *order_estimated_delivery_date* - заявленная дата доставки.\n",
    "### olist_order_items_dataset.csv - таблица с информацией о товарах, входящих в заказы\n",
    "* *order_id* - уникальный идентификатор заказа (номер чека).\n",
    "* *order_item_id* - идентификатор товара внутри одного заказа.\n",
    "* *product_id* - идентификатор товара (аналог штрихкода).\n",
    "* *seller_id* - идентификатор производителя товара.\n",
    "* *shipping_limit_date* - максимальная дата поставки продавцом для передачи заказа партнеру по логистике.\n",
    "* *price* - цена за единицу товара.\n",
    "* *freight_value* - вес товара.\n",
    "\n",
    "Таким образом, таблицы **olist_customers_datase.csv** и **olist_orders_dataset.csv** имеют общий ключ *customer_id*, а таблицы **olist_orders_dataset.csv** и **olist_order_items_dataset.csv** - *order_id*"
   ]
  },
  {
   "cell_type": "markdown",
   "id": "6b0b9d7b-7226-4740-bc2c-aa97dc6af975",
   "metadata": {},
   "source": [
    "## Импорт библиотек"
   ]
  },
  {
   "cell_type": "code",
   "execution_count": 118,
   "id": "78da08d9-4bb5-4ec9-98da-861b8ddf8c6a",
   "metadata": {},
   "outputs": [],
   "source": [
    "import pandas as pd\n",
    "import numpy as np\n",
    "import requests\n",
    "import seaborn as sns\n",
    "import matplotlib.pyplot as plt\n",
    "from datetime import timedelta\n",
    "from scipy import stats\n",
    "from sys import exit"
   ]
  },
  {
   "cell_type": "markdown",
   "id": "99d1d482-5224-4984-8618-a30388cd70e2",
   "metadata": {},
   "source": [
    "## Чтение данных\n",
    "Выгрузим данные с Яндекс Диска, воспользовавшись API для получения прямой ссылки на скачивание."
   ]
  },
  {
   "cell_type": "code",
   "execution_count": 119,
   "id": "80a2c21f-4332-4a3f-8e59-fd2947aea4fa",
   "metadata": {},
   "outputs": [],
   "source": [
    "# API\n",
    "api_url = r'https://cloud-api.yandex.net/v1/disk/public/resources/download?'\n",
    "# Публичные URL файлов\n",
    "customers_url = r'https://disk.yandex.ru/d/QXrVDUoQvFhIcg'\n",
    "orders_url = r'https://disk.yandex.ru/d/0zWmh1bYP6REbw'\n",
    "items_url = r'https://disk.yandex.ru/d/xCsQ0FiC-Ue4Lg'"
   ]
  },
  {
   "cell_type": "code",
   "execution_count": 120,
   "id": "c3d47234-c99b-4884-862d-07bb806071b5",
   "metadata": {},
   "outputs": [],
   "source": [
    "def read_data(public_url, api_url = r'https://cloud-api.yandex.net/v1/disk/public/resources/download?'):\n",
    "    \"\"\"\n",
    "    Считывает данные из CSV файла, сохраненного в облачном хранилище,\n",
    "    в объект DataFrame библиотеки pandas.\n",
    "    \n",
    "    Параметры:\n",
    "    public_url (str): Публичный URL CSV файла.\n",
    "    api_url (str): API URL для получения прямого линка на скачивание; по умолчанию\n",
    "    используется API Яндекс Диска.\n",
    "\n",
    "    Возвращает:\n",
    "    pd.DataFrame: DataFrame, содержащий данные из CSV файла.\n",
    "    \"\"\"\n",
    "    response = requests.get(api_url, params={'public_key': public_url})\n",
    "    # Проверка входных URL.\n",
    "    if response.status_code != 200:\n",
    "        print(\"Something's wrong. Check the public and/or API URL!\")\n",
    "        exit()\n",
    "    return pd.read_csv(response.json()['href'])"
   ]
  },
  {
   "cell_type": "markdown",
   "id": "2e63e491-dd74-42fe-9940-0f3ce5098648",
   "metadata": {},
   "source": [
    "### Customers"
   ]
  },
  {
   "cell_type": "code",
   "execution_count": 121,
   "id": "1ff525c4-2924-4f81-8ee6-95709335868d",
   "metadata": {},
   "outputs": [
    {
     "data": {
      "text/html": [
       "<div>\n",
       "<style scoped>\n",
       "    .dataframe tbody tr th:only-of-type {\n",
       "        vertical-align: middle;\n",
       "    }\n",
       "\n",
       "    .dataframe tbody tr th {\n",
       "        vertical-align: top;\n",
       "    }\n",
       "\n",
       "    .dataframe thead th {\n",
       "        text-align: right;\n",
       "    }\n",
       "</style>\n",
       "<table border=\"1\" class=\"dataframe\">\n",
       "  <thead>\n",
       "    <tr style=\"text-align: right;\">\n",
       "      <th></th>\n",
       "      <th>customer_id</th>\n",
       "      <th>customer_unique_id</th>\n",
       "      <th>customer_zip_code_prefix</th>\n",
       "      <th>customer_city</th>\n",
       "      <th>customer_state</th>\n",
       "    </tr>\n",
       "  </thead>\n",
       "  <tbody>\n",
       "    <tr>\n",
       "      <th>0</th>\n",
       "      <td>06b8999e2fba1a1fbc88172c00ba8bc7</td>\n",
       "      <td>861eff4711a542e4b93843c6dd7febb0</td>\n",
       "      <td>14409</td>\n",
       "      <td>franca</td>\n",
       "      <td>SP</td>\n",
       "    </tr>\n",
       "    <tr>\n",
       "      <th>1</th>\n",
       "      <td>18955e83d337fd6b2def6b18a428ac77</td>\n",
       "      <td>290c77bc529b7ac935b93aa66c333dc3</td>\n",
       "      <td>9790</td>\n",
       "      <td>sao bernardo do campo</td>\n",
       "      <td>SP</td>\n",
       "    </tr>\n",
       "    <tr>\n",
       "      <th>2</th>\n",
       "      <td>4e7b3e00288586ebd08712fdd0374a03</td>\n",
       "      <td>060e732b5b29e8181a18229c7b0b2b5e</td>\n",
       "      <td>1151</td>\n",
       "      <td>sao paulo</td>\n",
       "      <td>SP</td>\n",
       "    </tr>\n",
       "    <tr>\n",
       "      <th>3</th>\n",
       "      <td>b2b6027bc5c5109e529d4dc6358b12c3</td>\n",
       "      <td>259dac757896d24d7702b9acbbff3f3c</td>\n",
       "      <td>8775</td>\n",
       "      <td>mogi das cruzes</td>\n",
       "      <td>SP</td>\n",
       "    </tr>\n",
       "    <tr>\n",
       "      <th>4</th>\n",
       "      <td>4f2d8ab171c80ec8364f7c12e35b23ad</td>\n",
       "      <td>345ecd01c38d18a9036ed96c73b8d066</td>\n",
       "      <td>13056</td>\n",
       "      <td>campinas</td>\n",
       "      <td>SP</td>\n",
       "    </tr>\n",
       "  </tbody>\n",
       "</table>\n",
       "</div>"
      ],
      "text/plain": [
       "                        customer_id                customer_unique_id  \\\n",
       "0  06b8999e2fba1a1fbc88172c00ba8bc7  861eff4711a542e4b93843c6dd7febb0   \n",
       "1  18955e83d337fd6b2def6b18a428ac77  290c77bc529b7ac935b93aa66c333dc3   \n",
       "2  4e7b3e00288586ebd08712fdd0374a03  060e732b5b29e8181a18229c7b0b2b5e   \n",
       "3  b2b6027bc5c5109e529d4dc6358b12c3  259dac757896d24d7702b9acbbff3f3c   \n",
       "4  4f2d8ab171c80ec8364f7c12e35b23ad  345ecd01c38d18a9036ed96c73b8d066   \n",
       "\n",
       "   customer_zip_code_prefix          customer_city customer_state  \n",
       "0                     14409                 franca             SP  \n",
       "1                      9790  sao bernardo do campo             SP  \n",
       "2                      1151              sao paulo             SP  \n",
       "3                      8775        mogi das cruzes             SP  \n",
       "4                     13056               campinas             SP  "
      ]
     },
     "execution_count": 121,
     "metadata": {},
     "output_type": "execute_result"
    }
   ],
   "source": [
    "customers_df = read_data(customers_url, api_url)\n",
    "# Выведем первые 5 строк получившегося DataFrame.\n",
    "customers_df.head()"
   ]
  },
  {
   "cell_type": "markdown",
   "id": "e69acabe-a058-44ee-950a-aee44cf27a10",
   "metadata": {},
   "source": [
    "Проверим, есть ли в таблице **customers_df** пропущенные значения."
   ]
  },
  {
   "cell_type": "code",
   "execution_count": 122,
   "id": "f6e1f247-d425-4e37-aa8b-a75b3cff8c35",
   "metadata": {},
   "outputs": [
    {
     "name": "stdout",
     "output_type": "stream",
     "text": [
      "<class 'pandas.core.frame.DataFrame'>\n",
      "RangeIndex: 99441 entries, 0 to 99440\n",
      "Data columns (total 5 columns):\n",
      " #   Column                    Non-Null Count  Dtype \n",
      "---  ------                    --------------  ----- \n",
      " 0   customer_id               99441 non-null  object\n",
      " 1   customer_unique_id        99441 non-null  object\n",
      " 2   customer_zip_code_prefix  99441 non-null  int64 \n",
      " 3   customer_city             99441 non-null  object\n",
      " 4   customer_state            99441 non-null  object\n",
      "dtypes: int64(1), object(4)\n",
      "memory usage: 3.8+ MB\n"
     ]
    }
   ],
   "source": [
    "customers_df.info()"
   ]
  },
  {
   "cell_type": "markdown",
   "id": "0dc59f7b-3f29-4dc4-81de-6f5439c0865b",
   "metadata": {},
   "source": [
    "Пропущенные значения отсутствуют. "
   ]
  },
  {
   "cell_type": "markdown",
   "id": "cd5e3e63-1486-4a81-bac7-83f855a03ec9",
   "metadata": {},
   "source": [
    "### Orders"
   ]
  },
  {
   "cell_type": "code",
   "execution_count": 123,
   "id": "5268f2f4-07f3-4d2e-beeb-cadfc9842203",
   "metadata": {},
   "outputs": [
    {
     "data": {
      "text/html": [
       "<div>\n",
       "<style scoped>\n",
       "    .dataframe tbody tr th:only-of-type {\n",
       "        vertical-align: middle;\n",
       "    }\n",
       "\n",
       "    .dataframe tbody tr th {\n",
       "        vertical-align: top;\n",
       "    }\n",
       "\n",
       "    .dataframe thead th {\n",
       "        text-align: right;\n",
       "    }\n",
       "</style>\n",
       "<table border=\"1\" class=\"dataframe\">\n",
       "  <thead>\n",
       "    <tr style=\"text-align: right;\">\n",
       "      <th></th>\n",
       "      <th>order_id</th>\n",
       "      <th>customer_id</th>\n",
       "      <th>order_status</th>\n",
       "      <th>order_purchase_timestamp</th>\n",
       "      <th>order_approved_at</th>\n",
       "      <th>order_delivered_carrier_date</th>\n",
       "      <th>order_delivered_customer_date</th>\n",
       "      <th>order_estimated_delivery_date</th>\n",
       "    </tr>\n",
       "  </thead>\n",
       "  <tbody>\n",
       "    <tr>\n",
       "      <th>0</th>\n",
       "      <td>e481f51cbdc54678b7cc49136f2d6af7</td>\n",
       "      <td>9ef432eb6251297304e76186b10a928d</td>\n",
       "      <td>delivered</td>\n",
       "      <td>2017-10-02 10:56:33</td>\n",
       "      <td>2017-10-02 11:07:15</td>\n",
       "      <td>2017-10-04 19:55:00</td>\n",
       "      <td>2017-10-10 21:25:13</td>\n",
       "      <td>2017-10-18 00:00:00</td>\n",
       "    </tr>\n",
       "    <tr>\n",
       "      <th>1</th>\n",
       "      <td>53cdb2fc8bc7dce0b6741e2150273451</td>\n",
       "      <td>b0830fb4747a6c6d20dea0b8c802d7ef</td>\n",
       "      <td>delivered</td>\n",
       "      <td>2018-07-24 20:41:37</td>\n",
       "      <td>2018-07-26 03:24:27</td>\n",
       "      <td>2018-07-26 14:31:00</td>\n",
       "      <td>2018-08-07 15:27:45</td>\n",
       "      <td>2018-08-13 00:00:00</td>\n",
       "    </tr>\n",
       "    <tr>\n",
       "      <th>2</th>\n",
       "      <td>47770eb9100c2d0c44946d9cf07ec65d</td>\n",
       "      <td>41ce2a54c0b03bf3443c3d931a367089</td>\n",
       "      <td>delivered</td>\n",
       "      <td>2018-08-08 08:38:49</td>\n",
       "      <td>2018-08-08 08:55:23</td>\n",
       "      <td>2018-08-08 13:50:00</td>\n",
       "      <td>2018-08-17 18:06:29</td>\n",
       "      <td>2018-09-04 00:00:00</td>\n",
       "    </tr>\n",
       "    <tr>\n",
       "      <th>3</th>\n",
       "      <td>949d5b44dbf5de918fe9c16f97b45f8a</td>\n",
       "      <td>f88197465ea7920adcdbec7375364d82</td>\n",
       "      <td>delivered</td>\n",
       "      <td>2017-11-18 19:28:06</td>\n",
       "      <td>2017-11-18 19:45:59</td>\n",
       "      <td>2017-11-22 13:39:59</td>\n",
       "      <td>2017-12-02 00:28:42</td>\n",
       "      <td>2017-12-15 00:00:00</td>\n",
       "    </tr>\n",
       "    <tr>\n",
       "      <th>4</th>\n",
       "      <td>ad21c59c0840e6cb83a9ceb5573f8159</td>\n",
       "      <td>8ab97904e6daea8866dbdbc4fb7aad2c</td>\n",
       "      <td>delivered</td>\n",
       "      <td>2018-02-13 21:18:39</td>\n",
       "      <td>2018-02-13 22:20:29</td>\n",
       "      <td>2018-02-14 19:46:34</td>\n",
       "      <td>2018-02-16 18:17:02</td>\n",
       "      <td>2018-02-26 00:00:00</td>\n",
       "    </tr>\n",
       "  </tbody>\n",
       "</table>\n",
       "</div>"
      ],
      "text/plain": [
       "                           order_id                       customer_id  \\\n",
       "0  e481f51cbdc54678b7cc49136f2d6af7  9ef432eb6251297304e76186b10a928d   \n",
       "1  53cdb2fc8bc7dce0b6741e2150273451  b0830fb4747a6c6d20dea0b8c802d7ef   \n",
       "2  47770eb9100c2d0c44946d9cf07ec65d  41ce2a54c0b03bf3443c3d931a367089   \n",
       "3  949d5b44dbf5de918fe9c16f97b45f8a  f88197465ea7920adcdbec7375364d82   \n",
       "4  ad21c59c0840e6cb83a9ceb5573f8159  8ab97904e6daea8866dbdbc4fb7aad2c   \n",
       "\n",
       "  order_status order_purchase_timestamp    order_approved_at  \\\n",
       "0    delivered      2017-10-02 10:56:33  2017-10-02 11:07:15   \n",
       "1    delivered      2018-07-24 20:41:37  2018-07-26 03:24:27   \n",
       "2    delivered      2018-08-08 08:38:49  2018-08-08 08:55:23   \n",
       "3    delivered      2017-11-18 19:28:06  2017-11-18 19:45:59   \n",
       "4    delivered      2018-02-13 21:18:39  2018-02-13 22:20:29   \n",
       "\n",
       "  order_delivered_carrier_date order_delivered_customer_date  \\\n",
       "0          2017-10-04 19:55:00           2017-10-10 21:25:13   \n",
       "1          2018-07-26 14:31:00           2018-08-07 15:27:45   \n",
       "2          2018-08-08 13:50:00           2018-08-17 18:06:29   \n",
       "3          2017-11-22 13:39:59           2017-12-02 00:28:42   \n",
       "4          2018-02-14 19:46:34           2018-02-16 18:17:02   \n",
       "\n",
       "  order_estimated_delivery_date  \n",
       "0           2017-10-18 00:00:00  \n",
       "1           2018-08-13 00:00:00  \n",
       "2           2018-09-04 00:00:00  \n",
       "3           2017-12-15 00:00:00  \n",
       "4           2018-02-26 00:00:00  "
      ]
     },
     "execution_count": 123,
     "metadata": {},
     "output_type": "execute_result"
    }
   ],
   "source": [
    "orders_df = read_data(orders_url, api_url)\n",
    "# Выведем первые 5 строк получившегося DataFrame.\n",
    "orders_df.head()"
   ]
  },
  {
   "cell_type": "markdown",
   "id": "4f5741ca-7322-4e67-bc8f-550c6173aab0",
   "metadata": {},
   "source": [
    "Проверим, есть ли в таблице **orders_df** пропущенные значения."
   ]
  },
  {
   "cell_type": "code",
   "execution_count": 124,
   "id": "969cec6b-7e87-477e-849a-954f0f8408bb",
   "metadata": {},
   "outputs": [
    {
     "name": "stdout",
     "output_type": "stream",
     "text": [
      "<class 'pandas.core.frame.DataFrame'>\n",
      "RangeIndex: 99441 entries, 0 to 99440\n",
      "Data columns (total 8 columns):\n",
      " #   Column                         Non-Null Count  Dtype \n",
      "---  ------                         --------------  ----- \n",
      " 0   order_id                       99441 non-null  object\n",
      " 1   customer_id                    99441 non-null  object\n",
      " 2   order_status                   99441 non-null  object\n",
      " 3   order_purchase_timestamp       99441 non-null  object\n",
      " 4   order_approved_at              99281 non-null  object\n",
      " 5   order_delivered_carrier_date   97658 non-null  object\n",
      " 6   order_delivered_customer_date  96476 non-null  object\n",
      " 7   order_estimated_delivery_date  99441 non-null  object\n",
      "dtypes: object(8)\n",
      "memory usage: 6.1+ MB\n"
     ]
    }
   ],
   "source": [
    "orders_df.info()"
   ]
  },
  {
   "cell_type": "markdown",
   "id": "c1061651-940b-4689-8100-fa9d83eb08b5",
   "metadata": {},
   "source": [
    "Видим, что в таблице есть колонки с NaN-значениями. Выведем эти колонки и посчитаем количество NaNов. "
   ]
  },
  {
   "cell_type": "code",
   "execution_count": 125,
   "id": "d5cf5cb0-344a-4364-bc96-0814962ecdb1",
   "metadata": {},
   "outputs": [
    {
     "data": {
      "text/plain": [
       "order_id                            0\n",
       "customer_id                         0\n",
       "order_status                        0\n",
       "order_purchase_timestamp            0\n",
       "order_approved_at                 160\n",
       "order_delivered_carrier_date     1783\n",
       "order_delivered_customer_date    2965\n",
       "order_estimated_delivery_date       0\n",
       "dtype: int64"
      ]
     },
     "execution_count": 125,
     "metadata": {},
     "output_type": "execute_result"
    }
   ],
   "source": [
    "orders_df.isna().sum()"
   ]
  },
  {
   "cell_type": "markdown",
   "id": "9cd93d7c-23d2-479a-bb12-8f19fc028af5",
   "metadata": {},
   "source": [
    "**NOTE:** все колонки, содержащие NaN, относятся к временным меткам."
   ]
  },
  {
   "cell_type": "markdown",
   "id": "911de9b3-daca-4460-8f41-7520c16fbc29",
   "metadata": {},
   "source": [
    "### Items"
   ]
  },
  {
   "cell_type": "code",
   "execution_count": 126,
   "id": "186bf02c-8876-46b8-9616-f58471b54690",
   "metadata": {},
   "outputs": [
    {
     "data": {
      "text/html": [
       "<div>\n",
       "<style scoped>\n",
       "    .dataframe tbody tr th:only-of-type {\n",
       "        vertical-align: middle;\n",
       "    }\n",
       "\n",
       "    .dataframe tbody tr th {\n",
       "        vertical-align: top;\n",
       "    }\n",
       "\n",
       "    .dataframe thead th {\n",
       "        text-align: right;\n",
       "    }\n",
       "</style>\n",
       "<table border=\"1\" class=\"dataframe\">\n",
       "  <thead>\n",
       "    <tr style=\"text-align: right;\">\n",
       "      <th></th>\n",
       "      <th>order_id</th>\n",
       "      <th>order_item_id</th>\n",
       "      <th>product_id</th>\n",
       "      <th>seller_id</th>\n",
       "      <th>shipping_limit_date</th>\n",
       "      <th>price</th>\n",
       "      <th>freight_value</th>\n",
       "    </tr>\n",
       "  </thead>\n",
       "  <tbody>\n",
       "    <tr>\n",
       "      <th>0</th>\n",
       "      <td>00010242fe8c5a6d1ba2dd792cb16214</td>\n",
       "      <td>1</td>\n",
       "      <td>4244733e06e7ecb4970a6e2683c13e61</td>\n",
       "      <td>48436dade18ac8b2bce089ec2a041202</td>\n",
       "      <td>2017-09-19 09:45:35</td>\n",
       "      <td>58.90</td>\n",
       "      <td>13.29</td>\n",
       "    </tr>\n",
       "    <tr>\n",
       "      <th>1</th>\n",
       "      <td>00018f77f2f0320c557190d7a144bdd3</td>\n",
       "      <td>1</td>\n",
       "      <td>e5f2d52b802189ee658865ca93d83a8f</td>\n",
       "      <td>dd7ddc04e1b6c2c614352b383efe2d36</td>\n",
       "      <td>2017-05-03 11:05:13</td>\n",
       "      <td>239.90</td>\n",
       "      <td>19.93</td>\n",
       "    </tr>\n",
       "    <tr>\n",
       "      <th>2</th>\n",
       "      <td>000229ec398224ef6ca0657da4fc703e</td>\n",
       "      <td>1</td>\n",
       "      <td>c777355d18b72b67abbeef9df44fd0fd</td>\n",
       "      <td>5b51032eddd242adc84c38acab88f23d</td>\n",
       "      <td>2018-01-18 14:48:30</td>\n",
       "      <td>199.00</td>\n",
       "      <td>17.87</td>\n",
       "    </tr>\n",
       "    <tr>\n",
       "      <th>3</th>\n",
       "      <td>00024acbcdf0a6daa1e931b038114c75</td>\n",
       "      <td>1</td>\n",
       "      <td>7634da152a4610f1595efa32f14722fc</td>\n",
       "      <td>9d7a1d34a5052409006425275ba1c2b4</td>\n",
       "      <td>2018-08-15 10:10:18</td>\n",
       "      <td>12.99</td>\n",
       "      <td>12.79</td>\n",
       "    </tr>\n",
       "    <tr>\n",
       "      <th>4</th>\n",
       "      <td>00042b26cf59d7ce69dfabb4e55b4fd9</td>\n",
       "      <td>1</td>\n",
       "      <td>ac6c3623068f30de03045865e4e10089</td>\n",
       "      <td>df560393f3a51e74553ab94004ba5c87</td>\n",
       "      <td>2017-02-13 13:57:51</td>\n",
       "      <td>199.90</td>\n",
       "      <td>18.14</td>\n",
       "    </tr>\n",
       "  </tbody>\n",
       "</table>\n",
       "</div>"
      ],
      "text/plain": [
       "                           order_id  order_item_id  \\\n",
       "0  00010242fe8c5a6d1ba2dd792cb16214              1   \n",
       "1  00018f77f2f0320c557190d7a144bdd3              1   \n",
       "2  000229ec398224ef6ca0657da4fc703e              1   \n",
       "3  00024acbcdf0a6daa1e931b038114c75              1   \n",
       "4  00042b26cf59d7ce69dfabb4e55b4fd9              1   \n",
       "\n",
       "                         product_id                         seller_id  \\\n",
       "0  4244733e06e7ecb4970a6e2683c13e61  48436dade18ac8b2bce089ec2a041202   \n",
       "1  e5f2d52b802189ee658865ca93d83a8f  dd7ddc04e1b6c2c614352b383efe2d36   \n",
       "2  c777355d18b72b67abbeef9df44fd0fd  5b51032eddd242adc84c38acab88f23d   \n",
       "3  7634da152a4610f1595efa32f14722fc  9d7a1d34a5052409006425275ba1c2b4   \n",
       "4  ac6c3623068f30de03045865e4e10089  df560393f3a51e74553ab94004ba5c87   \n",
       "\n",
       "   shipping_limit_date   price  freight_value  \n",
       "0  2017-09-19 09:45:35   58.90          13.29  \n",
       "1  2017-05-03 11:05:13  239.90          19.93  \n",
       "2  2018-01-18 14:48:30  199.00          17.87  \n",
       "3  2018-08-15 10:10:18   12.99          12.79  \n",
       "4  2017-02-13 13:57:51  199.90          18.14  "
      ]
     },
     "execution_count": 126,
     "metadata": {},
     "output_type": "execute_result"
    }
   ],
   "source": [
    "items_df = read_data(items_url, api_url)\n",
    "# Выведем первые 5 строк получившегося DataFrame.\n",
    "items_df.head()"
   ]
  },
  {
   "cell_type": "markdown",
   "id": "b68e25e2-8713-41d6-92f7-c3b482dc7a43",
   "metadata": {},
   "source": [
    "Проверим, есть ли в таблице **items_df** пропущенные значения."
   ]
  },
  {
   "cell_type": "code",
   "execution_count": 127,
   "id": "93fd4f80-53c6-465d-b0ad-f875fd283308",
   "metadata": {},
   "outputs": [
    {
     "name": "stdout",
     "output_type": "stream",
     "text": [
      "<class 'pandas.core.frame.DataFrame'>\n",
      "RangeIndex: 112650 entries, 0 to 112649\n",
      "Data columns (total 7 columns):\n",
      " #   Column               Non-Null Count   Dtype  \n",
      "---  ------               --------------   -----  \n",
      " 0   order_id             112650 non-null  object \n",
      " 1   order_item_id        112650 non-null  int64  \n",
      " 2   product_id           112650 non-null  object \n",
      " 3   seller_id            112650 non-null  object \n",
      " 4   shipping_limit_date  112650 non-null  object \n",
      " 5   price                112650 non-null  float64\n",
      " 6   freight_value        112650 non-null  float64\n",
      "dtypes: float64(2), int64(1), object(4)\n",
      "memory usage: 6.0+ MB\n"
     ]
    }
   ],
   "source": [
    "items_df.info()"
   ]
  },
  {
   "cell_type": "markdown",
   "id": "cb6507c7-1277-46f3-8e24-2de52c82c176",
   "metadata": {},
   "source": [
    "Пропущенные значения отсутствуют. "
   ]
  },
  {
   "cell_type": "markdown",
   "id": "0ee1ecc7-c4b7-4650-b8fa-21a296865418",
   "metadata": {},
   "source": [
    "Удаляем ненужное"
   ]
  },
  {
   "cell_type": "code",
   "execution_count": 128,
   "id": "0d8bce52-c123-41b7-997a-420f9bfda001",
   "metadata": {},
   "outputs": [],
   "source": [
    "del api_url, customers_url, items_url, orders_url "
   ]
  },
  {
   "cell_type": "markdown",
   "id": "cb230b69-eb7e-4b46-89d2-056e29c9cb64",
   "metadata": {},
   "source": [
    "## Пункт 1\n",
    "Сколько пользователей совершили покупку только один раз?"
   ]
  },
  {
   "cell_type": "markdown",
   "id": "20b7998a-faeb-4505-ad34-1b62f30bc249",
   "metadata": {},
   "source": [
    "Для ответа на этот вопрос необходимо дать определение покупке. \n",
    "<br>Обратимся к таблице **orders_df**. Каждая строка данной таблицы соответствует уникальному заказу. Поскольку заказ мог быть отменен или по тем или иным причинам не быть доставлен, нельзя ставить знак равенства между ним и покупкой. Будем считать, что покупка - это \"успешный\", законченный заказ. \n",
    "<br>Какой заказ будет считаться \"успешным\"? В первую очередь тот, чей *order_status* равен 'delivered'."
   ]
  },
  {
   "cell_type": "code",
   "execution_count": 129,
   "id": "257be7ef-de85-4ad9-9452-e8c96f8dea38",
   "metadata": {},
   "outputs": [
    {
     "data": {
      "text/html": [
       "<div>\n",
       "<style scoped>\n",
       "    .dataframe tbody tr th:only-of-type {\n",
       "        vertical-align: middle;\n",
       "    }\n",
       "\n",
       "    .dataframe tbody tr th {\n",
       "        vertical-align: top;\n",
       "    }\n",
       "\n",
       "    .dataframe thead th {\n",
       "        text-align: right;\n",
       "    }\n",
       "</style>\n",
       "<table border=\"1\" class=\"dataframe\">\n",
       "  <thead>\n",
       "    <tr style=\"text-align: right;\">\n",
       "      <th></th>\n",
       "      <th>order_id</th>\n",
       "      <th>customer_id</th>\n",
       "      <th>order_status</th>\n",
       "      <th>order_purchase_timestamp</th>\n",
       "      <th>order_approved_at</th>\n",
       "      <th>order_delivered_carrier_date</th>\n",
       "      <th>order_delivered_customer_date</th>\n",
       "      <th>order_estimated_delivery_date</th>\n",
       "    </tr>\n",
       "  </thead>\n",
       "  <tbody>\n",
       "    <tr>\n",
       "      <th>0</th>\n",
       "      <td>e481f51cbdc54678b7cc49136f2d6af7</td>\n",
       "      <td>9ef432eb6251297304e76186b10a928d</td>\n",
       "      <td>delivered</td>\n",
       "      <td>2017-10-02 10:56:33</td>\n",
       "      <td>2017-10-02 11:07:15</td>\n",
       "      <td>2017-10-04 19:55:00</td>\n",
       "      <td>2017-10-10 21:25:13</td>\n",
       "      <td>2017-10-18 00:00:00</td>\n",
       "    </tr>\n",
       "    <tr>\n",
       "      <th>1</th>\n",
       "      <td>53cdb2fc8bc7dce0b6741e2150273451</td>\n",
       "      <td>b0830fb4747a6c6d20dea0b8c802d7ef</td>\n",
       "      <td>delivered</td>\n",
       "      <td>2018-07-24 20:41:37</td>\n",
       "      <td>2018-07-26 03:24:27</td>\n",
       "      <td>2018-07-26 14:31:00</td>\n",
       "      <td>2018-08-07 15:27:45</td>\n",
       "      <td>2018-08-13 00:00:00</td>\n",
       "    </tr>\n",
       "    <tr>\n",
       "      <th>2</th>\n",
       "      <td>47770eb9100c2d0c44946d9cf07ec65d</td>\n",
       "      <td>41ce2a54c0b03bf3443c3d931a367089</td>\n",
       "      <td>delivered</td>\n",
       "      <td>2018-08-08 08:38:49</td>\n",
       "      <td>2018-08-08 08:55:23</td>\n",
       "      <td>2018-08-08 13:50:00</td>\n",
       "      <td>2018-08-17 18:06:29</td>\n",
       "      <td>2018-09-04 00:00:00</td>\n",
       "    </tr>\n",
       "    <tr>\n",
       "      <th>3</th>\n",
       "      <td>949d5b44dbf5de918fe9c16f97b45f8a</td>\n",
       "      <td>f88197465ea7920adcdbec7375364d82</td>\n",
       "      <td>delivered</td>\n",
       "      <td>2017-11-18 19:28:06</td>\n",
       "      <td>2017-11-18 19:45:59</td>\n",
       "      <td>2017-11-22 13:39:59</td>\n",
       "      <td>2017-12-02 00:28:42</td>\n",
       "      <td>2017-12-15 00:00:00</td>\n",
       "    </tr>\n",
       "    <tr>\n",
       "      <th>4</th>\n",
       "      <td>ad21c59c0840e6cb83a9ceb5573f8159</td>\n",
       "      <td>8ab97904e6daea8866dbdbc4fb7aad2c</td>\n",
       "      <td>delivered</td>\n",
       "      <td>2018-02-13 21:18:39</td>\n",
       "      <td>2018-02-13 22:20:29</td>\n",
       "      <td>2018-02-14 19:46:34</td>\n",
       "      <td>2018-02-16 18:17:02</td>\n",
       "      <td>2018-02-26 00:00:00</td>\n",
       "    </tr>\n",
       "  </tbody>\n",
       "</table>\n",
       "</div>"
      ],
      "text/plain": [
       "                           order_id                       customer_id  \\\n",
       "0  e481f51cbdc54678b7cc49136f2d6af7  9ef432eb6251297304e76186b10a928d   \n",
       "1  53cdb2fc8bc7dce0b6741e2150273451  b0830fb4747a6c6d20dea0b8c802d7ef   \n",
       "2  47770eb9100c2d0c44946d9cf07ec65d  41ce2a54c0b03bf3443c3d931a367089   \n",
       "3  949d5b44dbf5de918fe9c16f97b45f8a  f88197465ea7920adcdbec7375364d82   \n",
       "4  ad21c59c0840e6cb83a9ceb5573f8159  8ab97904e6daea8866dbdbc4fb7aad2c   \n",
       "\n",
       "  order_status order_purchase_timestamp    order_approved_at  \\\n",
       "0    delivered      2017-10-02 10:56:33  2017-10-02 11:07:15   \n",
       "1    delivered      2018-07-24 20:41:37  2018-07-26 03:24:27   \n",
       "2    delivered      2018-08-08 08:38:49  2018-08-08 08:55:23   \n",
       "3    delivered      2017-11-18 19:28:06  2017-11-18 19:45:59   \n",
       "4    delivered      2018-02-13 21:18:39  2018-02-13 22:20:29   \n",
       "\n",
       "  order_delivered_carrier_date order_delivered_customer_date  \\\n",
       "0          2017-10-04 19:55:00           2017-10-10 21:25:13   \n",
       "1          2018-07-26 14:31:00           2018-08-07 15:27:45   \n",
       "2          2018-08-08 13:50:00           2018-08-17 18:06:29   \n",
       "3          2017-11-22 13:39:59           2017-12-02 00:28:42   \n",
       "4          2018-02-14 19:46:34           2018-02-16 18:17:02   \n",
       "\n",
       "  order_estimated_delivery_date  \n",
       "0           2017-10-18 00:00:00  \n",
       "1           2018-08-13 00:00:00  \n",
       "2           2018-09-04 00:00:00  \n",
       "3           2017-12-15 00:00:00  \n",
       "4           2018-02-26 00:00:00  "
      ]
     },
     "execution_count": 129,
     "metadata": {},
     "output_type": "execute_result"
    }
   ],
   "source": [
    "temp = orders_df.query(\"order_status=='delivered'\")\n",
    "temp.head()"
   ]
  },
  {
   "cell_type": "markdown",
   "id": "6e985fd6-8660-49f7-a16b-08ed40b9c2bb",
   "metadata": {},
   "source": [
    "Проверим, остались ли в фильтрованной таблице NaN-значения."
   ]
  },
  {
   "cell_type": "code",
   "execution_count": 130,
   "id": "9e753484-8b16-4ab1-9c50-5ef1f8eab1d5",
   "metadata": {},
   "outputs": [
    {
     "data": {
      "text/plain": [
       "order_id                          0\n",
       "customer_id                       0\n",
       "order_status                      0\n",
       "order_purchase_timestamp          0\n",
       "order_approved_at                14\n",
       "order_delivered_carrier_date      2\n",
       "order_delivered_customer_date     8\n",
       "order_estimated_delivery_date     0\n",
       "dtype: int64"
      ]
     },
     "execution_count": 130,
     "metadata": {},
     "output_type": "execute_result"
    }
   ],
   "source": [
    "temp.isna().sum()"
   ]
  },
  {
   "cell_type": "code",
   "execution_count": 131,
   "id": "6abb043a-691a-46ff-aa4c-1c233a109a42",
   "metadata": {},
   "outputs": [
    {
     "data": {
      "text/html": [
       "<div>\n",
       "<style scoped>\n",
       "    .dataframe tbody tr th:only-of-type {\n",
       "        vertical-align: middle;\n",
       "    }\n",
       "\n",
       "    .dataframe tbody tr th {\n",
       "        vertical-align: top;\n",
       "    }\n",
       "\n",
       "    .dataframe thead th {\n",
       "        text-align: right;\n",
       "    }\n",
       "</style>\n",
       "<table border=\"1\" class=\"dataframe\">\n",
       "  <thead>\n",
       "    <tr style=\"text-align: right;\">\n",
       "      <th></th>\n",
       "      <th>order_id</th>\n",
       "      <th>order_status</th>\n",
       "      <th>order_approved_at</th>\n",
       "      <th>order_delivered_carrier_date</th>\n",
       "      <th>order_delivered_customer_date</th>\n",
       "    </tr>\n",
       "  </thead>\n",
       "  <tbody>\n",
       "    <tr>\n",
       "      <th>3002</th>\n",
       "      <td>2d1e2d5bf4dc7227b3bfebb81328c15f</td>\n",
       "      <td>delivered</td>\n",
       "      <td>2017-11-28 17:56:40</td>\n",
       "      <td>2017-11-30 18:12:23</td>\n",
       "      <td>NaN</td>\n",
       "    </tr>\n",
       "    <tr>\n",
       "      <th>5323</th>\n",
       "      <td>e04abd8149ef81b95221e88f6ed9ab6a</td>\n",
       "      <td>delivered</td>\n",
       "      <td>NaN</td>\n",
       "      <td>2017-02-23 12:04:47</td>\n",
       "      <td>2017-03-01 13:25:33</td>\n",
       "    </tr>\n",
       "    <tr>\n",
       "      <th>16567</th>\n",
       "      <td>8a9adc69528e1001fc68dd0aaebbb54a</td>\n",
       "      <td>delivered</td>\n",
       "      <td>NaN</td>\n",
       "      <td>2017-02-23 09:01:52</td>\n",
       "      <td>2017-03-02 10:05:06</td>\n",
       "    </tr>\n",
       "    <tr>\n",
       "      <th>19031</th>\n",
       "      <td>7013bcfc1c97fe719a7b5e05e61c12db</td>\n",
       "      <td>delivered</td>\n",
       "      <td>NaN</td>\n",
       "      <td>2017-02-22 16:25:25</td>\n",
       "      <td>2017-03-01 08:07:38</td>\n",
       "    </tr>\n",
       "    <tr>\n",
       "      <th>20618</th>\n",
       "      <td>f5dd62b788049ad9fc0526e3ad11a097</td>\n",
       "      <td>delivered</td>\n",
       "      <td>2018-06-20 07:19:05</td>\n",
       "      <td>2018-06-25 08:05:00</td>\n",
       "      <td>NaN</td>\n",
       "    </tr>\n",
       "    <tr>\n",
       "      <th>22663</th>\n",
       "      <td>5cf925b116421afa85ee25e99b4c34fb</td>\n",
       "      <td>delivered</td>\n",
       "      <td>NaN</td>\n",
       "      <td>2017-02-22 11:23:10</td>\n",
       "      <td>2017-03-09 07:28:47</td>\n",
       "    </tr>\n",
       "    <tr>\n",
       "      <th>23156</th>\n",
       "      <td>12a95a3c06dbaec84bcfb0e2da5d228a</td>\n",
       "      <td>delivered</td>\n",
       "      <td>NaN</td>\n",
       "      <td>2017-02-22 11:23:11</td>\n",
       "      <td>2017-03-02 11:09:19</td>\n",
       "    </tr>\n",
       "    <tr>\n",
       "      <th>26800</th>\n",
       "      <td>c1d4211b3dae76144deccd6c74144a88</td>\n",
       "      <td>delivered</td>\n",
       "      <td>NaN</td>\n",
       "      <td>2017-01-25 14:56:50</td>\n",
       "      <td>2017-01-30 18:16:01</td>\n",
       "    </tr>\n",
       "    <tr>\n",
       "      <th>38290</th>\n",
       "      <td>d69e5d356402adc8cf17e08b5033acfb</td>\n",
       "      <td>delivered</td>\n",
       "      <td>NaN</td>\n",
       "      <td>2017-02-23 03:11:48</td>\n",
       "      <td>2017-03-02 03:41:58</td>\n",
       "    </tr>\n",
       "    <tr>\n",
       "      <th>39334</th>\n",
       "      <td>d77031d6a3c8a52f019764e68f211c69</td>\n",
       "      <td>delivered</td>\n",
       "      <td>NaN</td>\n",
       "      <td>2017-02-23 07:23:36</td>\n",
       "      <td>2017-03-02 16:15:23</td>\n",
       "    </tr>\n",
       "    <tr>\n",
       "      <th>43834</th>\n",
       "      <td>2ebdfc4f15f23b91474edf87475f108e</td>\n",
       "      <td>delivered</td>\n",
       "      <td>2018-07-01 17:15:12</td>\n",
       "      <td>2018-07-03 13:57:00</td>\n",
       "      <td>NaN</td>\n",
       "    </tr>\n",
       "    <tr>\n",
       "      <th>48401</th>\n",
       "      <td>7002a78c79c519ac54022d4f8a65e6e8</td>\n",
       "      <td>delivered</td>\n",
       "      <td>NaN</td>\n",
       "      <td>2017-01-27 11:08:05</td>\n",
       "      <td>2017-02-06 14:22:19</td>\n",
       "    </tr>\n",
       "    <tr>\n",
       "      <th>61743</th>\n",
       "      <td>2eecb0d85f281280f79fa00f9cec1a95</td>\n",
       "      <td>delivered</td>\n",
       "      <td>NaN</td>\n",
       "      <td>2017-02-22 11:42:51</td>\n",
       "      <td>2017-03-03 12:16:03</td>\n",
       "    </tr>\n",
       "    <tr>\n",
       "      <th>63052</th>\n",
       "      <td>51eb2eebd5d76a24625b31c33dd41449</td>\n",
       "      <td>delivered</td>\n",
       "      <td>NaN</td>\n",
       "      <td>2017-02-23 03:09:14</td>\n",
       "      <td>2017-03-07 13:57:47</td>\n",
       "    </tr>\n",
       "    <tr>\n",
       "      <th>67697</th>\n",
       "      <td>88083e8f64d95b932164187484d90212</td>\n",
       "      <td>delivered</td>\n",
       "      <td>NaN</td>\n",
       "      <td>2017-02-22 11:31:06</td>\n",
       "      <td>2017-03-02 12:06:06</td>\n",
       "    </tr>\n",
       "    <tr>\n",
       "      <th>72407</th>\n",
       "      <td>3c0b8706b065f9919d0505d3b3343881</td>\n",
       "      <td>delivered</td>\n",
       "      <td>NaN</td>\n",
       "      <td>2017-02-22 11:31:30</td>\n",
       "      <td>2017-03-03 11:47:47</td>\n",
       "    </tr>\n",
       "    <tr>\n",
       "      <th>73222</th>\n",
       "      <td>2aa91108853cecb43c84a5dc5b277475</td>\n",
       "      <td>delivered</td>\n",
       "      <td>2017-09-29 09:07:16</td>\n",
       "      <td>NaN</td>\n",
       "      <td>2017-11-20 19:44:47</td>\n",
       "    </tr>\n",
       "    <tr>\n",
       "      <th>79263</th>\n",
       "      <td>e69f75a717d64fc5ecdfae42b2e8e086</td>\n",
       "      <td>delivered</td>\n",
       "      <td>2018-07-01 22:15:14</td>\n",
       "      <td>2018-07-03 13:57:00</td>\n",
       "      <td>NaN</td>\n",
       "    </tr>\n",
       "    <tr>\n",
       "      <th>82868</th>\n",
       "      <td>0d3268bad9b086af767785e3f0fc0133</td>\n",
       "      <td>delivered</td>\n",
       "      <td>2018-07-01 21:29:54</td>\n",
       "      <td>2018-07-03 09:28:00</td>\n",
       "      <td>NaN</td>\n",
       "    </tr>\n",
       "    <tr>\n",
       "      <th>84999</th>\n",
       "      <td>2babbb4b15e6d2dfe95e2de765c97bce</td>\n",
       "      <td>delivered</td>\n",
       "      <td>NaN</td>\n",
       "      <td>2017-02-22 11:23:11</td>\n",
       "      <td>2017-03-03 18:43:43</td>\n",
       "    </tr>\n",
       "    <tr>\n",
       "      <th>92643</th>\n",
       "      <td>2d858f451373b04fb5c984a1cc2defaf</td>\n",
       "      <td>delivered</td>\n",
       "      <td>2017-05-25 23:30:16</td>\n",
       "      <td>NaN</td>\n",
       "      <td>NaN</td>\n",
       "    </tr>\n",
       "    <tr>\n",
       "      <th>97647</th>\n",
       "      <td>ab7c89dc1bf4a1ead9d6ec1ec8968a84</td>\n",
       "      <td>delivered</td>\n",
       "      <td>2018-06-08 12:36:39</td>\n",
       "      <td>2018-06-12 14:10:00</td>\n",
       "      <td>NaN</td>\n",
       "    </tr>\n",
       "    <tr>\n",
       "      <th>98038</th>\n",
       "      <td>20edc82cf5400ce95e1afacc25798b31</td>\n",
       "      <td>delivered</td>\n",
       "      <td>2018-06-27 16:29:30</td>\n",
       "      <td>2018-07-03 19:26:00</td>\n",
       "      <td>NaN</td>\n",
       "    </tr>\n",
       "  </tbody>\n",
       "</table>\n",
       "</div>"
      ],
      "text/plain": [
       "                               order_id order_status    order_approved_at  \\\n",
       "3002   2d1e2d5bf4dc7227b3bfebb81328c15f    delivered  2017-11-28 17:56:40   \n",
       "5323   e04abd8149ef81b95221e88f6ed9ab6a    delivered                  NaN   \n",
       "16567  8a9adc69528e1001fc68dd0aaebbb54a    delivered                  NaN   \n",
       "19031  7013bcfc1c97fe719a7b5e05e61c12db    delivered                  NaN   \n",
       "20618  f5dd62b788049ad9fc0526e3ad11a097    delivered  2018-06-20 07:19:05   \n",
       "22663  5cf925b116421afa85ee25e99b4c34fb    delivered                  NaN   \n",
       "23156  12a95a3c06dbaec84bcfb0e2da5d228a    delivered                  NaN   \n",
       "26800  c1d4211b3dae76144deccd6c74144a88    delivered                  NaN   \n",
       "38290  d69e5d356402adc8cf17e08b5033acfb    delivered                  NaN   \n",
       "39334  d77031d6a3c8a52f019764e68f211c69    delivered                  NaN   \n",
       "43834  2ebdfc4f15f23b91474edf87475f108e    delivered  2018-07-01 17:15:12   \n",
       "48401  7002a78c79c519ac54022d4f8a65e6e8    delivered                  NaN   \n",
       "61743  2eecb0d85f281280f79fa00f9cec1a95    delivered                  NaN   \n",
       "63052  51eb2eebd5d76a24625b31c33dd41449    delivered                  NaN   \n",
       "67697  88083e8f64d95b932164187484d90212    delivered                  NaN   \n",
       "72407  3c0b8706b065f9919d0505d3b3343881    delivered                  NaN   \n",
       "73222  2aa91108853cecb43c84a5dc5b277475    delivered  2017-09-29 09:07:16   \n",
       "79263  e69f75a717d64fc5ecdfae42b2e8e086    delivered  2018-07-01 22:15:14   \n",
       "82868  0d3268bad9b086af767785e3f0fc0133    delivered  2018-07-01 21:29:54   \n",
       "84999  2babbb4b15e6d2dfe95e2de765c97bce    delivered                  NaN   \n",
       "92643  2d858f451373b04fb5c984a1cc2defaf    delivered  2017-05-25 23:30:16   \n",
       "97647  ab7c89dc1bf4a1ead9d6ec1ec8968a84    delivered  2018-06-08 12:36:39   \n",
       "98038  20edc82cf5400ce95e1afacc25798b31    delivered  2018-06-27 16:29:30   \n",
       "\n",
       "      order_delivered_carrier_date order_delivered_customer_date  \n",
       "3002           2017-11-30 18:12:23                           NaN  \n",
       "5323           2017-02-23 12:04:47           2017-03-01 13:25:33  \n",
       "16567          2017-02-23 09:01:52           2017-03-02 10:05:06  \n",
       "19031          2017-02-22 16:25:25           2017-03-01 08:07:38  \n",
       "20618          2018-06-25 08:05:00                           NaN  \n",
       "22663          2017-02-22 11:23:10           2017-03-09 07:28:47  \n",
       "23156          2017-02-22 11:23:11           2017-03-02 11:09:19  \n",
       "26800          2017-01-25 14:56:50           2017-01-30 18:16:01  \n",
       "38290          2017-02-23 03:11:48           2017-03-02 03:41:58  \n",
       "39334          2017-02-23 07:23:36           2017-03-02 16:15:23  \n",
       "43834          2018-07-03 13:57:00                           NaN  \n",
       "48401          2017-01-27 11:08:05           2017-02-06 14:22:19  \n",
       "61743          2017-02-22 11:42:51           2017-03-03 12:16:03  \n",
       "63052          2017-02-23 03:09:14           2017-03-07 13:57:47  \n",
       "67697          2017-02-22 11:31:06           2017-03-02 12:06:06  \n",
       "72407          2017-02-22 11:31:30           2017-03-03 11:47:47  \n",
       "73222                          NaN           2017-11-20 19:44:47  \n",
       "79263          2018-07-03 13:57:00                           NaN  \n",
       "82868          2018-07-03 09:28:00                           NaN  \n",
       "84999          2017-02-22 11:23:11           2017-03-03 18:43:43  \n",
       "92643                          NaN                           NaN  \n",
       "97647          2018-06-12 14:10:00                           NaN  \n",
       "98038          2018-07-03 19:26:00                           NaN  "
      ]
     },
     "execution_count": 131,
     "metadata": {},
     "output_type": "execute_result"
    }
   ],
   "source": [
    "query = (\"order_approved_at.isna() or order_delivered_carrier_date.isna() \" +\n",
    "        \"or order_delivered_customer_date.isna()\")\n",
    "temp.query(query) \\\n",
    "    [['order_id','order_status', 'order_approved_at',\n",
    "      'order_delivered_carrier_date', 'order_delivered_customer_date']]"
   ]
  },
  {
   "cell_type": "markdown",
   "id": "20dffabb-3095-454a-b9ff-2bb656906a3e",
   "metadata": {},
   "source": [
    "Видим, что для некоторого числа заказов со статусом 'delivered' минимум одна из колонок *order_approved_at*, *order_delivered_carrier_date*, *order_delivered_customer_date* содержит NaN.\n",
    "<br> Будем считать заказ невалидным, а покупку несостоявшейся, если в двух из трех вышеперечисленных колонок записан NaN."
   ]
  },
  {
   "cell_type": "markdown",
   "id": "87119dd8-a3f4-4d00-aea4-74b8efd03caf",
   "metadata": {},
   "source": [
    "Таким образом, заказ считается покупкой, если:\n",
    "* *order_status* = 'delivered'.\n",
    "* Две из трех колонок *order_approved_at*, *order_delivered_carrier_date*, *order_delivered_customer_date* не содержат NaN."
   ]
  },
  {
   "cell_type": "markdown",
   "id": "679bb866-5f23-473a-96b2-43d15c1175ae",
   "metadata": {},
   "source": [
    "**Sanity check**: если ли заказы, которые имеют статус отличный от 'delivered' и 'canceled', но в столбец order_delivered_customer_date вписан не NaN?"
   ]
  },
  {
   "cell_type": "code",
   "execution_count": 132,
   "id": "de55d2d2-67aa-4c8f-a3bf-636f466388bb",
   "metadata": {},
   "outputs": [
    {
     "data": {
      "text/html": [
       "<div>\n",
       "<style scoped>\n",
       "    .dataframe tbody tr th:only-of-type {\n",
       "        vertical-align: middle;\n",
       "    }\n",
       "\n",
       "    .dataframe tbody tr th {\n",
       "        vertical-align: top;\n",
       "    }\n",
       "\n",
       "    .dataframe thead th {\n",
       "        text-align: right;\n",
       "    }\n",
       "</style>\n",
       "<table border=\"1\" class=\"dataframe\">\n",
       "  <thead>\n",
       "    <tr style=\"text-align: right;\">\n",
       "      <th></th>\n",
       "      <th>order_id</th>\n",
       "      <th>customer_id</th>\n",
       "      <th>order_status</th>\n",
       "      <th>order_purchase_timestamp</th>\n",
       "      <th>order_approved_at</th>\n",
       "      <th>order_delivered_carrier_date</th>\n",
       "      <th>order_delivered_customer_date</th>\n",
       "      <th>order_estimated_delivery_date</th>\n",
       "    </tr>\n",
       "  </thead>\n",
       "  <tbody>\n",
       "  </tbody>\n",
       "</table>\n",
       "</div>"
      ],
      "text/plain": [
       "Empty DataFrame\n",
       "Columns: [order_id, customer_id, order_status, order_purchase_timestamp, order_approved_at, order_delivered_carrier_date, order_delivered_customer_date, order_estimated_delivery_date]\n",
       "Index: []"
      ]
     },
     "execution_count": 132,
     "metadata": {},
     "output_type": "execute_result"
    }
   ],
   "source": [
    "orders_df.query(\"order_status not in ['delivered', 'canceled'] and order_delivered_customer_date.notna()\")"
   ]
  },
  {
   "cell_type": "markdown",
   "id": "ff5794f0-cb12-473f-8f3b-fca7696ab1f0",
   "metadata": {},
   "source": [
    "Составим таблицу, содержащую покупки."
   ]
  },
  {
   "cell_type": "code",
   "execution_count": 133,
   "id": "0c997af9-7c69-4333-87be-80bd87af7485",
   "metadata": {},
   "outputs": [],
   "source": [
    "filtered_orders_df = orders_df.query(\"order_status=='delivered'\") \\\n",
    "    .dropna(axis='index', thresh=len(orders_df.columns)-1)"
   ]
  },
  {
   "cell_type": "code",
   "execution_count": 134,
   "id": "f390ad29-de89-484d-af22-6770a2267d34",
   "metadata": {},
   "outputs": [
    {
     "data": {
      "text/plain": [
       "order_id                          0\n",
       "customer_id                       0\n",
       "order_status                      0\n",
       "order_purchase_timestamp          0\n",
       "order_approved_at                14\n",
       "order_delivered_carrier_date      1\n",
       "order_delivered_customer_date     7\n",
       "order_estimated_delivery_date     0\n",
       "dtype: int64"
      ]
     },
     "execution_count": 134,
     "metadata": {},
     "output_type": "execute_result"
    }
   ],
   "source": [
    "filtered_orders_df.isna().sum()"
   ]
  },
  {
   "cell_type": "markdown",
   "id": "81a44676-165d-420e-80f2-4631e1409012",
   "metadata": {},
   "source": [
    "Sanity check: order_id 2d858f451373b04fb5c984a1cc2defaf должен был быть отфильтрован."
   ]
  },
  {
   "cell_type": "code",
   "execution_count": 135,
   "id": "b11c1046-91b5-4abd-9860-c1ae534f4a82",
   "metadata": {},
   "outputs": [
    {
     "data": {
      "text/html": [
       "<div>\n",
       "<style scoped>\n",
       "    .dataframe tbody tr th:only-of-type {\n",
       "        vertical-align: middle;\n",
       "    }\n",
       "\n",
       "    .dataframe tbody tr th {\n",
       "        vertical-align: top;\n",
       "    }\n",
       "\n",
       "    .dataframe thead th {\n",
       "        text-align: right;\n",
       "    }\n",
       "</style>\n",
       "<table border=\"1\" class=\"dataframe\">\n",
       "  <thead>\n",
       "    <tr style=\"text-align: right;\">\n",
       "      <th></th>\n",
       "      <th>order_id</th>\n",
       "      <th>customer_id</th>\n",
       "      <th>order_status</th>\n",
       "      <th>order_purchase_timestamp</th>\n",
       "      <th>order_approved_at</th>\n",
       "      <th>order_delivered_carrier_date</th>\n",
       "      <th>order_delivered_customer_date</th>\n",
       "      <th>order_estimated_delivery_date</th>\n",
       "    </tr>\n",
       "  </thead>\n",
       "  <tbody>\n",
       "  </tbody>\n",
       "</table>\n",
       "</div>"
      ],
      "text/plain": [
       "Empty DataFrame\n",
       "Columns: [order_id, customer_id, order_status, order_purchase_timestamp, order_approved_at, order_delivered_carrier_date, order_delivered_customer_date, order_estimated_delivery_date]\n",
       "Index: []"
      ]
     },
     "execution_count": 135,
     "metadata": {},
     "output_type": "execute_result"
    }
   ],
   "source": [
    "filtered_orders_df[filtered_orders_df['order_id']=='2d858f451373b04fb5c984a1cc2defaf']"
   ]
  },
  {
   "cell_type": "markdown",
   "id": "57c24782-2d39-4c62-9a0a-ad31c904f761",
   "metadata": {},
   "source": [
    "В исходных данных каждому клиенту было присвоено два уровня идентификаторов: *customer_unique_id*, уникальный идентификатор клиента из таблицы **customers_df**, и *customer_id*, количество которых соответствует числу созданных клиентом заказов.\n",
    "<br>Чтобы определить, сколько пользователей совершили ровно одну покупку, нужно:\n",
    "1. Объединить таблицу успешных заказов **filtered_orders_df** с **customers_df**, содержащей информацию о клиентах, по стобцу *customer_id* - так будут найдены все покупки, совершенные клиентом."
   ]
  },
  {
   "cell_type": "code",
   "execution_count": 136,
   "id": "07030c24-8cec-4e6e-b236-6c2fee9481fa",
   "metadata": {},
   "outputs": [
    {
     "data": {
      "text/html": [
       "<div>\n",
       "<style scoped>\n",
       "    .dataframe tbody tr th:only-of-type {\n",
       "        vertical-align: middle;\n",
       "    }\n",
       "\n",
       "    .dataframe tbody tr th {\n",
       "        vertical-align: top;\n",
       "    }\n",
       "\n",
       "    .dataframe thead th {\n",
       "        text-align: right;\n",
       "    }\n",
       "</style>\n",
       "<table border=\"1\" class=\"dataframe\">\n",
       "  <thead>\n",
       "    <tr style=\"text-align: right;\">\n",
       "      <th></th>\n",
       "      <th>customer_id</th>\n",
       "      <th>customer_unique_id</th>\n",
       "    </tr>\n",
       "  </thead>\n",
       "  <tbody>\n",
       "    <tr>\n",
       "      <th>0</th>\n",
       "      <td>9ef432eb6251297304e76186b10a928d</td>\n",
       "      <td>7c396fd4830fd04220f754e42b4e5bff</td>\n",
       "    </tr>\n",
       "    <tr>\n",
       "      <th>1</th>\n",
       "      <td>b0830fb4747a6c6d20dea0b8c802d7ef</td>\n",
       "      <td>af07308b275d755c9edb36a90c618231</td>\n",
       "    </tr>\n",
       "    <tr>\n",
       "      <th>2</th>\n",
       "      <td>41ce2a54c0b03bf3443c3d931a367089</td>\n",
       "      <td>3a653a41f6f9fc3d2a113cf8398680e8</td>\n",
       "    </tr>\n",
       "    <tr>\n",
       "      <th>3</th>\n",
       "      <td>f88197465ea7920adcdbec7375364d82</td>\n",
       "      <td>7c142cf63193a1473d2e66489a9ae977</td>\n",
       "    </tr>\n",
       "    <tr>\n",
       "      <th>4</th>\n",
       "      <td>8ab97904e6daea8866dbdbc4fb7aad2c</td>\n",
       "      <td>72632f0f9dd73dfee390c9b22eb56dd6</td>\n",
       "    </tr>\n",
       "  </tbody>\n",
       "</table>\n",
       "</div>"
      ],
      "text/plain": [
       "                        customer_id                customer_unique_id\n",
       "0  9ef432eb6251297304e76186b10a928d  7c396fd4830fd04220f754e42b4e5bff\n",
       "1  b0830fb4747a6c6d20dea0b8c802d7ef  af07308b275d755c9edb36a90c618231\n",
       "2  41ce2a54c0b03bf3443c3d931a367089  3a653a41f6f9fc3d2a113cf8398680e8\n",
       "3  f88197465ea7920adcdbec7375364d82  7c142cf63193a1473d2e66489a9ae977\n",
       "4  8ab97904e6daea8866dbdbc4fb7aad2c  72632f0f9dd73dfee390c9b22eb56dd6"
      ]
     },
     "execution_count": 136,
     "metadata": {},
     "output_type": "execute_result"
    }
   ],
   "source": [
    "merged_df = pd.merge(\n",
    "    left=filtered_orders_df, right=customers_df, how=\"inner\", on=\"customer_id\"\n",
    ")[[\"customer_id\", \"customer_unique_id\"]]  # выберем только релевантные столбцы\n",
    "merged_df.head()"
   ]
  },
  {
   "cell_type": "markdown",
   "id": "3ea006d5-f2e4-45b6-ab42-4709c20503be",
   "metadata": {},
   "source": [
    "2. Отфильтровать всех неудовлетворяющих условию клиентов и посчитать число строк в результирующей таблице."
   ]
  },
  {
   "cell_type": "code",
   "execution_count": 137,
   "id": "18cc4e33-4fda-4c19-a536-83936678675c",
   "metadata": {},
   "outputs": [
    {
     "data": {
      "text/plain": [
       "array([1])"
      ]
     },
     "execution_count": 137,
     "metadata": {},
     "output_type": "execute_result"
    }
   ],
   "source": [
    "# Группируем по уникальному ID клиента, считаем число соответствующих ему\n",
    "# customer_id - то есть, количество сделанных клиентом заказов. \n",
    "# Выбираем клиентов с одним заказом.\n",
    "final_df = merged_df.groupby(by='customer_unique_id', as_index=False) \\\n",
    "    .agg({'customer_id':'count'}) \\\n",
    "    .rename(columns={'customer_id': 'N'}) \\\n",
    "    .query('N==1')\n",
    "# Sanity Check: в колонке должно быть одно уникальное значение - единица.\n",
    "final_df['N'].unique()"
   ]
  },
  {
   "cell_type": "code",
   "execution_count": 138,
   "id": "4405f115-f4d6-4e9c-b39e-d0d2f151ec3a",
   "metadata": {
    "scrolled": true
   },
   "outputs": [
    {
     "name": "stdout",
     "output_type": "stream",
     "text": [
      "Количество клиентов, совершивших ровно одну покупку, равно 90556\n"
     ]
    }
   ],
   "source": [
    "print('Количество клиентов, совершивших ровно одну покупку, равно',\n",
    "      final_df.shape[0])"
   ]
  },
  {
   "cell_type": "code",
   "execution_count": 139,
   "id": "7252289e-5667-40d2-85a4-cfccc2bb4109",
   "metadata": {},
   "outputs": [],
   "source": [
    "# Удаляем ненужное\n",
    "del temp, filtered_orders_df, final_df, merged_df, query"
   ]
  },
  {
   "cell_type": "markdown",
   "id": "cd8749d2-3f01-42a3-833a-beeaba44ed2c",
   "metadata": {},
   "source": [
    "## Пункт 2\n",
    "Сколько заказов в месяц в среднем не доставляются?\n",
    "\n",
    "Если заказ (строка таблицы **orders_df**) имеет *order_status* 'unavailable' (недоступен) или 'canceled' (отменён), то будем считать, что он не мог и не может быть доставлен. То есть, даже если заказ был привезён покупателю (т.е., имеет значение в колонке *order_delivered_carrier_date*), но при этом имеет статус 'canceled', он причисляется к недоставленным (= покупатель не принял свою посылку). "
   ]
  },
  {
   "cell_type": "code",
   "execution_count": 140,
   "id": "0432a1dc-7622-426d-85d5-875be56e4cc1",
   "metadata": {},
   "outputs": [
    {
     "name": "stdout",
     "output_type": "stream",
     "text": [
      "<class 'pandas.core.frame.DataFrame'>\n",
      "Index: 609 entries, 266 to 99415\n",
      "Data columns (total 8 columns):\n",
      " #   Column                         Non-Null Count  Dtype \n",
      "---  ------                         --------------  ----- \n",
      " 0   order_id                       609 non-null    object\n",
      " 1   customer_id                    609 non-null    object\n",
      " 2   order_status                   609 non-null    object\n",
      " 3   order_purchase_timestamp       609 non-null    object\n",
      " 4   order_approved_at              609 non-null    object\n",
      " 5   order_delivered_carrier_date   0 non-null      object\n",
      " 6   order_delivered_customer_date  0 non-null      object\n",
      " 7   order_estimated_delivery_date  609 non-null    object\n",
      "dtypes: object(8)\n",
      "memory usage: 42.8+ KB\n"
     ]
    }
   ],
   "source": [
    "unavailable_df = orders_df.query(\"order_status=='unavailable'\")\n",
    "unavailable_df.info()"
   ]
  },
  {
   "cell_type": "markdown",
   "id": "53bbb023-c60f-4460-8b3b-3dc999d0a05e",
   "metadata": {},
   "source": [
    "Заказы со статусом 'unavailable' не передаются в логистическую службу и, соответственно, не доставляются покупателям."
   ]
  },
  {
   "cell_type": "code",
   "execution_count": 141,
   "id": "e0781661-ab08-4065-9f71-580bb6554c6b",
   "metadata": {},
   "outputs": [
    {
     "data": {
      "text/html": [
       "<div>\n",
       "<style scoped>\n",
       "    .dataframe tbody tr th:only-of-type {\n",
       "        vertical-align: middle;\n",
       "    }\n",
       "\n",
       "    .dataframe tbody tr th {\n",
       "        vertical-align: top;\n",
       "    }\n",
       "\n",
       "    .dataframe thead th {\n",
       "        text-align: right;\n",
       "    }\n",
       "</style>\n",
       "<table border=\"1\" class=\"dataframe\">\n",
       "  <thead>\n",
       "    <tr style=\"text-align: right;\">\n",
       "      <th></th>\n",
       "      <th>order_id</th>\n",
       "      <th>customer_id</th>\n",
       "      <th>order_status</th>\n",
       "      <th>order_purchase_timestamp</th>\n",
       "      <th>order_approved_at</th>\n",
       "      <th>order_delivered_carrier_date</th>\n",
       "      <th>order_delivered_customer_date</th>\n",
       "      <th>order_estimated_delivery_date</th>\n",
       "    </tr>\n",
       "  </thead>\n",
       "  <tbody>\n",
       "  </tbody>\n",
       "</table>\n",
       "</div>"
      ],
      "text/plain": [
       "Empty DataFrame\n",
       "Columns: [order_id, customer_id, order_status, order_purchase_timestamp, order_approved_at, order_delivered_carrier_date, order_delivered_customer_date, order_estimated_delivery_date]\n",
       "Index: []"
      ]
     },
     "execution_count": 141,
     "metadata": {},
     "output_type": "execute_result"
    }
   ],
   "source": [
    "unavailable_df.query(\"order_delivered_carrier_date.notna()\")"
   ]
  },
  {
   "cell_type": "markdown",
   "id": "0615f15d-7daa-4add-910e-20cfc4bf9603",
   "metadata": {},
   "source": [
    "Можно предположить, что статус 'unavailable' означает отсутствие требуемых товаров на складе."
   ]
  },
  {
   "cell_type": "code",
   "execution_count": 142,
   "id": "4877ada0-1847-49a6-b1d5-54668f45929a",
   "metadata": {},
   "outputs": [
    {
     "name": "stdout",
     "output_type": "stream",
     "text": [
      "<class 'pandas.core.frame.DataFrame'>\n",
      "Index: 625 entries, 397 to 99347\n",
      "Data columns (total 8 columns):\n",
      " #   Column                         Non-Null Count  Dtype \n",
      "---  ------                         --------------  ----- \n",
      " 0   order_id                       625 non-null    object\n",
      " 1   customer_id                    625 non-null    object\n",
      " 2   order_status                   625 non-null    object\n",
      " 3   order_purchase_timestamp       625 non-null    object\n",
      " 4   order_approved_at              484 non-null    object\n",
      " 5   order_delivered_carrier_date   75 non-null     object\n",
      " 6   order_delivered_customer_date  6 non-null      object\n",
      " 7   order_estimated_delivery_date  625 non-null    object\n",
      "dtypes: object(8)\n",
      "memory usage: 43.9+ KB\n"
     ]
    }
   ],
   "source": [
    "canceled_df = orders_df.query(\"order_status=='canceled'\")\n",
    "canceled_df.info()"
   ]
  },
  {
   "cell_type": "markdown",
   "id": "7029e31a-82fe-4947-a715-65584bcc50d1",
   "metadata": {},
   "source": [
    "Заказ может получить статус 'canceled':\n",
    "* после транспортировки до клиента (6/625, ~1%)"
   ]
  },
  {
   "cell_type": "code",
   "execution_count": 143,
   "id": "73f32741-362f-48d8-b96b-054319ac840d",
   "metadata": {},
   "outputs": [
    {
     "name": "stdout",
     "output_type": "stream",
     "text": [
      "<class 'pandas.core.frame.DataFrame'>\n",
      "Index: 6 entries, 2921 to 94399\n",
      "Data columns (total 8 columns):\n",
      " #   Column                         Non-Null Count  Dtype \n",
      "---  ------                         --------------  ----- \n",
      " 0   order_id                       6 non-null      object\n",
      " 1   customer_id                    6 non-null      object\n",
      " 2   order_status                   6 non-null      object\n",
      " 3   order_purchase_timestamp       6 non-null      object\n",
      " 4   order_approved_at              6 non-null      object\n",
      " 5   order_delivered_carrier_date   6 non-null      object\n",
      " 6   order_delivered_customer_date  6 non-null      object\n",
      " 7   order_estimated_delivery_date  6 non-null      object\n",
      "dtypes: object(8)\n",
      "memory usage: 432.0+ bytes\n"
     ]
    }
   ],
   "source": [
    "type_1 = canceled_df.query(\"order_delivered_customer_date.notna()\")\n",
    "type_1.loc[:, 'order_status'] = type_1['order_status'] \\\n",
    "    .apply(lambda x: 'canceled, type 1')\n",
    "type_1.info()"
   ]
  },
  {
   "cell_type": "markdown",
   "id": "0041ad2f-2c37-4f23-abed-6f372911279f",
   "metadata": {},
   "source": [
    "* после передачи в логистическую службу, но до доставки (69/625, 11%)"
   ]
  },
  {
   "cell_type": "code",
   "execution_count": 144,
   "id": "98744ab5-1bb2-4530-a4f9-213c1af88034",
   "metadata": {
    "scrolled": true
   },
   "outputs": [
    {
     "name": "stdout",
     "output_type": "stream",
     "text": [
      "<class 'pandas.core.frame.DataFrame'>\n",
      "Index: 69 entries, 613 to 98397\n",
      "Data columns (total 8 columns):\n",
      " #   Column                         Non-Null Count  Dtype \n",
      "---  ------                         --------------  ----- \n",
      " 0   order_id                       69 non-null     object\n",
      " 1   customer_id                    69 non-null     object\n",
      " 2   order_status                   69 non-null     object\n",
      " 3   order_purchase_timestamp       69 non-null     object\n",
      " 4   order_approved_at              69 non-null     object\n",
      " 5   order_delivered_carrier_date   69 non-null     object\n",
      " 6   order_delivered_customer_date  0 non-null      object\n",
      " 7   order_estimated_delivery_date  69 non-null     object\n",
      "dtypes: object(8)\n",
      "memory usage: 4.9+ KB\n"
     ]
    }
   ],
   "source": [
    "type_2 = canceled_df.query(\"order_delivered_carrier_date.notna() and order_delivered_customer_date.isna()\")\n",
    "type_2.loc[:, 'order_status'] = type_2['order_status'] \\\n",
    "    .apply(lambda x: 'canceled, type 2')\n",
    "type_2.info()"
   ]
  },
  {
   "cell_type": "markdown",
   "id": "21ecdb8b-f656-416e-b2a4-daa695dc8ec1",
   "metadata": {},
   "source": [
    "* до передачи в логистическую службу, но после подтверждения (409/625, ~65%)"
   ]
  },
  {
   "cell_type": "code",
   "execution_count": 145,
   "id": "13ae08e3-baad-425e-ac4c-e4a18ec390b1",
   "metadata": {
    "scrolled": true
   },
   "outputs": [
    {
     "name": "stdout",
     "output_type": "stream",
     "text": [
      "<class 'pandas.core.frame.DataFrame'>\n",
      "Index: 409 entries, 397 to 99143\n",
      "Data columns (total 8 columns):\n",
      " #   Column                         Non-Null Count  Dtype \n",
      "---  ------                         --------------  ----- \n",
      " 0   order_id                       409 non-null    object\n",
      " 1   customer_id                    409 non-null    object\n",
      " 2   order_status                   409 non-null    object\n",
      " 3   order_purchase_timestamp       409 non-null    object\n",
      " 4   order_approved_at              409 non-null    object\n",
      " 5   order_delivered_carrier_date   0 non-null      object\n",
      " 6   order_delivered_customer_date  0 non-null      object\n",
      " 7   order_estimated_delivery_date  409 non-null    object\n",
      "dtypes: object(8)\n",
      "memory usage: 28.8+ KB\n"
     ]
    }
   ],
   "source": [
    "type_3 = canceled_df.query(\"order_delivered_carrier_date.isna() and order_approved_at.notna()\")\n",
    "type_3.loc[:, 'order_status'] = type_3['order_status'] \\\n",
    "    .apply(lambda x: 'canceled, type 3')\n",
    "type_3.info()"
   ]
  },
  {
   "cell_type": "markdown",
   "id": "7328faab-3859-457f-a584-e263097f9a21",
   "metadata": {},
   "source": [
    "* до подтверждения (141/625, ~23%)"
   ]
  },
  {
   "cell_type": "code",
   "execution_count": 146,
   "id": "25517909-9ac1-4e92-88d3-b9587cd50034",
   "metadata": {},
   "outputs": [
    {
     "name": "stdout",
     "output_type": "stream",
     "text": [
      "<class 'pandas.core.frame.DataFrame'>\n",
      "Index: 141 entries, 1130 to 99347\n",
      "Data columns (total 8 columns):\n",
      " #   Column                         Non-Null Count  Dtype \n",
      "---  ------                         --------------  ----- \n",
      " 0   order_id                       141 non-null    object\n",
      " 1   customer_id                    141 non-null    object\n",
      " 2   order_status                   141 non-null    object\n",
      " 3   order_purchase_timestamp       141 non-null    object\n",
      " 4   order_approved_at              0 non-null      object\n",
      " 5   order_delivered_carrier_date   0 non-null      object\n",
      " 6   order_delivered_customer_date  0 non-null      object\n",
      " 7   order_estimated_delivery_date  141 non-null    object\n",
      "dtypes: object(8)\n",
      "memory usage: 9.9+ KB\n"
     ]
    }
   ],
   "source": [
    "type_4 = canceled_df.query(\"order_approved_at.isna()\")\n",
    "type_4.loc[:, 'order_status'] = type_4['order_status'] \\\n",
    "    .apply(lambda x: 'canceled, type 4')\n",
    "type_4.info()"
   ]
  },
  {
   "cell_type": "markdown",
   "id": "e4883b64-ab5a-464b-8dbe-c3bf2861a619",
   "metadata": {},
   "source": [
    "Для удобста объединим DataFrame **unavailable_df**, **canceled_df**, **type_1**, **type_2**, **type_3**, **type_4** в одну таблицу и выберем только релевантные столбцы."
   ]
  },
  {
   "cell_type": "code",
   "execution_count": 147,
   "id": "0cdc3162-d701-4abf-bb7b-4a8bd3ca508f",
   "metadata": {},
   "outputs": [
    {
     "name": "stdout",
     "output_type": "stream",
     "text": [
      "<class 'pandas.core.frame.DataFrame'>\n",
      "Index: 1859 entries, 266 to 99347\n",
      "Data columns (total 3 columns):\n",
      " #   Column                    Non-Null Count  Dtype \n",
      "---  ------                    --------------  ----- \n",
      " 0   order_id                  1859 non-null   object\n",
      " 1   order_status              1859 non-null   object\n",
      " 2   order_purchase_timestamp  1859 non-null   object\n",
      "dtypes: object(3)\n",
      "memory usage: 58.1+ KB\n"
     ]
    }
   ],
   "source": [
    "merged_df = pd.concat([unavailable_df, canceled_df, type_1,\n",
    "                       type_2, type_3, type_4], axis='index') \\\n",
    "    [['order_id', 'order_status', 'order_purchase_timestamp']]\n",
    "merged_df.info()"
   ]
  },
  {
   "cell_type": "markdown",
   "id": "d4abf27f-f606-4232-9a1f-a09a0a5b8092",
   "metadata": {},
   "source": [
    "Для последующего усреднения заказов по месяцам преобразуем строковые значения из столбца *order_purchase_timestamp* в формат datetime. Затем, при помощи метода strftime, извлечём из полученных экземпляров класса datetime строки вида \"год/месяц\" и сохраним их в новый столбец *year_month*."
   ]
  },
  {
   "cell_type": "code",
   "execution_count": 148,
   "id": "73d052bf-f859-479f-b2de-ba8c31c595c0",
   "metadata": {},
   "outputs": [
    {
     "data": {
      "text/html": [
       "<div>\n",
       "<style scoped>\n",
       "    .dataframe tbody tr th:only-of-type {\n",
       "        vertical-align: middle;\n",
       "    }\n",
       "\n",
       "    .dataframe tbody tr th {\n",
       "        vertical-align: top;\n",
       "    }\n",
       "\n",
       "    .dataframe thead th {\n",
       "        text-align: right;\n",
       "    }\n",
       "</style>\n",
       "<table border=\"1\" class=\"dataframe\">\n",
       "  <thead>\n",
       "    <tr style=\"text-align: right;\">\n",
       "      <th></th>\n",
       "      <th>order_id</th>\n",
       "      <th>order_status</th>\n",
       "      <th>order_purchase_timestamp</th>\n",
       "      <th>year_month</th>\n",
       "    </tr>\n",
       "  </thead>\n",
       "  <tbody>\n",
       "    <tr>\n",
       "      <th>266</th>\n",
       "      <td>8e24261a7e58791d10cb1bf9da94df5c</td>\n",
       "      <td>unavailable</td>\n",
       "      <td>2017-11-16 15:09:28</td>\n",
       "      <td>2017/11</td>\n",
       "    </tr>\n",
       "    <tr>\n",
       "      <th>586</th>\n",
       "      <td>c272bcd21c287498b4883c7512019702</td>\n",
       "      <td>unavailable</td>\n",
       "      <td>2018-01-31 11:31:37</td>\n",
       "      <td>2018/01</td>\n",
       "    </tr>\n",
       "    <tr>\n",
       "      <th>687</th>\n",
       "      <td>37553832a3a89c9b2db59701c357ca67</td>\n",
       "      <td>unavailable</td>\n",
       "      <td>2017-08-14 17:38:02</td>\n",
       "      <td>2017/08</td>\n",
       "    </tr>\n",
       "    <tr>\n",
       "      <th>737</th>\n",
       "      <td>d57e15fb07fd180f06ab3926b39edcd2</td>\n",
       "      <td>unavailable</td>\n",
       "      <td>2018-01-08 19:39:03</td>\n",
       "      <td>2018/01</td>\n",
       "    </tr>\n",
       "    <tr>\n",
       "      <th>1160</th>\n",
       "      <td>2f634e2cebf8c0283e7ef0989f77d217</td>\n",
       "      <td>unavailable</td>\n",
       "      <td>2017-09-27 20:55:33</td>\n",
       "      <td>2017/09</td>\n",
       "    </tr>\n",
       "  </tbody>\n",
       "</table>\n",
       "</div>"
      ],
      "text/plain": [
       "                              order_id order_status order_purchase_timestamp  \\\n",
       "266   8e24261a7e58791d10cb1bf9da94df5c  unavailable      2017-11-16 15:09:28   \n",
       "586   c272bcd21c287498b4883c7512019702  unavailable      2018-01-31 11:31:37   \n",
       "687   37553832a3a89c9b2db59701c357ca67  unavailable      2017-08-14 17:38:02   \n",
       "737   d57e15fb07fd180f06ab3926b39edcd2  unavailable      2018-01-08 19:39:03   \n",
       "1160  2f634e2cebf8c0283e7ef0989f77d217  unavailable      2017-09-27 20:55:33   \n",
       "\n",
       "     year_month  \n",
       "266     2017/11  \n",
       "586     2018/01  \n",
       "687     2017/08  \n",
       "737     2018/01  \n",
       "1160    2017/09  "
      ]
     },
     "execution_count": 148,
     "metadata": {},
     "output_type": "execute_result"
    }
   ],
   "source": [
    "merged_df['order_purchase_timestamp'] = pd.to_datetime(\n",
    "    merged_df[\"order_purchase_timestamp\"]\n",
    ")\n",
    "merged_df['year_month'] = merged_df['order_purchase_timestamp'] \\\n",
    "    .dt.strftime(\"%Y/%m\")\n",
    "merged_df.head()"
   ]
  },
  {
   "cell_type": "code",
   "execution_count": 149,
   "id": "bb1da1df-0b70-4013-b922-3930cd835f63",
   "metadata": {},
   "outputs": [
    {
     "name": "stdout",
     "output_type": "stream",
     "text": [
      "<class 'pandas.core.frame.DataFrame'>\n",
      "Index: 1859 entries, 266 to 99347\n",
      "Data columns (total 4 columns):\n",
      " #   Column                    Non-Null Count  Dtype         \n",
      "---  ------                    --------------  -----         \n",
      " 0   order_id                  1859 non-null   object        \n",
      " 1   order_status              1859 non-null   object        \n",
      " 2   order_purchase_timestamp  1859 non-null   datetime64[ns]\n",
      " 3   year_month                1859 non-null   object        \n",
      "dtypes: datetime64[ns](1), object(3)\n",
      "memory usage: 72.6+ KB\n"
     ]
    }
   ],
   "source": [
    "merged_df.info()"
   ]
  },
  {
   "cell_type": "markdown",
   "id": "42a6f343-daab-4c60-86ae-a7ccf74a76f0",
   "metadata": {},
   "source": [
    "Расчёт количества заказов с релевантными статусами за все присутствующие в данных месяцы. Для удобства результирующая таблица преобразуется с помощью метода pivot. \n",
    "Поскольку в итоговой таблице NaN-значения эквивалентны 0, выполним их замену при помощи метода fillna."
   ]
  },
  {
   "cell_type": "code",
   "execution_count": 150,
   "id": "58fdba69-13c2-48e4-b13f-243e443ee077",
   "metadata": {},
   "outputs": [
    {
     "data": {
      "text/html": [
       "<div>\n",
       "<style scoped>\n",
       "    .dataframe tbody tr th:only-of-type {\n",
       "        vertical-align: middle;\n",
       "    }\n",
       "\n",
       "    .dataframe tbody tr th {\n",
       "        vertical-align: top;\n",
       "    }\n",
       "\n",
       "    .dataframe thead th {\n",
       "        text-align: right;\n",
       "    }\n",
       "</style>\n",
       "<table border=\"1\" class=\"dataframe\">\n",
       "  <thead>\n",
       "    <tr style=\"text-align: right;\">\n",
       "      <th>occurrences</th>\n",
       "      <th>canceled</th>\n",
       "      <th>canceled, type 1</th>\n",
       "      <th>canceled, type 2</th>\n",
       "      <th>canceled, type 3</th>\n",
       "      <th>canceled, type 4</th>\n",
       "      <th>unavailable</th>\n",
       "    </tr>\n",
       "    <tr>\n",
       "      <th>year_month</th>\n",
       "      <th></th>\n",
       "      <th></th>\n",
       "      <th></th>\n",
       "      <th></th>\n",
       "      <th></th>\n",
       "      <th></th>\n",
       "    </tr>\n",
       "  </thead>\n",
       "  <tbody>\n",
       "    <tr>\n",
       "      <th>2016/09</th>\n",
       "      <td>2.0</td>\n",
       "      <td>0.0</td>\n",
       "      <td>0.0</td>\n",
       "      <td>2.0</td>\n",
       "      <td>0.0</td>\n",
       "      <td>0.0</td>\n",
       "    </tr>\n",
       "    <tr>\n",
       "      <th>2016/10</th>\n",
       "      <td>24.0</td>\n",
       "      <td>5.0</td>\n",
       "      <td>0.0</td>\n",
       "      <td>13.0</td>\n",
       "      <td>6.0</td>\n",
       "      <td>7.0</td>\n",
       "    </tr>\n",
       "    <tr>\n",
       "      <th>2017/01</th>\n",
       "      <td>3.0</td>\n",
       "      <td>0.0</td>\n",
       "      <td>0.0</td>\n",
       "      <td>2.0</td>\n",
       "      <td>1.0</td>\n",
       "      <td>10.0</td>\n",
       "    </tr>\n",
       "    <tr>\n",
       "      <th>2017/02</th>\n",
       "      <td>17.0</td>\n",
       "      <td>0.0</td>\n",
       "      <td>0.0</td>\n",
       "      <td>15.0</td>\n",
       "      <td>2.0</td>\n",
       "      <td>45.0</td>\n",
       "    </tr>\n",
       "    <tr>\n",
       "      <th>2017/03</th>\n",
       "      <td>33.0</td>\n",
       "      <td>0.0</td>\n",
       "      <td>0.0</td>\n",
       "      <td>31.0</td>\n",
       "      <td>2.0</td>\n",
       "      <td>32.0</td>\n",
       "    </tr>\n",
       "  </tbody>\n",
       "</table>\n",
       "</div>"
      ],
      "text/plain": [
       "occurrences  canceled  canceled, type 1  canceled, type 2  canceled, type 3  \\\n",
       "year_month                                                                    \n",
       "2016/09           2.0               0.0               0.0               2.0   \n",
       "2016/10          24.0               5.0               0.0              13.0   \n",
       "2017/01           3.0               0.0               0.0               2.0   \n",
       "2017/02          17.0               0.0               0.0              15.0   \n",
       "2017/03          33.0               0.0               0.0              31.0   \n",
       "\n",
       "occurrences  canceled, type 4  unavailable  \n",
       "year_month                                  \n",
       "2016/09                   0.0          0.0  \n",
       "2016/10                   6.0          7.0  \n",
       "2017/01                   1.0         10.0  \n",
       "2017/02                   2.0         45.0  \n",
       "2017/03                   2.0         32.0  "
      ]
     },
     "execution_count": 150,
     "metadata": {},
     "output_type": "execute_result"
    }
   ],
   "source": [
    "date_status_n = merged_df.groupby(by=[\"year_month\", \"order_status\"], as_index=False) \\\n",
    "    .agg({\"order_id\": \"count\"}) \\\n",
    "    .pivot(columns='order_status', index='year_month', values='order_id') \\\n",
    "    .fillna(value=0,) \\\n",
    "    .sort_index()  # сортировка дат по возрастанию\n",
    "date_status_n.columns.name = 'occurrences'\n",
    "date_status_n.head()\n",
    "# Результирующая таблица содержит информацию об отменённых заказах в целом и \n",
    "# с разбиением по типам."
   ]
  },
  {
   "cell_type": "markdown",
   "id": "7bee68c1-9686-4d28-987c-f98ef8cb73c8",
   "metadata": {},
   "source": [
    "Создадим столбец с общим количеством недоставленных заказов за тот или иной месяц."
   ]
  },
  {
   "cell_type": "code",
   "execution_count": 151,
   "id": "bd529157-e93d-4330-853e-ae3b7ff420dc",
   "metadata": {},
   "outputs": [
    {
     "data": {
      "text/html": [
       "<div>\n",
       "<style scoped>\n",
       "    .dataframe tbody tr th:only-of-type {\n",
       "        vertical-align: middle;\n",
       "    }\n",
       "\n",
       "    .dataframe tbody tr th {\n",
       "        vertical-align: top;\n",
       "    }\n",
       "\n",
       "    .dataframe thead th {\n",
       "        text-align: right;\n",
       "    }\n",
       "</style>\n",
       "<table border=\"1\" class=\"dataframe\">\n",
       "  <thead>\n",
       "    <tr style=\"text-align: right;\">\n",
       "      <th>occurrences</th>\n",
       "      <th>canceled</th>\n",
       "      <th>canceled, type 1</th>\n",
       "      <th>canceled, type 2</th>\n",
       "      <th>canceled, type 3</th>\n",
       "      <th>canceled, type 4</th>\n",
       "      <th>unavailable</th>\n",
       "      <th>total</th>\n",
       "    </tr>\n",
       "    <tr>\n",
       "      <th>year_month</th>\n",
       "      <th></th>\n",
       "      <th></th>\n",
       "      <th></th>\n",
       "      <th></th>\n",
       "      <th></th>\n",
       "      <th></th>\n",
       "      <th></th>\n",
       "    </tr>\n",
       "  </thead>\n",
       "  <tbody>\n",
       "    <tr>\n",
       "      <th>2016/09</th>\n",
       "      <td>2.0</td>\n",
       "      <td>0.0</td>\n",
       "      <td>0.0</td>\n",
       "      <td>2.0</td>\n",
       "      <td>0.0</td>\n",
       "      <td>0.0</td>\n",
       "      <td>2.0</td>\n",
       "    </tr>\n",
       "    <tr>\n",
       "      <th>2016/10</th>\n",
       "      <td>24.0</td>\n",
       "      <td>5.0</td>\n",
       "      <td>0.0</td>\n",
       "      <td>13.0</td>\n",
       "      <td>6.0</td>\n",
       "      <td>7.0</td>\n",
       "      <td>31.0</td>\n",
       "    </tr>\n",
       "    <tr>\n",
       "      <th>2017/01</th>\n",
       "      <td>3.0</td>\n",
       "      <td>0.0</td>\n",
       "      <td>0.0</td>\n",
       "      <td>2.0</td>\n",
       "      <td>1.0</td>\n",
       "      <td>10.0</td>\n",
       "      <td>13.0</td>\n",
       "    </tr>\n",
       "    <tr>\n",
       "      <th>2017/02</th>\n",
       "      <td>17.0</td>\n",
       "      <td>0.0</td>\n",
       "      <td>0.0</td>\n",
       "      <td>15.0</td>\n",
       "      <td>2.0</td>\n",
       "      <td>45.0</td>\n",
       "      <td>62.0</td>\n",
       "    </tr>\n",
       "    <tr>\n",
       "      <th>2017/03</th>\n",
       "      <td>33.0</td>\n",
       "      <td>0.0</td>\n",
       "      <td>0.0</td>\n",
       "      <td>31.0</td>\n",
       "      <td>2.0</td>\n",
       "      <td>32.0</td>\n",
       "      <td>65.0</td>\n",
       "    </tr>\n",
       "  </tbody>\n",
       "</table>\n",
       "</div>"
      ],
      "text/plain": [
       "occurrences  canceled  canceled, type 1  canceled, type 2  canceled, type 3  \\\n",
       "year_month                                                                    \n",
       "2016/09           2.0               0.0               0.0               2.0   \n",
       "2016/10          24.0               5.0               0.0              13.0   \n",
       "2017/01           3.0               0.0               0.0               2.0   \n",
       "2017/02          17.0               0.0               0.0              15.0   \n",
       "2017/03          33.0               0.0               0.0              31.0   \n",
       "\n",
       "occurrences  canceled, type 4  unavailable  total  \n",
       "year_month                                         \n",
       "2016/09                   0.0          0.0    2.0  \n",
       "2016/10                   6.0          7.0   31.0  \n",
       "2017/01                   1.0         10.0   13.0  \n",
       "2017/02                   2.0         45.0   62.0  \n",
       "2017/03                   2.0         32.0   65.0  "
      ]
     },
     "execution_count": 151,
     "metadata": {},
     "output_type": "execute_result"
    }
   ],
   "source": [
    "date_status_n['total'] = date_status_n[['canceled', 'unavailable']].sum(axis=1)\n",
    "date_status_n.head()"
   ]
  },
  {
   "cell_type": "markdown",
   "id": "8aaf3b15-4c5f-4f13-aff8-82539a5529fc",
   "metadata": {},
   "source": [
    "Визуализируем общее количество неудачных заказов за все месяцы наблюдений. Горизонтальные линии отвечают среднему значению и медиане недоставленных заказов в месяц."
   ]
  },
  {
   "cell_type": "code",
   "execution_count": 152,
   "id": "e1a68d43-606e-4e8e-b9bc-ef31186c1caf",
   "metadata": {},
   "outputs": [
    {
     "data": {
      "image/png": "[encoded data removed]",
      "text/plain": [
       "<Figure size 1400x600 with 1 Axes>"
      ]
     },
     "metadata": {},
     "output_type": "display_data"
    }
   ],
   "source": [
    "dpi = 150  # явно зададим DPI\n",
    "fig, ax = plt.subplots(dpi=dpi, figsize=(1400/dpi, 600/dpi))  \n",
    "ax.axhline(date_status_n['total'].mean(), zorder=3,\n",
    "           linestyle='--', linewidth=2.5, color='magenta', \n",
    "           label=f\"среднее ({np.round(date_status_n['total'].mean(), 2)})\")\n",
    "ax.axhline(date_status_n['total'].median(), zorder=3,\n",
    "           linestyle='-.', linewidth=2.5, color='darkorange',\n",
    "           label=f\"медиана ({np.round(date_status_n['total'].median(), 2)})\")\n",
    "sns.barplot(data=date_status_n, x=date_status_n.index, y='total',\n",
    "            color=\"royalblue\", edgecolor='black', linewidth=1,\n",
    "            ax=ax, zorder=2)\n",
    "ax.set(xlabel='', ylabel='N',\n",
    "       title='Количество недоставленных заказов по месяцам')\n",
    "ax.tick_params(axis='x', rotation=45)\n",
    "ax.legend(title='Статистики', framealpha=1)\n",
    "ax.grid(zorder=1)\n",
    "plt.show();"
   ]
  },
  {
   "cell_type": "markdown",
   "id": "c7d6feea-3db8-4a5a-8738-f3a09d32bfe3",
   "metadata": {},
   "source": [
    "Теперь визуализируем:\n",
    "1. количество недоставленных заказов с разбивкой по статусам 'canceled' / 'unavailable' и месяцам.\n",
    "2. среднее количество *отмененных* заказов различных типов в месяц.\n",
    "Горизонтальные линии отвечают средним значениям."
   ]
  },
  {
   "cell_type": "code",
   "execution_count": 153,
   "id": "ca3562c7-7b58-4fb0-91d8-015b71784b80",
   "metadata": {},
   "outputs": [
    {
     "name": "stdout",
     "output_type": "stream",
     "text": [
      "<class 'pandas.core.frame.DataFrame'>\n",
      "RangeIndex: 48 entries, 0 to 47\n",
      "Data columns (total 3 columns):\n",
      " #   Column      Non-Null Count  Dtype  \n",
      "---  ------      --------------  -----  \n",
      " 0   year_month  48 non-null     object \n",
      " 1   status      48 non-null     object \n",
      " 2   N           48 non-null     float64\n",
      "dtypes: float64(1), object(2)\n",
      "memory usage: 1.2+ KB\n"
     ]
    }
   ],
   "source": [
    "# Разворачивает DataFrame из \"широкого формата\" в длинный. Он для визуализации в\n",
    "# seaborn.\n",
    "df_melted_1 = date_status_n.reset_index() \\\n",
    "    .rename(columns={'index': 'year_month'}) \\\n",
    "    .melt(id_vars='year_month', value_vars=['canceled','unavailable'], \n",
    "          var_name='status', value_name='N')\n",
    "df_melted_1.info()"
   ]
  },
  {
   "cell_type": "code",
   "execution_count": 154,
   "id": "47947877",
   "metadata": {},
   "outputs": [
    {
     "name": "stdout",
     "output_type": "stream",
     "text": [
      "<class 'pandas.core.frame.DataFrame'>\n",
      "RangeIndex: 96 entries, 0 to 95\n",
      "Data columns (total 3 columns):\n",
      " #   Column      Non-Null Count  Dtype  \n",
      "---  ------      --------------  -----  \n",
      " 0   year_month  96 non-null     object \n",
      " 1   status      96 non-null     object \n",
      " 2   N           96 non-null     float64\n",
      "dtypes: float64(1), object(2)\n",
      "memory usage: 2.4+ KB\n"
     ]
    }
   ],
   "source": [
    "# Разворачивает DataFrame из \"широкого формата\" в длинный. Он для визуализации в\n",
    "# seaborn.\n",
    "df_melted_2 = date_status_n.reset_index() \\\n",
    "    .rename(columns={'index': 'year_month'}) \\\n",
    "    .melt(id_vars='year_month', value_vars=['canceled, type 1',\t'canceled, type 2',\n",
    "                                            'canceled, type 3',\t'canceled, type 4'], \n",
    "          var_name='status', value_name='N')\n",
    "df_melted_2.info()"
   ]
  },
  {
   "cell_type": "code",
   "execution_count": 155,
   "id": "fb1667af-cacc-4810-93a4-1f34ef6851cf",
   "metadata": {},
   "outputs": [
    {
     "data": {
      "image/png": "[encoded data removed]",
      "text/plain": [
       "<Figure size 1400x1000 with 2 Axes>"
      ]
     },
     "metadata": {},
     "output_type": "display_data"
    }
   ],
   "source": [
    "dpi = 150  # явно зададим DPI\n",
    "fig, ax = plt.subplots(2, 1, dpi=dpi, figsize=(1400/dpi, 1000/dpi), sharex=True,\n",
    "                       constrained_layout=True)\n",
    "# 1\n",
    "sns.barplot(data=df_melted_1, x='year_month', y='N', hue='status',\n",
    "            palette={'canceled': 'blue', 'unavailable': 'red'}, edgecolor='black', linewidth=1,\n",
    "            ax=ax[0], zorder=2)\n",
    "ax[0].tick_params(axis='x', rotation=45)\n",
    "ax[0].set(xlabel='',\n",
    "          title='Количество недоставленных заказов с разбивкой по статусам и месяцам')\n",
    "handles, _ = ax[0].get_legend_handles_labels()  # Получение текущих handles и labels\n",
    "ax[0].legend(handles=handles,\n",
    "             labels=[f\"canceled / {np.round(date_status_n['canceled'].mean(), 2)}\",\n",
    "                     f\"unavailable / {np.round(date_status_n['unavailable'].mean(), 2)}\"],\n",
    "             title='Статус / среднемесячный\\nпоказатель', framealpha=1)\n",
    "ax[0].grid(zorder=1)\n",
    "# 2\n",
    "sns.barplot(data=df_melted_2, x='year_month', y='N', hue='status',\n",
    "            palette='Reds', edgecolor='black', linewidth=1,\n",
    "            ax=ax[1], zorder=2)\n",
    "ax[1].tick_params(axis='x', rotation=45)\n",
    "ax[1].set(xlabel='',\n",
    "          title='Количество отмененных заказов в месяц с разбивкой по типам',\n",
    "          ylim=ax[0].get_ylim())\n",
    "ax[1].tick_params(axis='x', rotation=45)\n",
    "handles, _ = ax[1].get_legend_handles_labels()  # Получение текущих handles и labels\n",
    "ax[1].legend(title='Тип / среднемесячный показатель', handles=handles,\n",
    "             labels=[f\"тип 1 / {np.round(date_status_n['canceled, type 1'].mean(), 2)}\",\n",
    "                     f\"тип 2 / {np.round(date_status_n['canceled, type 2'].mean(), 2)}\",\n",
    "                     f\"тип 3 / {np.round(date_status_n['canceled, type 3'].mean(), 2)}\",\n",
    "                     f\"тип 4 / {np.round(date_status_n['canceled, type 4'].mean(), 2)}\"],\n",
    "             ncols=2,\n",
    "             framealpha=1)\n",
    "ax[1].grid(zorder=1)\n",
    "#\n",
    "plt.show();"
   ]
  },
  {
   "cell_type": "markdown",
   "id": "df9f8ba3-7015-4a6e-bd6a-bfd07afb8f96",
   "metadata": {},
   "source": [
    "Напомним, чему соответствует тот или иной тип отменённого заказа:\n",
    "1. Заказ отменён после транспортировки до клиента (6/625, ~1%)\n",
    "2. Заказ отменён после передачи в логистическую службу, но до доставки (69/625, 11%)\n",
    "3. Заказ отменён после подтверждения, но до передачи в логистическую службу (409/625, ~65%)\n",
    "4. Заказ отменён до подтверждения (141/625, ~23%)\n",
    "\n",
    "Отметим, что ~37% заказов типа 4 приходятся на август 2018 года. Также наблюдается некоторое сходство между нормальным гауссовым распределением и распределением числа unavailable заказов. Проверим эту гипотезу с помощью статистического теста Шапиро-Уилка."
   ]
  },
  {
   "cell_type": "code",
   "execution_count": 156,
   "id": "f3f8051b-6fe6-4679-a2fb-c87866d4101b",
   "metadata": {},
   "outputs": [
    {
     "data": {
      "text/plain": [
       "ShapiroResult(statistic=0.9203386902809143, pvalue=0.05942462384700775)"
      ]
     },
     "execution_count": 156,
     "metadata": {},
     "output_type": "execute_result"
    }
   ],
   "source": [
    "from scipy.stats import shapiro\n",
    "shapiro(date_status_n['unavailable'])"
   ]
  },
  {
   "cell_type": "markdown",
   "id": "43e9373a-4031-4376-8866-8674be5a809b",
   "metadata": {},
   "source": [
    "P-значение превышает порог в 5%, поэтому мы не можем отклонить нулевую гипотезу (данные были взяты из нормального распределения)."
   ]
  },
  {
   "cell_type": "code",
   "execution_count": 157,
   "id": "f181bc49-c34e-4764-bc8e-a04b8ca9eda7",
   "metadata": {},
   "outputs": [],
   "source": [
    "# Удаляем ненужное\n",
    "del (ax, canceled_df, date_status_n, df_melted_1, df_melted_2, dpi, fig, handles,\n",
    "     merged_df, type_1, type_2, type_3, type_4, unavailable_df)"
   ]
  },
  {
   "cell_type": "markdown",
   "id": "70a3c655-5415-4bd3-a70d-6d4b1bbf4e87",
   "metadata": {},
   "source": [
    "## Пункт 3\n",
    "По каждому товару определить, в какой день недели он покупается чаще всего."
   ]
  },
  {
   "cell_type": "markdown",
   "id": "199a412e-29df-4209-bf24-6092388250c6",
   "metadata": {},
   "source": [
    "Как и в первом задании, будем считать заказ покупкой, если:\n",
    "* *order_status* = 'delivered'.\n",
    "* Две из трех колонок *order_approved_at*, *order_delivered_carrier_date*, *order_delivered_customer_date* не содержат NaN.\n",
    "\n",
    "Создадим таблицу, содержащую только покупки."
   ]
  },
  {
   "cell_type": "code",
   "execution_count": 158,
   "id": "664f3ffc-5080-4225-8d2e-92f03256e66d",
   "metadata": {},
   "outputs": [],
   "source": [
    "filtered_orders_df = orders_df.query(\"order_status=='delivered'\") \\\n",
    "    .dropna(axis='index', thresh=len(orders_df.columns)-1)"
   ]
  },
  {
   "cell_type": "markdown",
   "id": "cb9a9237-3af2-4153-9c50-6744708eba8e",
   "metadata": {},
   "source": [
    "Объединим таблицу покупок с таблицей, содержащей информацию о товарах, которые были куплены; выбирем только релевантные колонки."
   ]
  },
  {
   "cell_type": "code",
   "execution_count": 159,
   "id": "fbe8797a-37bc-48f9-bff8-dd348ef9a6a1",
   "metadata": {},
   "outputs": [
    {
     "data": {
      "text/html": [
       "<div>\n",
       "<style scoped>\n",
       "    .dataframe tbody tr th:only-of-type {\n",
       "        vertical-align: middle;\n",
       "    }\n",
       "\n",
       "    .dataframe tbody tr th {\n",
       "        vertical-align: top;\n",
       "    }\n",
       "\n",
       "    .dataframe thead th {\n",
       "        text-align: right;\n",
       "    }\n",
       "</style>\n",
       "<table border=\"1\" class=\"dataframe\">\n",
       "  <thead>\n",
       "    <tr style=\"text-align: right;\">\n",
       "      <th></th>\n",
       "      <th>order_id</th>\n",
       "      <th>order_purchase_timestamp</th>\n",
       "      <th>product_id</th>\n",
       "    </tr>\n",
       "  </thead>\n",
       "  <tbody>\n",
       "    <tr>\n",
       "      <th>110191</th>\n",
       "      <td>63943bddc261676b46f01ca7ac2f7bd8</td>\n",
       "      <td>2018-02-06 12:58:58</td>\n",
       "      <td>f1d4ce8c6dd66c47bbaa8c6781c2a923</td>\n",
       "    </tr>\n",
       "    <tr>\n",
       "      <th>110192</th>\n",
       "      <td>83c1379a015df1e13d02aae0204711ab</td>\n",
       "      <td>2017-08-27 14:46:43</td>\n",
       "      <td>b80910977a37536adeddd63663f916ad</td>\n",
       "    </tr>\n",
       "    <tr>\n",
       "      <th>110193</th>\n",
       "      <td>11c177c8e97725db2631073c19f07b62</td>\n",
       "      <td>2018-01-08 21:28:27</td>\n",
       "      <td>d1c427060a0f73f6b889a5c7c61f2ac4</td>\n",
       "    </tr>\n",
       "    <tr>\n",
       "      <th>110194</th>\n",
       "      <td>11c177c8e97725db2631073c19f07b62</td>\n",
       "      <td>2018-01-08 21:28:27</td>\n",
       "      <td>d1c427060a0f73f6b889a5c7c61f2ac4</td>\n",
       "    </tr>\n",
       "    <tr>\n",
       "      <th>110195</th>\n",
       "      <td>66dea50a8b16d9b4dee7af250b4be1a5</td>\n",
       "      <td>2018-03-08 20:57:30</td>\n",
       "      <td>006619bbed68b000c8ba3f8725d5409e</td>\n",
       "    </tr>\n",
       "  </tbody>\n",
       "</table>\n",
       "</div>"
      ],
      "text/plain": [
       "                                order_id order_purchase_timestamp  \\\n",
       "110191  63943bddc261676b46f01ca7ac2f7bd8      2018-02-06 12:58:58   \n",
       "110192  83c1379a015df1e13d02aae0204711ab      2017-08-27 14:46:43   \n",
       "110193  11c177c8e97725db2631073c19f07b62      2018-01-08 21:28:27   \n",
       "110194  11c177c8e97725db2631073c19f07b62      2018-01-08 21:28:27   \n",
       "110195  66dea50a8b16d9b4dee7af250b4be1a5      2018-03-08 20:57:30   \n",
       "\n",
       "                              product_id  \n",
       "110191  f1d4ce8c6dd66c47bbaa8c6781c2a923  \n",
       "110192  b80910977a37536adeddd63663f916ad  \n",
       "110193  d1c427060a0f73f6b889a5c7c61f2ac4  \n",
       "110194  d1c427060a0f73f6b889a5c7c61f2ac4  \n",
       "110195  006619bbed68b000c8ba3f8725d5409e  "
      ]
     },
     "execution_count": 159,
     "metadata": {},
     "output_type": "execute_result"
    }
   ],
   "source": [
    "merged_df = pd.merge(left=filtered_orders_df, right=items_df,\n",
    "                     how='inner', on='order_id')[['order_id',\n",
    "                                                  'order_purchase_timestamp',\n",
    "                                                  'product_id']]\n",
    "merged_df.tail()"
   ]
  },
  {
   "cell_type": "code",
   "execution_count": 160,
   "id": "9b9c2a0e-3d72-40f7-8caa-cfa46e2dca34",
   "metadata": {},
   "outputs": [
    {
     "name": "stdout",
     "output_type": "stream",
     "text": [
      "<class 'pandas.core.frame.DataFrame'>\n",
      "RangeIndex: 110196 entries, 0 to 110195\n",
      "Data columns (total 3 columns):\n",
      " #   Column                    Non-Null Count   Dtype \n",
      "---  ------                    --------------   ----- \n",
      " 0   order_id                  110196 non-null  object\n",
      " 1   order_purchase_timestamp  110196 non-null  object\n",
      " 2   product_id                110196 non-null  object\n",
      "dtypes: object(3)\n",
      "memory usage: 2.5+ MB\n"
     ]
    }
   ],
   "source": [
    "merged_df.info()  # Нет NaN"
   ]
  },
  {
   "cell_type": "markdown",
   "id": "b2d09af9-640c-4034-8727-bf9260416a47",
   "metadata": {},
   "source": [
    "Извлечём день недели из дат в столбце *order_purchase_timestamp* и сохраним результат в новый столбец *weekday*. <br>Удалим *order_purchase_timestamp*."
   ]
  },
  {
   "cell_type": "code",
   "execution_count": 161,
   "id": "c09bdd93-2363-4d73-ad83-d8551c359e5f",
   "metadata": {
    "scrolled": true
   },
   "outputs": [
    {
     "data": {
      "text/html": [
       "<div>\n",
       "<style scoped>\n",
       "    .dataframe tbody tr th:only-of-type {\n",
       "        vertical-align: middle;\n",
       "    }\n",
       "\n",
       "    .dataframe tbody tr th {\n",
       "        vertical-align: top;\n",
       "    }\n",
       "\n",
       "    .dataframe thead th {\n",
       "        text-align: right;\n",
       "    }\n",
       "</style>\n",
       "<table border=\"1\" class=\"dataframe\">\n",
       "  <thead>\n",
       "    <tr style=\"text-align: right;\">\n",
       "      <th></th>\n",
       "      <th>order_id</th>\n",
       "      <th>product_id</th>\n",
       "      <th>weekday</th>\n",
       "    </tr>\n",
       "  </thead>\n",
       "  <tbody>\n",
       "    <tr>\n",
       "      <th>0</th>\n",
       "      <td>e481f51cbdc54678b7cc49136f2d6af7</td>\n",
       "      <td>87285b34884572647811a353c7ac498a</td>\n",
       "      <td>Monday</td>\n",
       "    </tr>\n",
       "    <tr>\n",
       "      <th>1</th>\n",
       "      <td>53cdb2fc8bc7dce0b6741e2150273451</td>\n",
       "      <td>595fac2a385ac33a80bd5114aec74eb8</td>\n",
       "      <td>Tuesday</td>\n",
       "    </tr>\n",
       "    <tr>\n",
       "      <th>2</th>\n",
       "      <td>47770eb9100c2d0c44946d9cf07ec65d</td>\n",
       "      <td>aa4383b373c6aca5d8797843e5594415</td>\n",
       "      <td>Wednesday</td>\n",
       "    </tr>\n",
       "    <tr>\n",
       "      <th>3</th>\n",
       "      <td>949d5b44dbf5de918fe9c16f97b45f8a</td>\n",
       "      <td>d0b61bfb1de832b15ba9d266ca96e5b0</td>\n",
       "      <td>Saturday</td>\n",
       "    </tr>\n",
       "    <tr>\n",
       "      <th>4</th>\n",
       "      <td>ad21c59c0840e6cb83a9ceb5573f8159</td>\n",
       "      <td>65266b2da20d04dbe00c5c2d3bb7859e</td>\n",
       "      <td>Tuesday</td>\n",
       "    </tr>\n",
       "  </tbody>\n",
       "</table>\n",
       "</div>"
      ],
      "text/plain": [
       "                           order_id                        product_id  \\\n",
       "0  e481f51cbdc54678b7cc49136f2d6af7  87285b34884572647811a353c7ac498a   \n",
       "1  53cdb2fc8bc7dce0b6741e2150273451  595fac2a385ac33a80bd5114aec74eb8   \n",
       "2  47770eb9100c2d0c44946d9cf07ec65d  aa4383b373c6aca5d8797843e5594415   \n",
       "3  949d5b44dbf5de918fe9c16f97b45f8a  d0b61bfb1de832b15ba9d266ca96e5b0   \n",
       "4  ad21c59c0840e6cb83a9ceb5573f8159  65266b2da20d04dbe00c5c2d3bb7859e   \n",
       "\n",
       "     weekday  \n",
       "0     Monday  \n",
       "1    Tuesday  \n",
       "2  Wednesday  \n",
       "3   Saturday  \n",
       "4    Tuesday  "
      ]
     },
     "execution_count": 161,
     "metadata": {},
     "output_type": "execute_result"
    }
   ],
   "source": [
    "merged_df['weekday'] = pd.to_datetime(merged_df.order_purchase_timestamp) \\\n",
    "    .dt.strftime('%A')\n",
    "merged_df.drop(columns='order_purchase_timestamp', inplace=True)\n",
    "merged_df.head()"
   ]
  },
  {
   "cell_type": "markdown",
   "id": "26ea2b0a-97f6-4e4f-93bf-b1dca7558c1f",
   "metadata": {
    "scrolled": true
   },
   "source": [
    "Подсчитаем, сколько раз покупался тот или иной товар в разные дни недели."
   ]
  },
  {
   "cell_type": "code",
   "execution_count": 162,
   "id": "7908ca67-5486-49b4-ae65-4b241aa8e1ba",
   "metadata": {},
   "outputs": [
    {
     "data": {
      "text/html": [
       "<div>\n",
       "<style scoped>\n",
       "    .dataframe tbody tr th:only-of-type {\n",
       "        vertical-align: middle;\n",
       "    }\n",
       "\n",
       "    .dataframe tbody tr th {\n",
       "        vertical-align: top;\n",
       "    }\n",
       "\n",
       "    .dataframe thead th {\n",
       "        text-align: right;\n",
       "    }\n",
       "</style>\n",
       "<table border=\"1\" class=\"dataframe\">\n",
       "  <thead>\n",
       "    <tr style=\"text-align: right;\">\n",
       "      <th></th>\n",
       "      <th>product_id</th>\n",
       "      <th>weekday</th>\n",
       "      <th>purchases</th>\n",
       "    </tr>\n",
       "  </thead>\n",
       "  <tbody>\n",
       "    <tr>\n",
       "      <th>59942</th>\n",
       "      <td>fff515ea94dbf35d54d256b3e39f0fea</td>\n",
       "      <td>Sunday</td>\n",
       "      <td>1</td>\n",
       "    </tr>\n",
       "    <tr>\n",
       "      <th>59943</th>\n",
       "      <td>fff6177642830a9a94a0f2cba5e476d1</td>\n",
       "      <td>Saturday</td>\n",
       "      <td>1</td>\n",
       "    </tr>\n",
       "    <tr>\n",
       "      <th>59944</th>\n",
       "      <td>fff6177642830a9a94a0f2cba5e476d1</td>\n",
       "      <td>Sunday</td>\n",
       "      <td>1</td>\n",
       "    </tr>\n",
       "    <tr>\n",
       "      <th>59945</th>\n",
       "      <td>fff81cc3158d2725c0655ab9ba0f712c</td>\n",
       "      <td>Monday</td>\n",
       "      <td>1</td>\n",
       "    </tr>\n",
       "    <tr>\n",
       "      <th>59946</th>\n",
       "      <td>fff9553ac224cec9d15d49f5a263411f</td>\n",
       "      <td>Friday</td>\n",
       "      <td>1</td>\n",
       "    </tr>\n",
       "    <tr>\n",
       "      <th>59947</th>\n",
       "      <td>fffdb2d0ec8d6a61f0a0a0db3f25b441</td>\n",
       "      <td>Friday</td>\n",
       "      <td>1</td>\n",
       "    </tr>\n",
       "    <tr>\n",
       "      <th>59948</th>\n",
       "      <td>fffdb2d0ec8d6a61f0a0a0db3f25b441</td>\n",
       "      <td>Sunday</td>\n",
       "      <td>1</td>\n",
       "    </tr>\n",
       "    <tr>\n",
       "      <th>59949</th>\n",
       "      <td>fffdb2d0ec8d6a61f0a0a0db3f25b441</td>\n",
       "      <td>Thursday</td>\n",
       "      <td>1</td>\n",
       "    </tr>\n",
       "    <tr>\n",
       "      <th>59950</th>\n",
       "      <td>fffdb2d0ec8d6a61f0a0a0db3f25b441</td>\n",
       "      <td>Tuesday</td>\n",
       "      <td>2</td>\n",
       "    </tr>\n",
       "    <tr>\n",
       "      <th>59951</th>\n",
       "      <td>fffe9eeff12fcbd74a2f2b007dde0c58</td>\n",
       "      <td>Wednesday</td>\n",
       "      <td>1</td>\n",
       "    </tr>\n",
       "  </tbody>\n",
       "</table>\n",
       "</div>"
      ],
      "text/plain": [
       "                             product_id    weekday  purchases\n",
       "59942  fff515ea94dbf35d54d256b3e39f0fea     Sunday          1\n",
       "59943  fff6177642830a9a94a0f2cba5e476d1   Saturday          1\n",
       "59944  fff6177642830a9a94a0f2cba5e476d1     Sunday          1\n",
       "59945  fff81cc3158d2725c0655ab9ba0f712c     Monday          1\n",
       "59946  fff9553ac224cec9d15d49f5a263411f     Friday          1\n",
       "59947  fffdb2d0ec8d6a61f0a0a0db3f25b441     Friday          1\n",
       "59948  fffdb2d0ec8d6a61f0a0a0db3f25b441     Sunday          1\n",
       "59949  fffdb2d0ec8d6a61f0a0a0db3f25b441   Thursday          1\n",
       "59950  fffdb2d0ec8d6a61f0a0a0db3f25b441    Tuesday          2\n",
       "59951  fffe9eeff12fcbd74a2f2b007dde0c58  Wednesday          1"
      ]
     },
     "execution_count": 162,
     "metadata": {},
     "output_type": "execute_result"
    }
   ],
   "source": [
    "product_purchases = merged_df.groupby(by=['product_id', 'weekday'], as_index=False) \\\n",
    "    .agg({'order_id':'count'}) \\\n",
    "    .rename(columns={'order_id':'purchases'})\n",
    "product_purchases.tail(10)"
   ]
  },
  {
   "cell_type": "code",
   "execution_count": 163,
   "id": "a1230443-ae15-4c09-85e3-a7218089bb5b",
   "metadata": {},
   "outputs": [
    {
     "name": "stdout",
     "output_type": "stream",
     "text": [
      "<class 'pandas.core.frame.DataFrame'>\n",
      "RangeIndex: 59952 entries, 0 to 59951\n",
      "Data columns (total 3 columns):\n",
      " #   Column      Non-Null Count  Dtype \n",
      "---  ------      --------------  ----- \n",
      " 0   product_id  59952 non-null  object\n",
      " 1   weekday     59952 non-null  object\n",
      " 2   purchases   59952 non-null  int64 \n",
      "dtypes: int64(1), object(2)\n",
      "memory usage: 1.4+ MB\n"
     ]
    }
   ],
   "source": [
    "product_purchases.info()"
   ]
  },
  {
   "cell_type": "markdown",
   "id": "bef1fe25-7487-410f-a713-2ca73d61aa59",
   "metadata": {},
   "source": [
    "Найдём максимально количество покупок товара за неделю."
   ]
  },
  {
   "cell_type": "code",
   "execution_count": 164,
   "id": "0d187ae7-8255-47af-90d3-b55e61be6362",
   "metadata": {},
   "outputs": [
    {
     "data": {
      "text/html": [
       "<div>\n",
       "<style scoped>\n",
       "    .dataframe tbody tr th:only-of-type {\n",
       "        vertical-align: middle;\n",
       "    }\n",
       "\n",
       "    .dataframe tbody tr th {\n",
       "        vertical-align: top;\n",
       "    }\n",
       "\n",
       "    .dataframe thead th {\n",
       "        text-align: right;\n",
       "    }\n",
       "</style>\n",
       "<table border=\"1\" class=\"dataframe\">\n",
       "  <thead>\n",
       "    <tr style=\"text-align: right;\">\n",
       "      <th></th>\n",
       "      <th>product_id</th>\n",
       "      <th>purchases</th>\n",
       "    </tr>\n",
       "  </thead>\n",
       "  <tbody>\n",
       "    <tr>\n",
       "      <th>8428</th>\n",
       "      <td>422879e10f46682990de24d770e7f83d</td>\n",
       "      <td>93</td>\n",
       "    </tr>\n",
       "    <tr>\n",
       "      <th>19289</th>\n",
       "      <td>99a4788cb24856965c36a24e339b6058</td>\n",
       "      <td>91</td>\n",
       "    </tr>\n",
       "    <tr>\n",
       "      <th>21616</th>\n",
       "      <td>aca2eb7d00ea1a7b8ebd4e68314663af</td>\n",
       "      <td>89</td>\n",
       "    </tr>\n",
       "    <tr>\n",
       "      <th>10615</th>\n",
       "      <td>53b36df67ebb7c41585e8d54d6772e08</td>\n",
       "      <td>76</td>\n",
       "    </tr>\n",
       "    <tr>\n",
       "      <th>6925</th>\n",
       "      <td>368c6c730842d78016ad823897a372db</td>\n",
       "      <td>67</td>\n",
       "    </tr>\n",
       "    <tr>\n",
       "      <th>7205</th>\n",
       "      <td>389d119b48cf3043d311335e499d9c6b</td>\n",
       "      <td>67</td>\n",
       "    </tr>\n",
       "    <tr>\n",
       "      <th>10588</th>\n",
       "      <td>53759a2ecddad2bb87a079a1f1519f73</td>\n",
       "      <td>66</td>\n",
       "    </tr>\n",
       "    <tr>\n",
       "      <th>26435</th>\n",
       "      <td>d1c427060a0f73f6b889a5c7c61f2ac4</td>\n",
       "      <td>62</td>\n",
       "    </tr>\n",
       "    <tr>\n",
       "      <th>7880</th>\n",
       "      <td>3dd2a17168ec895c781a9191c1e95ad7</td>\n",
       "      <td>53</td>\n",
       "    </tr>\n",
       "    <tr>\n",
       "      <th>20821</th>\n",
       "      <td>a62e25e09e05e6faf31d90c6ec1aa3d1</td>\n",
       "      <td>49</td>\n",
       "    </tr>\n",
       "  </tbody>\n",
       "</table>\n",
       "</div>"
      ],
      "text/plain": [
       "                             product_id  purchases\n",
       "8428   422879e10f46682990de24d770e7f83d         93\n",
       "19289  99a4788cb24856965c36a24e339b6058         91\n",
       "21616  aca2eb7d00ea1a7b8ebd4e68314663af         89\n",
       "10615  53b36df67ebb7c41585e8d54d6772e08         76\n",
       "6925   368c6c730842d78016ad823897a372db         67\n",
       "7205   389d119b48cf3043d311335e499d9c6b         67\n",
       "10588  53759a2ecddad2bb87a079a1f1519f73         66\n",
       "26435  d1c427060a0f73f6b889a5c7c61f2ac4         62\n",
       "7880   3dd2a17168ec895c781a9191c1e95ad7         53\n",
       "20821  a62e25e09e05e6faf31d90c6ec1aa3d1         49"
      ]
     },
     "execution_count": 164,
     "metadata": {},
     "output_type": "execute_result"
    }
   ],
   "source": [
    "product_mpurchases = product_purchases.groupby(by='product_id')['purchases'] \\\n",
    "    .max().reset_index()\n",
    "product_mpurchases.sort_values(by='purchases', ascending=False).head(10)"
   ]
  },
  {
   "cell_type": "markdown",
   "id": "3d5a19db-b60a-4ff4-bce3-525d4629d73c",
   "metadata": {},
   "source": [
    "Для того, чтобы получить таблицу, в которой будет содержаться информация о максимальном количестве покупок товара *product_id* за день **И** название этого дня, нужно выполнить своеобразный SELF JOIN таблицы **product_purchases** с **product_mpurchases**.\n",
    "<br>**NOTE**: Если товар X покупался Y раз в каждый из дней недели, мы хотим сохранить в результирующей таблице все 7 строчек."
   ]
  },
  {
   "cell_type": "code",
   "execution_count": 165,
   "id": "e7b7f946-d60b-414e-907c-f6f43be67b1e",
   "metadata": {},
   "outputs": [
    {
     "data": {
      "text/html": [
       "<div>\n",
       "<style scoped>\n",
       "    .dataframe tbody tr th:only-of-type {\n",
       "        vertical-align: middle;\n",
       "    }\n",
       "\n",
       "    .dataframe tbody tr th {\n",
       "        vertical-align: top;\n",
       "    }\n",
       "\n",
       "    .dataframe thead th {\n",
       "        text-align: right;\n",
       "    }\n",
       "</style>\n",
       "<table border=\"1\" class=\"dataframe\">\n",
       "  <thead>\n",
       "    <tr style=\"text-align: right;\">\n",
       "      <th></th>\n",
       "      <th>product_id</th>\n",
       "      <th>weekday</th>\n",
       "      <th>purchases</th>\n",
       "    </tr>\n",
       "  </thead>\n",
       "  <tbody>\n",
       "    <tr>\n",
       "      <th>10886</th>\n",
       "      <td>422879e10f46682990de24d770e7f83d</td>\n",
       "      <td>Wednesday</td>\n",
       "      <td>93</td>\n",
       "    </tr>\n",
       "    <tr>\n",
       "      <th>24832</th>\n",
       "      <td>99a4788cb24856965c36a24e339b6058</td>\n",
       "      <td>Monday</td>\n",
       "      <td>91</td>\n",
       "    </tr>\n",
       "    <tr>\n",
       "      <th>27841</th>\n",
       "      <td>aca2eb7d00ea1a7b8ebd4e68314663af</td>\n",
       "      <td>Thursday</td>\n",
       "      <td>89</td>\n",
       "    </tr>\n",
       "    <tr>\n",
       "      <th>13684</th>\n",
       "      <td>53b36df67ebb7c41585e8d54d6772e08</td>\n",
       "      <td>Tuesday</td>\n",
       "      <td>76</td>\n",
       "    </tr>\n",
       "    <tr>\n",
       "      <th>9242</th>\n",
       "      <td>389d119b48cf3043d311335e499d9c6b</td>\n",
       "      <td>Thursday</td>\n",
       "      <td>67</td>\n",
       "    </tr>\n",
       "    <tr>\n",
       "      <th>8875</th>\n",
       "      <td>368c6c730842d78016ad823897a372db</td>\n",
       "      <td>Friday</td>\n",
       "      <td>67</td>\n",
       "    </tr>\n",
       "    <tr>\n",
       "      <th>13651</th>\n",
       "      <td>53759a2ecddad2bb87a079a1f1519f73</td>\n",
       "      <td>Wednesday</td>\n",
       "      <td>66</td>\n",
       "    </tr>\n",
       "    <tr>\n",
       "      <th>34205</th>\n",
       "      <td>d1c427060a0f73f6b889a5c7c61f2ac4</td>\n",
       "      <td>Monday</td>\n",
       "      <td>62</td>\n",
       "    </tr>\n",
       "    <tr>\n",
       "      <th>10132</th>\n",
       "      <td>3dd2a17168ec895c781a9191c1e95ad7</td>\n",
       "      <td>Wednesday</td>\n",
       "      <td>53</td>\n",
       "    </tr>\n",
       "    <tr>\n",
       "      <th>26800</th>\n",
       "      <td>a62e25e09e05e6faf31d90c6ec1aa3d1</td>\n",
       "      <td>Thursday</td>\n",
       "      <td>49</td>\n",
       "    </tr>\n",
       "    <tr>\n",
       "      <th>3505</th>\n",
       "      <td>154e7e31ebfa092203795c972e5804a6</td>\n",
       "      <td>Wednesday</td>\n",
       "      <td>47</td>\n",
       "    </tr>\n",
       "    <tr>\n",
       "      <th>7160</th>\n",
       "      <td>2b4609f8948be18874494203496bc318</td>\n",
       "      <td>Thursday</td>\n",
       "      <td>47</td>\n",
       "    </tr>\n",
       "    <tr>\n",
       "      <th>14808</th>\n",
       "      <td>5a848e4ab52fd5445cdc07aab1c40e48</td>\n",
       "      <td>Tuesday</td>\n",
       "      <td>42</td>\n",
       "    </tr>\n",
       "    <tr>\n",
       "      <th>20235</th>\n",
       "      <td>7c1bd920dbdf22470b68bde975dd3ccf</td>\n",
       "      <td>Thursday</td>\n",
       "      <td>40</td>\n",
       "    </tr>\n",
       "    <tr>\n",
       "      <th>34863</th>\n",
       "      <td>d5991653e037ccb7af6ed7d94246b249</td>\n",
       "      <td>Tuesday</td>\n",
       "      <td>38</td>\n",
       "    </tr>\n",
       "  </tbody>\n",
       "</table>\n",
       "</div>"
      ],
      "text/plain": [
       "                             product_id    weekday  purchases\n",
       "10886  422879e10f46682990de24d770e7f83d  Wednesday         93\n",
       "24832  99a4788cb24856965c36a24e339b6058     Monday         91\n",
       "27841  aca2eb7d00ea1a7b8ebd4e68314663af   Thursday         89\n",
       "13684  53b36df67ebb7c41585e8d54d6772e08    Tuesday         76\n",
       "9242   389d119b48cf3043d311335e499d9c6b   Thursday         67\n",
       "8875   368c6c730842d78016ad823897a372db     Friday         67\n",
       "13651  53759a2ecddad2bb87a079a1f1519f73  Wednesday         66\n",
       "34205  d1c427060a0f73f6b889a5c7c61f2ac4     Monday         62\n",
       "10132  3dd2a17168ec895c781a9191c1e95ad7  Wednesday         53\n",
       "26800  a62e25e09e05e6faf31d90c6ec1aa3d1   Thursday         49\n",
       "3505   154e7e31ebfa092203795c972e5804a6  Wednesday         47\n",
       "7160   2b4609f8948be18874494203496bc318   Thursday         47\n",
       "14808  5a848e4ab52fd5445cdc07aab1c40e48    Tuesday         42\n",
       "20235  7c1bd920dbdf22470b68bde975dd3ccf   Thursday         40\n",
       "34863  d5991653e037ccb7af6ed7d94246b249    Tuesday         38"
      ]
     },
     "execution_count": 165,
     "metadata": {},
     "output_type": "execute_result"
    }
   ],
   "source": [
    "# Выполняем своеобразный SELF JOIN\n",
    "final_df = pd.merge(product_purchases, product_mpurchases, \n",
    "                    on=['product_id', 'purchases'], how='inner') \\\n",
    "    .sort_values(by='purchases', ascending=False)  # сортировка по кол-ву покупок\n",
    "final_df.head(15)"
   ]
  },
  {
   "cell_type": "code",
   "execution_count": 166,
   "id": "80cf9880-2740-4bc4-9048-83cae9b182b3",
   "metadata": {},
   "outputs": [
    {
     "name": "stdout",
     "output_type": "stream",
     "text": [
      "<class 'pandas.core.frame.DataFrame'>\n",
      "Index: 41774 entries, 10886 to 41773\n",
      "Data columns (total 3 columns):\n",
      " #   Column      Non-Null Count  Dtype \n",
      "---  ------      --------------  ----- \n",
      " 0   product_id  41774 non-null  object\n",
      " 1   weekday     41774 non-null  object\n",
      " 2   purchases   41774 non-null  int64 \n",
      "dtypes: int64(1), object(2)\n",
      "memory usage: 1.3+ MB\n"
     ]
    }
   ],
   "source": [
    "final_df.info()"
   ]
  },
  {
   "cell_type": "code",
   "execution_count": 167,
   "id": "dc62e036-c6b9-4d62-b96b-4d7139afa020",
   "metadata": {},
   "outputs": [],
   "source": [
    "# Удаляем ненужное\n",
    "del product_purchases, product_mpurchases, merged_df, final_df, filtered_orders_df"
   ]
  },
  {
   "cell_type": "markdown",
   "id": "8162beeb-b87e-421a-9934-d07f180e165b",
   "metadata": {},
   "source": [
    "## Пункт 4\n",
    "Для каждого пользователя определить среднее количество покупок в неделю с разбивкой по месяцам.\n",
    "<br>**NOTE**: внутри месяца может быть не целое число недель. Например, в ноябре 2021 года 4,28 недели."
   ]
  },
  {
   "cell_type": "markdown",
   "id": "92b06cfe-8a7e-426f-aa84-021c9a43b647",
   "metadata": {},
   "source": [
    "Заказ считается покупкой, если:\n",
    "* *order_status* = 'delivered'.\n",
    "* Две из трех колонок *order_approved_at*, *order_delivered_carrier_date*, *order_delivered_customer_date* не содержат NaN.\n",
    "\n",
    "Создадим таблицу, содержащую только покупки."
   ]
  },
  {
   "cell_type": "code",
   "execution_count": 168,
   "id": "d36d6f0b-2058-49db-9295-6071dc1f04d9",
   "metadata": {},
   "outputs": [],
   "source": [
    "filtered_orders_df = orders_df.query(\"order_status=='delivered'\") \\\n",
    "    .dropna(axis='index', thresh=len(orders_df.columns)-1)"
   ]
  },
  {
   "cell_type": "markdown",
   "id": "9b37aa6b-4b0d-477b-ae2a-618bc34fa2e7",
   "metadata": {},
   "source": [
    "Объединение **filtered_orders_df** с **customers_df** и извлечение только релевантных столбцов:"
   ]
  },
  {
   "cell_type": "code",
   "execution_count": 169,
   "id": "7c61b032-66aa-491b-b8a0-ba4415abd33a",
   "metadata": {},
   "outputs": [
    {
     "data": {
      "text/html": [
       "<div>\n",
       "<style scoped>\n",
       "    .dataframe tbody tr th:only-of-type {\n",
       "        vertical-align: middle;\n",
       "    }\n",
       "\n",
       "    .dataframe tbody tr th {\n",
       "        vertical-align: top;\n",
       "    }\n",
       "\n",
       "    .dataframe thead th {\n",
       "        text-align: right;\n",
       "    }\n",
       "</style>\n",
       "<table border=\"1\" class=\"dataframe\">\n",
       "  <thead>\n",
       "    <tr style=\"text-align: right;\">\n",
       "      <th></th>\n",
       "      <th>customer_unique_id</th>\n",
       "      <th>order_id</th>\n",
       "      <th>order_purchase_timestamp</th>\n",
       "    </tr>\n",
       "  </thead>\n",
       "  <tbody>\n",
       "    <tr>\n",
       "      <th>0</th>\n",
       "      <td>7c396fd4830fd04220f754e42b4e5bff</td>\n",
       "      <td>e481f51cbdc54678b7cc49136f2d6af7</td>\n",
       "      <td>2017-10-02 10:56:33</td>\n",
       "    </tr>\n",
       "    <tr>\n",
       "      <th>1</th>\n",
       "      <td>af07308b275d755c9edb36a90c618231</td>\n",
       "      <td>53cdb2fc8bc7dce0b6741e2150273451</td>\n",
       "      <td>2018-07-24 20:41:37</td>\n",
       "    </tr>\n",
       "    <tr>\n",
       "      <th>2</th>\n",
       "      <td>3a653a41f6f9fc3d2a113cf8398680e8</td>\n",
       "      <td>47770eb9100c2d0c44946d9cf07ec65d</td>\n",
       "      <td>2018-08-08 08:38:49</td>\n",
       "    </tr>\n",
       "    <tr>\n",
       "      <th>3</th>\n",
       "      <td>7c142cf63193a1473d2e66489a9ae977</td>\n",
       "      <td>949d5b44dbf5de918fe9c16f97b45f8a</td>\n",
       "      <td>2017-11-18 19:28:06</td>\n",
       "    </tr>\n",
       "    <tr>\n",
       "      <th>4</th>\n",
       "      <td>72632f0f9dd73dfee390c9b22eb56dd6</td>\n",
       "      <td>ad21c59c0840e6cb83a9ceb5573f8159</td>\n",
       "      <td>2018-02-13 21:18:39</td>\n",
       "    </tr>\n",
       "  </tbody>\n",
       "</table>\n",
       "</div>"
      ],
      "text/plain": [
       "                 customer_unique_id                          order_id  \\\n",
       "0  7c396fd4830fd04220f754e42b4e5bff  e481f51cbdc54678b7cc49136f2d6af7   \n",
       "1  af07308b275d755c9edb36a90c618231  53cdb2fc8bc7dce0b6741e2150273451   \n",
       "2  3a653a41f6f9fc3d2a113cf8398680e8  47770eb9100c2d0c44946d9cf07ec65d   \n",
       "3  7c142cf63193a1473d2e66489a9ae977  949d5b44dbf5de918fe9c16f97b45f8a   \n",
       "4  72632f0f9dd73dfee390c9b22eb56dd6  ad21c59c0840e6cb83a9ceb5573f8159   \n",
       "\n",
       "  order_purchase_timestamp  \n",
       "0      2017-10-02 10:56:33  \n",
       "1      2018-07-24 20:41:37  \n",
       "2      2018-08-08 08:38:49  \n",
       "3      2017-11-18 19:28:06  \n",
       "4      2018-02-13 21:18:39  "
      ]
     },
     "execution_count": 169,
     "metadata": {},
     "output_type": "execute_result"
    }
   ],
   "source": [
    "merged_df = pd.merge(\n",
    "    left=filtered_orders_df, right=customers_df, how=\"inner\", on=\"customer_id\"\n",
    ")[[\"customer_unique_id\", \"order_id\", \"order_purchase_timestamp\"]]\n",
    "merged_df.head()"
   ]
  },
  {
   "cell_type": "markdown",
   "id": "2a4983d6-be37-44af-be55-8551a5d4f336",
   "metadata": {},
   "source": [
    "Сконвертируем столбец *order_purchase_timestamp* таблицы **merge_df** из строкового в формат datetime. Затем создадим новые столбцы *year_month*, наполненный строками с датами в формате год-месяц, и *year_month_day*, наполненный строками с датами в формате год-месяц-день."
   ]
  },
  {
   "cell_type": "code",
   "execution_count": 170,
   "id": "5816377f-9cde-4079-ac64-db3b9aab211c",
   "metadata": {},
   "outputs": [
    {
     "data": {
      "text/html": [
       "<div>\n",
       "<style scoped>\n",
       "    .dataframe tbody tr th:only-of-type {\n",
       "        vertical-align: middle;\n",
       "    }\n",
       "\n",
       "    .dataframe tbody tr th {\n",
       "        vertical-align: top;\n",
       "    }\n",
       "\n",
       "    .dataframe thead th {\n",
       "        text-align: right;\n",
       "    }\n",
       "</style>\n",
       "<table border=\"1\" class=\"dataframe\">\n",
       "  <thead>\n",
       "    <tr style=\"text-align: right;\">\n",
       "      <th></th>\n",
       "      <th>customer_unique_id</th>\n",
       "      <th>order_id</th>\n",
       "      <th>order_purchase_timestamp</th>\n",
       "      <th>year_month</th>\n",
       "      <th>year_month_day</th>\n",
       "    </tr>\n",
       "  </thead>\n",
       "  <tbody>\n",
       "    <tr>\n",
       "      <th>0</th>\n",
       "      <td>7c396fd4830fd04220f754e42b4e5bff</td>\n",
       "      <td>e481f51cbdc54678b7cc49136f2d6af7</td>\n",
       "      <td>2017-10-02 10:56:33</td>\n",
       "      <td>2017-10</td>\n",
       "      <td>2017-10-02</td>\n",
       "    </tr>\n",
       "    <tr>\n",
       "      <th>1</th>\n",
       "      <td>af07308b275d755c9edb36a90c618231</td>\n",
       "      <td>53cdb2fc8bc7dce0b6741e2150273451</td>\n",
       "      <td>2018-07-24 20:41:37</td>\n",
       "      <td>2018-07</td>\n",
       "      <td>2018-07-24</td>\n",
       "    </tr>\n",
       "    <tr>\n",
       "      <th>2</th>\n",
       "      <td>3a653a41f6f9fc3d2a113cf8398680e8</td>\n",
       "      <td>47770eb9100c2d0c44946d9cf07ec65d</td>\n",
       "      <td>2018-08-08 08:38:49</td>\n",
       "      <td>2018-08</td>\n",
       "      <td>2018-08-08</td>\n",
       "    </tr>\n",
       "    <tr>\n",
       "      <th>3</th>\n",
       "      <td>7c142cf63193a1473d2e66489a9ae977</td>\n",
       "      <td>949d5b44dbf5de918fe9c16f97b45f8a</td>\n",
       "      <td>2017-11-18 19:28:06</td>\n",
       "      <td>2017-11</td>\n",
       "      <td>2017-11-18</td>\n",
       "    </tr>\n",
       "    <tr>\n",
       "      <th>4</th>\n",
       "      <td>72632f0f9dd73dfee390c9b22eb56dd6</td>\n",
       "      <td>ad21c59c0840e6cb83a9ceb5573f8159</td>\n",
       "      <td>2018-02-13 21:18:39</td>\n",
       "      <td>2018-02</td>\n",
       "      <td>2018-02-13</td>\n",
       "    </tr>\n",
       "  </tbody>\n",
       "</table>\n",
       "</div>"
      ],
      "text/plain": [
       "                 customer_unique_id                          order_id  \\\n",
       "0  7c396fd4830fd04220f754e42b4e5bff  e481f51cbdc54678b7cc49136f2d6af7   \n",
       "1  af07308b275d755c9edb36a90c618231  53cdb2fc8bc7dce0b6741e2150273451   \n",
       "2  3a653a41f6f9fc3d2a113cf8398680e8  47770eb9100c2d0c44946d9cf07ec65d   \n",
       "3  7c142cf63193a1473d2e66489a9ae977  949d5b44dbf5de918fe9c16f97b45f8a   \n",
       "4  72632f0f9dd73dfee390c9b22eb56dd6  ad21c59c0840e6cb83a9ceb5573f8159   \n",
       "\n",
       "  order_purchase_timestamp year_month year_month_day  \n",
       "0      2017-10-02 10:56:33    2017-10     2017-10-02  \n",
       "1      2018-07-24 20:41:37    2018-07     2018-07-24  \n",
       "2      2018-08-08 08:38:49    2018-08     2018-08-08  \n",
       "3      2017-11-18 19:28:06    2017-11     2017-11-18  \n",
       "4      2018-02-13 21:18:39    2018-02     2018-02-13  "
      ]
     },
     "execution_count": 170,
     "metadata": {},
     "output_type": "execute_result"
    }
   ],
   "source": [
    "merged_df['order_purchase_timestamp'] = pd.to_datetime(\n",
    "    merged_df['order_purchase_timestamp']\n",
    ")\n",
    "merged_df['year_month'] = merged_df['order_purchase_timestamp'] \\\n",
    "    .dt.strftime(\"%Y-%m\")\n",
    "merged_df['year_month_day'] = merged_df['order_purchase_timestamp'] \\\n",
    "    .dt.strftime(\"%Y-%m-%d\")\n",
    "merged_df.head()"
   ]
  },
  {
   "cell_type": "markdown",
   "id": "31313ede-7248-4af5-a7b5-b5eab4b1ae37",
   "metadata": {},
   "source": [
    "Прежде чем приступить к решению поставленной задачи, посмотрим, в каком диапазоне дат находятся имеющиеся данные, а также проверим, есть ли месяцы, в которые покупки совершались не каждый день. "
   ]
  },
  {
   "cell_type": "code",
   "execution_count": 171,
   "id": "3f687d62-6dcf-42bb-97ca-07cf44a2602e",
   "metadata": {},
   "outputs": [
    {
     "name": "stdout",
     "output_type": "stream",
     "text": [
      "Earliest date: 2016-09-15 12:16:38, latest date: 2018-08-29 15:00:37\n"
     ]
    }
   ],
   "source": [
    "print(f'Earliest date: {merged_df[\"order_purchase_timestamp\"].min()}, ' +\n",
    "      f'latest date: {merged_df[\"order_purchase_timestamp\"].max()}')"
   ]
  },
  {
   "cell_type": "markdown",
   "id": "673b9615-b0a2-4512-a63e-5412c8cc9c22",
   "metadata": {},
   "source": [
    "Видим, что в данных записи о покупках начинаются с 15 сентября 2016 года, а заканчиваются 29 июля 2018-го.\n",
    "<br>Поскольку далее мы будем считать среднее количество покупок в неделю за разные месяцы, а за сентябрь-2016 отсутствует информация о покупках 1-14 числа, отбросим этот месяц из наших построений. "
   ]
  },
  {
   "cell_type": "code",
   "execution_count": 172,
   "id": "49adf249-034f-4ed9-afca-4c2991558070",
   "metadata": {},
   "outputs": [
    {
     "data": {
      "text/plain": [
       "Timestamp('2016-10-03 09:44:50')"
      ]
     },
     "execution_count": 172,
     "metadata": {},
     "output_type": "execute_result"
    }
   ],
   "source": [
    "merged_df = merged_df.query(\"order_purchase_timestamp >= @pd.Timestamp(year=2016, month=10, day=1)\")\n",
    "# Проверим, изменился ли минимум order_purchase_timestamp\n",
    "merged_df[\"order_purchase_timestamp\"].min()"
   ]
  },
  {
   "cell_type": "markdown",
   "id": "9625cfb0-a4e2-4990-933f-07abcf725ab8",
   "metadata": {},
   "source": [
    "Теперь рассмотрим другие месяцы. Создадим DataFrame, содержащий все даты от 1 октября 2016 года до 31 июля 2018-го."
   ]
  },
  {
   "cell_type": "code",
   "execution_count": 173,
   "id": "11581dc9-b5bb-4192-9bbf-bf0e27b0a8bc",
   "metadata": {},
   "outputs": [
    {
     "data": {
      "text/html": [
       "<div>\n",
       "<style scoped>\n",
       "    .dataframe tbody tr th:only-of-type {\n",
       "        vertical-align: middle;\n",
       "    }\n",
       "\n",
       "    .dataframe tbody tr th {\n",
       "        vertical-align: top;\n",
       "    }\n",
       "\n",
       "    .dataframe thead th {\n",
       "        text-align: right;\n",
       "    }\n",
       "</style>\n",
       "<table border=\"1\" class=\"dataframe\">\n",
       "  <thead>\n",
       "    <tr style=\"text-align: right;\">\n",
       "      <th></th>\n",
       "      <th>year_month_day</th>\n",
       "    </tr>\n",
       "  </thead>\n",
       "  <tbody>\n",
       "    <tr>\n",
       "      <th>0</th>\n",
       "      <td>2016-10-01</td>\n",
       "    </tr>\n",
       "    <tr>\n",
       "      <th>1</th>\n",
       "      <td>2016-10-02</td>\n",
       "    </tr>\n",
       "    <tr>\n",
       "      <th>2</th>\n",
       "      <td>2016-10-03</td>\n",
       "    </tr>\n",
       "    <tr>\n",
       "      <th>3</th>\n",
       "      <td>2016-10-04</td>\n",
       "    </tr>\n",
       "    <tr>\n",
       "      <th>4</th>\n",
       "      <td>2016-10-05</td>\n",
       "    </tr>\n",
       "  </tbody>\n",
       "</table>\n",
       "</div>"
      ],
      "text/plain": [
       "  year_month_day\n",
       "0     2016-10-01\n",
       "1     2016-10-02\n",
       "2     2016-10-03\n",
       "3     2016-10-04\n",
       "4     2016-10-05"
      ]
     },
     "execution_count": 173,
     "metadata": {},
     "output_type": "execute_result"
    }
   ],
   "source": [
    "column_dt = pd.date_range(start='2016-10-01', end='2018-08-31', freq='D',\n",
    "                          inclusive='both')\n",
    "column_str = column_dt.strftime(\"%Y-%m-%d\")\n",
    "temp = pd.DataFrame(data={\"year_month_day\": column_str})\n",
    "temp.head()"
   ]
  },
  {
   "cell_type": "markdown",
   "id": "574e8299-9762-4591-b85a-2092f171c3e6",
   "metadata": {},
   "source": [
    "Выполним left join **temp** c **merged_df** по колонке *'year_month_day'*.\n",
    "\n",
    "Таким образом, результирующая таблица будет содержать строки с NaN во всех колонках, кроме *year_month_day* - это означает, что для текущего дня нет информации о покупках."
   ]
  },
  {
   "cell_type": "code",
   "execution_count": 174,
   "id": "40a7be62-8ed3-4991-9d91-6260e321fba4",
   "metadata": {},
   "outputs": [
    {
     "data": {
      "text/html": [
       "<div>\n",
       "<style scoped>\n",
       "    .dataframe tbody tr th:only-of-type {\n",
       "        vertical-align: middle;\n",
       "    }\n",
       "\n",
       "    .dataframe tbody tr th {\n",
       "        vertical-align: top;\n",
       "    }\n",
       "\n",
       "    .dataframe thead th {\n",
       "        text-align: right;\n",
       "    }\n",
       "</style>\n",
       "<table border=\"1\" class=\"dataframe\">\n",
       "  <thead>\n",
       "    <tr style=\"text-align: right;\">\n",
       "      <th></th>\n",
       "      <th>year_month_day</th>\n",
       "      <th>customer_unique_id</th>\n",
       "      <th>order_id</th>\n",
       "      <th>order_purchase_timestamp</th>\n",
       "      <th>year_month</th>\n",
       "    </tr>\n",
       "  </thead>\n",
       "  <tbody>\n",
       "    <tr>\n",
       "      <th>0</th>\n",
       "      <td>2016-10-01</td>\n",
       "      <td>NaN</td>\n",
       "      <td>NaN</td>\n",
       "      <td>NaT</td>\n",
       "      <td>NaN</td>\n",
       "    </tr>\n",
       "    <tr>\n",
       "      <th>1</th>\n",
       "      <td>2016-10-02</td>\n",
       "      <td>NaN</td>\n",
       "      <td>NaN</td>\n",
       "      <td>NaT</td>\n",
       "      <td>NaN</td>\n",
       "    </tr>\n",
       "    <tr>\n",
       "      <th>2</th>\n",
       "      <td>2016-10-03</td>\n",
       "      <td>87776adb449c551e74c13fc34f036105</td>\n",
       "      <td>cd3b8574c82b42fc8129f6d502690c3e</td>\n",
       "      <td>2016-10-03 22:31:31</td>\n",
       "      <td>2016-10</td>\n",
       "    </tr>\n",
       "    <tr>\n",
       "      <th>3</th>\n",
       "      <td>2016-10-03</td>\n",
       "      <td>2f64e403852e6893ae37485d5fcacdaf</td>\n",
       "      <td>be5bc2f0da14d8071e2d45451ad119d9</td>\n",
       "      <td>2016-10-03 16:56:50</td>\n",
       "      <td>2016-10</td>\n",
       "    </tr>\n",
       "    <tr>\n",
       "      <th>4</th>\n",
       "      <td>2016-10-03</td>\n",
       "      <td>10e89fd8e5c745f81bec101207ba4d7d</td>\n",
       "      <td>ef1b29b591d31d57c0d7337460dd83c9</td>\n",
       "      <td>2016-10-03 22:51:30</td>\n",
       "      <td>2016-10</td>\n",
       "    </tr>\n",
       "  </tbody>\n",
       "</table>\n",
       "</div>"
      ],
      "text/plain": [
       "  year_month_day                customer_unique_id  \\\n",
       "0     2016-10-01                               NaN   \n",
       "1     2016-10-02                               NaN   \n",
       "2     2016-10-03  87776adb449c551e74c13fc34f036105   \n",
       "3     2016-10-03  2f64e403852e6893ae37485d5fcacdaf   \n",
       "4     2016-10-03  10e89fd8e5c745f81bec101207ba4d7d   \n",
       "\n",
       "                           order_id order_purchase_timestamp year_month  \n",
       "0                               NaN                      NaT        NaN  \n",
       "1                               NaN                      NaT        NaN  \n",
       "2  cd3b8574c82b42fc8129f6d502690c3e      2016-10-03 22:31:31    2016-10  \n",
       "3  be5bc2f0da14d8071e2d45451ad119d9      2016-10-03 16:56:50    2016-10  \n",
       "4  ef1b29b591d31d57c0d7337460dd83c9      2016-10-03 22:51:30    2016-10  "
      ]
     },
     "execution_count": 174,
     "metadata": {},
     "output_type": "execute_result"
    }
   ],
   "source": [
    "extended_merged_df = pd.merge(left=temp, right=merged_df, how='left',\n",
    "                              on='year_month_day')\n",
    "extended_merged_df.head()"
   ]
  },
  {
   "cell_type": "markdown",
   "id": "a5d49de2-cec8-4377-a2d3-c4ec82300976",
   "metadata": {},
   "source": [
    "Сгруппируем таблицу **extended_merged_df** по столбцу *year_month_day* и посчитаем, сколько *order_id* отвечают тому или иному дню. \n",
    "\n",
    "*NOTE:* Функция count игнорирует NaN-значения. Видим, что за 2016-10-01 не было совершенно ни одной покупки."
   ]
  },
  {
   "cell_type": "code",
   "execution_count": 175,
   "id": "8afe3930-7081-40f9-b2e4-d5dd60ba5c96",
   "metadata": {},
   "outputs": [
    {
     "data": {
      "text/html": [
       "<div>\n",
       "<style scoped>\n",
       "    .dataframe tbody tr th:only-of-type {\n",
       "        vertical-align: middle;\n",
       "    }\n",
       "\n",
       "    .dataframe tbody tr th {\n",
       "        vertical-align: top;\n",
       "    }\n",
       "\n",
       "    .dataframe thead th {\n",
       "        text-align: right;\n",
       "    }\n",
       "</style>\n",
       "<table border=\"1\" class=\"dataframe\">\n",
       "  <thead>\n",
       "    <tr style=\"text-align: right;\">\n",
       "      <th></th>\n",
       "      <th>year_month_day</th>\n",
       "      <th>purchases</th>\n",
       "    </tr>\n",
       "  </thead>\n",
       "  <tbody>\n",
       "    <tr>\n",
       "      <th>0</th>\n",
       "      <td>2016-10-01</td>\n",
       "      <td>0</td>\n",
       "    </tr>\n",
       "    <tr>\n",
       "      <th>1</th>\n",
       "      <td>2016-10-02</td>\n",
       "      <td>0</td>\n",
       "    </tr>\n",
       "    <tr>\n",
       "      <th>2</th>\n",
       "      <td>2016-10-03</td>\n",
       "      <td>7</td>\n",
       "    </tr>\n",
       "    <tr>\n",
       "      <th>3</th>\n",
       "      <td>2016-10-04</td>\n",
       "      <td>54</td>\n",
       "    </tr>\n",
       "    <tr>\n",
       "      <th>4</th>\n",
       "      <td>2016-10-05</td>\n",
       "      <td>35</td>\n",
       "    </tr>\n",
       "  </tbody>\n",
       "</table>\n",
       "</div>"
      ],
      "text/plain": [
       "  year_month_day  purchases\n",
       "0     2016-10-01          0\n",
       "1     2016-10-02          0\n",
       "2     2016-10-03          7\n",
       "3     2016-10-04         54\n",
       "4     2016-10-05         35"
      ]
     },
     "execution_count": 175,
     "metadata": {},
     "output_type": "execute_result"
    }
   ],
   "source": [
    "date_purchases = extended_merged_df.groupby(by='year_month_day', as_index=False) \\\n",
    "    .agg({'order_id': 'count'}) \\\n",
    "    .rename(columns={'order_id':'purchases',})\n",
    "date_purchases.head()"
   ]
  },
  {
   "cell_type": "markdown",
   "id": "8212f832-600d-4860-a335-accba242ba89",
   "metadata": {},
   "source": [
    "Если за какой-то месяц набирается более 14 дней без покупок, отбросим его целиком."
   ]
  },
  {
   "cell_type": "code",
   "execution_count": 176,
   "id": "da11b35a-4024-405b-b0f1-252c9e42a547",
   "metadata": {},
   "outputs": [
    {
     "data": {
      "text/html": [
       "<div>\n",
       "<style scoped>\n",
       "    .dataframe tbody tr th:only-of-type {\n",
       "        vertical-align: middle;\n",
       "    }\n",
       "\n",
       "    .dataframe tbody tr th {\n",
       "        vertical-align: top;\n",
       "    }\n",
       "\n",
       "    .dataframe thead th {\n",
       "        text-align: right;\n",
       "    }\n",
       "</style>\n",
       "<table border=\"1\" class=\"dataframe\">\n",
       "  <thead>\n",
       "    <tr style=\"text-align: right;\">\n",
       "      <th></th>\n",
       "      <th>year_month</th>\n",
       "      <th>days_without_purchases</th>\n",
       "    </tr>\n",
       "  </thead>\n",
       "  <tbody>\n",
       "    <tr>\n",
       "      <th>0</th>\n",
       "      <td>2016-10</td>\n",
       "      <td>23</td>\n",
       "    </tr>\n",
       "    <tr>\n",
       "      <th>1</th>\n",
       "      <td>2016-11</td>\n",
       "      <td>30</td>\n",
       "    </tr>\n",
       "    <tr>\n",
       "      <th>2</th>\n",
       "      <td>2016-12</td>\n",
       "      <td>30</td>\n",
       "    </tr>\n",
       "    <tr>\n",
       "      <th>3</th>\n",
       "      <td>2017-01</td>\n",
       "      <td>4</td>\n",
       "    </tr>\n",
       "    <tr>\n",
       "      <th>4</th>\n",
       "      <td>2018-08</td>\n",
       "      <td>2</td>\n",
       "    </tr>\n",
       "  </tbody>\n",
       "</table>\n",
       "</div>"
      ],
      "text/plain": [
       "  year_month  days_without_purchases\n",
       "0    2016-10                      23\n",
       "1    2016-11                      30\n",
       "2    2016-12                      30\n",
       "3    2017-01                       4\n",
       "4    2018-08                       2"
      ]
     },
     "execution_count": 176,
     "metadata": {},
     "output_type": "execute_result"
    }
   ],
   "source": [
    "# Подсчет количества дней с нулевыми покупками за месяц\n",
    "date_purchases['year_month'] = (pd.to_datetime(date_purchases['year_month_day'])) \\\n",
    "    .dt.strftime(\"%Y-%m\")\n",
    "zero_purchases_count = date_purchases[date_purchases['purchases'] == 0] \\\n",
    "    .groupby('year_month', as_index=False) \\\n",
    "    .agg({'purchases': 'size'}) \\\n",
    "    .rename(columns={'purchases': 'days_without_purchases'})\n",
    "zero_purchases_count"
   ]
  },
  {
   "cell_type": "code",
   "execution_count": 177,
   "id": "4fc0a0c7-318d-4594-8005-57a7b0170480",
   "metadata": {},
   "outputs": [
    {
     "data": {
      "text/html": [
       "<div>\n",
       "<style scoped>\n",
       "    .dataframe tbody tr th:only-of-type {\n",
       "        vertical-align: middle;\n",
       "    }\n",
       "\n",
       "    .dataframe tbody tr th {\n",
       "        vertical-align: top;\n",
       "    }\n",
       "\n",
       "    .dataframe thead th {\n",
       "        text-align: right;\n",
       "    }\n",
       "</style>\n",
       "<table border=\"1\" class=\"dataframe\">\n",
       "  <thead>\n",
       "    <tr style=\"text-align: right;\">\n",
       "      <th></th>\n",
       "      <th>year_month</th>\n",
       "      <th>days_without_purchases</th>\n",
       "    </tr>\n",
       "  </thead>\n",
       "  <tbody>\n",
       "    <tr>\n",
       "      <th>0</th>\n",
       "      <td>2016-10</td>\n",
       "      <td>23</td>\n",
       "    </tr>\n",
       "    <tr>\n",
       "      <th>1</th>\n",
       "      <td>2016-11</td>\n",
       "      <td>30</td>\n",
       "    </tr>\n",
       "    <tr>\n",
       "      <th>2</th>\n",
       "      <td>2016-12</td>\n",
       "      <td>30</td>\n",
       "    </tr>\n",
       "  </tbody>\n",
       "</table>\n",
       "</div>"
      ],
      "text/plain": [
       "  year_month  days_without_purchases\n",
       "0    2016-10                      23\n",
       "1    2016-11                      30\n",
       "2    2016-12                      30"
      ]
     },
     "execution_count": 177,
     "metadata": {},
     "output_type": "execute_result"
    }
   ],
   "source": [
    "# Поиск месяцев с более чем 7 днями без покупок\n",
    "months_to_delete = zero_purchases_count.query(\"days_without_purchases > 14\")\n",
    "months_to_delete"
   ]
  },
  {
   "cell_type": "code",
   "execution_count": 178,
   "id": "f0117a8c-9e2a-4ef2-8848-57d67b7db2a6",
   "metadata": {},
   "outputs": [
    {
     "data": {
      "text/html": [
       "<div>\n",
       "<style scoped>\n",
       "    .dataframe tbody tr th:only-of-type {\n",
       "        vertical-align: middle;\n",
       "    }\n",
       "\n",
       "    .dataframe tbody tr th {\n",
       "        vertical-align: top;\n",
       "    }\n",
       "\n",
       "    .dataframe thead th {\n",
       "        text-align: right;\n",
       "    }\n",
       "</style>\n",
       "<table border=\"1\" class=\"dataframe\">\n",
       "  <thead>\n",
       "    <tr style=\"text-align: right;\">\n",
       "      <th></th>\n",
       "      <th>year_month_day</th>\n",
       "      <th>purchases</th>\n",
       "      <th>year_month</th>\n",
       "    </tr>\n",
       "  </thead>\n",
       "  <tbody>\n",
       "    <tr>\n",
       "      <th>92</th>\n",
       "      <td>2017-01-01</td>\n",
       "      <td>0</td>\n",
       "      <td>2017-01</td>\n",
       "    </tr>\n",
       "    <tr>\n",
       "      <th>93</th>\n",
       "      <td>2017-01-02</td>\n",
       "      <td>0</td>\n",
       "      <td>2017-01</td>\n",
       "    </tr>\n",
       "    <tr>\n",
       "      <th>94</th>\n",
       "      <td>2017-01-03</td>\n",
       "      <td>0</td>\n",
       "      <td>2017-01</td>\n",
       "    </tr>\n",
       "    <tr>\n",
       "      <th>95</th>\n",
       "      <td>2017-01-04</td>\n",
       "      <td>0</td>\n",
       "      <td>2017-01</td>\n",
       "    </tr>\n",
       "    <tr>\n",
       "      <th>96</th>\n",
       "      <td>2017-01-05</td>\n",
       "      <td>32</td>\n",
       "      <td>2017-01</td>\n",
       "    </tr>\n",
       "  </tbody>\n",
       "</table>\n",
       "</div>"
      ],
      "text/plain": [
       "   year_month_day  purchases year_month\n",
       "92     2017-01-01          0    2017-01\n",
       "93     2017-01-02          0    2017-01\n",
       "94     2017-01-03          0    2017-01\n",
       "95     2017-01-04          0    2017-01\n",
       "96     2017-01-05         32    2017-01"
      ]
     },
     "execution_count": 178,
     "metadata": {},
     "output_type": "execute_result"
    }
   ],
   "source": [
    "# Отфильтровать эти месяцы из исходного DataFrame\n",
    "# 1\n",
    "months_to_delete_list = months_to_delete['year_month'].to_list()\n",
    "date_purchases = date_purchases.query(\"year_month not in @months_to_delete_list\")\n",
    "# 2\n",
    "# date_purchase = date_purchases[~date_purchases['year_month'].isin(months_to_delete['year_month'])]\n",
    "date_purchases.head()"
   ]
  },
  {
   "cell_type": "markdown",
   "id": "96fcc375-3ede-4252-bbf4-e3f486227bef",
   "metadata": {},
   "source": [
    "**Sanity check**: пересоздадим таблицу с количеством дней без покупок в месяц."
   ]
  },
  {
   "cell_type": "code",
   "execution_count": 179,
   "id": "1ed0f5c8-e614-48e1-b8c7-55ec54202f46",
   "metadata": {},
   "outputs": [
    {
     "data": {
      "text/html": [
       "<div>\n",
       "<style scoped>\n",
       "    .dataframe tbody tr th:only-of-type {\n",
       "        vertical-align: middle;\n",
       "    }\n",
       "\n",
       "    .dataframe tbody tr th {\n",
       "        vertical-align: top;\n",
       "    }\n",
       "\n",
       "    .dataframe thead th {\n",
       "        text-align: right;\n",
       "    }\n",
       "</style>\n",
       "<table border=\"1\" class=\"dataframe\">\n",
       "  <thead>\n",
       "    <tr style=\"text-align: right;\">\n",
       "      <th></th>\n",
       "      <th>year_month</th>\n",
       "      <th>days_without_purchases</th>\n",
       "    </tr>\n",
       "  </thead>\n",
       "  <tbody>\n",
       "    <tr>\n",
       "      <th>0</th>\n",
       "      <td>2017-01</td>\n",
       "      <td>4</td>\n",
       "    </tr>\n",
       "    <tr>\n",
       "      <th>1</th>\n",
       "      <td>2018-08</td>\n",
       "      <td>2</td>\n",
       "    </tr>\n",
       "  </tbody>\n",
       "</table>\n",
       "</div>"
      ],
      "text/plain": [
       "  year_month  days_without_purchases\n",
       "0    2017-01                       4\n",
       "1    2018-08                       2"
      ]
     },
     "execution_count": 179,
     "metadata": {},
     "output_type": "execute_result"
    }
   ],
   "source": [
    "zero_purchases_count = date_purchases[date_purchases['purchases'] == 0] \\\n",
    "    .groupby('year_month', as_index=False) \\\n",
    "    .agg({'purchases': 'size'}) \\\n",
    "    .rename(columns={'purchases': 'days_without_purchases'})\n",
    "zero_purchases_count"
   ]
  },
  {
   "attachments": {},
   "cell_type": "markdown",
   "id": "efcb34c0-0470-432e-b976-569da944d22b",
   "metadata": {},
   "source": [
    "Кроме того, мы видим, что в январе 2017 и августе 2018 было некоторое количество дней, в течение которых пользователи не совершали покупки. Также исключим их из **date_purchases**."
   ]
  },
  {
   "cell_type": "code",
   "execution_count": 180,
   "id": "cdc37ab5-9d96-4ecd-905c-2a6f432fcf60",
   "metadata": {
    "scrolled": true
   },
   "outputs": [
    {
     "data": {
      "text/html": [
       "<div>\n",
       "<style scoped>\n",
       "    .dataframe tbody tr th:only-of-type {\n",
       "        vertical-align: middle;\n",
       "    }\n",
       "\n",
       "    .dataframe tbody tr th {\n",
       "        vertical-align: top;\n",
       "    }\n",
       "\n",
       "    .dataframe thead th {\n",
       "        text-align: right;\n",
       "    }\n",
       "</style>\n",
       "<table border=\"1\" class=\"dataframe\">\n",
       "  <thead>\n",
       "    <tr style=\"text-align: right;\">\n",
       "      <th></th>\n",
       "      <th>year_month_day</th>\n",
       "      <th>purchases</th>\n",
       "      <th>year_month</th>\n",
       "    </tr>\n",
       "  </thead>\n",
       "  <tbody>\n",
       "    <tr>\n",
       "      <th>693</th>\n",
       "      <td>2018-08-25</td>\n",
       "      <td>69</td>\n",
       "      <td>2018-08</td>\n",
       "    </tr>\n",
       "    <tr>\n",
       "      <th>694</th>\n",
       "      <td>2018-08-26</td>\n",
       "      <td>73</td>\n",
       "      <td>2018-08</td>\n",
       "    </tr>\n",
       "    <tr>\n",
       "      <th>695</th>\n",
       "      <td>2018-08-27</td>\n",
       "      <td>66</td>\n",
       "      <td>2018-08</td>\n",
       "    </tr>\n",
       "    <tr>\n",
       "      <th>696</th>\n",
       "      <td>2018-08-28</td>\n",
       "      <td>39</td>\n",
       "      <td>2018-08</td>\n",
       "    </tr>\n",
       "    <tr>\n",
       "      <th>697</th>\n",
       "      <td>2018-08-29</td>\n",
       "      <td>11</td>\n",
       "      <td>2018-08</td>\n",
       "    </tr>\n",
       "  </tbody>\n",
       "</table>\n",
       "</div>"
      ],
      "text/plain": [
       "    year_month_day  purchases year_month\n",
       "693     2018-08-25         69    2018-08\n",
       "694     2018-08-26         73    2018-08\n",
       "695     2018-08-27         66    2018-08\n",
       "696     2018-08-28         39    2018-08\n",
       "697     2018-08-29         11    2018-08"
      ]
     },
     "execution_count": 180,
     "metadata": {},
     "output_type": "execute_result"
    }
   ],
   "source": [
    "date_purchases = date_purchases.query(\"purchases > 0\")\n",
    "date_purchases.tail()"
   ]
  },
  {
   "cell_type": "markdown",
   "id": "fd5cc5f0-e970-4ebd-ac2f-890ae3421f42",
   "metadata": {},
   "source": [
    "**Sanity check**: пересоздадим таблицу с количеством дней без покупок в месяц."
   ]
  },
  {
   "cell_type": "code",
   "execution_count": 181,
   "id": "6b81327b-07ce-48ec-a2b2-825345575bea",
   "metadata": {},
   "outputs": [
    {
     "data": {
      "text/html": [
       "<div>\n",
       "<style scoped>\n",
       "    .dataframe tbody tr th:only-of-type {\n",
       "        vertical-align: middle;\n",
       "    }\n",
       "\n",
       "    .dataframe tbody tr th {\n",
       "        vertical-align: top;\n",
       "    }\n",
       "\n",
       "    .dataframe thead th {\n",
       "        text-align: right;\n",
       "    }\n",
       "</style>\n",
       "<table border=\"1\" class=\"dataframe\">\n",
       "  <thead>\n",
       "    <tr style=\"text-align: right;\">\n",
       "      <th></th>\n",
       "      <th>year_month</th>\n",
       "      <th>days_without_purchases</th>\n",
       "    </tr>\n",
       "  </thead>\n",
       "  <tbody>\n",
       "  </tbody>\n",
       "</table>\n",
       "</div>"
      ],
      "text/plain": [
       "Empty DataFrame\n",
       "Columns: [year_month, days_without_purchases]\n",
       "Index: []"
      ]
     },
     "execution_count": 181,
     "metadata": {},
     "output_type": "execute_result"
    }
   ],
   "source": [
    "zero_purchases_count = date_purchases[date_purchases['purchases'] == 0] \\\n",
    "    .groupby('year_month', as_index=False) \\\n",
    "    .agg({'purchases': 'size'}) \\\n",
    "    .rename(columns={'purchases': 'days_without_purchases'})\n",
    "zero_purchases_count"
   ]
  },
  {
   "cell_type": "markdown",
   "id": "15bdfd19-3cbf-462a-953a-194510ebcda9",
   "metadata": {},
   "source": [
    "Исключим из **merged_df** записи, соответствующие месяцам со слишком большим числом \"плохих\" дней."
   ]
  },
  {
   "cell_type": "code",
   "execution_count": 182,
   "id": "90beb185-397b-4d61-ae50-306c7ed4a572",
   "metadata": {},
   "outputs": [],
   "source": [
    "temp = date_purchases['year_month_day'].to_list()\n",
    "merged_df = merged_df.query(\"year_month_day in @temp\")"
   ]
  },
  {
   "cell_type": "code",
   "execution_count": 183,
   "id": "23dfb766-ac26-445f-ac62-2a1f9dd0ce06",
   "metadata": {},
   "outputs": [
    {
     "data": {
      "text/plain": [
       "'2017-01-05'"
      ]
     },
     "execution_count": 183,
     "metadata": {},
     "output_type": "execute_result"
    }
   ],
   "source": [
    "merged_df.year_month_day.min()"
   ]
  },
  {
   "cell_type": "code",
   "execution_count": 184,
   "id": "aadef973-373c-4934-81b9-025a6da4a81a",
   "metadata": {},
   "outputs": [
    {
     "data": {
      "text/plain": [
       "'2018-08-29'"
      ]
     },
     "execution_count": 184,
     "metadata": {},
     "output_type": "execute_result"
    }
   ],
   "source": [
    "merged_df.year_month_day.max()"
   ]
  },
  {
   "attachments": {},
   "cell_type": "markdown",
   "id": "a8d1927b-8d99-473e-a0a4-49742846c0b3",
   "metadata": {},
   "source": [
    "Данные успешно очищены. Перейдем к ответу на поставленный вопрос.\n",
    "\n",
    "Прежде всего, найдем число покупок, которые совершил каждый пользователь за тот или иной месяц."
   ]
  },
  {
   "cell_type": "code",
   "execution_count": 185,
   "id": "2c723cd2-4d73-4763-863c-059a07dccd88",
   "metadata": {},
   "outputs": [
    {
     "data": {
      "text/html": [
       "<div>\n",
       "<style scoped>\n",
       "    .dataframe tbody tr th:only-of-type {\n",
       "        vertical-align: middle;\n",
       "    }\n",
       "\n",
       "    .dataframe tbody tr th {\n",
       "        vertical-align: top;\n",
       "    }\n",
       "\n",
       "    .dataframe thead th {\n",
       "        text-align: right;\n",
       "    }\n",
       "</style>\n",
       "<table border=\"1\" class=\"dataframe\">\n",
       "  <thead>\n",
       "    <tr style=\"text-align: right;\">\n",
       "      <th></th>\n",
       "      <th>customer_unique_id</th>\n",
       "      <th>year_month</th>\n",
       "      <th>monthly_purchases</th>\n",
       "    </tr>\n",
       "  </thead>\n",
       "  <tbody>\n",
       "    <tr>\n",
       "      <th>7081</th>\n",
       "      <td>12f5d6e1cbf93dafd9dcc19095df0b3d</td>\n",
       "      <td>2017-01</td>\n",
       "      <td>6</td>\n",
       "    </tr>\n",
       "    <tr>\n",
       "      <th>65589</th>\n",
       "      <td>b08fab27d47a1eb6deda07bfd965ad43</td>\n",
       "      <td>2017-09</td>\n",
       "      <td>4</td>\n",
       "    </tr>\n",
       "    <tr>\n",
       "      <th>67170</th>\n",
       "      <td>b4e4f24de1e8725b74e4a1f4975116ed</td>\n",
       "      <td>2018-02</td>\n",
       "      <td>4</td>\n",
       "    </tr>\n",
       "    <tr>\n",
       "      <th>23151</th>\n",
       "      <td>3e43e6105506432c953e165fb2acf44c</td>\n",
       "      <td>2018-02</td>\n",
       "      <td>4</td>\n",
       "    </tr>\n",
       "    <tr>\n",
       "      <th>14013</th>\n",
       "      <td>25a560b9a6006157838aab1bdbd68624</td>\n",
       "      <td>2017-04</td>\n",
       "      <td>4</td>\n",
       "    </tr>\n",
       "  </tbody>\n",
       "</table>\n",
       "</div>"
      ],
      "text/plain": [
       "                     customer_unique_id year_month  monthly_purchases\n",
       "7081   12f5d6e1cbf93dafd9dcc19095df0b3d    2017-01                  6\n",
       "65589  b08fab27d47a1eb6deda07bfd965ad43    2017-09                  4\n",
       "67170  b4e4f24de1e8725b74e4a1f4975116ed    2018-02                  4\n",
       "23151  3e43e6105506432c953e165fb2acf44c    2018-02                  4\n",
       "14013  25a560b9a6006157838aab1bdbd68624    2017-04                  4"
      ]
     },
     "execution_count": 185,
     "metadata": {},
     "output_type": "execute_result"
    }
   ],
   "source": [
    "final_df = merged_df.groupby(by=[\"customer_unique_id\", \"year_month\"],\n",
    "                             as_index=False) \\\n",
    "    .agg({\"order_id\": \"count\"}) \\\n",
    "    .rename(columns={\"order_id\":\"monthly_purchases\"}) \\\n",
    "    .sort_values(by='monthly_purchases', ascending=False)\n",
    "final_df.head()"
   ]
  },
  {
   "cell_type": "markdown",
   "id": "53478a67-5e26-4a5a-a34d-387c4ae51db1",
   "metadata": {},
   "source": [
    "Каждому *year_month* поставим в соответствие значения *days_in_month* и *weeks_in_month* - число дней и недель в текущем месяце."
   ]
  },
  {
   "cell_type": "code",
   "execution_count": 186,
   "id": "df18fe29-f94a-42ef-9011-e95d3e18a743",
   "metadata": {},
   "outputs": [
    {
     "data": {
      "text/html": [
       "<div>\n",
       "<style scoped>\n",
       "    .dataframe tbody tr th:only-of-type {\n",
       "        vertical-align: middle;\n",
       "    }\n",
       "\n",
       "    .dataframe tbody tr th {\n",
       "        vertical-align: top;\n",
       "    }\n",
       "\n",
       "    .dataframe thead th {\n",
       "        text-align: right;\n",
       "    }\n",
       "</style>\n",
       "<table border=\"1\" class=\"dataframe\">\n",
       "  <thead>\n",
       "    <tr style=\"text-align: right;\">\n",
       "      <th></th>\n",
       "      <th>customer_unique_id</th>\n",
       "      <th>year_month</th>\n",
       "      <th>monthly_purchases</th>\n",
       "      <th>days_in_month</th>\n",
       "      <th>weeks_in_month</th>\n",
       "    </tr>\n",
       "  </thead>\n",
       "  <tbody>\n",
       "    <tr>\n",
       "      <th>7081</th>\n",
       "      <td>12f5d6e1cbf93dafd9dcc19095df0b3d</td>\n",
       "      <td>2017-01</td>\n",
       "      <td>6</td>\n",
       "      <td>31</td>\n",
       "      <td>4.428571</td>\n",
       "    </tr>\n",
       "    <tr>\n",
       "      <th>65589</th>\n",
       "      <td>b08fab27d47a1eb6deda07bfd965ad43</td>\n",
       "      <td>2017-09</td>\n",
       "      <td>4</td>\n",
       "      <td>30</td>\n",
       "      <td>4.285714</td>\n",
       "    </tr>\n",
       "    <tr>\n",
       "      <th>67170</th>\n",
       "      <td>b4e4f24de1e8725b74e4a1f4975116ed</td>\n",
       "      <td>2018-02</td>\n",
       "      <td>4</td>\n",
       "      <td>28</td>\n",
       "      <td>4.000000</td>\n",
       "    </tr>\n",
       "    <tr>\n",
       "      <th>23151</th>\n",
       "      <td>3e43e6105506432c953e165fb2acf44c</td>\n",
       "      <td>2018-02</td>\n",
       "      <td>4</td>\n",
       "      <td>28</td>\n",
       "      <td>4.000000</td>\n",
       "    </tr>\n",
       "    <tr>\n",
       "      <th>14013</th>\n",
       "      <td>25a560b9a6006157838aab1bdbd68624</td>\n",
       "      <td>2017-04</td>\n",
       "      <td>4</td>\n",
       "      <td>30</td>\n",
       "      <td>4.285714</td>\n",
       "    </tr>\n",
       "    <tr>\n",
       "      <th>60205</th>\n",
       "      <td>a239b8e2fbce33780f1f1912e2ee5275</td>\n",
       "      <td>2017-02</td>\n",
       "      <td>4</td>\n",
       "      <td>28</td>\n",
       "      <td>4.000000</td>\n",
       "    </tr>\n",
       "    <tr>\n",
       "      <th>74358</th>\n",
       "      <td>c8460e4251689ba205045f3ea17884a1</td>\n",
       "      <td>2018-08</td>\n",
       "      <td>4</td>\n",
       "      <td>31</td>\n",
       "      <td>4.428571</td>\n",
       "    </tr>\n",
       "    <tr>\n",
       "      <th>48986</th>\n",
       "      <td>83e7958a94bd7f74a9414d8782f87628</td>\n",
       "      <td>2017-01</td>\n",
       "      <td>4</td>\n",
       "      <td>31</td>\n",
       "      <td>4.428571</td>\n",
       "    </tr>\n",
       "    <tr>\n",
       "      <th>75676</th>\n",
       "      <td>cbd08b04b3f301152b7570da5e9c8cc4</td>\n",
       "      <td>2017-09</td>\n",
       "      <td>3</td>\n",
       "      <td>30</td>\n",
       "      <td>4.285714</td>\n",
       "    </tr>\n",
       "    <tr>\n",
       "      <th>43375</th>\n",
       "      <td>74cb1ad7e6d5674325c1f99b5ea30d82</td>\n",
       "      <td>2017-08</td>\n",
       "      <td>3</td>\n",
       "      <td>31</td>\n",
       "      <td>4.428571</td>\n",
       "    </tr>\n",
       "  </tbody>\n",
       "</table>\n",
       "</div>"
      ],
      "text/plain": [
       "                     customer_unique_id year_month  monthly_purchases  \\\n",
       "7081   12f5d6e1cbf93dafd9dcc19095df0b3d    2017-01                  6   \n",
       "65589  b08fab27d47a1eb6deda07bfd965ad43    2017-09                  4   \n",
       "67170  b4e4f24de1e8725b74e4a1f4975116ed    2018-02                  4   \n",
       "23151  3e43e6105506432c953e165fb2acf44c    2018-02                  4   \n",
       "14013  25a560b9a6006157838aab1bdbd68624    2017-04                  4   \n",
       "60205  a239b8e2fbce33780f1f1912e2ee5275    2017-02                  4   \n",
       "74358  c8460e4251689ba205045f3ea17884a1    2018-08                  4   \n",
       "48986  83e7958a94bd7f74a9414d8782f87628    2017-01                  4   \n",
       "75676  cbd08b04b3f301152b7570da5e9c8cc4    2017-09                  3   \n",
       "43375  74cb1ad7e6d5674325c1f99b5ea30d82    2017-08                  3   \n",
       "\n",
       "       days_in_month  weeks_in_month  \n",
       "7081              31        4.428571  \n",
       "65589             30        4.285714  \n",
       "67170             28        4.000000  \n",
       "23151             28        4.000000  \n",
       "14013             30        4.285714  \n",
       "60205             28        4.000000  \n",
       "74358             31        4.428571  \n",
       "48986             31        4.428571  \n",
       "75676             30        4.285714  \n",
       "43375             31        4.428571  "
      ]
     },
     "execution_count": 186,
     "metadata": {},
     "output_type": "execute_result"
    }
   ],
   "source": [
    "final_df['days_in_month'] = pd.to_datetime(final_df['year_month']).dt.daysinmonth\n",
    "final_df['weeks_in_month'] = (final_df['days_in_month'] / 7)\n",
    "final_df.head(10)"
   ]
  },
  {
   "cell_type": "markdown",
   "id": "d4887033-3c76-4c3d-a72f-c3b199b3e609",
   "metadata": {},
   "source": [
    "Чтобы найти среднее количество покупок, совершенных пользователем в определенном месяце, разделим столбец *purchases* на столбец *weeks_in_month*:"
   ]
  },
  {
   "cell_type": "code",
   "execution_count": 187,
   "id": "9598792a-5123-45f6-90af-e425c75ac6a7",
   "metadata": {},
   "outputs": [
    {
     "data": {
      "text/html": [
       "<div>\n",
       "<style scoped>\n",
       "    .dataframe tbody tr th:only-of-type {\n",
       "        vertical-align: middle;\n",
       "    }\n",
       "\n",
       "    .dataframe tbody tr th {\n",
       "        vertical-align: top;\n",
       "    }\n",
       "\n",
       "    .dataframe thead th {\n",
       "        text-align: right;\n",
       "    }\n",
       "</style>\n",
       "<table border=\"1\" class=\"dataframe\">\n",
       "  <thead>\n",
       "    <tr style=\"text-align: right;\">\n",
       "      <th></th>\n",
       "      <th>customer_unique_id</th>\n",
       "      <th>year_month</th>\n",
       "      <th>monthly_purchases</th>\n",
       "      <th>days_in_month</th>\n",
       "      <th>weeks_in_month</th>\n",
       "      <th>avg_weekly_purchases</th>\n",
       "    </tr>\n",
       "  </thead>\n",
       "  <tbody>\n",
       "    <tr>\n",
       "      <th>7081</th>\n",
       "      <td>12f5d6e1cbf93dafd9dcc19095df0b3d</td>\n",
       "      <td>2017-01</td>\n",
       "      <td>6</td>\n",
       "      <td>31</td>\n",
       "      <td>4.428571</td>\n",
       "      <td>1.354839</td>\n",
       "    </tr>\n",
       "    <tr>\n",
       "      <th>65589</th>\n",
       "      <td>b08fab27d47a1eb6deda07bfd965ad43</td>\n",
       "      <td>2017-09</td>\n",
       "      <td>4</td>\n",
       "      <td>30</td>\n",
       "      <td>4.285714</td>\n",
       "      <td>0.933333</td>\n",
       "    </tr>\n",
       "    <tr>\n",
       "      <th>67170</th>\n",
       "      <td>b4e4f24de1e8725b74e4a1f4975116ed</td>\n",
       "      <td>2018-02</td>\n",
       "      <td>4</td>\n",
       "      <td>28</td>\n",
       "      <td>4.000000</td>\n",
       "      <td>1.000000</td>\n",
       "    </tr>\n",
       "    <tr>\n",
       "      <th>23151</th>\n",
       "      <td>3e43e6105506432c953e165fb2acf44c</td>\n",
       "      <td>2018-02</td>\n",
       "      <td>4</td>\n",
       "      <td>28</td>\n",
       "      <td>4.000000</td>\n",
       "      <td>1.000000</td>\n",
       "    </tr>\n",
       "    <tr>\n",
       "      <th>14013</th>\n",
       "      <td>25a560b9a6006157838aab1bdbd68624</td>\n",
       "      <td>2017-04</td>\n",
       "      <td>4</td>\n",
       "      <td>30</td>\n",
       "      <td>4.285714</td>\n",
       "      <td>0.933333</td>\n",
       "    </tr>\n",
       "  </tbody>\n",
       "</table>\n",
       "</div>"
      ],
      "text/plain": [
       "                     customer_unique_id year_month  monthly_purchases  \\\n",
       "7081   12f5d6e1cbf93dafd9dcc19095df0b3d    2017-01                  6   \n",
       "65589  b08fab27d47a1eb6deda07bfd965ad43    2017-09                  4   \n",
       "67170  b4e4f24de1e8725b74e4a1f4975116ed    2018-02                  4   \n",
       "23151  3e43e6105506432c953e165fb2acf44c    2018-02                  4   \n",
       "14013  25a560b9a6006157838aab1bdbd68624    2017-04                  4   \n",
       "\n",
       "       days_in_month  weeks_in_month  avg_weekly_purchases  \n",
       "7081              31        4.428571              1.354839  \n",
       "65589             30        4.285714              0.933333  \n",
       "67170             28        4.000000              1.000000  \n",
       "23151             28        4.000000              1.000000  \n",
       "14013             30        4.285714              0.933333  "
      ]
     },
     "execution_count": 187,
     "metadata": {},
     "output_type": "execute_result"
    }
   ],
   "source": [
    "final_df[\"avg_weekly_purchases\"] = (\n",
    "    final_df[\"monthly_purchases\"] / final_df[\"weeks_in_month\"]\n",
    ")\n",
    "final_df.head()"
   ]
  },
  {
   "cell_type": "code",
   "execution_count": 188,
   "id": "0f4d6a4b-da15-4c75-a083-a91674f95b90",
   "metadata": {},
   "outputs": [
    {
     "data": {
      "text/html": [
       "<div>\n",
       "<style scoped>\n",
       "    .dataframe tbody tr th:only-of-type {\n",
       "        vertical-align: middle;\n",
       "    }\n",
       "\n",
       "    .dataframe tbody tr th {\n",
       "        vertical-align: top;\n",
       "    }\n",
       "\n",
       "    .dataframe thead th {\n",
       "        text-align: right;\n",
       "    }\n",
       "</style>\n",
       "<table border=\"1\" class=\"dataframe\">\n",
       "  <thead>\n",
       "    <tr style=\"text-align: right;\">\n",
       "      <th></th>\n",
       "      <th>customer_unique_id</th>\n",
       "      <th>year_month</th>\n",
       "      <th>avg_weekly_purchases</th>\n",
       "    </tr>\n",
       "  </thead>\n",
       "  <tbody>\n",
       "    <tr>\n",
       "      <th>7081</th>\n",
       "      <td>12f5d6e1cbf93dafd9dcc19095df0b3d</td>\n",
       "      <td>2017-01</td>\n",
       "      <td>1.355</td>\n",
       "    </tr>\n",
       "    <tr>\n",
       "      <th>67170</th>\n",
       "      <td>b4e4f24de1e8725b74e4a1f4975116ed</td>\n",
       "      <td>2018-02</td>\n",
       "      <td>1.000</td>\n",
       "    </tr>\n",
       "    <tr>\n",
       "      <th>23151</th>\n",
       "      <td>3e43e6105506432c953e165fb2acf44c</td>\n",
       "      <td>2018-02</td>\n",
       "      <td>1.000</td>\n",
       "    </tr>\n",
       "    <tr>\n",
       "      <th>60205</th>\n",
       "      <td>a239b8e2fbce33780f1f1912e2ee5275</td>\n",
       "      <td>2017-02</td>\n",
       "      <td>1.000</td>\n",
       "    </tr>\n",
       "    <tr>\n",
       "      <th>14013</th>\n",
       "      <td>25a560b9a6006157838aab1bdbd68624</td>\n",
       "      <td>2017-04</td>\n",
       "      <td>0.933</td>\n",
       "    </tr>\n",
       "    <tr>\n",
       "      <th>65589</th>\n",
       "      <td>b08fab27d47a1eb6deda07bfd965ad43</td>\n",
       "      <td>2017-09</td>\n",
       "      <td>0.933</td>\n",
       "    </tr>\n",
       "    <tr>\n",
       "      <th>74358</th>\n",
       "      <td>c8460e4251689ba205045f3ea17884a1</td>\n",
       "      <td>2018-08</td>\n",
       "      <td>0.903</td>\n",
       "    </tr>\n",
       "    <tr>\n",
       "      <th>48986</th>\n",
       "      <td>83e7958a94bd7f74a9414d8782f87628</td>\n",
       "      <td>2017-01</td>\n",
       "      <td>0.903</td>\n",
       "    </tr>\n",
       "    <tr>\n",
       "      <th>66389</th>\n",
       "      <td>b2bd387fdc3cf05931f0f897d607dc88</td>\n",
       "      <td>2018-02</td>\n",
       "      <td>0.750</td>\n",
       "    </tr>\n",
       "    <tr>\n",
       "      <th>78619</th>\n",
       "      <td>d3882d7abd0c66064d740d7ed04dd1ef</td>\n",
       "      <td>2018-02</td>\n",
       "      <td>0.750</td>\n",
       "    </tr>\n",
       "  </tbody>\n",
       "</table>\n",
       "</div>"
      ],
      "text/plain": [
       "                     customer_unique_id year_month  avg_weekly_purchases\n",
       "7081   12f5d6e1cbf93dafd9dcc19095df0b3d    2017-01                 1.355\n",
       "67170  b4e4f24de1e8725b74e4a1f4975116ed    2018-02                 1.000\n",
       "23151  3e43e6105506432c953e165fb2acf44c    2018-02                 1.000\n",
       "60205  a239b8e2fbce33780f1f1912e2ee5275    2017-02                 1.000\n",
       "14013  25a560b9a6006157838aab1bdbd68624    2017-04                 0.933\n",
       "65589  b08fab27d47a1eb6deda07bfd965ad43    2017-09                 0.933\n",
       "74358  c8460e4251689ba205045f3ea17884a1    2018-08                 0.903\n",
       "48986  83e7958a94bd7f74a9414d8782f87628    2017-01                 0.903\n",
       "66389  b2bd387fdc3cf05931f0f897d607dc88    2018-02                 0.750\n",
       "78619  d3882d7abd0c66064d740d7ed04dd1ef    2018-02                 0.750"
      ]
     },
     "execution_count": 188,
     "metadata": {},
     "output_type": "execute_result"
    }
   ],
   "source": [
    "final_df.sort_values(by='avg_weekly_purchases', ascending=False) \\\n",
    "    .round(3)[['customer_unique_id', 'year_month', 'avg_weekly_purchases',]] \\\n",
    "    .head(10)"
   ]
  },
  {
   "cell_type": "code",
   "execution_count": 189,
   "id": "3be8e5da-eeef-4488-a2f0-a2bc06f05905",
   "metadata": {},
   "outputs": [],
   "source": [
    "# Удаляем ненужное\n",
    "del (temp, final_df, filtered_orders_df, merged_df, months_to_delete,\n",
    "     months_to_delete_list, zero_purchases_count, extended_merged_df,\n",
    "     column_dt, column_str, date_purchases)"
   ]
  },
  {
   "cell_type": "markdown",
   "id": "4dd869db-41bc-4c12-bd44-1575b334f61e",
   "metadata": {},
   "source": [
    "## Пункт 5\n",
    "Разделить пользователей, совершивших покупки в 2017 году, на когорты по месяцам. Найти когорту с самым высоким показателем retention на 3-й месяц."
   ]
  },
  {
   "cell_type": "markdown",
   "id": "9a3d2cf5-a33f-40d5-ac08-6d99be2f1c2b",
   "metadata": {},
   "source": [
    "Мы будем работать только с успешными покупками - заказами, которые удовлетворяют следующим условиям:\n",
    "* *order_status* = 'delivered'.\n",
    "* Две из трех колонок *order_approved_at*, *order_delivered_carrier_date*, *order_delivered_customer_date* не содержат NaN.\n",
    "\n",
    "Создадим таблицу, содержащую только покупки."
   ]
  },
  {
   "cell_type": "code",
   "execution_count": 190,
   "id": "59ad60e9-e31f-44f9-a699-eac8e1ce3deb",
   "metadata": {},
   "outputs": [
    {
     "data": {
      "text/html": [
       "<div>\n",
       "<style scoped>\n",
       "    .dataframe tbody tr th:only-of-type {\n",
       "        vertical-align: middle;\n",
       "    }\n",
       "\n",
       "    .dataframe tbody tr th {\n",
       "        vertical-align: top;\n",
       "    }\n",
       "\n",
       "    .dataframe thead th {\n",
       "        text-align: right;\n",
       "    }\n",
       "</style>\n",
       "<table border=\"1\" class=\"dataframe\">\n",
       "  <thead>\n",
       "    <tr style=\"text-align: right;\">\n",
       "      <th></th>\n",
       "      <th>order_id</th>\n",
       "      <th>customer_id</th>\n",
       "      <th>order_status</th>\n",
       "      <th>order_purchase_timestamp</th>\n",
       "      <th>order_approved_at</th>\n",
       "      <th>order_delivered_carrier_date</th>\n",
       "      <th>order_delivered_customer_date</th>\n",
       "      <th>order_estimated_delivery_date</th>\n",
       "    </tr>\n",
       "  </thead>\n",
       "  <tbody>\n",
       "    <tr>\n",
       "      <th>0</th>\n",
       "      <td>e481f51cbdc54678b7cc49136f2d6af7</td>\n",
       "      <td>9ef432eb6251297304e76186b10a928d</td>\n",
       "      <td>delivered</td>\n",
       "      <td>2017-10-02 10:56:33</td>\n",
       "      <td>2017-10-02 11:07:15</td>\n",
       "      <td>2017-10-04 19:55:00</td>\n",
       "      <td>2017-10-10 21:25:13</td>\n",
       "      <td>2017-10-18 00:00:00</td>\n",
       "    </tr>\n",
       "    <tr>\n",
       "      <th>1</th>\n",
       "      <td>53cdb2fc8bc7dce0b6741e2150273451</td>\n",
       "      <td>b0830fb4747a6c6d20dea0b8c802d7ef</td>\n",
       "      <td>delivered</td>\n",
       "      <td>2018-07-24 20:41:37</td>\n",
       "      <td>2018-07-26 03:24:27</td>\n",
       "      <td>2018-07-26 14:31:00</td>\n",
       "      <td>2018-08-07 15:27:45</td>\n",
       "      <td>2018-08-13 00:00:00</td>\n",
       "    </tr>\n",
       "    <tr>\n",
       "      <th>2</th>\n",
       "      <td>47770eb9100c2d0c44946d9cf07ec65d</td>\n",
       "      <td>41ce2a54c0b03bf3443c3d931a367089</td>\n",
       "      <td>delivered</td>\n",
       "      <td>2018-08-08 08:38:49</td>\n",
       "      <td>2018-08-08 08:55:23</td>\n",
       "      <td>2018-08-08 13:50:00</td>\n",
       "      <td>2018-08-17 18:06:29</td>\n",
       "      <td>2018-09-04 00:00:00</td>\n",
       "    </tr>\n",
       "    <tr>\n",
       "      <th>3</th>\n",
       "      <td>949d5b44dbf5de918fe9c16f97b45f8a</td>\n",
       "      <td>f88197465ea7920adcdbec7375364d82</td>\n",
       "      <td>delivered</td>\n",
       "      <td>2017-11-18 19:28:06</td>\n",
       "      <td>2017-11-18 19:45:59</td>\n",
       "      <td>2017-11-22 13:39:59</td>\n",
       "      <td>2017-12-02 00:28:42</td>\n",
       "      <td>2017-12-15 00:00:00</td>\n",
       "    </tr>\n",
       "    <tr>\n",
       "      <th>4</th>\n",
       "      <td>ad21c59c0840e6cb83a9ceb5573f8159</td>\n",
       "      <td>8ab97904e6daea8866dbdbc4fb7aad2c</td>\n",
       "      <td>delivered</td>\n",
       "      <td>2018-02-13 21:18:39</td>\n",
       "      <td>2018-02-13 22:20:29</td>\n",
       "      <td>2018-02-14 19:46:34</td>\n",
       "      <td>2018-02-16 18:17:02</td>\n",
       "      <td>2018-02-26 00:00:00</td>\n",
       "    </tr>\n",
       "  </tbody>\n",
       "</table>\n",
       "</div>"
      ],
      "text/plain": [
       "                           order_id                       customer_id  \\\n",
       "0  e481f51cbdc54678b7cc49136f2d6af7  9ef432eb6251297304e76186b10a928d   \n",
       "1  53cdb2fc8bc7dce0b6741e2150273451  b0830fb4747a6c6d20dea0b8c802d7ef   \n",
       "2  47770eb9100c2d0c44946d9cf07ec65d  41ce2a54c0b03bf3443c3d931a367089   \n",
       "3  949d5b44dbf5de918fe9c16f97b45f8a  f88197465ea7920adcdbec7375364d82   \n",
       "4  ad21c59c0840e6cb83a9ceb5573f8159  8ab97904e6daea8866dbdbc4fb7aad2c   \n",
       "\n",
       "  order_status order_purchase_timestamp    order_approved_at  \\\n",
       "0    delivered      2017-10-02 10:56:33  2017-10-02 11:07:15   \n",
       "1    delivered      2018-07-24 20:41:37  2018-07-26 03:24:27   \n",
       "2    delivered      2018-08-08 08:38:49  2018-08-08 08:55:23   \n",
       "3    delivered      2017-11-18 19:28:06  2017-11-18 19:45:59   \n",
       "4    delivered      2018-02-13 21:18:39  2018-02-13 22:20:29   \n",
       "\n",
       "  order_delivered_carrier_date order_delivered_customer_date  \\\n",
       "0          2017-10-04 19:55:00           2017-10-10 21:25:13   \n",
       "1          2018-07-26 14:31:00           2018-08-07 15:27:45   \n",
       "2          2018-08-08 13:50:00           2018-08-17 18:06:29   \n",
       "3          2017-11-22 13:39:59           2017-12-02 00:28:42   \n",
       "4          2018-02-14 19:46:34           2018-02-16 18:17:02   \n",
       "\n",
       "  order_estimated_delivery_date  \n",
       "0           2017-10-18 00:00:00  \n",
       "1           2018-08-13 00:00:00  \n",
       "2           2018-09-04 00:00:00  \n",
       "3           2017-12-15 00:00:00  \n",
       "4           2018-02-26 00:00:00  "
      ]
     },
     "execution_count": 190,
     "metadata": {},
     "output_type": "execute_result"
    }
   ],
   "source": [
    "filtered_orders_df = orders_df.query(\"order_status=='delivered'\") \\\n",
    "    .dropna(axis='index', thresh=len(orders_df.columns)-1)\n",
    "filtered_orders_df.head()"
   ]
  },
  {
   "cell_type": "markdown",
   "id": "111ac4a6-6cac-45c4-b31a-57813c41c3dd",
   "metadata": {},
   "source": [
    "Объединим **filtered_orders_df** с **customers_df**, чтобы создать таблицу вида *уникальный ID пользователя* | *время создания заказа*."
   ]
  },
  {
   "cell_type": "code",
   "execution_count": 191,
   "id": "2463faf3-cae2-4adb-9e52-575a5541d6fa",
   "metadata": {},
   "outputs": [
    {
     "data": {
      "text/html": [
       "<div>\n",
       "<style scoped>\n",
       "    .dataframe tbody tr th:only-of-type {\n",
       "        vertical-align: middle;\n",
       "    }\n",
       "\n",
       "    .dataframe tbody tr th {\n",
       "        vertical-align: top;\n",
       "    }\n",
       "\n",
       "    .dataframe thead th {\n",
       "        text-align: right;\n",
       "    }\n",
       "</style>\n",
       "<table border=\"1\" class=\"dataframe\">\n",
       "  <thead>\n",
       "    <tr style=\"text-align: right;\">\n",
       "      <th></th>\n",
       "      <th>customer_unique_id</th>\n",
       "      <th>order_purchase_timestamp</th>\n",
       "    </tr>\n",
       "  </thead>\n",
       "  <tbody>\n",
       "    <tr>\n",
       "      <th>96472</th>\n",
       "      <td>6359f309b166b0196dbf7ad2ac62bb5a</td>\n",
       "      <td>2017-03-09 09:54:05</td>\n",
       "    </tr>\n",
       "    <tr>\n",
       "      <th>96473</th>\n",
       "      <td>da62f9e57a76d978d02ab5362c509660</td>\n",
       "      <td>2018-02-06 12:58:58</td>\n",
       "    </tr>\n",
       "    <tr>\n",
       "      <th>96474</th>\n",
       "      <td>737520a9aad80b3fbbdad19b66b37b30</td>\n",
       "      <td>2017-08-27 14:46:43</td>\n",
       "    </tr>\n",
       "    <tr>\n",
       "      <th>96475</th>\n",
       "      <td>5097a5312c8b157bb7be58ae360ef43c</td>\n",
       "      <td>2018-01-08 21:28:27</td>\n",
       "    </tr>\n",
       "    <tr>\n",
       "      <th>96476</th>\n",
       "      <td>60350aa974b26ff12caad89e55993bd6</td>\n",
       "      <td>2018-03-08 20:57:30</td>\n",
       "    </tr>\n",
       "  </tbody>\n",
       "</table>\n",
       "</div>"
      ],
      "text/plain": [
       "                     customer_unique_id order_purchase_timestamp\n",
       "96472  6359f309b166b0196dbf7ad2ac62bb5a      2017-03-09 09:54:05\n",
       "96473  da62f9e57a76d978d02ab5362c509660      2018-02-06 12:58:58\n",
       "96474  737520a9aad80b3fbbdad19b66b37b30      2017-08-27 14:46:43\n",
       "96475  5097a5312c8b157bb7be58ae360ef43c      2018-01-08 21:28:27\n",
       "96476  60350aa974b26ff12caad89e55993bd6      2018-03-08 20:57:30"
      ]
     },
     "execution_count": 191,
     "metadata": {},
     "output_type": "execute_result"
    }
   ],
   "source": [
    "new_df = pd.merge(\n",
    "    filtered_orders_df, customers_df, how='inner', on='customer_id'\n",
    ")[['customer_unique_id', 'order_purchase_timestamp']]\n",
    "new_df.tail()"
   ]
  },
  {
   "cell_type": "markdown",
   "id": "f0118c87-5f2f-479d-a510-6f6a04db0b62",
   "metadata": {},
   "source": [
    "Данные о дате покупки (*order_purchase_timestamp*) хранятся в строковом формате - преобразуем их в формат datetime и сохраним результат в новом столбце *purchase_timestamp*."
   ]
  },
  {
   "cell_type": "code",
   "execution_count": 192,
   "id": "b4511df4-04ad-4742-a582-a35005b62d90",
   "metadata": {},
   "outputs": [],
   "source": [
    "new_df['purchase_timestamp'] = pd.to_datetime(new_df['order_purchase_timestamp'])"
   ]
  },
  {
   "cell_type": "markdown",
   "id": "2775d945-4059-49b7-8f95-ba594b110e66",
   "metadata": {},
   "source": [
    "Создадим столбец *purchase_year_month*, куда в строковом формате внесём год - месяц совершения той или иной покупки."
   ]
  },
  {
   "cell_type": "code",
   "execution_count": 193,
   "id": "d1fef512-93e3-4cc9-a287-27c194cc576c",
   "metadata": {},
   "outputs": [
    {
     "data": {
      "text/html": [
       "<div>\n",
       "<style scoped>\n",
       "    .dataframe tbody tr th:only-of-type {\n",
       "        vertical-align: middle;\n",
       "    }\n",
       "\n",
       "    .dataframe tbody tr th {\n",
       "        vertical-align: top;\n",
       "    }\n",
       "\n",
       "    .dataframe thead th {\n",
       "        text-align: right;\n",
       "    }\n",
       "</style>\n",
       "<table border=\"1\" class=\"dataframe\">\n",
       "  <thead>\n",
       "    <tr style=\"text-align: right;\">\n",
       "      <th></th>\n",
       "      <th>customer_unique_id</th>\n",
       "      <th>purchase_timestamp</th>\n",
       "      <th>purchase_year_month</th>\n",
       "    </tr>\n",
       "  </thead>\n",
       "  <tbody>\n",
       "    <tr>\n",
       "      <th>0</th>\n",
       "      <td>7c396fd4830fd04220f754e42b4e5bff</td>\n",
       "      <td>2017-10-02 10:56:33</td>\n",
       "      <td>2017-10</td>\n",
       "    </tr>\n",
       "    <tr>\n",
       "      <th>1</th>\n",
       "      <td>af07308b275d755c9edb36a90c618231</td>\n",
       "      <td>2018-07-24 20:41:37</td>\n",
       "      <td>2018-07</td>\n",
       "    </tr>\n",
       "    <tr>\n",
       "      <th>2</th>\n",
       "      <td>3a653a41f6f9fc3d2a113cf8398680e8</td>\n",
       "      <td>2018-08-08 08:38:49</td>\n",
       "      <td>2018-08</td>\n",
       "    </tr>\n",
       "    <tr>\n",
       "      <th>3</th>\n",
       "      <td>7c142cf63193a1473d2e66489a9ae977</td>\n",
       "      <td>2017-11-18 19:28:06</td>\n",
       "      <td>2017-11</td>\n",
       "    </tr>\n",
       "    <tr>\n",
       "      <th>4</th>\n",
       "      <td>72632f0f9dd73dfee390c9b22eb56dd6</td>\n",
       "      <td>2018-02-13 21:18:39</td>\n",
       "      <td>2018-02</td>\n",
       "    </tr>\n",
       "  </tbody>\n",
       "</table>\n",
       "</div>"
      ],
      "text/plain": [
       "                 customer_unique_id  purchase_timestamp purchase_year_month\n",
       "0  7c396fd4830fd04220f754e42b4e5bff 2017-10-02 10:56:33             2017-10\n",
       "1  af07308b275d755c9edb36a90c618231 2018-07-24 20:41:37             2018-07\n",
       "2  3a653a41f6f9fc3d2a113cf8398680e8 2018-08-08 08:38:49             2018-08\n",
       "3  7c142cf63193a1473d2e66489a9ae977 2017-11-18 19:28:06             2017-11\n",
       "4  72632f0f9dd73dfee390c9b22eb56dd6 2018-02-13 21:18:39             2018-02"
      ]
     },
     "execution_count": 193,
     "metadata": {},
     "output_type": "execute_result"
    }
   ],
   "source": [
    "new_df['purchase_year_month'] = new_df['purchase_timestamp'].dt.strftime('%Y-%m')\n",
    "# Избавимся от более ненужного столбца\n",
    "new_df.drop(columns=['order_purchase_timestamp'], inplace=True)\n",
    "new_df.head()"
   ]
  },
  {
   "cell_type": "markdown",
   "id": "5ce2ed99-4027-426e-aa1a-e21f03dfcfce",
   "metadata": {},
   "source": [
    "Определим полную дату совершения первой задокументированной покупки каждого пользователя."
   ]
  },
  {
   "cell_type": "code",
   "execution_count": 194,
   "id": "0e36213a-adce-49a2-ae7d-d5568752ad8c",
   "metadata": {},
   "outputs": [
    {
     "data": {
      "text/html": [
       "<div>\n",
       "<style scoped>\n",
       "    .dataframe tbody tr th:only-of-type {\n",
       "        vertical-align: middle;\n",
       "    }\n",
       "\n",
       "    .dataframe tbody tr th {\n",
       "        vertical-align: top;\n",
       "    }\n",
       "\n",
       "    .dataframe thead th {\n",
       "        text-align: right;\n",
       "    }\n",
       "</style>\n",
       "<table border=\"1\" class=\"dataframe\">\n",
       "  <thead>\n",
       "    <tr style=\"text-align: right;\">\n",
       "      <th></th>\n",
       "      <th>customer_unique_id</th>\n",
       "      <th>first_purchase_timestamp</th>\n",
       "    </tr>\n",
       "  </thead>\n",
       "  <tbody>\n",
       "    <tr>\n",
       "      <th>0</th>\n",
       "      <td>0000366f3b9a7992bf8c76cfdf3221e2</td>\n",
       "      <td>2018-05-10 10:56:27</td>\n",
       "    </tr>\n",
       "    <tr>\n",
       "      <th>1</th>\n",
       "      <td>0000b849f77a49e4a4ce2b2a4ca5be3f</td>\n",
       "      <td>2018-05-07 11:11:27</td>\n",
       "    </tr>\n",
       "    <tr>\n",
       "      <th>2</th>\n",
       "      <td>0000f46a3911fa3c0805444483337064</td>\n",
       "      <td>2017-03-10 21:05:03</td>\n",
       "    </tr>\n",
       "    <tr>\n",
       "      <th>3</th>\n",
       "      <td>0000f6ccb0745a6a4b88665a16c9f078</td>\n",
       "      <td>2017-10-12 20:29:41</td>\n",
       "    </tr>\n",
       "    <tr>\n",
       "      <th>4</th>\n",
       "      <td>0004aac84e0df4da2b147fca70cf8255</td>\n",
       "      <td>2017-11-14 19:45:42</td>\n",
       "    </tr>\n",
       "  </tbody>\n",
       "</table>\n",
       "</div>"
      ],
      "text/plain": [
       "                 customer_unique_id first_purchase_timestamp\n",
       "0  0000366f3b9a7992bf8c76cfdf3221e2      2018-05-10 10:56:27\n",
       "1  0000b849f77a49e4a4ce2b2a4ca5be3f      2018-05-07 11:11:27\n",
       "2  0000f46a3911fa3c0805444483337064      2017-03-10 21:05:03\n",
       "3  0000f6ccb0745a6a4b88665a16c9f078      2017-10-12 20:29:41\n",
       "4  0004aac84e0df4da2b147fca70cf8255      2017-11-14 19:45:42"
      ]
     },
     "execution_count": 194,
     "metadata": {},
     "output_type": "execute_result"
    }
   ],
   "source": [
    "first_purchases = new_df.groupby('customer_unique_id', as_index=False) \\\n",
    "    .agg({'purchase_timestamp': 'min'}) \\\n",
    "    .rename(columns={'purchase_timestamp': 'first_purchase_timestamp'})\n",
    "first_purchases.head()"
   ]
  },
  {
   "cell_type": "markdown",
   "id": "2ec6ae06-74e6-4013-97ac-82099bcae58e",
   "metadata": {},
   "source": [
    "Объединим **new_df** с **first_purchases** по *customer_unique_id*. Также создадим производный столбец от *first_purchase_timestamp*, который будет содержать только год и месяц первой покупки, совершенной пользователем. "
   ]
  },
  {
   "cell_type": "code",
   "execution_count": 195,
   "id": "4dd602af-be67-4cad-b744-71235da0107c",
   "metadata": {},
   "outputs": [
    {
     "data": {
      "text/html": [
       "<div>\n",
       "<style scoped>\n",
       "    .dataframe tbody tr th:only-of-type {\n",
       "        vertical-align: middle;\n",
       "    }\n",
       "\n",
       "    .dataframe tbody tr th {\n",
       "        vertical-align: top;\n",
       "    }\n",
       "\n",
       "    .dataframe thead th {\n",
       "        text-align: right;\n",
       "    }\n",
       "</style>\n",
       "<table border=\"1\" class=\"dataframe\">\n",
       "  <thead>\n",
       "    <tr style=\"text-align: right;\">\n",
       "      <th></th>\n",
       "      <th>customer_unique_id</th>\n",
       "      <th>purchase_timestamp</th>\n",
       "      <th>purchase_year_month</th>\n",
       "      <th>first_purchase_timestamp</th>\n",
       "      <th>first_purchase_year_month</th>\n",
       "    </tr>\n",
       "  </thead>\n",
       "  <tbody>\n",
       "    <tr>\n",
       "      <th>0</th>\n",
       "      <td>7c396fd4830fd04220f754e42b4e5bff</td>\n",
       "      <td>2017-10-02 10:56:33</td>\n",
       "      <td>2017-10</td>\n",
       "      <td>2017-09-04 11:26:38</td>\n",
       "      <td>2017-09</td>\n",
       "    </tr>\n",
       "    <tr>\n",
       "      <th>1</th>\n",
       "      <td>af07308b275d755c9edb36a90c618231</td>\n",
       "      <td>2018-07-24 20:41:37</td>\n",
       "      <td>2018-07</td>\n",
       "      <td>2018-07-24 20:41:37</td>\n",
       "      <td>2018-07</td>\n",
       "    </tr>\n",
       "    <tr>\n",
       "      <th>2</th>\n",
       "      <td>3a653a41f6f9fc3d2a113cf8398680e8</td>\n",
       "      <td>2018-08-08 08:38:49</td>\n",
       "      <td>2018-08</td>\n",
       "      <td>2018-08-08 08:38:49</td>\n",
       "      <td>2018-08</td>\n",
       "    </tr>\n",
       "    <tr>\n",
       "      <th>3</th>\n",
       "      <td>7c142cf63193a1473d2e66489a9ae977</td>\n",
       "      <td>2017-11-18 19:28:06</td>\n",
       "      <td>2017-11</td>\n",
       "      <td>2017-11-18 19:28:06</td>\n",
       "      <td>2017-11</td>\n",
       "    </tr>\n",
       "    <tr>\n",
       "      <th>4</th>\n",
       "      <td>72632f0f9dd73dfee390c9b22eb56dd6</td>\n",
       "      <td>2018-02-13 21:18:39</td>\n",
       "      <td>2018-02</td>\n",
       "      <td>2018-02-13 21:18:39</td>\n",
       "      <td>2018-02</td>\n",
       "    </tr>\n",
       "  </tbody>\n",
       "</table>\n",
       "</div>"
      ],
      "text/plain": [
       "                 customer_unique_id  purchase_timestamp purchase_year_month  \\\n",
       "0  7c396fd4830fd04220f754e42b4e5bff 2017-10-02 10:56:33             2017-10   \n",
       "1  af07308b275d755c9edb36a90c618231 2018-07-24 20:41:37             2018-07   \n",
       "2  3a653a41f6f9fc3d2a113cf8398680e8 2018-08-08 08:38:49             2018-08   \n",
       "3  7c142cf63193a1473d2e66489a9ae977 2017-11-18 19:28:06             2017-11   \n",
       "4  72632f0f9dd73dfee390c9b22eb56dd6 2018-02-13 21:18:39             2018-02   \n",
       "\n",
       "  first_purchase_timestamp first_purchase_year_month  \n",
       "0      2017-09-04 11:26:38                   2017-09  \n",
       "1      2018-07-24 20:41:37                   2018-07  \n",
       "2      2018-08-08 08:38:49                   2018-08  \n",
       "3      2017-11-18 19:28:06                   2017-11  \n",
       "4      2018-02-13 21:18:39                   2018-02  "
      ]
     },
     "execution_count": 195,
     "metadata": {},
     "output_type": "execute_result"
    }
   ],
   "source": [
    "new_df = pd.merge(new_df, first_purchases, how='left', on='customer_unique_id')\n",
    "new_df['first_purchase_year_month'] = new_df['first_purchase_timestamp'].dt \\\n",
    "    .strftime('%Y-%m')\n",
    "new_df.head()"
   ]
  },
  {
   "cell_type": "markdown",
   "id": "63d9d299-ac3a-4411-9f0d-5f89829c8cb6",
   "metadata": {},
   "source": [
    "Можно видеть, что некоторые пользователи делали покупки с разницей в минуты и секунды."
   ]
  },
  {
   "cell_type": "code",
   "execution_count": 196,
   "id": "83be21ea-e763-4e0c-869a-4f8c3e54588b",
   "metadata": {},
   "outputs": [
    {
     "data": {
      "text/html": [
       "<div>\n",
       "<style scoped>\n",
       "    .dataframe tbody tr th:only-of-type {\n",
       "        vertical-align: middle;\n",
       "    }\n",
       "\n",
       "    .dataframe tbody tr th {\n",
       "        vertical-align: top;\n",
       "    }\n",
       "\n",
       "    .dataframe thead th {\n",
       "        text-align: right;\n",
       "    }\n",
       "</style>\n",
       "<table border=\"1\" class=\"dataframe\">\n",
       "  <thead>\n",
       "    <tr style=\"text-align: right;\">\n",
       "      <th></th>\n",
       "      <th>customer_unique_id</th>\n",
       "      <th>purchase_timestamp</th>\n",
       "      <th>first_purchase_timestamp</th>\n",
       "    </tr>\n",
       "  </thead>\n",
       "  <tbody>\n",
       "    <tr>\n",
       "      <th>79976</th>\n",
       "      <td>12f5d6e1cbf93dafd9dcc19095df0b3d</td>\n",
       "      <td>2017-01-05 14:18:03</td>\n",
       "      <td>2017-01-05 14:18:03</td>\n",
       "    </tr>\n",
       "    <tr>\n",
       "      <th>4581</th>\n",
       "      <td>12f5d6e1cbf93dafd9dcc19095df0b3d</td>\n",
       "      <td>2017-01-05 14:22:02</td>\n",
       "      <td>2017-01-05 14:18:03</td>\n",
       "    </tr>\n",
       "    <tr>\n",
       "      <th>79053</th>\n",
       "      <td>12f5d6e1cbf93dafd9dcc19095df0b3d</td>\n",
       "      <td>2017-01-05 14:23:54</td>\n",
       "      <td>2017-01-05 14:18:03</td>\n",
       "    </tr>\n",
       "    <tr>\n",
       "      <th>34750</th>\n",
       "      <td>12f5d6e1cbf93dafd9dcc19095df0b3d</td>\n",
       "      <td>2017-01-05 14:50:54</td>\n",
       "      <td>2017-01-05 14:18:03</td>\n",
       "    </tr>\n",
       "    <tr>\n",
       "      <th>27198</th>\n",
       "      <td>12f5d6e1cbf93dafd9dcc19095df0b3d</td>\n",
       "      <td>2017-01-05 15:25:04</td>\n",
       "      <td>2017-01-05 14:18:03</td>\n",
       "    </tr>\n",
       "    <tr>\n",
       "      <th>909</th>\n",
       "      <td>12f5d6e1cbf93dafd9dcc19095df0b3d</td>\n",
       "      <td>2017-01-05 15:25:10</td>\n",
       "      <td>2017-01-05 14:18:03</td>\n",
       "    </tr>\n",
       "  </tbody>\n",
       "</table>\n",
       "</div>"
      ],
      "text/plain": [
       "                     customer_unique_id  purchase_timestamp  \\\n",
       "79976  12f5d6e1cbf93dafd9dcc19095df0b3d 2017-01-05 14:18:03   \n",
       "4581   12f5d6e1cbf93dafd9dcc19095df0b3d 2017-01-05 14:22:02   \n",
       "79053  12f5d6e1cbf93dafd9dcc19095df0b3d 2017-01-05 14:23:54   \n",
       "34750  12f5d6e1cbf93dafd9dcc19095df0b3d 2017-01-05 14:50:54   \n",
       "27198  12f5d6e1cbf93dafd9dcc19095df0b3d 2017-01-05 15:25:04   \n",
       "909    12f5d6e1cbf93dafd9dcc19095df0b3d 2017-01-05 15:25:10   \n",
       "\n",
       "      first_purchase_timestamp  \n",
       "79976      2017-01-05 14:18:03  \n",
       "4581       2017-01-05 14:18:03  \n",
       "79053      2017-01-05 14:18:03  \n",
       "34750      2017-01-05 14:18:03  \n",
       "27198      2017-01-05 14:18:03  \n",
       "909        2017-01-05 14:18:03  "
      ]
     },
     "execution_count": 196,
     "metadata": {},
     "output_type": "execute_result"
    }
   ],
   "source": [
    "new_df.query(\"customer_unique_id=='12f5d6e1cbf93dafd9dcc19095df0b3d'\") \\\n",
    "    [['customer_unique_id', 'purchase_timestamp', 'first_purchase_timestamp']] \\\n",
    "    .sort_values(by='purchase_timestamp')"
   ]
  },
  {
   "attachments": {},
   "cell_type": "markdown",
   "id": "6970a6ed-77dd-4c08-827b-d3630a10bce5",
   "metadata": {},
   "source": [
    "Для построения когорт по месяцам нам нужно знать, совершил ли тот или иной пользователь хотя бы одну покупку за текущий месяц; но при этом общее количество этих покупок нас совершенно не интересует. Поэтому при агрегировании мы будем использовать метод nunique().\n",
    "\n",
    "Итак, определим пользовательские когорты и найдём их изменения по месяцам."
   ]
  },
  {
   "cell_type": "code",
   "execution_count": 197,
   "id": "f94a5ec6-472a-467c-8622-0f7900c277cb",
   "metadata": {},
   "outputs": [
    {
     "data": {
      "text/html": [
       "<div>\n",
       "<style scoped>\n",
       "    .dataframe tbody tr th:only-of-type {\n",
       "        vertical-align: middle;\n",
       "    }\n",
       "\n",
       "    .dataframe tbody tr th {\n",
       "        vertical-align: top;\n",
       "    }\n",
       "\n",
       "    .dataframe thead th {\n",
       "        text-align: right;\n",
       "    }\n",
       "</style>\n",
       "<table border=\"1\" class=\"dataframe\">\n",
       "  <thead>\n",
       "    <tr style=\"text-align: right;\">\n",
       "      <th></th>\n",
       "      <th>first_purchase_year_month</th>\n",
       "      <th>purchase_year_month</th>\n",
       "      <th>current_N</th>\n",
       "    </tr>\n",
       "  </thead>\n",
       "  <tbody>\n",
       "    <tr>\n",
       "      <th>0</th>\n",
       "      <td>2016-09</td>\n",
       "      <td>2016-09</td>\n",
       "      <td>1</td>\n",
       "    </tr>\n",
       "    <tr>\n",
       "      <th>1</th>\n",
       "      <td>2016-10</td>\n",
       "      <td>2016-10</td>\n",
       "      <td>262</td>\n",
       "    </tr>\n",
       "    <tr>\n",
       "      <th>2</th>\n",
       "      <td>2016-10</td>\n",
       "      <td>2017-04</td>\n",
       "      <td>1</td>\n",
       "    </tr>\n",
       "    <tr>\n",
       "      <th>3</th>\n",
       "      <td>2016-10</td>\n",
       "      <td>2017-07</td>\n",
       "      <td>1</td>\n",
       "    </tr>\n",
       "    <tr>\n",
       "      <th>4</th>\n",
       "      <td>2016-10</td>\n",
       "      <td>2017-09</td>\n",
       "      <td>1</td>\n",
       "    </tr>\n",
       "  </tbody>\n",
       "</table>\n",
       "</div>"
      ],
      "text/plain": [
       "  first_purchase_year_month purchase_year_month  current_N\n",
       "0                   2016-09             2016-09          1\n",
       "1                   2016-10             2016-10        262\n",
       "2                   2016-10             2017-04          1\n",
       "3                   2016-10             2017-07          1\n",
       "4                   2016-10             2017-09          1"
      ]
     },
     "execution_count": 197,
     "metadata": {},
     "output_type": "execute_result"
    }
   ],
   "source": [
    "temp_1 = new_df.groupby(as_index=False, by=['first_purchase_year_month',\n",
    "                                            'purchase_year_month']) \\\n",
    "    .agg({'customer_unique_id': 'nunique'}) \\\n",
    "    .rename(columns={\"customer_unique_id\": \"current_N\"})\n",
    "temp_1.head()"
   ]
  },
  {
   "cell_type": "markdown",
   "id": "fd0fa8d6-69c9-4e5e-bca9-d679644cdd37",
   "metadata": {},
   "source": [
    "Сколько пользователей изначально было в каждой когорте?"
   ]
  },
  {
   "cell_type": "code",
   "execution_count": 198,
   "id": "2b827509-9dd5-414d-a92f-60608266d0b8",
   "metadata": {
    "scrolled": true
   },
   "outputs": [
    {
     "data": {
      "text/html": [
       "<div>\n",
       "<style scoped>\n",
       "    .dataframe tbody tr th:only-of-type {\n",
       "        vertical-align: middle;\n",
       "    }\n",
       "\n",
       "    .dataframe tbody tr th {\n",
       "        vertical-align: top;\n",
       "    }\n",
       "\n",
       "    .dataframe thead th {\n",
       "        text-align: right;\n",
       "    }\n",
       "</style>\n",
       "<table border=\"1\" class=\"dataframe\">\n",
       "  <thead>\n",
       "    <tr style=\"text-align: right;\">\n",
       "      <th></th>\n",
       "      <th>first_purchase_year_month</th>\n",
       "      <th>initial_N</th>\n",
       "    </tr>\n",
       "  </thead>\n",
       "  <tbody>\n",
       "    <tr>\n",
       "      <th>0</th>\n",
       "      <td>2016-09</td>\n",
       "      <td>1</td>\n",
       "    </tr>\n",
       "    <tr>\n",
       "      <th>1</th>\n",
       "      <td>2016-10</td>\n",
       "      <td>262</td>\n",
       "    </tr>\n",
       "    <tr>\n",
       "      <th>2</th>\n",
       "      <td>2016-12</td>\n",
       "      <td>1</td>\n",
       "    </tr>\n",
       "    <tr>\n",
       "      <th>3</th>\n",
       "      <td>2017-01</td>\n",
       "      <td>717</td>\n",
       "    </tr>\n",
       "    <tr>\n",
       "      <th>4</th>\n",
       "      <td>2017-02</td>\n",
       "      <td>1628</td>\n",
       "    </tr>\n",
       "    <tr>\n",
       "      <th>5</th>\n",
       "      <td>2017-03</td>\n",
       "      <td>2503</td>\n",
       "    </tr>\n",
       "    <tr>\n",
       "      <th>6</th>\n",
       "      <td>2017-04</td>\n",
       "      <td>2256</td>\n",
       "    </tr>\n",
       "    <tr>\n",
       "      <th>7</th>\n",
       "      <td>2017-05</td>\n",
       "      <td>3450</td>\n",
       "    </tr>\n",
       "    <tr>\n",
       "      <th>8</th>\n",
       "      <td>2017-06</td>\n",
       "      <td>3037</td>\n",
       "    </tr>\n",
       "    <tr>\n",
       "      <th>9</th>\n",
       "      <td>2017-07</td>\n",
       "      <td>3752</td>\n",
       "    </tr>\n",
       "    <tr>\n",
       "      <th>10</th>\n",
       "      <td>2017-08</td>\n",
       "      <td>4057</td>\n",
       "    </tr>\n",
       "    <tr>\n",
       "      <th>11</th>\n",
       "      <td>2017-09</td>\n",
       "      <td>4004</td>\n",
       "    </tr>\n",
       "    <tr>\n",
       "      <th>12</th>\n",
       "      <td>2017-10</td>\n",
       "      <td>4328</td>\n",
       "    </tr>\n",
       "    <tr>\n",
       "      <th>13</th>\n",
       "      <td>2017-11</td>\n",
       "      <td>7060</td>\n",
       "    </tr>\n",
       "    <tr>\n",
       "      <th>14</th>\n",
       "      <td>2017-12</td>\n",
       "      <td>5338</td>\n",
       "    </tr>\n",
       "    <tr>\n",
       "      <th>15</th>\n",
       "      <td>2018-01</td>\n",
       "      <td>6842</td>\n",
       "    </tr>\n",
       "    <tr>\n",
       "      <th>16</th>\n",
       "      <td>2018-02</td>\n",
       "      <td>6288</td>\n",
       "    </tr>\n",
       "    <tr>\n",
       "      <th>17</th>\n",
       "      <td>2018-03</td>\n",
       "      <td>6774</td>\n",
       "    </tr>\n",
       "    <tr>\n",
       "      <th>18</th>\n",
       "      <td>2018-04</td>\n",
       "      <td>6582</td>\n",
       "    </tr>\n",
       "    <tr>\n",
       "      <th>19</th>\n",
       "      <td>2018-05</td>\n",
       "      <td>6506</td>\n",
       "    </tr>\n",
       "    <tr>\n",
       "      <th>20</th>\n",
       "      <td>2018-06</td>\n",
       "      <td>5878</td>\n",
       "    </tr>\n",
       "    <tr>\n",
       "      <th>21</th>\n",
       "      <td>2018-07</td>\n",
       "      <td>5949</td>\n",
       "    </tr>\n",
       "    <tr>\n",
       "      <th>22</th>\n",
       "      <td>2018-08</td>\n",
       "      <td>6144</td>\n",
       "    </tr>\n",
       "  </tbody>\n",
       "</table>\n",
       "</div>"
      ],
      "text/plain": [
       "   first_purchase_year_month  initial_N\n",
       "0                    2016-09          1\n",
       "1                    2016-10        262\n",
       "2                    2016-12          1\n",
       "3                    2017-01        717\n",
       "4                    2017-02       1628\n",
       "5                    2017-03       2503\n",
       "6                    2017-04       2256\n",
       "7                    2017-05       3450\n",
       "8                    2017-06       3037\n",
       "9                    2017-07       3752\n",
       "10                   2017-08       4057\n",
       "11                   2017-09       4004\n",
       "12                   2017-10       4328\n",
       "13                   2017-11       7060\n",
       "14                   2017-12       5338\n",
       "15                   2018-01       6842\n",
       "16                   2018-02       6288\n",
       "17                   2018-03       6774\n",
       "18                   2018-04       6582\n",
       "19                   2018-05       6506\n",
       "20                   2018-06       5878\n",
       "21                   2018-07       5949\n",
       "22                   2018-08       6144"
      ]
     },
     "execution_count": 198,
     "metadata": {},
     "output_type": "execute_result"
    }
   ],
   "source": [
    "temp_2 = temp_1.groupby(as_index=False, by='first_purchase_year_month') \\\n",
    "    .agg({'current_N': 'max'}) \\\n",
    "    .rename(columns={'current_N': 'initial_N'})\n",
    "temp_2"
   ]
  },
  {
   "cell_type": "markdown",
   "id": "a7859bc1-64f1-40c9-9e19-4e0a29288ae3",
   "metadata": {},
   "source": [
    "Сведём **temp_1** и **temp_2** в одну таблицу.\n",
    "**NOTE**: Будет выполнен join типа \"many-to-one\"."
   ]
  },
  {
   "cell_type": "code",
   "execution_count": 199,
   "id": "3d94cb23-e557-4fc1-86ff-8c4547df5f6c",
   "metadata": {
    "scrolled": true
   },
   "outputs": [
    {
     "data": {
      "text/html": [
       "<div>\n",
       "<style scoped>\n",
       "    .dataframe tbody tr th:only-of-type {\n",
       "        vertical-align: middle;\n",
       "    }\n",
       "\n",
       "    .dataframe tbody tr th {\n",
       "        vertical-align: top;\n",
       "    }\n",
       "\n",
       "    .dataframe thead th {\n",
       "        text-align: right;\n",
       "    }\n",
       "</style>\n",
       "<table border=\"1\" class=\"dataframe\">\n",
       "  <thead>\n",
       "    <tr style=\"text-align: right;\">\n",
       "      <th></th>\n",
       "      <th>first_purchase_year_month</th>\n",
       "      <th>purchase_year_month</th>\n",
       "      <th>current_N</th>\n",
       "      <th>initial_N</th>\n",
       "    </tr>\n",
       "  </thead>\n",
       "  <tbody>\n",
       "    <tr>\n",
       "      <th>0</th>\n",
       "      <td>2016-09</td>\n",
       "      <td>2016-09</td>\n",
       "      <td>1</td>\n",
       "      <td>1</td>\n",
       "    </tr>\n",
       "    <tr>\n",
       "      <th>1</th>\n",
       "      <td>2016-10</td>\n",
       "      <td>2016-10</td>\n",
       "      <td>262</td>\n",
       "      <td>262</td>\n",
       "    </tr>\n",
       "    <tr>\n",
       "      <th>2</th>\n",
       "      <td>2016-10</td>\n",
       "      <td>2017-04</td>\n",
       "      <td>1</td>\n",
       "      <td>262</td>\n",
       "    </tr>\n",
       "    <tr>\n",
       "      <th>3</th>\n",
       "      <td>2016-10</td>\n",
       "      <td>2017-07</td>\n",
       "      <td>1</td>\n",
       "      <td>262</td>\n",
       "    </tr>\n",
       "    <tr>\n",
       "      <th>4</th>\n",
       "      <td>2016-10</td>\n",
       "      <td>2017-09</td>\n",
       "      <td>1</td>\n",
       "      <td>262</td>\n",
       "    </tr>\n",
       "    <tr>\n",
       "      <th>5</th>\n",
       "      <td>2016-10</td>\n",
       "      <td>2017-11</td>\n",
       "      <td>1</td>\n",
       "      <td>262</td>\n",
       "    </tr>\n",
       "    <tr>\n",
       "      <th>6</th>\n",
       "      <td>2016-10</td>\n",
       "      <td>2018-01</td>\n",
       "      <td>1</td>\n",
       "      <td>262</td>\n",
       "    </tr>\n",
       "    <tr>\n",
       "      <th>7</th>\n",
       "      <td>2016-10</td>\n",
       "      <td>2018-03</td>\n",
       "      <td>1</td>\n",
       "      <td>262</td>\n",
       "    </tr>\n",
       "    <tr>\n",
       "      <th>8</th>\n",
       "      <td>2016-10</td>\n",
       "      <td>2018-05</td>\n",
       "      <td>2</td>\n",
       "      <td>262</td>\n",
       "    </tr>\n",
       "    <tr>\n",
       "      <th>9</th>\n",
       "      <td>2016-10</td>\n",
       "      <td>2018-06</td>\n",
       "      <td>2</td>\n",
       "      <td>262</td>\n",
       "    </tr>\n",
       "  </tbody>\n",
       "</table>\n",
       "</div>"
      ],
      "text/plain": [
       "  first_purchase_year_month purchase_year_month  current_N  initial_N\n",
       "0                   2016-09             2016-09          1          1\n",
       "1                   2016-10             2016-10        262        262\n",
       "2                   2016-10             2017-04          1        262\n",
       "3                   2016-10             2017-07          1        262\n",
       "4                   2016-10             2017-09          1        262\n",
       "5                   2016-10             2017-11          1        262\n",
       "6                   2016-10             2018-01          1        262\n",
       "7                   2016-10             2018-03          1        262\n",
       "8                   2016-10             2018-05          2        262\n",
       "9                   2016-10             2018-06          2        262"
      ]
     },
     "execution_count": 199,
     "metadata": {},
     "output_type": "execute_result"
    }
   ],
   "source": [
    "cohorts_df = pd.merge(temp_1, temp_2, how='left', on='first_purchase_year_month')\n",
    "cohorts_df.head(10)"
   ]
  },
  {
   "attachments": {},
   "cell_type": "markdown",
   "id": "7f169be3-907c-4e0a-a3d9-bd29c3fd450e",
   "metadata": {},
   "source": [
    "В таблице **cohorts_df** создадим столбец *cohort_period*, который будет содержать дельту между *purchase_year_month* и *first_purchase_year_month*. То есть, для каждой когорты в этом столбце запишем сколько месяцев прошло с первой документально подтвержденной покупки до текущего момента. \n",
    "\n",
    "Расчет такого столбца чисто технически является не самой тривиальной задачей. Так, если когорта образована в январе 2016 года, а последняя покупка совершена в январе 2018-го, то абсолютно некорректно будет выделить из значения *purchase_year_month* месяц и вычесть из него месяц соответствующего значения *first_purchase_year_month* - мы ожидаем получить на выходе 24 месяца, а не 0.\r\n",
    "\r\n",
    "Поэтому для получения корректных результатов выполним следующие действия* \n",
    "•\tПредставим, что в *purchase_year_month* и *first_purchase_year_month* записаны только года, найдём разницу между ними и умножим на 1* \r\n",
    "•\tПредставим, что в *purchase_year_month* и *first_purchase_year_month* записаны только месяцы и найдём разницу между ни* .\r\n",
    "•\tВыполним сложение полученных в первых двух пунктов значний.\r\n"
   ]
  },
  {
   "cell_type": "code",
   "execution_count": 200,
   "id": "2864a889-32e8-469c-b8ab-94f11b82a8e7",
   "metadata": {
    "scrolled": true
   },
   "outputs": [],
   "source": [
    "years = 12*(pd.to_datetime(cohorts_df[\"purchase_year_month\"]).dt.year\n",
    "            - pd.to_datetime(cohorts_df[\"first_purchase_year_month\"]).dt.year) \\\n",
    "    .abs()  # на всякий случай\n",
    "# years.head(10)"
   ]
  },
  {
   "cell_type": "code",
   "execution_count": 201,
   "id": "5476deea-bc14-4a2e-bfc8-03324a34fec1",
   "metadata": {
    "scrolled": true
   },
   "outputs": [],
   "source": [
    "months = (pd.to_datetime(cohorts_df[\"purchase_year_month\"]).dt.month\n",
    "          - pd.to_datetime(cohorts_df[\"first_purchase_year_month\"]).dt.month) \n",
    "# months.head(10)"
   ]
  },
  {
   "cell_type": "code",
   "execution_count": 202,
   "id": "ee37827a-5101-4469-865b-58d618dca4d3",
   "metadata": {},
   "outputs": [
    {
     "data": {
      "text/html": [
       "<div>\n",
       "<style scoped>\n",
       "    .dataframe tbody tr th:only-of-type {\n",
       "        vertical-align: middle;\n",
       "    }\n",
       "\n",
       "    .dataframe tbody tr th {\n",
       "        vertical-align: top;\n",
       "    }\n",
       "\n",
       "    .dataframe thead th {\n",
       "        text-align: right;\n",
       "    }\n",
       "</style>\n",
       "<table border=\"1\" class=\"dataframe\">\n",
       "  <thead>\n",
       "    <tr style=\"text-align: right;\">\n",
       "      <th></th>\n",
       "      <th>first_purchase_year_month</th>\n",
       "      <th>purchase_year_month</th>\n",
       "      <th>current_N</th>\n",
       "      <th>initial_N</th>\n",
       "      <th>period</th>\n",
       "    </tr>\n",
       "  </thead>\n",
       "  <tbody>\n",
       "    <tr>\n",
       "      <th>15</th>\n",
       "      <td>2017-01</td>\n",
       "      <td>2017-04</td>\n",
       "      <td>1</td>\n",
       "      <td>717</td>\n",
       "      <td>3</td>\n",
       "    </tr>\n",
       "    <tr>\n",
       "      <th>16</th>\n",
       "      <td>2017-01</td>\n",
       "      <td>2017-05</td>\n",
       "      <td>3</td>\n",
       "      <td>717</td>\n",
       "      <td>4</td>\n",
       "    </tr>\n",
       "    <tr>\n",
       "      <th>17</th>\n",
       "      <td>2017-01</td>\n",
       "      <td>2017-06</td>\n",
       "      <td>1</td>\n",
       "      <td>717</td>\n",
       "      <td>5</td>\n",
       "    </tr>\n",
       "    <tr>\n",
       "      <th>18</th>\n",
       "      <td>2017-01</td>\n",
       "      <td>2017-07</td>\n",
       "      <td>3</td>\n",
       "      <td>717</td>\n",
       "      <td>6</td>\n",
       "    </tr>\n",
       "    <tr>\n",
       "      <th>19</th>\n",
       "      <td>2017-01</td>\n",
       "      <td>2017-08</td>\n",
       "      <td>1</td>\n",
       "      <td>717</td>\n",
       "      <td>7</td>\n",
       "    </tr>\n",
       "    <tr>\n",
       "      <th>20</th>\n",
       "      <td>2017-01</td>\n",
       "      <td>2017-09</td>\n",
       "      <td>1</td>\n",
       "      <td>717</td>\n",
       "      <td>8</td>\n",
       "    </tr>\n",
       "    <tr>\n",
       "      <th>21</th>\n",
       "      <td>2017-01</td>\n",
       "      <td>2017-11</td>\n",
       "      <td>3</td>\n",
       "      <td>717</td>\n",
       "      <td>10</td>\n",
       "    </tr>\n",
       "    <tr>\n",
       "      <th>22</th>\n",
       "      <td>2017-01</td>\n",
       "      <td>2017-12</td>\n",
       "      <td>1</td>\n",
       "      <td>717</td>\n",
       "      <td>11</td>\n",
       "    </tr>\n",
       "    <tr>\n",
       "      <th>23</th>\n",
       "      <td>2017-01</td>\n",
       "      <td>2018-01</td>\n",
       "      <td>5</td>\n",
       "      <td>717</td>\n",
       "      <td>12</td>\n",
       "    </tr>\n",
       "    <tr>\n",
       "      <th>24</th>\n",
       "      <td>2017-01</td>\n",
       "      <td>2018-02</td>\n",
       "      <td>3</td>\n",
       "      <td>717</td>\n",
       "      <td>13</td>\n",
       "    </tr>\n",
       "    <tr>\n",
       "      <th>25</th>\n",
       "      <td>2017-01</td>\n",
       "      <td>2018-03</td>\n",
       "      <td>1</td>\n",
       "      <td>717</td>\n",
       "      <td>14</td>\n",
       "    </tr>\n",
       "  </tbody>\n",
       "</table>\n",
       "</div>"
      ],
      "text/plain": [
       "   first_purchase_year_month purchase_year_month  current_N  initial_N  period\n",
       "15                   2017-01             2017-04          1        717       3\n",
       "16                   2017-01             2017-05          3        717       4\n",
       "17                   2017-01             2017-06          1        717       5\n",
       "18                   2017-01             2017-07          3        717       6\n",
       "19                   2017-01             2017-08          1        717       7\n",
       "20                   2017-01             2017-09          1        717       8\n",
       "21                   2017-01             2017-11          3        717      10\n",
       "22                   2017-01             2017-12          1        717      11\n",
       "23                   2017-01             2018-01          5        717      12\n",
       "24                   2017-01             2018-02          3        717      13\n",
       "25                   2017-01             2018-03          1        717      14"
      ]
     },
     "execution_count": 202,
     "metadata": {},
     "output_type": "execute_result"
    }
   ],
   "source": [
    "cohorts_df['period'] = years + months\n",
    "cohorts_df.iloc[15:26]"
   ]
  },
  {
   "attachments": {},
   "cell_type": "markdown",
   "id": "c90e400d-a694-4188-8705-a7bca9897419",
   "metadata": {},
   "source": [
    "Поскольку мы хотим выполнить анализ когорт только за 2017 год, проговорим, что код из нескольких ячеек выше не являлся необходимым для решения поставленной задачи, но представляет интерес с точки зрения проработки проблемы, встречающихся в реальных данных, и исключим из **cohorts_df** когорты, не относящиеся к нему / выходящие за него."
   ]
  },
  {
   "cell_type": "code",
   "execution_count": 203,
   "id": "3dd68766-7d69-4fb2-ae31-5b53c0f70a85",
   "metadata": {
    "scrolled": true
   },
   "outputs": [
    {
     "data": {
      "text/html": [
       "<div>\n",
       "<style scoped>\n",
       "    .dataframe tbody tr th:only-of-type {\n",
       "        vertical-align: middle;\n",
       "    }\n",
       "\n",
       "    .dataframe tbody tr th {\n",
       "        vertical-align: top;\n",
       "    }\n",
       "\n",
       "    .dataframe thead th {\n",
       "        text-align: right;\n",
       "    }\n",
       "</style>\n",
       "<table border=\"1\" class=\"dataframe\">\n",
       "  <thead>\n",
       "    <tr style=\"text-align: right;\">\n",
       "      <th></th>\n",
       "      <th>first_purchase_year_month</th>\n",
       "      <th>purchase_year_month</th>\n",
       "      <th>current_N</th>\n",
       "      <th>initial_N</th>\n",
       "      <th>period</th>\n",
       "    </tr>\n",
       "  </thead>\n",
       "  <tbody>\n",
       "    <tr>\n",
       "      <th>12</th>\n",
       "      <td>2017-01</td>\n",
       "      <td>2017-01</td>\n",
       "      <td>717</td>\n",
       "      <td>717</td>\n",
       "      <td>0</td>\n",
       "    </tr>\n",
       "    <tr>\n",
       "      <th>13</th>\n",
       "      <td>2017-01</td>\n",
       "      <td>2017-02</td>\n",
       "      <td>2</td>\n",
       "      <td>717</td>\n",
       "      <td>1</td>\n",
       "    </tr>\n",
       "    <tr>\n",
       "      <th>14</th>\n",
       "      <td>2017-01</td>\n",
       "      <td>2017-03</td>\n",
       "      <td>2</td>\n",
       "      <td>717</td>\n",
       "      <td>2</td>\n",
       "    </tr>\n",
       "    <tr>\n",
       "      <th>15</th>\n",
       "      <td>2017-01</td>\n",
       "      <td>2017-04</td>\n",
       "      <td>1</td>\n",
       "      <td>717</td>\n",
       "      <td>3</td>\n",
       "    </tr>\n",
       "    <tr>\n",
       "      <th>16</th>\n",
       "      <td>2017-01</td>\n",
       "      <td>2017-05</td>\n",
       "      <td>3</td>\n",
       "      <td>717</td>\n",
       "      <td>4</td>\n",
       "    </tr>\n",
       "  </tbody>\n",
       "</table>\n",
       "</div>"
      ],
      "text/plain": [
       "   first_purchase_year_month purchase_year_month  current_N  initial_N  period\n",
       "12                   2017-01             2017-01        717        717       0\n",
       "13                   2017-01             2017-02          2        717       1\n",
       "14                   2017-01             2017-03          2        717       2\n",
       "15                   2017-01             2017-04          1        717       3\n",
       "16                   2017-01             2017-05          3        717       4"
      ]
     },
     "execution_count": 203,
     "metadata": {},
     "output_type": "execute_result"
    }
   ],
   "source": [
    "cohorts_df = cohorts_df[cohorts_df['first_purchase_year_month'] \\\n",
    "    .str[:4].isin(['2017'])]\n",
    "cohorts_df = cohorts_df[cohorts_df['purchase_year_month'] \\\n",
    "    .str[:4].isin(['2017'])]\n",
    "cohorts_df.head()"
   ]
  },
  {
   "cell_type": "markdown",
   "id": "38f58e7f-3b12-4442-8035-b76ffc319ab3",
   "metadata": {},
   "source": [
    "Вычислим retention как отношения количества уникальных пользователей за текущий месяц к изначальному (в нулевой период) количеству уникальных пользователей."
   ]
  },
  {
   "cell_type": "code",
   "execution_count": 204,
   "id": "4fa48e04-b946-4bd1-813b-7411b42bd101",
   "metadata": {},
   "outputs": [
    {
     "data": {
      "text/html": [
       "<div>\n",
       "<style scoped>\n",
       "    .dataframe tbody tr th:only-of-type {\n",
       "        vertical-align: middle;\n",
       "    }\n",
       "\n",
       "    .dataframe tbody tr th {\n",
       "        vertical-align: top;\n",
       "    }\n",
       "\n",
       "    .dataframe thead th {\n",
       "        text-align: right;\n",
       "    }\n",
       "</style>\n",
       "<table border=\"1\" class=\"dataframe\">\n",
       "  <thead>\n",
       "    <tr style=\"text-align: right;\">\n",
       "      <th></th>\n",
       "      <th>first_purchase_year_month</th>\n",
       "      <th>purchase_year_month</th>\n",
       "      <th>current_N</th>\n",
       "      <th>initial_N</th>\n",
       "      <th>period</th>\n",
       "      <th>retention</th>\n",
       "    </tr>\n",
       "  </thead>\n",
       "  <tbody>\n",
       "    <tr>\n",
       "      <th>12</th>\n",
       "      <td>2017-01</td>\n",
       "      <td>2017-01</td>\n",
       "      <td>717</td>\n",
       "      <td>717</td>\n",
       "      <td>0</td>\n",
       "      <td>1.000000</td>\n",
       "    </tr>\n",
       "    <tr>\n",
       "      <th>13</th>\n",
       "      <td>2017-01</td>\n",
       "      <td>2017-02</td>\n",
       "      <td>2</td>\n",
       "      <td>717</td>\n",
       "      <td>1</td>\n",
       "      <td>0.002789</td>\n",
       "    </tr>\n",
       "    <tr>\n",
       "      <th>14</th>\n",
       "      <td>2017-01</td>\n",
       "      <td>2017-03</td>\n",
       "      <td>2</td>\n",
       "      <td>717</td>\n",
       "      <td>2</td>\n",
       "      <td>0.002789</td>\n",
       "    </tr>\n",
       "    <tr>\n",
       "      <th>15</th>\n",
       "      <td>2017-01</td>\n",
       "      <td>2017-04</td>\n",
       "      <td>1</td>\n",
       "      <td>717</td>\n",
       "      <td>3</td>\n",
       "      <td>0.001395</td>\n",
       "    </tr>\n",
       "    <tr>\n",
       "      <th>16</th>\n",
       "      <td>2017-01</td>\n",
       "      <td>2017-05</td>\n",
       "      <td>3</td>\n",
       "      <td>717</td>\n",
       "      <td>4</td>\n",
       "      <td>0.004184</td>\n",
       "    </tr>\n",
       "  </tbody>\n",
       "</table>\n",
       "</div>"
      ],
      "text/plain": [
       "   first_purchase_year_month purchase_year_month  current_N  initial_N  \\\n",
       "12                   2017-01             2017-01        717        717   \n",
       "13                   2017-01             2017-02          2        717   \n",
       "14                   2017-01             2017-03          2        717   \n",
       "15                   2017-01             2017-04          1        717   \n",
       "16                   2017-01             2017-05          3        717   \n",
       "\n",
       "    period  retention  \n",
       "12       0   1.000000  \n",
       "13       1   0.002789  \n",
       "14       2   0.002789  \n",
       "15       3   0.001395  \n",
       "16       4   0.004184  "
      ]
     },
     "execution_count": 204,
     "metadata": {},
     "output_type": "execute_result"
    }
   ],
   "source": [
    "cohorts_df['retention'] = (cohorts_df.current_N / cohorts_df.initial_N)\n",
    "cohorts_df.head()"
   ]
  },
  {
   "cell_type": "markdown",
   "id": "b90ad43d-8a1d-4675-9265-f47732cd5455",
   "metadata": {},
   "source": [
    "Используем функцию pandas.pivot() для создания **retention_table**"
   ]
  },
  {
   "cell_type": "code",
   "execution_count": 205,
   "id": "4146b836-7217-4404-acb4-3f0b3112a236",
   "metadata": {
    "scrolled": true
   },
   "outputs": [
    {
     "data": {
      "text/html": [
       "<div>\n",
       "<style scoped>\n",
       "    .dataframe tbody tr th:only-of-type {\n",
       "        vertical-align: middle;\n",
       "    }\n",
       "\n",
       "    .dataframe tbody tr th {\n",
       "        vertical-align: top;\n",
       "    }\n",
       "\n",
       "    .dataframe thead th {\n",
       "        text-align: right;\n",
       "    }\n",
       "</style>\n",
       "<table border=\"1\" class=\"dataframe\">\n",
       "  <thead>\n",
       "    <tr style=\"text-align: right;\">\n",
       "      <th>period</th>\n",
       "      <th>0</th>\n",
       "      <th>1</th>\n",
       "      <th>2</th>\n",
       "      <th>3</th>\n",
       "      <th>4</th>\n",
       "      <th>5</th>\n",
       "      <th>6</th>\n",
       "      <th>7</th>\n",
       "      <th>8</th>\n",
       "      <th>9</th>\n",
       "      <th>10</th>\n",
       "      <th>11</th>\n",
       "    </tr>\n",
       "    <tr>\n",
       "      <th>cohort</th>\n",
       "      <th></th>\n",
       "      <th></th>\n",
       "      <th></th>\n",
       "      <th></th>\n",
       "      <th></th>\n",
       "      <th></th>\n",
       "      <th></th>\n",
       "      <th></th>\n",
       "      <th></th>\n",
       "      <th></th>\n",
       "      <th></th>\n",
       "      <th></th>\n",
       "    </tr>\n",
       "  </thead>\n",
       "  <tbody>\n",
       "    <tr>\n",
       "      <th>2017-01</th>\n",
       "      <td>1.0</td>\n",
       "      <td>0.002789</td>\n",
       "      <td>0.002789</td>\n",
       "      <td>0.001395</td>\n",
       "      <td>0.004184</td>\n",
       "      <td>0.001395</td>\n",
       "      <td>0.004184</td>\n",
       "      <td>0.001395</td>\n",
       "      <td>0.001395</td>\n",
       "      <td>0.000000</td>\n",
       "      <td>0.004184</td>\n",
       "      <td>0.001395</td>\n",
       "    </tr>\n",
       "    <tr>\n",
       "      <th>2017-02</th>\n",
       "      <td>1.0</td>\n",
       "      <td>0.001843</td>\n",
       "      <td>0.003071</td>\n",
       "      <td>0.001229</td>\n",
       "      <td>0.004300</td>\n",
       "      <td>0.001229</td>\n",
       "      <td>0.002457</td>\n",
       "      <td>0.001843</td>\n",
       "      <td>0.001229</td>\n",
       "      <td>0.001843</td>\n",
       "      <td>0.001229</td>\n",
       "      <td>0.000000</td>\n",
       "    </tr>\n",
       "    <tr>\n",
       "      <th>2017-03</th>\n",
       "      <td>1.0</td>\n",
       "      <td>0.004395</td>\n",
       "      <td>0.003596</td>\n",
       "      <td>0.003995</td>\n",
       "      <td>0.003596</td>\n",
       "      <td>0.001598</td>\n",
       "      <td>0.001598</td>\n",
       "      <td>0.003196</td>\n",
       "      <td>0.003196</td>\n",
       "      <td>0.000799</td>\n",
       "      <td>0.000000</td>\n",
       "      <td>0.000000</td>\n",
       "    </tr>\n",
       "    <tr>\n",
       "      <th>2017-04</th>\n",
       "      <td>1.0</td>\n",
       "      <td>0.006206</td>\n",
       "      <td>0.002216</td>\n",
       "      <td>0.001773</td>\n",
       "      <td>0.002660</td>\n",
       "      <td>0.002660</td>\n",
       "      <td>0.003546</td>\n",
       "      <td>0.003103</td>\n",
       "      <td>0.003103</td>\n",
       "      <td>0.000000</td>\n",
       "      <td>0.000000</td>\n",
       "      <td>0.000000</td>\n",
       "    </tr>\n",
       "    <tr>\n",
       "      <th>2017-05</th>\n",
       "      <td>1.0</td>\n",
       "      <td>0.004638</td>\n",
       "      <td>0.004638</td>\n",
       "      <td>0.002899</td>\n",
       "      <td>0.002899</td>\n",
       "      <td>0.003188</td>\n",
       "      <td>0.004058</td>\n",
       "      <td>0.001449</td>\n",
       "      <td>0.000000</td>\n",
       "      <td>0.000000</td>\n",
       "      <td>0.000000</td>\n",
       "      <td>0.000000</td>\n",
       "    </tr>\n",
       "    <tr>\n",
       "      <th>2017-06</th>\n",
       "      <td>1.0</td>\n",
       "      <td>0.004939</td>\n",
       "      <td>0.003951</td>\n",
       "      <td>0.004281</td>\n",
       "      <td>0.002963</td>\n",
       "      <td>0.003951</td>\n",
       "      <td>0.003622</td>\n",
       "      <td>0.000000</td>\n",
       "      <td>0.000000</td>\n",
       "      <td>0.000000</td>\n",
       "      <td>0.000000</td>\n",
       "      <td>0.000000</td>\n",
       "    </tr>\n",
       "    <tr>\n",
       "      <th>2017-07</th>\n",
       "      <td>1.0</td>\n",
       "      <td>0.005330</td>\n",
       "      <td>0.003465</td>\n",
       "      <td>0.002399</td>\n",
       "      <td>0.002932</td>\n",
       "      <td>0.002132</td>\n",
       "      <td>0.000000</td>\n",
       "      <td>0.000000</td>\n",
       "      <td>0.000000</td>\n",
       "      <td>0.000000</td>\n",
       "      <td>0.000000</td>\n",
       "      <td>0.000000</td>\n",
       "    </tr>\n",
       "    <tr>\n",
       "      <th>2017-08</th>\n",
       "      <td>1.0</td>\n",
       "      <td>0.006902</td>\n",
       "      <td>0.003451</td>\n",
       "      <td>0.002711</td>\n",
       "      <td>0.003451</td>\n",
       "      <td>0.000000</td>\n",
       "      <td>0.000000</td>\n",
       "      <td>0.000000</td>\n",
       "      <td>0.000000</td>\n",
       "      <td>0.000000</td>\n",
       "      <td>0.000000</td>\n",
       "      <td>0.000000</td>\n",
       "    </tr>\n",
       "    <tr>\n",
       "      <th>2017-09</th>\n",
       "      <td>1.0</td>\n",
       "      <td>0.006993</td>\n",
       "      <td>0.005495</td>\n",
       "      <td>0.002747</td>\n",
       "      <td>0.000000</td>\n",
       "      <td>0.000000</td>\n",
       "      <td>0.000000</td>\n",
       "      <td>0.000000</td>\n",
       "      <td>0.000000</td>\n",
       "      <td>0.000000</td>\n",
       "      <td>0.000000</td>\n",
       "      <td>0.000000</td>\n",
       "    </tr>\n",
       "    <tr>\n",
       "      <th>2017-10</th>\n",
       "      <td>1.0</td>\n",
       "      <td>0.007163</td>\n",
       "      <td>0.002542</td>\n",
       "      <td>0.000000</td>\n",
       "      <td>0.000000</td>\n",
       "      <td>0.000000</td>\n",
       "      <td>0.000000</td>\n",
       "      <td>0.000000</td>\n",
       "      <td>0.000000</td>\n",
       "      <td>0.000000</td>\n",
       "      <td>0.000000</td>\n",
       "      <td>0.000000</td>\n",
       "    </tr>\n",
       "    <tr>\n",
       "      <th>2017-11</th>\n",
       "      <td>1.0</td>\n",
       "      <td>0.005666</td>\n",
       "      <td>0.000000</td>\n",
       "      <td>0.000000</td>\n",
       "      <td>0.000000</td>\n",
       "      <td>0.000000</td>\n",
       "      <td>0.000000</td>\n",
       "      <td>0.000000</td>\n",
       "      <td>0.000000</td>\n",
       "      <td>0.000000</td>\n",
       "      <td>0.000000</td>\n",
       "      <td>0.000000</td>\n",
       "    </tr>\n",
       "    <tr>\n",
       "      <th>2017-12</th>\n",
       "      <td>1.0</td>\n",
       "      <td>0.000000</td>\n",
       "      <td>0.000000</td>\n",
       "      <td>0.000000</td>\n",
       "      <td>0.000000</td>\n",
       "      <td>0.000000</td>\n",
       "      <td>0.000000</td>\n",
       "      <td>0.000000</td>\n",
       "      <td>0.000000</td>\n",
       "      <td>0.000000</td>\n",
       "      <td>0.000000</td>\n",
       "      <td>0.000000</td>\n",
       "    </tr>\n",
       "  </tbody>\n",
       "</table>\n",
       "</div>"
      ],
      "text/plain": [
       "period    0         1         2         3         4         5         6   \\\n",
       "cohort                                                                     \n",
       "2017-01  1.0  0.002789  0.002789  0.001395  0.004184  0.001395  0.004184   \n",
       "2017-02  1.0  0.001843  0.003071  0.001229  0.004300  0.001229  0.002457   \n",
       "2017-03  1.0  0.004395  0.003596  0.003995  0.003596  0.001598  0.001598   \n",
       "2017-04  1.0  0.006206  0.002216  0.001773  0.002660  0.002660  0.003546   \n",
       "2017-05  1.0  0.004638  0.004638  0.002899  0.002899  0.003188  0.004058   \n",
       "2017-06  1.0  0.004939  0.003951  0.004281  0.002963  0.003951  0.003622   \n",
       "2017-07  1.0  0.005330  0.003465  0.002399  0.002932  0.002132  0.000000   \n",
       "2017-08  1.0  0.006902  0.003451  0.002711  0.003451  0.000000  0.000000   \n",
       "2017-09  1.0  0.006993  0.005495  0.002747  0.000000  0.000000  0.000000   \n",
       "2017-10  1.0  0.007163  0.002542  0.000000  0.000000  0.000000  0.000000   \n",
       "2017-11  1.0  0.005666  0.000000  0.000000  0.000000  0.000000  0.000000   \n",
       "2017-12  1.0  0.000000  0.000000  0.000000  0.000000  0.000000  0.000000   \n",
       "\n",
       "period         7         8         9         10        11  \n",
       "cohort                                                     \n",
       "2017-01  0.001395  0.001395  0.000000  0.004184  0.001395  \n",
       "2017-02  0.001843  0.001229  0.001843  0.001229  0.000000  \n",
       "2017-03  0.003196  0.003196  0.000799  0.000000  0.000000  \n",
       "2017-04  0.003103  0.003103  0.000000  0.000000  0.000000  \n",
       "2017-05  0.001449  0.000000  0.000000  0.000000  0.000000  \n",
       "2017-06  0.000000  0.000000  0.000000  0.000000  0.000000  \n",
       "2017-07  0.000000  0.000000  0.000000  0.000000  0.000000  \n",
       "2017-08  0.000000  0.000000  0.000000  0.000000  0.000000  \n",
       "2017-09  0.000000  0.000000  0.000000  0.000000  0.000000  \n",
       "2017-10  0.000000  0.000000  0.000000  0.000000  0.000000  \n",
       "2017-11  0.000000  0.000000  0.000000  0.000000  0.000000  \n",
       "2017-12  0.000000  0.000000  0.000000  0.000000  0.000000  "
      ]
     },
     "execution_count": 205,
     "metadata": {},
     "output_type": "execute_result"
    }
   ],
   "source": [
    "retention_table = pd.pivot(data=cohorts_df, index='first_purchase_year_month', \n",
    "                           columns='period', values='retention')\n",
    "retention_table.rename_axis('cohort', axis='index', inplace=True)\n",
    "retention_table.fillna(value=0, inplace=True)  # если есть пропуски (а они есть)\n",
    "retention_table"
   ]
  },
  {
   "cell_type": "markdown",
   "id": "d56521c7-ed61-40c8-8b3b-ef0704885701",
   "metadata": {},
   "source": [
    "Визуализируем **retention_table** при помощи seaborn."
   ]
  },
  {
   "cell_type": "code",
   "execution_count": 206,
   "id": "a09b4210-b7e5-4d16-9695-f8c5d2882975",
   "metadata": {},
   "outputs": [
    {
     "data": {
      "image/png": "[encoded data removed]",
      "text/plain": [
       "<Figure size 1400x800 with 1 Axes>"
      ]
     },
     "metadata": {},
     "output_type": "display_data"
    }
   ],
   "source": [
    "dpi = 150  # явно зададим DPI\n",
    "fig, ax = plt.subplots(dpi=dpi, figsize=(1400/dpi, 800/dpi),\n",
    "                       constrained_layout=True)\n",
    "sns.heatmap(data=retention_table, annot=True, annot_kws={'size':'small'},\n",
    "            fmt='.2%',\n",
    "            vmin=0.0, vmax=0.01, cmap='PuBu', cbar=False, ax=ax)\n",
    "ax.set(title='User retention', xlabel='Period', ylabel='Cohort')\n",
    "ax.tick_params(axis='y', rotation=45)\n",
    "plt.show()\n",
    "\n",
    "# # Save the figure exactly as it appears inline\n",
    "# fig.savefig('my_figure.png', bbox_inches='tight', dpi=fig.dpi)"
   ]
  },
  {
   "cell_type": "code",
   "execution_count": 207,
   "id": "2bb2cf73-904e-466d-a463-59d48adfa0c0",
   "metadata": {},
   "outputs": [
    {
     "name": "stdout",
     "output_type": "stream",
     "text": [
      "Самый высокий показатель retention за третий месяц равен 0.428%. Он отвечает когорте 2017-06.\n"
     ]
    }
   ],
   "source": [
    "print(f\"Самый высокий показатель retention за третий месяц равен {np.round(100*retention_table[3].max(), 3)}%.\",\n",
    "      f\"Он отвечает когорте {retention_table[3].idxmax()}.\")"
   ]
  },
  {
   "cell_type": "code",
   "execution_count": 208,
   "id": "019cbd28-2328-427d-8531-799e47886db4",
   "metadata": {},
   "outputs": [],
   "source": [
    "# Удаляем ненужное\n",
    "del (ax, cohorts_df, dpi, fig, filtered_orders_df, first_purchases,\n",
    "     months, new_df, retention_table, temp_1, temp_2, years)"
   ]
  },
  {
   "cell_type": "markdown",
   "id": "d5d67acf-45cc-41b0-8044-eb109378a432",
   "metadata": {},
   "source": [
    "## Пункт 6\n",
    "Выполнить RFM-сегментацию пользователей и провести качественную оценку аудитории.\n",
    "\n",
    "RFM-сегментация подразумевает расчет параметров *Recency, Frequency и Monetary* для каждого пользователя:\n",
    "* *Recency* - время с момента последней покупки пользователя до некоторой контрольной даты;\n",
    "* *Frequency* - количество покупок, совершенных пользователем за весь период мониторинга;\n",
    "* *Monetary* - общая сумма денег, потраченных пользователем за весь период мониторинга. \n",
    "\n",
    "Принимаемые этими параметрами значения разделяются на диапазоны, каждому из которых присваивается ранг от 1 до 4. Таким образом, любой пользователь описывается тремя цифрами, которые отвечают рангу его параметров *Recency, Frequency и Monetary*. \n",
    "\n",
    "Наконец, на основе этих RFM-значений и своей личной экспертизы аналитик объединяет пользователей в сегменты. Рассмотрение этих сегментов позволяет выявить инсайты о поведении пользователей и определиться с направлениями дальнейшей работы."
   ]
  },
  {
   "cell_type": "markdown",
   "id": "7abb8f1e-9d5d-4b58-a43a-49dcdc13ca68",
   "metadata": {},
   "source": [
    "### Подготовка данных"
   ]
  },
  {
   "cell_type": "markdown",
   "id": "064528dc-88b9-4a39-8b7b-8c1f5e547c22",
   "metadata": {},
   "source": [
    "Мы будем работать только с успешными покупками, которые определяются так же, как и в предыдущих пунктах."
   ]
  },
  {
   "cell_type": "code",
   "execution_count": 259,
   "id": "02b821b0-e95e-4d41-bc69-8bdc2db91561",
   "metadata": {
    "scrolled": true
   },
   "outputs": [
    {
     "data": {
      "text/html": [
       "<div>\n",
       "<style scoped>\n",
       "    .dataframe tbody tr th:only-of-type {\n",
       "        vertical-align: middle;\n",
       "    }\n",
       "\n",
       "    .dataframe tbody tr th {\n",
       "        vertical-align: top;\n",
       "    }\n",
       "\n",
       "    .dataframe thead th {\n",
       "        text-align: right;\n",
       "    }\n",
       "</style>\n",
       "<table border=\"1\" class=\"dataframe\">\n",
       "  <thead>\n",
       "    <tr style=\"text-align: right;\">\n",
       "      <th></th>\n",
       "      <th>order_id</th>\n",
       "      <th>customer_id</th>\n",
       "      <th>order_purchase_timestamp</th>\n",
       "    </tr>\n",
       "  </thead>\n",
       "  <tbody>\n",
       "    <tr>\n",
       "      <th>0</th>\n",
       "      <td>e481f51cbdc54678b7cc49136f2d6af7</td>\n",
       "      <td>9ef432eb6251297304e76186b10a928d</td>\n",
       "      <td>2017-10-02 10:56:33</td>\n",
       "    </tr>\n",
       "    <tr>\n",
       "      <th>1</th>\n",
       "      <td>53cdb2fc8bc7dce0b6741e2150273451</td>\n",
       "      <td>b0830fb4747a6c6d20dea0b8c802d7ef</td>\n",
       "      <td>2018-07-24 20:41:37</td>\n",
       "    </tr>\n",
       "    <tr>\n",
       "      <th>2</th>\n",
       "      <td>47770eb9100c2d0c44946d9cf07ec65d</td>\n",
       "      <td>41ce2a54c0b03bf3443c3d931a367089</td>\n",
       "      <td>2018-08-08 08:38:49</td>\n",
       "    </tr>\n",
       "    <tr>\n",
       "      <th>3</th>\n",
       "      <td>949d5b44dbf5de918fe9c16f97b45f8a</td>\n",
       "      <td>f88197465ea7920adcdbec7375364d82</td>\n",
       "      <td>2017-11-18 19:28:06</td>\n",
       "    </tr>\n",
       "    <tr>\n",
       "      <th>4</th>\n",
       "      <td>ad21c59c0840e6cb83a9ceb5573f8159</td>\n",
       "      <td>8ab97904e6daea8866dbdbc4fb7aad2c</td>\n",
       "      <td>2018-02-13 21:18:39</td>\n",
       "    </tr>\n",
       "  </tbody>\n",
       "</table>\n",
       "</div>"
      ],
      "text/plain": [
       "                           order_id                       customer_id  \\\n",
       "0  e481f51cbdc54678b7cc49136f2d6af7  9ef432eb6251297304e76186b10a928d   \n",
       "1  53cdb2fc8bc7dce0b6741e2150273451  b0830fb4747a6c6d20dea0b8c802d7ef   \n",
       "2  47770eb9100c2d0c44946d9cf07ec65d  41ce2a54c0b03bf3443c3d931a367089   \n",
       "3  949d5b44dbf5de918fe9c16f97b45f8a  f88197465ea7920adcdbec7375364d82   \n",
       "4  ad21c59c0840e6cb83a9ceb5573f8159  8ab97904e6daea8866dbdbc4fb7aad2c   \n",
       "\n",
       "  order_purchase_timestamp  \n",
       "0      2017-10-02 10:56:33  \n",
       "1      2018-07-24 20:41:37  \n",
       "2      2018-08-08 08:38:49  \n",
       "3      2017-11-18 19:28:06  \n",
       "4      2018-02-13 21:18:39  "
      ]
     },
     "execution_count": 259,
     "metadata": {},
     "output_type": "execute_result"
    }
   ],
   "source": [
    "filtered_orders_df = orders_df.query(\"order_status=='delivered'\") \\\n",
    "    .dropna(axis='index', thresh=len(orders_df.columns)-1) \\\n",
    "    [['order_id', 'customer_id', 'order_purchase_timestamp']]  # только нужное\n",
    "# конвертация string в datetime\n",
    "filtered_orders_df['order_purchase_timestamp'] = pd.to_datetime(\n",
    "    filtered_orders_df['order_purchase_timestamp']\n",
    ") \n",
    "filtered_orders_df.head()"
   ]
  },
  {
   "cell_type": "markdown",
   "id": "0e1c8a6d-c10a-442d-8516-d0c162337a03",
   "metadata": {},
   "source": [
    "Создадим таблицу **merged_df**, состоящую из **filtered_orders_df** с добавлением столбца *customer_unique_id* (уникальные идентификаторы клиентов)."
   ]
  },
  {
   "cell_type": "code",
   "execution_count": 260,
   "id": "212e4bd0-c4d8-4b9c-909c-1791abb0c71f",
   "metadata": {},
   "outputs": [
    {
     "data": {
      "text/html": [
       "<div>\n",
       "<style scoped>\n",
       "    .dataframe tbody tr th:only-of-type {\n",
       "        vertical-align: middle;\n",
       "    }\n",
       "\n",
       "    .dataframe tbody tr th {\n",
       "        vertical-align: top;\n",
       "    }\n",
       "\n",
       "    .dataframe thead th {\n",
       "        text-align: right;\n",
       "    }\n",
       "</style>\n",
       "<table border=\"1\" class=\"dataframe\">\n",
       "  <thead>\n",
       "    <tr style=\"text-align: right;\">\n",
       "      <th></th>\n",
       "      <th>customer_unique_id</th>\n",
       "      <th>customer_id</th>\n",
       "      <th>order_id</th>\n",
       "      <th>order_purchase_timestamp</th>\n",
       "    </tr>\n",
       "  </thead>\n",
       "  <tbody>\n",
       "    <tr>\n",
       "      <th>0</th>\n",
       "      <td>7c396fd4830fd04220f754e42b4e5bff</td>\n",
       "      <td>9ef432eb6251297304e76186b10a928d</td>\n",
       "      <td>e481f51cbdc54678b7cc49136f2d6af7</td>\n",
       "      <td>2017-10-02 10:56:33</td>\n",
       "    </tr>\n",
       "    <tr>\n",
       "      <th>1</th>\n",
       "      <td>af07308b275d755c9edb36a90c618231</td>\n",
       "      <td>b0830fb4747a6c6d20dea0b8c802d7ef</td>\n",
       "      <td>53cdb2fc8bc7dce0b6741e2150273451</td>\n",
       "      <td>2018-07-24 20:41:37</td>\n",
       "    </tr>\n",
       "    <tr>\n",
       "      <th>2</th>\n",
       "      <td>3a653a41f6f9fc3d2a113cf8398680e8</td>\n",
       "      <td>41ce2a54c0b03bf3443c3d931a367089</td>\n",
       "      <td>47770eb9100c2d0c44946d9cf07ec65d</td>\n",
       "      <td>2018-08-08 08:38:49</td>\n",
       "    </tr>\n",
       "    <tr>\n",
       "      <th>3</th>\n",
       "      <td>7c142cf63193a1473d2e66489a9ae977</td>\n",
       "      <td>f88197465ea7920adcdbec7375364d82</td>\n",
       "      <td>949d5b44dbf5de918fe9c16f97b45f8a</td>\n",
       "      <td>2017-11-18 19:28:06</td>\n",
       "    </tr>\n",
       "    <tr>\n",
       "      <th>4</th>\n",
       "      <td>72632f0f9dd73dfee390c9b22eb56dd6</td>\n",
       "      <td>8ab97904e6daea8866dbdbc4fb7aad2c</td>\n",
       "      <td>ad21c59c0840e6cb83a9ceb5573f8159</td>\n",
       "      <td>2018-02-13 21:18:39</td>\n",
       "    </tr>\n",
       "  </tbody>\n",
       "</table>\n",
       "</div>"
      ],
      "text/plain": [
       "                 customer_unique_id                       customer_id  \\\n",
       "0  7c396fd4830fd04220f754e42b4e5bff  9ef432eb6251297304e76186b10a928d   \n",
       "1  af07308b275d755c9edb36a90c618231  b0830fb4747a6c6d20dea0b8c802d7ef   \n",
       "2  3a653a41f6f9fc3d2a113cf8398680e8  41ce2a54c0b03bf3443c3d931a367089   \n",
       "3  7c142cf63193a1473d2e66489a9ae977  f88197465ea7920adcdbec7375364d82   \n",
       "4  72632f0f9dd73dfee390c9b22eb56dd6  8ab97904e6daea8866dbdbc4fb7aad2c   \n",
       "\n",
       "                           order_id order_purchase_timestamp  \n",
       "0  e481f51cbdc54678b7cc49136f2d6af7      2017-10-02 10:56:33  \n",
       "1  53cdb2fc8bc7dce0b6741e2150273451      2018-07-24 20:41:37  \n",
       "2  47770eb9100c2d0c44946d9cf07ec65d      2018-08-08 08:38:49  \n",
       "3  949d5b44dbf5de918fe9c16f97b45f8a      2017-11-18 19:28:06  \n",
       "4  ad21c59c0840e6cb83a9ceb5573f8159      2018-02-13 21:18:39  "
      ]
     },
     "execution_count": 260,
     "metadata": {},
     "output_type": "execute_result"
    }
   ],
   "source": [
    "merged_df = pd.merge(\n",
    "    filtered_orders_df, customers_df[['customer_unique_id', 'customer_id']],\n",
    "    how='inner', on='customer_id'\n",
    ")[['customer_unique_id', 'customer_id', 'order_id', 'order_purchase_timestamp']]\n",
    "merged_df.head()"
   ]
  },
  {
   "cell_type": "markdown",
   "id": "c046025e-43d8-4c0a-b40b-0f2a24141fd6",
   "metadata": {},
   "source": [
    "Добавим в **merged_df** колонку со стоимостью каждого заказа *order_id*, предварительно созданную посредством агрегирования в датафрейме **items_df**."
   ]
  },
  {
   "cell_type": "code",
   "execution_count": 261,
   "id": "b83a1a02-46f5-4878-9c0f-ff09c958e9ce",
   "metadata": {},
   "outputs": [
    {
     "data": {
      "text/html": [
       "<div>\n",
       "<style scoped>\n",
       "    .dataframe tbody tr th:only-of-type {\n",
       "        vertical-align: middle;\n",
       "    }\n",
       "\n",
       "    .dataframe tbody tr th {\n",
       "        vertical-align: top;\n",
       "    }\n",
       "\n",
       "    .dataframe thead th {\n",
       "        text-align: right;\n",
       "    }\n",
       "</style>\n",
       "<table border=\"1\" class=\"dataframe\">\n",
       "  <thead>\n",
       "    <tr style=\"text-align: right;\">\n",
       "      <th></th>\n",
       "      <th>customer_unique_id</th>\n",
       "      <th>customer_id</th>\n",
       "      <th>order_id</th>\n",
       "      <th>order_purchase_timestamp</th>\n",
       "      <th>price</th>\n",
       "    </tr>\n",
       "  </thead>\n",
       "  <tbody>\n",
       "    <tr>\n",
       "      <th>0</th>\n",
       "      <td>7c396fd4830fd04220f754e42b4e5bff</td>\n",
       "      <td>9ef432eb6251297304e76186b10a928d</td>\n",
       "      <td>e481f51cbdc54678b7cc49136f2d6af7</td>\n",
       "      <td>2017-10-02 10:56:33</td>\n",
       "      <td>29.99</td>\n",
       "    </tr>\n",
       "    <tr>\n",
       "      <th>1</th>\n",
       "      <td>af07308b275d755c9edb36a90c618231</td>\n",
       "      <td>b0830fb4747a6c6d20dea0b8c802d7ef</td>\n",
       "      <td>53cdb2fc8bc7dce0b6741e2150273451</td>\n",
       "      <td>2018-07-24 20:41:37</td>\n",
       "      <td>118.70</td>\n",
       "    </tr>\n",
       "    <tr>\n",
       "      <th>2</th>\n",
       "      <td>3a653a41f6f9fc3d2a113cf8398680e8</td>\n",
       "      <td>41ce2a54c0b03bf3443c3d931a367089</td>\n",
       "      <td>47770eb9100c2d0c44946d9cf07ec65d</td>\n",
       "      <td>2018-08-08 08:38:49</td>\n",
       "      <td>159.90</td>\n",
       "    </tr>\n",
       "    <tr>\n",
       "      <th>3</th>\n",
       "      <td>7c142cf63193a1473d2e66489a9ae977</td>\n",
       "      <td>f88197465ea7920adcdbec7375364d82</td>\n",
       "      <td>949d5b44dbf5de918fe9c16f97b45f8a</td>\n",
       "      <td>2017-11-18 19:28:06</td>\n",
       "      <td>45.00</td>\n",
       "    </tr>\n",
       "    <tr>\n",
       "      <th>4</th>\n",
       "      <td>72632f0f9dd73dfee390c9b22eb56dd6</td>\n",
       "      <td>8ab97904e6daea8866dbdbc4fb7aad2c</td>\n",
       "      <td>ad21c59c0840e6cb83a9ceb5573f8159</td>\n",
       "      <td>2018-02-13 21:18:39</td>\n",
       "      <td>19.90</td>\n",
       "    </tr>\n",
       "  </tbody>\n",
       "</table>\n",
       "</div>"
      ],
      "text/plain": [
       "                 customer_unique_id                       customer_id  \\\n",
       "0  7c396fd4830fd04220f754e42b4e5bff  9ef432eb6251297304e76186b10a928d   \n",
       "1  af07308b275d755c9edb36a90c618231  b0830fb4747a6c6d20dea0b8c802d7ef   \n",
       "2  3a653a41f6f9fc3d2a113cf8398680e8  41ce2a54c0b03bf3443c3d931a367089   \n",
       "3  7c142cf63193a1473d2e66489a9ae977  f88197465ea7920adcdbec7375364d82   \n",
       "4  72632f0f9dd73dfee390c9b22eb56dd6  8ab97904e6daea8866dbdbc4fb7aad2c   \n",
       "\n",
       "                           order_id order_purchase_timestamp   price  \n",
       "0  e481f51cbdc54678b7cc49136f2d6af7      2017-10-02 10:56:33   29.99  \n",
       "1  53cdb2fc8bc7dce0b6741e2150273451      2018-07-24 20:41:37  118.70  \n",
       "2  47770eb9100c2d0c44946d9cf07ec65d      2018-08-08 08:38:49  159.90  \n",
       "3  949d5b44dbf5de918fe9c16f97b45f8a      2017-11-18 19:28:06   45.00  \n",
       "4  ad21c59c0840e6cb83a9ceb5573f8159      2018-02-13 21:18:39   19.90  "
      ]
     },
     "execution_count": 261,
     "metadata": {},
     "output_type": "execute_result"
    }
   ],
   "source": [
    "merged_df = pd.merge(\n",
    "    merged_df,\n",
    "    items_df.groupby(by='order_id', as_index=False).agg({'price': 'sum'}),\n",
    "    how='inner', on='order_id'\n",
    ")\n",
    "merged_df.head()"
   ]
  },
  {
   "cell_type": "markdown",
   "id": "7d623838-a127-4fc8-95eb-d859b33f23f8",
   "metadata": {},
   "source": [
    "Возьмем в качестве референса для расчета *Recency* самый \"новый\" timestamp, содержащийся в данных, сдвинутый на 24 часа вперед."
   ]
  },
  {
   "cell_type": "code",
   "execution_count": 262,
   "id": "64286644-1900-4a56-a9b3-4b57f13a4159",
   "metadata": {},
   "outputs": [
    {
     "data": {
      "text/plain": [
       "Timestamp('2018-08-30 15:00:37')"
      ]
     },
     "execution_count": 262,
     "metadata": {},
     "output_type": "execute_result"
    }
   ],
   "source": [
    "reference_date = merged_df['order_purchase_timestamp'].max() + timedelta(days=1)\n",
    "# reference_date = reference_date.replace(hour=0, minute=0, second=0)\n",
    "reference_date"
   ]
  },
  {
   "attachments": {},
   "cell_type": "markdown",
   "id": "352a4bb2-88df-4b43-8b2f-0f6167d9accd",
   "metadata": {},
   "source": [
    "Создадим колонку с числом дней, прошедших между заказами и эталонной датой, определенной выше."
   ]
  },
  {
   "cell_type": "code",
   "execution_count": 263,
   "id": "c6e339d1-6f0d-4bea-9d2e-119828de5c2a",
   "metadata": {},
   "outputs": [
    {
     "data": {
      "text/html": [
       "<div>\n",
       "<style scoped>\n",
       "    .dataframe tbody tr th:only-of-type {\n",
       "        vertical-align: middle;\n",
       "    }\n",
       "\n",
       "    .dataframe tbody tr th {\n",
       "        vertical-align: top;\n",
       "    }\n",
       "\n",
       "    .dataframe thead th {\n",
       "        text-align: right;\n",
       "    }\n",
       "</style>\n",
       "<table border=\"1\" class=\"dataframe\">\n",
       "  <thead>\n",
       "    <tr style=\"text-align: right;\">\n",
       "      <th></th>\n",
       "      <th>customer_unique_id</th>\n",
       "      <th>customer_id</th>\n",
       "      <th>order_id</th>\n",
       "      <th>order_purchase_timestamp</th>\n",
       "      <th>price</th>\n",
       "      <th>days_since_order</th>\n",
       "    </tr>\n",
       "  </thead>\n",
       "  <tbody>\n",
       "    <tr>\n",
       "      <th>0</th>\n",
       "      <td>7c396fd4830fd04220f754e42b4e5bff</td>\n",
       "      <td>9ef432eb6251297304e76186b10a928d</td>\n",
       "      <td>e481f51cbdc54678b7cc49136f2d6af7</td>\n",
       "      <td>2017-10-02 10:56:33</td>\n",
       "      <td>29.99</td>\n",
       "      <td>332</td>\n",
       "    </tr>\n",
       "    <tr>\n",
       "      <th>1</th>\n",
       "      <td>af07308b275d755c9edb36a90c618231</td>\n",
       "      <td>b0830fb4747a6c6d20dea0b8c802d7ef</td>\n",
       "      <td>53cdb2fc8bc7dce0b6741e2150273451</td>\n",
       "      <td>2018-07-24 20:41:37</td>\n",
       "      <td>118.70</td>\n",
       "      <td>36</td>\n",
       "    </tr>\n",
       "    <tr>\n",
       "      <th>2</th>\n",
       "      <td>3a653a41f6f9fc3d2a113cf8398680e8</td>\n",
       "      <td>41ce2a54c0b03bf3443c3d931a367089</td>\n",
       "      <td>47770eb9100c2d0c44946d9cf07ec65d</td>\n",
       "      <td>2018-08-08 08:38:49</td>\n",
       "      <td>159.90</td>\n",
       "      <td>22</td>\n",
       "    </tr>\n",
       "    <tr>\n",
       "      <th>3</th>\n",
       "      <td>7c142cf63193a1473d2e66489a9ae977</td>\n",
       "      <td>f88197465ea7920adcdbec7375364d82</td>\n",
       "      <td>949d5b44dbf5de918fe9c16f97b45f8a</td>\n",
       "      <td>2017-11-18 19:28:06</td>\n",
       "      <td>45.00</td>\n",
       "      <td>284</td>\n",
       "    </tr>\n",
       "    <tr>\n",
       "      <th>4</th>\n",
       "      <td>72632f0f9dd73dfee390c9b22eb56dd6</td>\n",
       "      <td>8ab97904e6daea8866dbdbc4fb7aad2c</td>\n",
       "      <td>ad21c59c0840e6cb83a9ceb5573f8159</td>\n",
       "      <td>2018-02-13 21:18:39</td>\n",
       "      <td>19.90</td>\n",
       "      <td>197</td>\n",
       "    </tr>\n",
       "  </tbody>\n",
       "</table>\n",
       "</div>"
      ],
      "text/plain": [
       "                 customer_unique_id                       customer_id  \\\n",
       "0  7c396fd4830fd04220f754e42b4e5bff  9ef432eb6251297304e76186b10a928d   \n",
       "1  af07308b275d755c9edb36a90c618231  b0830fb4747a6c6d20dea0b8c802d7ef   \n",
       "2  3a653a41f6f9fc3d2a113cf8398680e8  41ce2a54c0b03bf3443c3d931a367089   \n",
       "3  7c142cf63193a1473d2e66489a9ae977  f88197465ea7920adcdbec7375364d82   \n",
       "4  72632f0f9dd73dfee390c9b22eb56dd6  8ab97904e6daea8866dbdbc4fb7aad2c   \n",
       "\n",
       "                           order_id order_purchase_timestamp   price  \\\n",
       "0  e481f51cbdc54678b7cc49136f2d6af7      2017-10-02 10:56:33   29.99   \n",
       "1  53cdb2fc8bc7dce0b6741e2150273451      2018-07-24 20:41:37  118.70   \n",
       "2  47770eb9100c2d0c44946d9cf07ec65d      2018-08-08 08:38:49  159.90   \n",
       "3  949d5b44dbf5de918fe9c16f97b45f8a      2017-11-18 19:28:06   45.00   \n",
       "4  ad21c59c0840e6cb83a9ceb5573f8159      2018-02-13 21:18:39   19.90   \n",
       "\n",
       "   days_since_order  \n",
       "0               332  \n",
       "1                36  \n",
       "2                22  \n",
       "3               284  \n",
       "4               197  "
      ]
     },
     "execution_count": 263,
     "metadata": {},
     "output_type": "execute_result"
    }
   ],
   "source": [
    "merged_df['days_since_order'] = (\n",
    "    reference_date - merged_df['order_purchase_timestamp']\n",
    ").dt.days\n",
    "merged_df.head()"
   ]
  },
  {
   "attachments": {},
   "cell_type": "markdown",
   "id": "842b80a1-0dca-42e5-8f7b-5f2bc97269c1",
   "metadata": {},
   "source": [
    "Создадим DataFrame со столбцами *Recency, Frequency и Monetary*."
   ]
  },
  {
   "cell_type": "code",
   "execution_count": 264,
   "id": "e2b0e785-fd7c-47e2-b919-e60be7bb348e",
   "metadata": {},
   "outputs": [
    {
     "data": {
      "text/html": [
       "<div>\n",
       "<style scoped>\n",
       "    .dataframe tbody tr th:only-of-type {\n",
       "        vertical-align: middle;\n",
       "    }\n",
       "\n",
       "    .dataframe tbody tr th {\n",
       "        vertical-align: top;\n",
       "    }\n",
       "\n",
       "    .dataframe thead th {\n",
       "        text-align: right;\n",
       "    }\n",
       "</style>\n",
       "<table border=\"1\" class=\"dataframe\">\n",
       "  <thead>\n",
       "    <tr style=\"text-align: right;\">\n",
       "      <th></th>\n",
       "      <th>CustomerID</th>\n",
       "      <th>Recency</th>\n",
       "      <th>Frequency</th>\n",
       "      <th>Monetary</th>\n",
       "    </tr>\n",
       "  </thead>\n",
       "  <tbody>\n",
       "    <tr>\n",
       "      <th>0</th>\n",
       "      <td>0000366f3b9a7992bf8c76cfdf3221e2</td>\n",
       "      <td>112</td>\n",
       "      <td>1</td>\n",
       "      <td>129.90</td>\n",
       "    </tr>\n",
       "    <tr>\n",
       "      <th>1</th>\n",
       "      <td>0000b849f77a49e4a4ce2b2a4ca5be3f</td>\n",
       "      <td>115</td>\n",
       "      <td>1</td>\n",
       "      <td>18.90</td>\n",
       "    </tr>\n",
       "    <tr>\n",
       "      <th>2</th>\n",
       "      <td>0000f46a3911fa3c0805444483337064</td>\n",
       "      <td>537</td>\n",
       "      <td>1</td>\n",
       "      <td>69.00</td>\n",
       "    </tr>\n",
       "    <tr>\n",
       "      <th>3</th>\n",
       "      <td>0000f6ccb0745a6a4b88665a16c9f078</td>\n",
       "      <td>321</td>\n",
       "      <td>1</td>\n",
       "      <td>25.99</td>\n",
       "    </tr>\n",
       "    <tr>\n",
       "      <th>4</th>\n",
       "      <td>0004aac84e0df4da2b147fca70cf8255</td>\n",
       "      <td>288</td>\n",
       "      <td>1</td>\n",
       "      <td>180.00</td>\n",
       "    </tr>\n",
       "  </tbody>\n",
       "</table>\n",
       "</div>"
      ],
      "text/plain": [
       "                         CustomerID  Recency  Frequency  Monetary\n",
       "0  0000366f3b9a7992bf8c76cfdf3221e2      112          1    129.90\n",
       "1  0000b849f77a49e4a4ce2b2a4ca5be3f      115          1     18.90\n",
       "2  0000f46a3911fa3c0805444483337064      537          1     69.00\n",
       "3  0000f6ccb0745a6a4b88665a16c9f078      321          1     25.99\n",
       "4  0004aac84e0df4da2b147fca70cf8255      288          1    180.00"
      ]
     },
     "execution_count": 264,
     "metadata": {},
     "output_type": "execute_result"
    }
   ],
   "source": [
    "rfm_df = merged_df.groupby(by='customer_unique_id', as_index=False) \\\n",
    "    .agg({\"days_since_order\": \"min\", \"price\": [\"count\", \"sum\"]})\n",
    "rfm_df.columns = pd.Index(['CustomerID','Recency', 'Frequency', 'Monetary'])\n",
    "rfm_df.head()"
   ]
  },
  {
   "cell_type": "markdown",
   "id": "3e2fe0f7-307a-4b38-ab4a-1fa32d466114",
   "metadata": {},
   "source": [
    "### Присвоение рангов значениям R, F, M"
   ]
  },
  {
   "cell_type": "markdown",
   "id": "998e4986-ea38-4cf8-9893-dac60625d4dd",
   "metadata": {},
   "source": [
    "Прежде всего, визуализируем распределения полученных значений *Recency, Frequency и Monetary*"
   ]
  },
  {
   "cell_type": "code",
   "execution_count": 265,
   "id": "1f799aa8-1992-4e2f-884e-31689d99d69d",
   "metadata": {},
   "outputs": [
    {
     "data": {
      "image/png": "[encoded data removed]",
      "text/plain": [
       "<Figure size 1400x800 with 3 Axes>"
      ]
     },
     "metadata": {},
     "output_type": "display_data"
    }
   ],
   "source": [
    "dpi = 150  # явно зададим DPI\n",
    "fig, ax = plt.subplots(3, 1, dpi=dpi, figsize=(1400/dpi, 800/dpi),\n",
    "                       constrained_layout=True)\n",
    "fig.suptitle('Distributions of Recency, Frequency and Monetary values')\n",
    "sns.histplot(data=rfm_df, x='Recency', color='red', bins=50,\n",
    "             edgecolor=\"k\", linewidth=2, ax=ax[0])\n",
    "sns.histplot(data=rfm_df, x='Frequency', color='green', bins=15,\n",
    "             edgecolor=\"k\", linewidth=2, ax=ax[1])\n",
    "sns.histplot(data=rfm_df, x='Monetary', color='blue', bins=75,\n",
    "             edgecolor=\"k\", linewidth=2, ax=ax[2])\n",
    "plt.show()"
   ]
  },
  {
   "cell_type": "markdown",
   "id": "94c511ea-7c96-44b7-b9e8-5b2923639aaa",
   "metadata": {},
   "source": [
    "#### Recency\n",
    "Судя по графику, данные, принимающих целые значения от 1 до 714, отвечают распределению, близкому к экспоненциальному - наблюдается явная тенденция на уменьшение числа наблюдений с увеличением значения на оси абсцисс. В этом случае представляется вполне разумным использовать квартили выделения сегментов.\n",
    "\n",
    "Найдем значения квартилей и нанесем их на гистограмму распределения *Recency*."
   ]
  },
  {
   "cell_type": "code",
   "execution_count": 266,
   "id": "37aa90ad-4b87-4e18-9f4a-ded1d0536970",
   "metadata": {},
   "outputs": [
    {
     "data": {
      "text/plain": [
       "0.25    114.0\n",
       "0.50    219.0\n",
       "0.75    346.0\n",
       "Name: Recency, dtype: float64"
      ]
     },
     "execution_count": 266,
     "metadata": {},
     "output_type": "execute_result"
    }
   ],
   "source": [
    "r_quartiles = rfm_df['Recency'].quantile(q=[0.25, 0.50, 0.75])\n",
    "r_quartiles"
   ]
  },
  {
   "cell_type": "code",
   "execution_count": 267,
   "id": "2e88ae42-f931-40a5-bb96-b07a10ebb383",
   "metadata": {},
   "outputs": [
    {
     "data": {
      "image/png": "[encoded data removed]",
      "text/plain": [
       "<Figure size 1400x400 with 1 Axes>"
      ]
     },
     "metadata": {},
     "output_type": "display_data"
    }
   ],
   "source": [
    "dpi = 150  # явно зададим DPI\n",
    "clist = ['cyan', 'pink', 'yellow']  # список цветов для визуализации квартилей\n",
    "#\n",
    "fig, ax = plt.subplots(dpi=dpi, figsize=(1400/dpi, 400/dpi),\n",
    "                       constrained_layout=True)\n",
    "fig.suptitle('Distribution of Recency values with quartiles displayed')\n",
    "sns.histplot(data=rfm_df, x='Recency', color='red', bins=50,\n",
    "             edgecolor=\"k\", linewidth=2, ax=ax)\n",
    "for i in range(len(r_quartiles)):\n",
    "    ax.axvline(x=r_quartiles.iloc[i], linewidth=2.5, color=clist[i],\n",
    "               label=f'{int(100*r_quartiles.index[i])}%')\n",
    "ax.legend(title='Quartiles', framealpha=1)\n",
    "plt.show()"
   ]
  },
  {
   "attachments": {},
   "cell_type": "markdown",
   "id": "dd48d11f-5058-4549-b9ea-2a7f9626d105",
   "metadata": {},
   "source": [
    "Первые три квартиля вполне сопоставимы по размеру вдоль оси х, четвертый же является более протяженным, \"вытянутым влево\"."
   ]
  },
  {
   "cell_type": "code",
   "execution_count": 268,
   "id": "7ddb23ab-e190-4dc1-ad99-6f749cbd321f",
   "metadata": {},
   "outputs": [],
   "source": [
    "def r_score(x, quartiles):\n",
    "    '''\n",
    "    Эта функция присваивает ранги от 1 до 4 значениям параметра Recency\n",
    "    на основе квартилей его распределения.\n",
    "    Чем больше значение, тем более низкий ранг ставится ему в соответствие.\n",
    "    '''\n",
    "    if x <= quartiles[0.25]:\n",
    "        return 4\n",
    "    elif x <= quartiles[0.50]:\n",
    "        return 3\n",
    "    elif x <= quartiles[0.75]:\n",
    "        return 2\n",
    "    else:\n",
    "        return 1"
   ]
  },
  {
   "attachments": {},
   "cell_type": "markdown",
   "id": "2587c4f8-0b6c-437d-b576-38683ea6c7f5",
   "metadata": {},
   "source": [
    "#### Frequency\n",
    "Из графика *Frequency* следует, что подавляющее число пользователей совершили по одной покупке.\n",
    "\n",
    "Выведем все значения, которые принимает этот параметр, и подсчитаем, сколько раз каждое из них встречается в данных."
   ]
  },
  {
   "cell_type": "code",
   "execution_count": 269,
   "id": "47fb562a-2f52-4a42-bf61-cbf6a6378933",
   "metadata": {},
   "outputs": [
    {
     "data": {
      "text/plain": [
       "Frequency\n",
       "1     90556\n",
       "2      2573\n",
       "3       181\n",
       "4        28\n",
       "5         9\n",
       "6         5\n",
       "7         3\n",
       "9         1\n",
       "15        1\n",
       "Name: count, dtype: int64"
      ]
     },
     "execution_count": 269,
     "metadata": {},
     "output_type": "execute_result"
    }
   ],
   "source": [
    "rfm_df['Frequency'].value_counts()"
   ]
  },
  {
   "cell_type": "code",
   "execution_count": 270,
   "id": "59bfa159-0709-44b3-be78-b311f000fff1",
   "metadata": {},
   "outputs": [
    {
     "data": {
      "text/plain": [
       "9"
      ]
     },
     "execution_count": 270,
     "metadata": {},
     "output_type": "execute_result"
    }
   ],
   "source": [
    "rfm_df['Frequency'].nunique()"
   ]
  },
  {
   "cell_type": "markdown",
   "id": "bf7d9573-93b6-4b2a-adb8-1e99f53e9f84",
   "metadata": {},
   "source": [
    "Квартили не являются разумным способом разбиения на диапазоны набора данных, состоящего из девяти целых значений, одно из которых встречается значительно чаще других.\n",
    "\n",
    "В такой ситуации наиболее разумной представляется следующая схема \"ручного\" присвоения рангов:\n",
    "* Frequency = 1 - ранг 1\n",
    "* Frequency = 2 - ранг 2\n",
    "* Frequency = 3 - ранг 3\n",
    "* Frequency > 3 - ранг 4"
   ]
  },
  {
   "cell_type": "code",
   "execution_count": 271,
   "id": "1c32b1df-1ff3-4355-b68f-1dd499d73b80",
   "metadata": {},
   "outputs": [],
   "source": [
    "def f_score(x):\n",
    "    '''\n",
    "    Эта функция присваивает ранг от 1 до 4 частоте x, причем более высокий ранг\n",
    "    соответствует большей частоте.\n",
    "    '''\n",
    "    if x == 1:\n",
    "        return 1\n",
    "    elif x == 2:\n",
    "        return 2\n",
    "    elif x == 3: \n",
    "        return 3\n",
    "    else:\n",
    "        return 4"
   ]
  },
  {
   "attachments": {},
   "cell_type": "markdown",
   "id": "6bdb4e34-272e-47d3-a42b-b27109d4241a",
   "metadata": {},
   "source": [
    "#### Monetary\n",
    "Как и *Recency* с *Frequency*, значения *Monetary* отвечают экспоненциальному распределению. Но, в отличие от остальных параметров, в *Monetary* записаны числа с плавающей точкой, правый «хвост» распределения которых вытянут заметно сильнее, чем у *Recency* и *Frequency*."
   ]
  },
  {
   "cell_type": "code",
   "execution_count": 272,
   "id": "960af09a-47ef-4da4-98ec-a5a5f58303e3",
   "metadata": {},
   "outputs": [
    {
     "data": {
      "image/png": "[encoded data removed]",
      "text/plain": [
       "<Figure size 1400x400 with 1 Axes>"
      ]
     },
     "metadata": {},
     "output_type": "display_data"
    }
   ],
   "source": [
    "m_quartiles = rfm_df['Monetary'].quantile(q=[0.25, 0.50, 0.75])\n",
    "dpi = 150  # явно зададим DPI\n",
    "clist = ['cyan', 'pink', 'yellow']  # список цветов для визуализации квартилей\n",
    "#\n",
    "fig, ax = plt.subplots(dpi=dpi, figsize=(1400/dpi, 400/dpi),\n",
    "                       constrained_layout=True)\n",
    "ax.set_title('Distribution of Monetary values with quartiles displayed')\n",
    "sns.histplot(data=rfm_df, x='Monetary', color='blue', bins=75,\n",
    "             edgecolor=\"k\", linewidth=2, ax=ax)\n",
    "for i in range(len(m_quartiles)):\n",
    "    ax.axvline(x=m_quartiles.iloc[i], linewidth=2.5, color=clist[i],\n",
    "               label=f'{int(100*m_quartiles.index[i])}%')\n",
    "ax.legend(title='Quartiles', framealpha=1)\n",
    "plt.show()"
   ]
  },
  {
   "attachments": {},
   "cell_type": "markdown",
   "id": "dd851ac5-a6f6-40e0-ab1a-bc79f4524de4",
   "metadata": {},
   "source": [
    "Несмотря на результат визуализации, использование квартилей для разбиения данных на диапазоны представляется вполне разумным подходом."
   ]
  },
  {
   "cell_type": "code",
   "execution_count": 273,
   "id": "24f1bbbf-d3df-451c-b342-fedb8e35aca0",
   "metadata": {},
   "outputs": [],
   "source": [
    "def m_score(x, quartiles):\n",
    "    '''\n",
    "    Эта функция присваивает ранги от 1 до 4 значениям параметра Monetary\n",
    "    на основе квартилей его распределения.\n",
    "    Чем больше значение, тем больший ранг ставится ему в соответствие.\n",
    "    '''\n",
    "    if x <= quartiles[0.25]:\n",
    "        return 1\n",
    "    elif x <= quartiles[0.50]:\n",
    "        return 2\n",
    "    elif x <= quartiles[0.75]:\n",
    "        return 3\n",
    "    else:\n",
    "        return 4"
   ]
  },
  {
   "attachments": {},
   "cell_type": "markdown",
   "id": "0873bce5-080b-412b-b0dd-6b2555d95d57",
   "metadata": {},
   "source": [
    "**Sidenote: логарифмическое преобразование.**\n",
    "<br>Многие инструменты статистического анализа (например, t-тесты) основываются на предположении, что используемые данные имеют распределение, близкое к нормальному. Однако в реальной жизни это предположение зачастую не выполняется.\n",
    "<br>Если экспериментальные данные подчиняются экспоненциальному распределению, то значения, полученные при помощи их логарифмического преобразования, будут соответствовать распределению, близкому к нормальному. Это позволяет применять все методы анализа, требующие соблюдения условия нормальности, к преобразованному описанным способом набору данных.\n",
    "\n",
    "Возьмем натуральный логарифм наших значений *Monetary* и оценим, насколько результат этого преобразования соответствует нормальному распределению. Для этого построим гистограмму и QQ-график *ln(Monetary)*, а также выполним статистический тест Д'Агостино-Пирсона."
   ]
  },
  {
   "cell_type": "code",
   "execution_count": 274,
   "id": "78abff1b-a2d5-4ec2-9d46-a26c0a1518a7",
   "metadata": {},
   "outputs": [
    {
     "data": {
      "image/png": "[encoded data removed]",
      "text/plain": [
       "<Figure size 1400x700 with 2 Axes>"
      ]
     },
     "metadata": {},
     "output_type": "display_data"
    }
   ],
   "source": [
    "ln_m = np.log(rfm_df['Monetary'])  # pandas Series\n",
    "dpi = 150  # явно зададим DPI\n",
    "#\n",
    "fig, ax = plt.subplots(2, 1, dpi=dpi, figsize=(1400/dpi, 700/dpi),\n",
    "                       constrained_layout=True)\n",
    "ax[0].set(title='Distribution of ln(Monetary) values',\n",
    "       xlabel='ln(Monetary)')\n",
    "sns.histplot(data=ln_m, color='blue', bins=65, edgecolor=\"k\", linewidth=2,\n",
    "             ax=ax[0])\n",
    "stats.probplot(x=ln_m, dist='norm', fit=True, plot=ax[1],\n",
    "               rvalue=True)\n",
    "ax[1].set(title='QQ plot of ln(Monetary) values')\n",
    "plt.show()"
   ]
  },
  {
   "attachments": {},
   "cell_type": "markdown",
   "id": "d590d461-0e8f-4b22-b83c-6a5d80b6d92c",
   "metadata": {},
   "source": [
    "Визуальный анализ графиков свидетельствует о том, что распределение лог-трансформированных данных действительно близко к распределению Гаусса. Так, коэффициент детерминации $R^2$, показывающий, какой процент дисперсии значений *ln(Monetary)* объясняется сопоставлением с нормальным распределением, составляет 99,5%."
   ]
  },
  {
   "cell_type": "code",
   "execution_count": 275,
   "id": "e6073498-9611-4b33-9307-01d77508cb61",
   "metadata": {},
   "outputs": [
    {
     "data": {
      "text/plain": [
       "NormaltestResult(statistic=1132.527163696627, pvalue=1.1880948148335366e-246)"
      ]
     },
     "execution_count": 275,
     "metadata": {},
     "output_type": "execute_result"
    }
   ],
   "source": [
    "stats.normaltest(ln_m)"
   ]
  },
  {
   "attachments": {},
   "cell_type": "markdown",
   "id": "fe263722-2497-4e61-8262-7368a39069e7",
   "metadata": {},
   "source": [
    "Крайне низкое р-значение, полученное в результате теста Д'Агостино-Пирсона, говорит о том, что нулевая гипотеза (данные отвечают нормальному распределению) должна быть отброшена в пользу альтернативной. Что противоречит результатам визуального анализа гистограммы и QQ-графика. Причиной такого расхождения может быть крайне высокая чувствительность теста, которая, при большом размере выборки (в нашем случае - 93357), приводит к очень низкому p-значению даже при небольших отклонениях от нормальности.\n",
    "\n",
    "Поскольку большая часть значений на QQ-графике выстраивается вдоль диагональной fit-линии, трансформированные данные можно считать достаточно нормальными для применения требующих соблюдения этого условия инструментов статистического анализа.\n",
    "**Конец sidenote**"
   ]
  },
  {
   "cell_type": "markdown",
   "id": "13bb5273-5f92-4330-8835-ea5fea5c5b57",
   "metadata": {},
   "source": [
    "Рассчитаем ранги *R, F, M*, сохраним их в датафрейме **rfm_df**, и, наконец, объединим их в итоговый показатель *RFM*."
   ]
  },
  {
   "cell_type": "code",
   "execution_count": 276,
   "id": "e0d3b04a-3739-4a05-aaea-a7425005e4fb",
   "metadata": {},
   "outputs": [
    {
     "data": {
      "text/html": [
       "<div>\n",
       "<style scoped>\n",
       "    .dataframe tbody tr th:only-of-type {\n",
       "        vertical-align: middle;\n",
       "    }\n",
       "\n",
       "    .dataframe tbody tr th {\n",
       "        vertical-align: top;\n",
       "    }\n",
       "\n",
       "    .dataframe thead th {\n",
       "        text-align: right;\n",
       "    }\n",
       "</style>\n",
       "<table border=\"1\" class=\"dataframe\">\n",
       "  <thead>\n",
       "    <tr style=\"text-align: right;\">\n",
       "      <th></th>\n",
       "      <th>CustomerID</th>\n",
       "      <th>Recency</th>\n",
       "      <th>Frequency</th>\n",
       "      <th>Monetary</th>\n",
       "      <th>R</th>\n",
       "      <th>F</th>\n",
       "      <th>M</th>\n",
       "      <th>RFM</th>\n",
       "    </tr>\n",
       "  </thead>\n",
       "  <tbody>\n",
       "    <tr>\n",
       "      <th>0</th>\n",
       "      <td>0000366f3b9a7992bf8c76cfdf3221e2</td>\n",
       "      <td>112</td>\n",
       "      <td>1</td>\n",
       "      <td>129.90</td>\n",
       "      <td>4</td>\n",
       "      <td>1</td>\n",
       "      <td>3</td>\n",
       "      <td>413</td>\n",
       "    </tr>\n",
       "    <tr>\n",
       "      <th>1</th>\n",
       "      <td>0000b849f77a49e4a4ce2b2a4ca5be3f</td>\n",
       "      <td>115</td>\n",
       "      <td>1</td>\n",
       "      <td>18.90</td>\n",
       "      <td>3</td>\n",
       "      <td>1</td>\n",
       "      <td>1</td>\n",
       "      <td>311</td>\n",
       "    </tr>\n",
       "    <tr>\n",
       "      <th>2</th>\n",
       "      <td>0000f46a3911fa3c0805444483337064</td>\n",
       "      <td>537</td>\n",
       "      <td>1</td>\n",
       "      <td>69.00</td>\n",
       "      <td>1</td>\n",
       "      <td>1</td>\n",
       "      <td>2</td>\n",
       "      <td>112</td>\n",
       "    </tr>\n",
       "    <tr>\n",
       "      <th>3</th>\n",
       "      <td>0000f6ccb0745a6a4b88665a16c9f078</td>\n",
       "      <td>321</td>\n",
       "      <td>1</td>\n",
       "      <td>25.99</td>\n",
       "      <td>2</td>\n",
       "      <td>1</td>\n",
       "      <td>1</td>\n",
       "      <td>211</td>\n",
       "    </tr>\n",
       "    <tr>\n",
       "      <th>4</th>\n",
       "      <td>0004aac84e0df4da2b147fca70cf8255</td>\n",
       "      <td>288</td>\n",
       "      <td>1</td>\n",
       "      <td>180.00</td>\n",
       "      <td>2</td>\n",
       "      <td>1</td>\n",
       "      <td>4</td>\n",
       "      <td>214</td>\n",
       "    </tr>\n",
       "  </tbody>\n",
       "</table>\n",
       "</div>"
      ],
      "text/plain": [
       "                         CustomerID  Recency  Frequency  Monetary  R  F  M  \\\n",
       "0  0000366f3b9a7992bf8c76cfdf3221e2      112          1    129.90  4  1  3   \n",
       "1  0000b849f77a49e4a4ce2b2a4ca5be3f      115          1     18.90  3  1  1   \n",
       "2  0000f46a3911fa3c0805444483337064      537          1     69.00  1  1  2   \n",
       "3  0000f6ccb0745a6a4b88665a16c9f078      321          1     25.99  2  1  1   \n",
       "4  0004aac84e0df4da2b147fca70cf8255      288          1    180.00  2  1  4   \n",
       "\n",
       "   RFM  \n",
       "0  413  \n",
       "1  311  \n",
       "2  112  \n",
       "3  211  \n",
       "4  214  "
      ]
     },
     "execution_count": 276,
     "metadata": {},
     "output_type": "execute_result"
    }
   ],
   "source": [
    "rfm_df['R'] = rfm_df['Recency'].apply(r_score, args=(r_quartiles,))\n",
    "rfm_df['F'] = rfm_df['Frequency'].apply(f_score)\n",
    "rfm_df['M'] = rfm_df['Monetary'].apply(m_score, args=(m_quartiles,))\n",
    "rfm_df['RFM'] = (rfm_df['R'].astype(str) + rfm_df['F'].astype(str)\n",
    "                 + rfm_df['M'].astype(str)).astype(int)\n",
    "rfm_df.head()"
   ]
  },
  {
   "cell_type": "code",
   "execution_count": 277,
   "id": "f199fb4d-3947-4aae-b94b-44e437191baf",
   "metadata": {},
   "outputs": [
    {
     "name": "stdout",
     "output_type": "stream",
     "text": [
      "<class 'pandas.core.frame.DataFrame'>\n",
      "RangeIndex: 93357 entries, 0 to 93356\n",
      "Data columns (total 8 columns):\n",
      " #   Column      Non-Null Count  Dtype  \n",
      "---  ------      --------------  -----  \n",
      " 0   CustomerID  93357 non-null  object \n",
      " 1   Recency     93357 non-null  int64  \n",
      " 2   Frequency   93357 non-null  int64  \n",
      " 3   Monetary    93357 non-null  float64\n",
      " 4   R           93357 non-null  int64  \n",
      " 5   F           93357 non-null  int64  \n",
      " 6   M           93357 non-null  int64  \n",
      " 7   RFM         93357 non-null  int64  \n",
      "dtypes: float64(1), int64(6), object(1)\n",
      "memory usage: 5.7+ MB\n"
     ]
    }
   ],
   "source": [
    "rfm_df.info()"
   ]
  },
  {
   "cell_type": "markdown",
   "id": "b69d1f66-f0c9-48ca-974c-a8eec90be304",
   "metadata": {},
   "source": [
    "### Выделение сегментов"
   ]
  },
  {
   "cell_type": "markdown",
   "id": "993d4f19-5da2-48a9-8a2b-4c71e00aa530",
   "metadata": {},
   "source": [
    "На основе анализа полученной таблицы предлагается разделить пользователей на следующие 7 сегментов:"
   ]
  },
  {
   "cell_type": "markdown",
   "id": "f20d2d2e-4d91-44ba-bf7c-191331b86576",
   "metadata": {},
   "source": [
    "| Сегмент | Описание |\n",
    "|----------|----------|\n",
    "| Чемпионы | Совершили свою последнюю покупку сравнительно недавно, при этом покупают чаще и тратят больше всех |\n",
    "| Лояльные клиенты | Совершили свою последнюю покупку сравнительно недавно, в общей сложности сделали 2-3 покупки и потратили больше денег, чем средний клиент |\n",
    "| Потенциальные лоялисты | Схожи с лояльными клиентами, но потратили меньше среднего |\n",
    "| Спящие | Совершили свою последнюю покупку очень давно |\n",
    "| Скоро уснут | Схоже с \"спящими\" клиентами, но их последняя покупка была совершена ближе к контрольной дате |\n",
    "| Новые клиенты | Недавно совершившие свою первую покупку |\n",
    "| Требуют внимания | Совершили только одну покупку, причем относительно недавно (но раньше, чем новые клиенты)|"
   ]
  },
  {
   "cell_type": "code",
   "execution_count": 278,
   "id": "0ed266ea-11e5-440e-82be-1fe931520a45",
   "metadata": {},
   "outputs": [],
   "source": [
    "segments = {\n",
    "    r'[3-4]44': 'Чемпионы',\n",
    "    r'[3-4][2-3][3-4]': 'Лояльные клиенты',\n",
    "    r'[3-4][2-3][1-2]': 'Потенциальные лоялисты',\n",
    "    r'1[1-4][1-4]': 'Спящие',\n",
    "    r'2[1-4][1-4]': 'Скоро уснут',\n",
    "    r'41[1-4]': 'Новые клиенты',\n",
    "    r'31[1-4]': 'Требуют внимания',\n",
    "}\n",
    "\n",
    "rfm_df['Segment'] = rfm_df['RFM'].astype(str)\n",
    "rfm_df['Segment'] = rfm_df['Segment'].replace(segments, regex=True)"
   ]
  },
  {
   "cell_type": "markdown",
   "id": "c3b1b46b-46bf-4f9a-82f0-98fcd8153923",
   "metadata": {},
   "source": [
    "Проверим, всем ли клиентам был присвоен сегмент."
   ]
  },
  {
   "cell_type": "code",
   "execution_count": 279,
   "id": "ea228906-e752-4df3-a49a-236d128f6498",
   "metadata": {},
   "outputs": [
    {
     "data": {
      "text/plain": [
       "array(['Новые клиенты', 'Требуют внимания', 'Спящие', 'Скоро уснут',\n",
       "       'Потенциальные лоялисты', 'Лояльные клиенты', 'Чемпионы'],\n",
       "      dtype=object)"
      ]
     },
     "execution_count": 279,
     "metadata": {},
     "output_type": "execute_result"
    }
   ],
   "source": [
    " rfm_df['Segment'].unique()"
   ]
  },
  {
   "cell_type": "markdown",
   "id": "1957d603-5ee9-4fea-bc1e-afb40d773a66",
   "metadata": {},
   "source": [
    "Сколько пользователей попало в тот или иной сегмент?"
   ]
  },
  {
   "cell_type": "code",
   "execution_count": 280,
   "id": "fda05db5-02d1-447b-b76d-ad0ebdc96e96",
   "metadata": {},
   "outputs": [
    {
     "data": {
      "text/plain": [
       "Segment\n",
       "Спящие                    23310\n",
       "Скоро уснут               23200\n",
       "Требуют внимания          22685\n",
       "Новые клиенты             22613\n",
       "Лояльные клиенты           1279\n",
       "Потенциальные лоялисты      233\n",
       "Чемпионы                     37\n",
       "Name: count, dtype: int64"
      ]
     },
     "execution_count": 280,
     "metadata": {},
     "output_type": "execute_result"
    }
   ],
   "source": [
    "rfm_df['Segment'].value_counts()"
   ]
  },
  {
   "cell_type": "code",
   "execution_count": 281,
   "id": "acd83c4f-50df-4b9a-9617-5fceda0037d7",
   "metadata": {},
   "outputs": [
    {
     "data": {
      "text/plain": [
       "0.016195893184228285"
      ]
     },
     "execution_count": 281,
     "metadata": {},
     "output_type": "execute_result"
    }
   ],
   "source": [
    "temp = rfm_df['Segment'].value_counts()\n",
    "\n",
    "(temp['Лояльные клиенты'] + temp['Потенциальные лоялисты']) / temp.sum()"
   ]
  },
  {
   "cell_type": "code",
   "execution_count": 282,
   "id": "1ae2a1b6-52a7-4e61-a552-05fc0991e095",
   "metadata": {},
   "outputs": [
    {
     "data": {
      "text/plain": [
       "0.24222072260248295"
      ]
     },
     "execution_count": 282,
     "metadata": {},
     "output_type": "execute_result"
    }
   ],
   "source": [
    "temp['Новые клиенты']/ temp.sum()"
   ]
  },
  {
   "cell_type": "markdown",
   "id": "fab37445-1354-4eec-a89c-c07bda4a741d",
   "metadata": {},
   "source": [
    "### Выводы\n",
    "**1. Около половины клиентов относятся к сегментам «спящие» и «скоро уснут».**\n",
    "<br>Большое число клиентов либо уже потеряли интерес к продукту, либо находятся на грани этого. Необходимо принять меры для их повторной активации, например, посредством специальных предложений или персонализированных рекламных кампаний.\n",
    "<br>**2. 24.3% клиентов «требуют внимания».**\n",
    "<br>Они совершили свою первую и единственную покупку относительно недавно, в период от 115 до 219 дней до контрольной даты. Важно не дать им «уснуть» и вовлечь в регулярные покупки, возможно, предложив им выгодные условия на следующую покупку или программы лояльности.\n",
    "<br>**3. 24.2% клиентов являются новыми.**\n",
    "<br>Сегмент «новые клиенты», к которому относятся пользователи, совершившие первую покупку в период до 114 дней до контрольной даты, также весьма значителен по размеру. Это свидетельствует о большом притоке новых покупателей. Следует заниматься их удержанием, предлагая высококачественное обслуживание и продукты, а также искать механизмы их перемещения в сегменты \"потенциальные лоялисты\" и более высокие.\n",
    "<br>**4. «Потенциальные лоялисты» и «лояльные клиенты» составляют 1.6% от общего числа клиентов.**\n",
    "<br>Необходимо изучить, что удерживает этих клиентов, и попытаться расширить данные сегменты. Возможно, стоит персонализировать предложения и/или усилить поддержку для этих клиентов, чтобы не потерять их.\n",
    "<br>**5. Всего 37 клиентов являются «чемпионами».**\n",
    "<br>Это самые ценные клиенты, но их, к сожалению, крайне мало относительно общего числа. Нужно уделять им особое внимание, чтобы они продолжали покупать чаще и больше остальных, а также могли становиться амбассадорами бренда.\n",
    "\n",
    "Таким образом, текущая картина показывает наличие как значительных рисков (большое количество \"спящих\" и \"скоро уснут\" клиентов), так и возможностей для роста (большое количество новых клиентов и клиентов, требующих внимания)."
   ]
  },
  {
   "cell_type": "code",
   "execution_count": 283,
   "id": "a6e9853a-951e-43c0-9408-c331eb257bd8",
   "metadata": {},
   "outputs": [],
   "source": [
    "# Удаляем ненужное\n",
    "del (\n",
    "    ax, clist, dpi, fig, filtered_orders_df, i, ln_m, m_quartiles, m_score, temp,\n",
    "    segments, rfm_df, reference_date, r_quartiles, merged_df\n",
    ") "
   ]
  }
 ],
 "metadata": {
  "kernelspec": {
   "display_name": "Python [conda env:sandbox]",
   "language": "python",
   "name": "conda-env-sandbox-py"
  },
  "language_info": {
   "codemirror_mode": {
    "name": "ipython",
    "version": 3
   },
   "file_extension": ".py",
   "mimetype": "text/x-python",
   "name": "python",
   "nbconvert_exporter": "python",
   "pygments_lexer": "ipython3",
   "version": "3.10.13"
  }
 },
 "nbformat": 4,
 "nbformat_minor": 5
}
