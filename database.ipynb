{
 "cells": [
  {
   "attachments": {},
   "cell_type": "markdown",
   "id": "342865dc-8981-4b57-bf7a-62c9fbb18ecf",
   "metadata": {},
   "source": [
    "# Реляционная база данных\n",
    "Команда образовательной платформы Х собрала информацию для A/B-тестирования нового экрана оплаты услуг на сайте и на её основе создала реляционную базу данных, управляемую системой Clickhouse ([источник](https://karpov.courses/analytics)). Необходимо определить количество усердных студентов, сохраненных в этой базе данных, и рассчитать различные продуктовые метрики для контрольной группы A и пилотной группы B.\n",
    "## Описание данных\n",
    "<div style=\"text-align: center;\">\n",
    "<b>peas</b>\n",
    "</div>\n",
    "\n",
    "| Название атрибута | Тип данных | Описание                  |\n",
    "|-------------------|--------------|------------------------------------|\n",
    "| st_id             | int          | ID студента                          |\n",
    "| timest            | timestamp    | Время решения задачи              |\n",
    "| correct           | bool         | Правильно ли решена задача?      |\n",
    "| subject           | text         | Курс, из которого взята задача |\n",
    "\n",
    "\n",
    "<div style=\"text-align: center;\">\n",
    "<b>studs</b>\n",
    "</div>\n",
    "\n",
    "| Название атрибута | Тип данных | Описание                  |\n",
    "|-------------------|--------------|------------------------------------|\n",
    "| st_id             | int          | ID студента                          |\n",
    "| test_grp          | text         | Группа, к которой отнесен студент       |\n",
    "\n",
    "<div style=\"text-align: center;\">\n",
    "<b>final_project_check</b>\n",
    "</div>\n",
    "\n",
    "| Название атрибута | Тип данных | Описание                  |\n",
    "|-------------------|--------------|------------------------------------|\n",
    "| st_id             | int          | ID студента                          |\n",
    "| sale_time         | timestamp    | Время покупки курса             |\n",
    "| money             | int          | Цена, по которой приобрели курс   |\n",
    "| subject           | text         | Название курса                      |\n",
    "\n",
    "**NOTE:** Платформа предоставляет возможность проходить курсы по модели trial, в рамках которой пользователь может бесплатно получить доступ к 30 заданиям в день. Для снятия этого ограничения необходимо приобрести полный доступ к конкретному курсу."
   ]
  },
  {
   "cell_type": "markdown",
   "id": "33a539be-1c9b-4138-871f-2509511b783f",
   "metadata": {},
   "source": [
    "## Импорт библиотек\n",
    "Для отправки SQL-запросов к базе данных и обработки её откликов будет использована библиотека pandahouse."
   ]
  },
  {
   "cell_type": "code",
   "execution_count": 1,
   "id": "c4ecd785-1850-4516-be8a-b0e3069e7dff",
   "metadata": {},
   "outputs": [],
   "source": [
    "import pandahouse as ph\n",
    "import pandas as pd\n",
    "import numpy as np"
   ]
  },
  {
   "cell_type": "markdown",
   "id": "b42fefc4-d0c2-48d2-bca7-95326537d83f",
   "metadata": {},
   "source": [
    "## Параметры подключения к базе данных"
   ]
  },
  {
   "cell_type": "code",
   "execution_count": 2,
   "id": "574b034c-a59f-4ade-b81a-436d102b4390",
   "metadata": {},
   "outputs": [],
   "source": [
    "connection_default = {'host': 'https://clickhouse.lab.karpov.courses',\n",
    "                      'database':'default',\n",
    "                      'user':'student', \n",
    "                      'password':'dpo_python_2020'}"
   ]
  },
  {
   "cell_type": "markdown",
   "id": "11c44d24-2832-4096-a258-49008d653551",
   "metadata": {},
   "source": [
    "## Усердные студенты\n",
    "Пусть усердный студент – это такой пользователь платформы, что хотя бы один раз правильно решил 20 и более заданий за месяц. Напишем запрос к базе данных, который выведет количество таких студентов.\n",
    "\n",
    "Прежде всего, определим, за какой период времени собраны данные."
   ]
  },
  {
   "cell_type": "code",
   "execution_count": 3,
   "id": "fbd19542-ea54-4fec-937b-72de28cb0ae2",
   "metadata": {},
   "outputs": [
    {
     "data": {
      "text/html": [
       "<div>\n",
       "<style scoped>\n",
       "    .dataframe tbody tr th:only-of-type {\n",
       "        vertical-align: middle;\n",
       "    }\n",
       "\n",
       "    .dataframe tbody tr th {\n",
       "        vertical-align: top;\n",
       "    }\n",
       "\n",
       "    .dataframe thead th {\n",
       "        text-align: right;\n",
       "    }\n",
       "</style>\n",
       "<table border=\"1\" class=\"dataframe\">\n",
       "  <thead>\n",
       "    <tr style=\"text-align: right;\">\n",
       "      <th></th>\n",
       "      <th>min_date</th>\n",
       "      <th>max_date</th>\n",
       "    </tr>\n",
       "  </thead>\n",
       "  <tbody>\n",
       "    <tr>\n",
       "      <th>0</th>\n",
       "      <td>2021-10-30 13:00:00.000</td>\n",
       "      <td>2021-10-31 17:29:52.000</td>\n",
       "    </tr>\n",
       "  </tbody>\n",
       "</table>\n",
       "</div>"
      ],
      "text/plain": [
       "                  min_date                 max_date\n",
       "0  2021-10-30 13:00:00.000  2021-10-31 17:29:52.000"
      ]
     },
     "execution_count": 3,
     "metadata": {},
     "output_type": "execute_result"
    }
   ],
   "source": [
    "# Запрос вида MIN(timest) as min_date приводит к ошибке pandahouse.\n",
    "# Поэтому считываем время как строку.\n",
    "query = '''\n",
    "SELECT \n",
    "    CAST(MIN(timest) as VARCHAR) as min_date, \n",
    "    CAST(MAX(timest) as VARCHAR) as max_date\n",
    "FROM {db}.peas\n",
    "'''\n",
    "df = ph.read_clickhouse(query, connection=connection_default)\n",
    "df"
   ]
  },
  {
   "attachments": {},
   "cell_type": "markdown",
   "id": "50960bfa-3380-4432-bb48-23a8aa800ede",
   "metadata": {},
   "source": [
    "Видно, что в данных содержатся записи только за 2 дня октября 2021-го. \n",
    "Тем не менее, при составлении запроса для вывода числа усердных студентов учтём, что подобные **peas** таблицы гипотетически могут содержать информацию, собранную за несколько месяцев и даже лет."
   ]
  },
  {
   "cell_type": "code",
   "execution_count": 4,
   "id": "786437be-26e8-42fd-b455-669d2db7aed1",
   "metadata": {},
   "outputs": [
    {
     "data": {
      "text/html": [
       "<div>\n",
       "<style scoped>\n",
       "    .dataframe tbody tr th:only-of-type {\n",
       "        vertical-align: middle;\n",
       "    }\n",
       "\n",
       "    .dataframe tbody tr th {\n",
       "        vertical-align: top;\n",
       "    }\n",
       "\n",
       "    .dataframe thead th {\n",
       "        text-align: right;\n",
       "    }\n",
       "</style>\n",
       "<table border=\"1\" class=\"dataframe\">\n",
       "  <thead>\n",
       "    <tr style=\"text-align: right;\">\n",
       "      <th></th>\n",
       "      <th>mod_date</th>\n",
       "      <th>diligent_students</th>\n",
       "    </tr>\n",
       "  </thead>\n",
       "  <tbody>\n",
       "    <tr>\n",
       "      <th>0</th>\n",
       "      <td>2021-10-01</td>\n",
       "      <td>136</td>\n",
       "    </tr>\n",
       "  </tbody>\n",
       "</table>\n",
       "</div>"
      ],
      "text/plain": [
       "    mod_date  diligent_students\n",
       "0 2021-10-01                136"
      ]
     },
     "execution_count": 4,
     "metadata": {},
     "output_type": "execute_result"
    }
   ],
   "source": [
    "query = '''\n",
    "-- Вывод числа усердных студентов за каждый месяц, содержащийся в данных. \n",
    "SELECT\n",
    "    mod_date,\n",
    "    count(st_id) as diligent_students\n",
    "FROM\n",
    "    (\n",
    "    SELECT\n",
    "        toStartOfMonth(timest) as mod_date,\n",
    "        st_id\n",
    "    FROM peas\n",
    "    -- Группировка записей в таблице по месяцам и id студентов.\n",
    "    GROUP BY mod_date, st_id\n",
    "    /* Подсчет количества заданий, выполненных студентом за текущий месяц.\n",
    "    Если студент решил больше 20 заданий за текущий месяц, сохраняем его id и\n",
    "    соответствующую дату в результирующей таблице. */\n",
    "    HAVING sum(correct) >= 20\n",
    "    )\n",
    "GROUP BY mod_date\n",
    "'''\n",
    "df = ph.read_clickhouse(query, connection=connection_default)\n",
    "df"
   ]
  },
  {
   "cell_type": "code",
   "execution_count": 5,
   "id": "0a3449df-0ea1-4db9-bf1b-33be57038dd6",
   "metadata": {},
   "outputs": [
    {
     "name": "stdout",
     "output_type": "stream",
     "text": [
      "<class 'pandas.core.frame.DataFrame'>\n",
      "RangeIndex: 1 entries, 0 to 0\n",
      "Data columns (total 2 columns):\n",
      " #   Column             Non-Null Count  Dtype         \n",
      "---  ------             --------------  -----         \n",
      " 0   mod_date           1 non-null      datetime64[ns]\n",
      " 1   diligent_students  1 non-null      uint64        \n",
      "dtypes: datetime64[ns](1), uint64(1)\n",
      "memory usage: 144.0 bytes\n"
     ]
    }
   ],
   "source": [
    "df.info()"
   ]
  },
  {
   "cell_type": "markdown",
   "id": "0830a511-aa57-4fa2-ad5e-62375d972c4a",
   "metadata": {},
   "source": [
    "## Расчет продуктовых метрик \n",
    "С помощью *одного запроса* к базе данных выведем следующую информацию о группах пользователей:\n",
    "* средний доход с пользователя;\n",
    "* средний доход с платящего пользователя;\n",
    "* средний доход с активного пользователя; \n",
    "* коэффициент конверсии пользователей в покупку; \n",
    "* коэффициент конверсии активных пользователей в покупку;\n",
    "* коэффициент конверсии пользователей, проявлявших активность в курсе математики, в покупку этого курса.\n",
    "\n",
    "**Notes**:\n",
    "<br>*Активным* считается пользователь, за все время решивший правильно более 10 любых задач.\n",
    "<br>*Активным по математике* считается пользователь, который за все время правильно решил две или более задачи в курсе математики.\n",
    "\n",
    "Прежде всего, опишем, как будут рассчитываться метрики, а также введем их обозначения для применения в итоговой таблице.\n",
    "* Средний доход с пользователя (**ARPU**) - отношение дохода, полученного со всех пользователей, к числу всех пользователей.\n",
    "* Средний доход с платящего пользователя (**ARPPU**) - отношение дохода, полученного со всех пользователей, к числу пользователей, совершивших хотя бы одну покупку.\n",
    "* Средний доход с активного пользователя (**ARPАU**) - отношение дохода, полученного со всех пользователей, к числу активных пользователей.\n",
    "* Коэффициент конверсии пользователей в покупку (**CR**) - отношение числа пользователей, совершивших покупку, к общему числу пользователей.\n",
    "* Коэффициент конверсии активных пользователей в покупку (**CR_active**) - отношение числа активных пользователей, купивших какой-либо курс, к общему числу активных пользователей.\n",
    "* Коэффициент конверсии пользователей, проявлявших активность в курсе математики, в покупку этого курса (**CR_math_active**) - отношение числа пользователей, верно решивших за всё время более 2 задач по математике и купивших курс по ней, к общему числу пользователей, проявлявших активность в математике.\n",
    "\n",
    "Предположим, что не все пользователи покупали курсы / решали задачки. Тогда самый полный список *st_id* хранится в таблице **studs**; именно она и будет использоваться в качестве каркаса для вычислений.\n",
    "\n",
    "Перейдем к написанию запроса."
   ]
  },
  {
   "cell_type": "code",
   "execution_count": 6,
   "id": "3492db79-5593-4b48-9569-88e6d26384fa",
   "metadata": {},
   "outputs": [
    {
     "data": {
      "text/html": [
       "<div>\n",
       "<style scoped>\n",
       "    .dataframe tbody tr th:only-of-type {\n",
       "        vertical-align: middle;\n",
       "    }\n",
       "\n",
       "    .dataframe tbody tr th {\n",
       "        vertical-align: top;\n",
       "    }\n",
       "\n",
       "    .dataframe thead th {\n",
       "        text-align: right;\n",
       "    }\n",
       "</style>\n",
       "<table border=\"1\" class=\"dataframe\">\n",
       "  <thead>\n",
       "    <tr style=\"text-align: right;\">\n",
       "      <th></th>\n",
       "      <th>test_grp</th>\n",
       "      <th>ARPU</th>\n",
       "      <th>ARPPU</th>\n",
       "      <th>ARPAU</th>\n",
       "      <th>CR</th>\n",
       "      <th>CR_active</th>\n",
       "      <th>CR_math_active</th>\n",
       "    </tr>\n",
       "  </thead>\n",
       "  <tbody>\n",
       "    <tr>\n",
       "      <th>0</th>\n",
       "      <td>control</td>\n",
       "      <td>4540.984</td>\n",
       "      <td>92333.333</td>\n",
       "      <td>10905.512</td>\n",
       "      <td>0.049</td>\n",
       "      <td>0.11</td>\n",
       "      <td>0.061</td>\n",
       "    </tr>\n",
       "    <tr>\n",
       "      <th>1</th>\n",
       "      <td>pilot</td>\n",
       "      <td>11508.475</td>\n",
       "      <td>106093.750</td>\n",
       "      <td>35364.583</td>\n",
       "      <td>0.108</td>\n",
       "      <td>0.26</td>\n",
       "      <td>0.095</td>\n",
       "    </tr>\n",
       "  </tbody>\n",
       "</table>\n",
       "</div>"
      ],
      "text/plain": [
       "  test_grp       ARPU       ARPPU      ARPAU     CR  CR_active  CR_math_active\n",
       "0  control   4540.984   92333.333  10905.512  0.049       0.11           0.061\n",
       "1    pilot  11508.475  106093.750  35364.583  0.108       0.26           0.095"
      ]
     },
     "execution_count": 6,
     "metadata": {},
     "output_type": "execute_result"
    }
   ],
   "source": [
    "query = (\n",
    "'''\n",
    "SELECT\n",
    "    test_grp,\n",
    "    sum(money_spent) / count(*) as ARPU,\n",
    "    sum(money_spent) / sum(made_purchase) as ARPPU,\n",
    "    sum(money_spent) / sum(active) as ARPAU,\n",
    "    sum(made_purchase) / count(*) as CR,\n",
    "    sum(active_made_purchase) / sum(active) as CR_active,\n",
    "    sum(math_active_made_purchase) / sum(math_active) as CR_math_active\n",
    "FROM\n",
    "    (\n",
    "    SELECT \n",
    "        a.test_grp as test_grp,\n",
    "        a.st_id as st_id,\n",
    "        b.money_spent as money_spent,\n",
    "        -- if(X, Y, Z) = CASE WHEN X THEN Y ELSE Z END\n",
    "        if(b.st_id = '', 0, 1) as made_purchase,\n",
    "        if(c.st_id = '', 0, 1) as math_made_purchase,\n",
    "        if(d.st_id = '', 0, 1) as active,\n",
    "        if(e_.st_id = '', 0, 1) as math_active,\n",
    "        if(made_purchase + active != 2, 0, 1) as active_made_purchase,\n",
    "        if(math_made_purchase + math_active != 2, 0, 1) as math_active_made_purchase\n",
    "    FROM studs as a\n",
    "    --\n",
    "    LEFT JOIN\n",
    "        (\n",
    "        -- Таблица со столбцами:\n",
    "        -- ID студента | полный размер потраченных им денежных средств.\n",
    "        SELECT\n",
    "            st_id,\n",
    "            sum(money) as money_spent\n",
    "        FROM final_project_check\n",
    "        GROUP BY st_id\n",
    "        ) as b\n",
    "    ON a.st_id = b.st_id\n",
    "    --\n",
    "    LEFT JOIN\n",
    "        (\n",
    "        -- Колонка с ID студентов, купивших курсы по математике.\n",
    "        SELECT st_id\n",
    "        FROM final_project_check\n",
    "        WHERE subject = 'Math'\n",
    "        GROUP BY st_id\n",
    "        ) as c\n",
    "    ON a.st_id = c.st_id\n",
    "    --\n",
    "    LEFT JOIN\n",
    "        (\n",
    "        -- Колонка с ID активных студентов.\n",
    "        SELECT st_id\n",
    "        FROM peas\n",
    "        GROUP BY st_id\n",
    "        HAVING sum(correct) > 10    \n",
    "        ) as d\n",
    "    ON a.st_id = d.st_id\n",
    "    --\n",
    "    LEFT JOIN\n",
    "        (\n",
    "        -- Колонка с ID студентов, проявивших активность в курсе математики.\n",
    "        SELECT st_id\n",
    "        FROM peas\n",
    "        WHERE subject = 'Math'\n",
    "        GROUP BY st_id\n",
    "        HAVING sum(correct) >= 2\n",
    "        ) as e_\n",
    "    ON a.st_id = e_.st_id\n",
    "    )\n",
    "GROUP BY test_grp\n",
    "'''\n",
    ")\n",
    "\n",
    "df = (ph.read_clickhouse(query, connection=connection_default))\n",
    "df.round(3)"
   ]
  },
  {
   "cell_type": "markdown",
   "id": "e8f98dd4-657d-4485-9aa7-4435b0fc7163",
   "metadata": {},
   "source": [
    "В подзапросе была создана таблица следующего вида:\n",
    "| Группа | ID студента | Сколько денег потратил | Покупал курсы? | Купил курс по математике? | Был активным? | Был активным в математике? | Был активным и покупал курсы? | Был активным в математике и купил курс по ней? | \n",
    "|--------|-------------|------------------------|----------------|---------------------------|---------------|----------------------------|-----------------------------------|----------------|\n",
    "\n",
    "И далее уже на её основе выполнялся расчет финальной таблицы с метриками тестовых групп. "
   ]
  }
 ],
 "metadata": {
  "kernelspec": {
   "display_name": "Python [conda env:sandbox]",
   "language": "python",
   "name": "conda-env-sandbox-py"
  },
  "language_info": {
   "codemirror_mode": {
    "name": "ipython",
    "version": 3
   },
   "file_extension": ".py",
   "mimetype": "text/x-python",
   "name": "python",
   "nbconvert_exporter": "python",
   "pygments_lexer": "ipython3",
   "version": "3.10.13"
  }
 },
 "nbformat": 4,
 "nbformat_minor": 5
}
