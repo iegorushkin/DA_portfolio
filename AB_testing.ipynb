{
 "cells": [
  {
   "attachments": {},
   "cell_type": "markdown",
   "id": "4a816504-93c7-4abd-bc82-b34c03475c4e",
   "metadata": {
    "tags": []
   },
   "source": [
    "# A/B–тестирование\n",
    "В необозначенный момент времени пользователи образовательной онлайн-платформы Х были случайным образом распределены либо в контрольную группу A, либо в целевую группу B. В течение также неназванного периода наблюдения при оформлении покупки на сайте пользователям из группы A предлагалось воспользоваться базовой механикой оплаты, а членам группы B — обновлённой. Все релевантные взаимодействия участников эксперимента с сайтом были записаны в .csv-таблицы. \n",
    "\n",
    "Ноутбук посвящен анализу этого набора данных ([источник](https://karpov.courses/analytics)) с целью оценки целесообразности развертывания новой механики оплаты на всех нынешних и будущих пользователей платформы."
   ]
  },
  {
   "cell_type": "markdown",
   "id": "5155e8bd-d884-42b6-b3a9-62574aeb2b69",
   "metadata": {},
   "source": [
    "## Описание данных\n",
    "### groups.csv - таблица с информацией о принадлежности пользователей к контрольной (А) или целевой (В) группе.\n",
    "* *id* - уникальный идентификатор пользователя в системе.\n",
    "* *grp* - группа, к которой принадлежит пользователь.\n",
    "### groups_add.csv - дополнительная таблица с информацией о принадлежности пользователей к группе А или В.\n",
    "* *id* - уникальный идентификатор пользователя в системе.\n",
    "* *grp* - группа, к которой принадлежит пользователь.\n",
    "### active_studs.csv - список пользователей, воспользовавшихся платформой в период сбора данных.\n",
    "* *student_id* - то же, что *id*.\n",
    "### checks.csv - таблица с информацией о размере денежных средств, потраченных пользователями платформы в период сбора данных. \n",
    "* *student_id* - то же, что *id*.\n",
    "* *rev* - сколько денег было потрачено пользователем."
   ]
  },
  {
   "cell_type": "markdown",
   "id": "86f5119a-412b-435c-bb19-435f3c1713e1",
   "metadata": {},
   "source": [
    "## Импорт библиотек"
   ]
  },
  {
   "cell_type": "code",
   "execution_count": 1,
   "id": "dee4139e-7ac7-4ed7-9379-ba7ea3eb757d",
   "metadata": {},
   "outputs": [],
   "source": [
    "import matplotlib.pyplot as plt\n",
    "import numpy as np\n",
    "import pandas as pd\n",
    "import pingouin as pg\n",
    "import requests\n",
    "import seaborn as sns\n",
    "from scipy import stats"
   ]
  },
  {
   "cell_type": "markdown",
   "id": "116c6a72-e997-4a1f-86d2-495ce1721217",
   "metadata": {},
   "source": [
    "## Чтение и обзор данных\n",
    "Выгрузим данные с Яндекс Диска, воспользовавшись API для получения прямой ссылки на скачивание."
   ]
  },
  {
   "cell_type": "code",
   "execution_count": 2,
   "id": "507b0d01-dbde-4c40-9b7b-86eaabd62432",
   "metadata": {},
   "outputs": [],
   "source": [
    "# API URL\n",
    "api_url = r'https://cloud-api.yandex.net/v1/disk/public/resources/download?'\n",
    "# Публичные URL файлов\n",
    "groups_url = r'https://disk.yandex.ru/d/UhyYx41rTt3clQ'\n",
    "groups_add_url = r'https://disk.yandex.ru/d/5Kxrz02m3IBUwQ'\n",
    "active_studs_url = r'https://disk.yandex.ru/d/Tbs44Bm6H_FwFQ'\n",
    "checks_url = r'https://disk.yandex.ru/d/pH1q-VqcxXjsVA'"
   ]
  },
  {
   "cell_type": "code",
   "execution_count": 3,
   "id": "c3d47234-c99b-4884-862d-07bb806071b5",
   "metadata": {},
   "outputs": [],
   "source": [
    "def read_csv(public_url,\n",
    "             api_url=r'https://cloud-api.yandex.net/v1/disk/public/resources/download?',\n",
    "             delimiter=','):\n",
    "    \"\"\"\n",
    "    Считывает данные из CSV файла, сохраненного в облачном хранилище,\n",
    "    в объект DataFrame библиотеки pandas.\n",
    "    \n",
    "    Параметры:\n",
    "    \n",
    "    public_url (str): публичный URL CSV файла.\n",
    "    \n",
    "    api_url (str): URL-адрес API облачного сервиса; по умолчанию используется\n",
    "    адрес API Яндекс Диска.\n",
    "    \n",
    "    delimiter (str): разделитель, используемый при считывании CSV файлов;\n",
    "    ',' - значение по умолчанию.\n",
    "\n",
    "    Возвращает:\n",
    "    pandas.DataFrame, содержащий данные из CSV файла.\n",
    "    \"\"\"\n",
    "    response = requests.get(api_url, params={'public_key': public_url})\n",
    "    # Проверка входных URL.\n",
    "    if response.status_code != 200:\n",
    "        print(\"Something's wrong. Check the public and/or API URL!\")\n",
    "        exit()\n",
    "    return pd.read_csv(response.json()['href'], delimiter=delimiter)"
   ]
  },
  {
   "cell_type": "markdown",
   "id": "13b073aa-17c3-42d3-919e-6783d5205ea9",
   "metadata": {},
   "source": [
    "#### groups"
   ]
  },
  {
   "cell_type": "code",
   "execution_count": 4,
   "id": "fa932a1a-4527-42ff-9c4b-20f5956a8a63",
   "metadata": {},
   "outputs": [
    {
     "data": {
      "text/html": [
       "<div>\n",
       "<style scoped>\n",
       "    .dataframe tbody tr th:only-of-type {\n",
       "        vertical-align: middle;\n",
       "    }\n",
       "\n",
       "    .dataframe tbody tr th {\n",
       "        vertical-align: top;\n",
       "    }\n",
       "\n",
       "    .dataframe thead th {\n",
       "        text-align: right;\n",
       "    }\n",
       "</style>\n",
       "<table border=\"1\" class=\"dataframe\">\n",
       "  <thead>\n",
       "    <tr style=\"text-align: right;\">\n",
       "      <th></th>\n",
       "      <th>id</th>\n",
       "      <th>grp</th>\n",
       "    </tr>\n",
       "  </thead>\n",
       "  <tbody>\n",
       "    <tr>\n",
       "      <th>0</th>\n",
       "      <td>1489</td>\n",
       "      <td>B</td>\n",
       "    </tr>\n",
       "    <tr>\n",
       "      <th>1</th>\n",
       "      <td>1627</td>\n",
       "      <td>A</td>\n",
       "    </tr>\n",
       "    <tr>\n",
       "      <th>2</th>\n",
       "      <td>1768</td>\n",
       "      <td>B</td>\n",
       "    </tr>\n",
       "    <tr>\n",
       "      <th>3</th>\n",
       "      <td>1783</td>\n",
       "      <td>B</td>\n",
       "    </tr>\n",
       "    <tr>\n",
       "      <th>4</th>\n",
       "      <td>1794</td>\n",
       "      <td>A</td>\n",
       "    </tr>\n",
       "  </tbody>\n",
       "</table>\n",
       "</div>"
      ],
      "text/plain": [
       "     id grp\n",
       "0  1489   B\n",
       "1  1627   A\n",
       "2  1768   B\n",
       "3  1783   B\n",
       "4  1794   A"
      ]
     },
     "execution_count": 4,
     "metadata": {},
     "output_type": "execute_result"
    }
   ],
   "source": [
    "groups = read_csv(groups_url, delimiter=';')\n",
    "# Выведем первые 5 строк получившегося DataFrame.\n",
    "groups.head()"
   ]
  },
  {
   "attachments": {},
   "cell_type": "markdown",
   "id": "6b7fb495-aa7e-4ae7-a2cf-9bae2f183bee",
   "metadata": {},
   "source": [
    "Переименуем колонку *grp* в *group*; выведем базовую информацию о таблице."
   ]
  },
  {
   "cell_type": "code",
   "execution_count": 5,
   "id": "0ae5f2bd-b855-4ab8-ad9f-2782a8e20408",
   "metadata": {},
   "outputs": [
    {
     "name": "stdout",
     "output_type": "stream",
     "text": [
      "<class 'pandas.core.frame.DataFrame'>\n",
      "RangeIndex: 74484 entries, 0 to 74483\n",
      "Data columns (total 2 columns):\n",
      " #   Column  Non-Null Count  Dtype \n",
      "---  ------  --------------  ----- \n",
      " 0   id      74484 non-null  int64 \n",
      " 1   group   74484 non-null  object\n",
      "dtypes: int64(1), object(1)\n",
      "memory usage: 1.1+ MB\n"
     ]
    }
   ],
   "source": [
    "groups.rename(columns={\"grp\": \"group\"}, inplace=True)\n",
    "groups.info()"
   ]
  },
  {
   "attachments": {},
   "cell_type": "markdown",
   "id": "a78e648a-1431-4323-bcc0-bc2338cbaf4b",
   "metadata": {},
   "source": [
    "Видим, что в **groups** отсутствуют пропущенные значения."
   ]
  },
  {
   "cell_type": "markdown",
   "id": "543a7f71-b93e-4471-aed5-507a0eb7c01f",
   "metadata": {},
   "source": [
    "#### groups_add"
   ]
  },
  {
   "cell_type": "code",
   "execution_count": 6,
   "id": "89cb03ad-1fb6-4326-8399-849acdfa0011",
   "metadata": {},
   "outputs": [
    {
     "data": {
      "text/html": [
       "<div>\n",
       "<style scoped>\n",
       "    .dataframe tbody tr th:only-of-type {\n",
       "        vertical-align: middle;\n",
       "    }\n",
       "\n",
       "    .dataframe tbody tr th {\n",
       "        vertical-align: top;\n",
       "    }\n",
       "\n",
       "    .dataframe thead th {\n",
       "        text-align: right;\n",
       "    }\n",
       "</style>\n",
       "<table border=\"1\" class=\"dataframe\">\n",
       "  <thead>\n",
       "    <tr style=\"text-align: right;\">\n",
       "      <th></th>\n",
       "      <th>id</th>\n",
       "      <th>grp</th>\n",
       "    </tr>\n",
       "  </thead>\n",
       "  <tbody>\n",
       "    <tr>\n",
       "      <th>0</th>\n",
       "      <td>5694584</td>\n",
       "      <td>B</td>\n",
       "    </tr>\n",
       "    <tr>\n",
       "      <th>1</th>\n",
       "      <td>5694830</td>\n",
       "      <td>B</td>\n",
       "    </tr>\n",
       "    <tr>\n",
       "      <th>2</th>\n",
       "      <td>5695057</td>\n",
       "      <td>B</td>\n",
       "    </tr>\n",
       "    <tr>\n",
       "      <th>3</th>\n",
       "      <td>5698872</td>\n",
       "      <td>B</td>\n",
       "    </tr>\n",
       "    <tr>\n",
       "      <th>4</th>\n",
       "      <td>5699067</td>\n",
       "      <td>B</td>\n",
       "    </tr>\n",
       "  </tbody>\n",
       "</table>\n",
       "</div>"
      ],
      "text/plain": [
       "        id grp\n",
       "0  5694584   B\n",
       "1  5694830   B\n",
       "2  5695057   B\n",
       "3  5698872   B\n",
       "4  5699067   B"
      ]
     },
     "execution_count": 6,
     "metadata": {},
     "output_type": "execute_result"
    }
   ],
   "source": [
    "groups_add = read_csv(groups_add_url)\n",
    "# Выведем первые 5 строк получившегося DataFrame.\n",
    "groups_add.head()"
   ]
  },
  {
   "attachments": {},
   "cell_type": "markdown",
   "id": "dc05d301-94fd-4393-b187-b72e4582f0c1",
   "metadata": {},
   "source": [
    "Переименуем колонку *grp* в *group*; выведем базовую информацию о таблице."
   ]
  },
  {
   "cell_type": "code",
   "execution_count": 7,
   "id": "61b2ca31-bc0d-4eb1-bf06-151b1eb951d5",
   "metadata": {},
   "outputs": [
    {
     "name": "stdout",
     "output_type": "stream",
     "text": [
      "<class 'pandas.core.frame.DataFrame'>\n",
      "RangeIndex: 92 entries, 0 to 91\n",
      "Data columns (total 2 columns):\n",
      " #   Column  Non-Null Count  Dtype \n",
      "---  ------  --------------  ----- \n",
      " 0   id      92 non-null     int64 \n",
      " 1   group   92 non-null     object\n",
      "dtypes: int64(1), object(1)\n",
      "memory usage: 1.6+ KB\n"
     ]
    }
   ],
   "source": [
    "groups_add.rename(columns={\"grp\": \"group\"}, inplace=True)\n",
    "groups_add.info()"
   ]
  },
  {
   "attachments": {},
   "cell_type": "markdown",
   "id": "0ba88220-bdb9-4a0a-bad8-f96168b45854",
   "metadata": {},
   "source": [
    "Видим, что в **groups_add** также нет пропущенных значений."
   ]
  },
  {
   "cell_type": "markdown",
   "id": "0d873433-0ece-497a-87c5-6c8d188b5dcc",
   "metadata": {},
   "source": [
    "#### active_studs"
   ]
  },
  {
   "cell_type": "code",
   "execution_count": 8,
   "id": "4cf88fb1-e263-4e71-a8fb-8c6a9df1c10c",
   "metadata": {},
   "outputs": [
    {
     "data": {
      "text/html": [
       "<div>\n",
       "<style scoped>\n",
       "    .dataframe tbody tr th:only-of-type {\n",
       "        vertical-align: middle;\n",
       "    }\n",
       "\n",
       "    .dataframe tbody tr th {\n",
       "        vertical-align: top;\n",
       "    }\n",
       "\n",
       "    .dataframe thead th {\n",
       "        text-align: right;\n",
       "    }\n",
       "</style>\n",
       "<table border=\"1\" class=\"dataframe\">\n",
       "  <thead>\n",
       "    <tr style=\"text-align: right;\">\n",
       "      <th></th>\n",
       "      <th>student_id</th>\n",
       "    </tr>\n",
       "  </thead>\n",
       "  <tbody>\n",
       "    <tr>\n",
       "      <th>0</th>\n",
       "      <td>581585</td>\n",
       "    </tr>\n",
       "    <tr>\n",
       "      <th>1</th>\n",
       "      <td>5723133</td>\n",
       "    </tr>\n",
       "    <tr>\n",
       "      <th>2</th>\n",
       "      <td>3276743</td>\n",
       "    </tr>\n",
       "    <tr>\n",
       "      <th>3</th>\n",
       "      <td>4238589</td>\n",
       "    </tr>\n",
       "    <tr>\n",
       "      <th>4</th>\n",
       "      <td>4475369</td>\n",
       "    </tr>\n",
       "  </tbody>\n",
       "</table>\n",
       "</div>"
      ],
      "text/plain": [
       "   student_id\n",
       "0      581585\n",
       "1     5723133\n",
       "2     3276743\n",
       "3     4238589\n",
       "4     4475369"
      ]
     },
     "execution_count": 8,
     "metadata": {},
     "output_type": "execute_result"
    }
   ],
   "source": [
    "active_studs = read_csv(active_studs_url)\n",
    "# Выведем первые 5 строк получившегося DataFrame\n",
    "# (пусть у него и всего одна колонка, это DataFrame).\n",
    "active_studs.head()"
   ]
  },
  {
   "attachments": {},
   "cell_type": "markdown",
   "id": "e9c27587-f237-4902-bc9c-014b05d69d39",
   "metadata": {},
   "source": [
    "Переименуем колонку *student_id* в *id*; выведем базовую информацию о таблице."
   ]
  },
  {
   "cell_type": "code",
   "execution_count": 9,
   "id": "d6a78023-79cf-4d0d-bdcf-8c9eca9e7311",
   "metadata": {},
   "outputs": [
    {
     "name": "stdout",
     "output_type": "stream",
     "text": [
      "<class 'pandas.core.frame.DataFrame'>\n",
      "RangeIndex: 8341 entries, 0 to 8340\n",
      "Data columns (total 1 columns):\n",
      " #   Column  Non-Null Count  Dtype\n",
      "---  ------  --------------  -----\n",
      " 0   id      8341 non-null   int64\n",
      "dtypes: int64(1)\n",
      "memory usage: 65.3 KB\n"
     ]
    }
   ],
   "source": [
    "active_studs.rename(columns={\"student_id\": \"id\"}, inplace=True)\n",
    "active_studs.info()"
   ]
  },
  {
   "cell_type": "markdown",
   "id": "ffc8b689-1e58-4607-b6b2-40b1a82cfdd6",
   "metadata": {},
   "source": [
    "Есть ли в таблице повторяющиеся значения?"
   ]
  },
  {
   "cell_type": "code",
   "execution_count": 10,
   "id": "40d97468-0c25-49ba-acb7-c2fcb6cb5a4a",
   "metadata": {},
   "outputs": [
    {
     "data": {
      "text/plain": [
       "id    8341\n",
       "dtype: int64"
      ]
     },
     "execution_count": 10,
     "metadata": {},
     "output_type": "execute_result"
    }
   ],
   "source": [
    "active_studs.nunique()"
   ]
  },
  {
   "cell_type": "markdown",
   "id": "d82173df-0ea3-4ab5-a279-03029568ab8d",
   "metadata": {},
   "source": [
    "Каждый *id* в таблице **active_studs** уникален. Это означает, что если пользователь заходил на платформу более одного раза, то записи-дубликаты не создавались. "
   ]
  },
  {
   "cell_type": "markdown",
   "id": "629d6398-17f7-4bdc-9fe9-cdb8695671da",
   "metadata": {},
   "source": [
    "#### checks"
   ]
  },
  {
   "cell_type": "code",
   "execution_count": 11,
   "id": "376debc6-4c6d-4b58-be1c-5e6269e217ff",
   "metadata": {},
   "outputs": [
    {
     "data": {
      "text/html": [
       "<div>\n",
       "<style scoped>\n",
       "    .dataframe tbody tr th:only-of-type {\n",
       "        vertical-align: middle;\n",
       "    }\n",
       "\n",
       "    .dataframe tbody tr th {\n",
       "        vertical-align: top;\n",
       "    }\n",
       "\n",
       "    .dataframe thead th {\n",
       "        text-align: right;\n",
       "    }\n",
       "</style>\n",
       "<table border=\"1\" class=\"dataframe\">\n",
       "  <thead>\n",
       "    <tr style=\"text-align: right;\">\n",
       "      <th></th>\n",
       "      <th>student_id</th>\n",
       "      <th>rev</th>\n",
       "    </tr>\n",
       "  </thead>\n",
       "  <tbody>\n",
       "    <tr>\n",
       "      <th>0</th>\n",
       "      <td>1627</td>\n",
       "      <td>990.0</td>\n",
       "    </tr>\n",
       "    <tr>\n",
       "      <th>1</th>\n",
       "      <td>3185</td>\n",
       "      <td>690.0</td>\n",
       "    </tr>\n",
       "    <tr>\n",
       "      <th>2</th>\n",
       "      <td>25973</td>\n",
       "      <td>690.0</td>\n",
       "    </tr>\n",
       "    <tr>\n",
       "      <th>3</th>\n",
       "      <td>26280</td>\n",
       "      <td>690.0</td>\n",
       "    </tr>\n",
       "    <tr>\n",
       "      <th>4</th>\n",
       "      <td>100300</td>\n",
       "      <td>990.0</td>\n",
       "    </tr>\n",
       "  </tbody>\n",
       "</table>\n",
       "</div>"
      ],
      "text/plain": [
       "   student_id    rev\n",
       "0        1627  990.0\n",
       "1        3185  690.0\n",
       "2       25973  690.0\n",
       "3       26280  690.0\n",
       "4      100300  990.0"
      ]
     },
     "execution_count": 11,
     "metadata": {},
     "output_type": "execute_result"
    }
   ],
   "source": [
    "checks = read_csv(checks_url, delimiter=';')\n",
    "# Выведем первые 5 строк получившегося DataFrame.\n",
    "checks.head()"
   ]
  },
  {
   "attachments": {},
   "cell_type": "markdown",
   "id": "1df58a9c-d288-4fc6-b5b5-fd012f9b4202",
   "metadata": {},
   "source": [
    "Переименуем колонку *student_id* в *id*, колонку *rev* в *revenue*; выведем базовые сведения о таблице."
   ]
  },
  {
   "cell_type": "code",
   "execution_count": 12,
   "id": "9541d1fc-b342-4cf5-8c7e-eb42c53e3899",
   "metadata": {},
   "outputs": [
    {
     "name": "stdout",
     "output_type": "stream",
     "text": [
      "<class 'pandas.core.frame.DataFrame'>\n",
      "RangeIndex: 541 entries, 0 to 540\n",
      "Data columns (total 2 columns):\n",
      " #   Column   Non-Null Count  Dtype  \n",
      "---  ------   --------------  -----  \n",
      " 0   id       541 non-null    int64  \n",
      " 1   revenue  541 non-null    float64\n",
      "dtypes: float64(1), int64(1)\n",
      "memory usage: 8.6 KB\n"
     ]
    }
   ],
   "source": [
    "checks.rename(columns={\"student_id\": \"id\", \"rev\": \"revenue\"}, inplace=True)\n",
    "checks.info()"
   ]
  },
  {
   "attachments": {},
   "cell_type": "markdown",
   "id": "e309005d-ddad-4bb9-b4e3-4aae7250e6bd",
   "metadata": {},
   "source": [
    "Есть ли в таблице повторяющиеся идентификаторы пользователей?"
   ]
  },
  {
   "cell_type": "code",
   "execution_count": 13,
   "id": "808b2975-2321-44f9-82d7-604640670603",
   "metadata": {},
   "outputs": [
    {
     "data": {
      "text/plain": [
       "541"
      ]
     },
     "execution_count": 13,
     "metadata": {},
     "output_type": "execute_result"
    }
   ],
   "source": [
    "checks['id'].nunique()"
   ]
  },
  {
   "cell_type": "markdown",
   "id": "f5ea02c7-39b3-44d4-8ac7-ce8fd554775f",
   "metadata": {},
   "source": [
    "Каждый *id* в таблице уникален: либо пользователи совершали всего 1 покупку, либо таблица содержит их суммарные траты за весь период накопления данных."
   ]
  },
  {
   "cell_type": "code",
   "execution_count": 14,
   "id": "5116e383-055f-4e66-add0-ded325364dc5",
   "metadata": {},
   "outputs": [
    {
     "data": {
      "text/plain": [
       "0.06486032849778205"
      ]
     },
     "execution_count": 14,
     "metadata": {},
     "output_type": "execute_result"
    }
   ],
   "source": [
    "541 / 8341"
   ]
  },
  {
   "cell_type": "markdown",
   "id": "385f74a7-452d-4fc0-aca9-e8f9d8cbd165",
   "metadata": {},
   "source": [
    "Обратим внимание, что из 8341 активного пользователя лишь 541 совершили покупки - это около 6,5%."
   ]
  },
  {
   "cell_type": "markdown",
   "id": "baadfc37-949d-4bbe-ac2e-7ca2fdd64791",
   "metadata": {},
   "source": [
    "## Работа с данными\n",
    "Прежде всего рассмотрим основной набор данных – то есть таблицы **groups**, **active_studs** и **checks**. После выбора и расчета метрик для оценки нового механизма оплаты, оформим все выполняемые над исходными данными манипуляции в виде функций. Затем создадим функцию для автоматического учета информации из дополнительного файла **groups_add.csv**.\n",
    "### Первичные обработка и анализ\n",
    "Определим, какие пользователи из **groups** проявляли активность в период наблюдения. Для этого объединим эту таблицу с **active_studs**, предварительно создав в последней столбец-маркер."
   ]
  },
  {
   "cell_type": "code",
   "execution_count": 15,
   "id": "1fbc37eb-82b3-4ef2-bf52-4e7c0aee48f0",
   "metadata": {},
   "outputs": [
    {
     "data": {
      "text/html": [
       "<div>\n",
       "<style scoped>\n",
       "    .dataframe tbody tr th:only-of-type {\n",
       "        vertical-align: middle;\n",
       "    }\n",
       "\n",
       "    .dataframe tbody tr th {\n",
       "        vertical-align: top;\n",
       "    }\n",
       "\n",
       "    .dataframe thead th {\n",
       "        text-align: right;\n",
       "    }\n",
       "</style>\n",
       "<table border=\"1\" class=\"dataframe\">\n",
       "  <thead>\n",
       "    <tr style=\"text-align: right;\">\n",
       "      <th></th>\n",
       "      <th>id</th>\n",
       "      <th>active</th>\n",
       "    </tr>\n",
       "  </thead>\n",
       "  <tbody>\n",
       "    <tr>\n",
       "      <th>0</th>\n",
       "      <td>581585</td>\n",
       "      <td>1</td>\n",
       "    </tr>\n",
       "    <tr>\n",
       "      <th>1</th>\n",
       "      <td>5723133</td>\n",
       "      <td>1</td>\n",
       "    </tr>\n",
       "    <tr>\n",
       "      <th>2</th>\n",
       "      <td>3276743</td>\n",
       "      <td>1</td>\n",
       "    </tr>\n",
       "    <tr>\n",
       "      <th>3</th>\n",
       "      <td>4238589</td>\n",
       "      <td>1</td>\n",
       "    </tr>\n",
       "    <tr>\n",
       "      <th>4</th>\n",
       "      <td>4475369</td>\n",
       "      <td>1</td>\n",
       "    </tr>\n",
       "  </tbody>\n",
       "</table>\n",
       "</div>"
      ],
      "text/plain": [
       "        id  active\n",
       "0   581585       1\n",
       "1  5723133       1\n",
       "2  3276743       1\n",
       "3  4238589       1\n",
       "4  4475369       1"
      ]
     },
     "execution_count": 15,
     "metadata": {},
     "output_type": "execute_result"
    }
   ],
   "source": [
    "active_studs['active'] = 1\n",
    "active_studs.head()"
   ]
  },
  {
   "cell_type": "code",
   "execution_count": 16,
   "id": "efb05b8a-7fa9-4e0d-a964-6d2e8acb3b73",
   "metadata": {},
   "outputs": [
    {
     "data": {
      "text/html": [
       "<div>\n",
       "<style scoped>\n",
       "    .dataframe tbody tr th:only-of-type {\n",
       "        vertical-align: middle;\n",
       "    }\n",
       "\n",
       "    .dataframe tbody tr th {\n",
       "        vertical-align: top;\n",
       "    }\n",
       "\n",
       "    .dataframe thead th {\n",
       "        text-align: right;\n",
       "    }\n",
       "</style>\n",
       "<table border=\"1\" class=\"dataframe\">\n",
       "  <thead>\n",
       "    <tr style=\"text-align: right;\">\n",
       "      <th></th>\n",
       "      <th>id</th>\n",
       "      <th>group</th>\n",
       "      <th>active</th>\n",
       "    </tr>\n",
       "  </thead>\n",
       "  <tbody>\n",
       "    <tr>\n",
       "      <th>0</th>\n",
       "      <td>1489</td>\n",
       "      <td>B</td>\n",
       "      <td>0.0</td>\n",
       "    </tr>\n",
       "    <tr>\n",
       "      <th>1</th>\n",
       "      <td>1627</td>\n",
       "      <td>A</td>\n",
       "      <td>1.0</td>\n",
       "    </tr>\n",
       "    <tr>\n",
       "      <th>2</th>\n",
       "      <td>1768</td>\n",
       "      <td>B</td>\n",
       "      <td>0.0</td>\n",
       "    </tr>\n",
       "    <tr>\n",
       "      <th>3</th>\n",
       "      <td>1783</td>\n",
       "      <td>B</td>\n",
       "      <td>0.0</td>\n",
       "    </tr>\n",
       "    <tr>\n",
       "      <th>4</th>\n",
       "      <td>1794</td>\n",
       "      <td>A</td>\n",
       "      <td>0.0</td>\n",
       "    </tr>\n",
       "  </tbody>\n",
       "</table>\n",
       "</div>"
      ],
      "text/plain": [
       "     id group  active\n",
       "0  1489     B     0.0\n",
       "1  1627     A     1.0\n",
       "2  1768     B     0.0\n",
       "3  1783     B     0.0\n",
       "4  1794     A     0.0"
      ]
     },
     "execution_count": 16,
     "metadata": {},
     "output_type": "execute_result"
    }
   ],
   "source": [
    "df = pd.merge(left=groups, right=active_studs, how='left', on='id') \\\n",
    "    .fillna(value=0)  # неактивные юзеры будут обозначены нулем в колонке active\n",
    "df.head()"
   ]
  },
  {
   "cell_type": "markdown",
   "id": "b0252845-3c93-45d3-9646-a1c751f31b54",
   "metadata": {},
   "source": [
    "Добавим в **df** информацию о платежах, совершенных пользователями в течение периода наблюдения, из таблицы **checks**."
   ]
  },
  {
   "cell_type": "code",
   "execution_count": 17,
   "id": "4be14d19-f094-434b-81d0-e10cc5734d39",
   "metadata": {},
   "outputs": [
    {
     "data": {
      "text/html": [
       "<div>\n",
       "<style scoped>\n",
       "    .dataframe tbody tr th:only-of-type {\n",
       "        vertical-align: middle;\n",
       "    }\n",
       "\n",
       "    .dataframe tbody tr th {\n",
       "        vertical-align: top;\n",
       "    }\n",
       "\n",
       "    .dataframe thead th {\n",
       "        text-align: right;\n",
       "    }\n",
       "</style>\n",
       "<table border=\"1\" class=\"dataframe\">\n",
       "  <thead>\n",
       "    <tr style=\"text-align: right;\">\n",
       "      <th></th>\n",
       "      <th>id</th>\n",
       "      <th>group</th>\n",
       "      <th>active</th>\n",
       "      <th>revenue</th>\n",
       "    </tr>\n",
       "  </thead>\n",
       "  <tbody>\n",
       "    <tr>\n",
       "      <th>0</th>\n",
       "      <td>1489</td>\n",
       "      <td>B</td>\n",
       "      <td>0.0</td>\n",
       "      <td>0.0</td>\n",
       "    </tr>\n",
       "    <tr>\n",
       "      <th>1</th>\n",
       "      <td>1627</td>\n",
       "      <td>A</td>\n",
       "      <td>1.0</td>\n",
       "      <td>990.0</td>\n",
       "    </tr>\n",
       "    <tr>\n",
       "      <th>2</th>\n",
       "      <td>1768</td>\n",
       "      <td>B</td>\n",
       "      <td>0.0</td>\n",
       "      <td>0.0</td>\n",
       "    </tr>\n",
       "    <tr>\n",
       "      <th>3</th>\n",
       "      <td>1783</td>\n",
       "      <td>B</td>\n",
       "      <td>0.0</td>\n",
       "      <td>0.0</td>\n",
       "    </tr>\n",
       "    <tr>\n",
       "      <th>4</th>\n",
       "      <td>1794</td>\n",
       "      <td>A</td>\n",
       "      <td>0.0</td>\n",
       "      <td>0.0</td>\n",
       "    </tr>\n",
       "  </tbody>\n",
       "</table>\n",
       "</div>"
      ],
      "text/plain": [
       "     id group  active  revenue\n",
       "0  1489     B     0.0      0.0\n",
       "1  1627     A     1.0    990.0\n",
       "2  1768     B     0.0      0.0\n",
       "3  1783     B     0.0      0.0\n",
       "4  1794     A     0.0      0.0"
      ]
     },
     "execution_count": 17,
     "metadata": {},
     "output_type": "execute_result"
    }
   ],
   "source": [
    "df = pd.merge(left=df, right=checks, how='left', on='id') \\\n",
    "    .fillna(value=0)  # юзеры без оплат будут обозначены нулем в колонке revenue\n",
    "df.head()"
   ]
  },
  {
   "attachments": {},
   "cell_type": "markdown",
   "id": "eef745cc-fb60-4078-ac1f-7e198a846e03",
   "metadata": {},
   "source": [
    "Каков размер контрольной (А) и целевой (В) групп?"
   ]
  },
  {
   "cell_type": "code",
   "execution_count": 18,
   "id": "7bc107ba-eced-443b-99d7-e6bd54cc5fbf",
   "metadata": {},
   "outputs": [
    {
     "data": {
      "text/html": [
       "<div>\n",
       "<style scoped>\n",
       "    .dataframe tbody tr th:only-of-type {\n",
       "        vertical-align: middle;\n",
       "    }\n",
       "\n",
       "    .dataframe tbody tr th {\n",
       "        vertical-align: top;\n",
       "    }\n",
       "\n",
       "    .dataframe thead th {\n",
       "        text-align: right;\n",
       "    }\n",
       "</style>\n",
       "<table border=\"1\" class=\"dataframe\">\n",
       "  <thead>\n",
       "    <tr style=\"text-align: right;\">\n",
       "      <th></th>\n",
       "      <th>id</th>\n",
       "    </tr>\n",
       "    <tr>\n",
       "      <th>group</th>\n",
       "      <th></th>\n",
       "    </tr>\n",
       "  </thead>\n",
       "  <tbody>\n",
       "    <tr>\n",
       "      <th>A</th>\n",
       "      <td>14671</td>\n",
       "    </tr>\n",
       "    <tr>\n",
       "      <th>B</th>\n",
       "      <td>59813</td>\n",
       "    </tr>\n",
       "  </tbody>\n",
       "</table>\n",
       "</div>"
      ],
      "text/plain": [
       "          id\n",
       "group       \n",
       "A      14671\n",
       "B      59813"
      ]
     },
     "execution_count": 18,
     "metadata": {},
     "output_type": "execute_result"
    }
   ],
   "source": [
    "tmp = df.groupby(by='group').agg({'id':'count'})\n",
    "tmp"
   ]
  },
  {
   "cell_type": "code",
   "execution_count": 19,
   "id": "5d4292c3-2367-4696-ac6b-d8283235e481",
   "metadata": {},
   "outputs": [
    {
     "data": {
      "text/plain": [
       "id    4.076955\n",
       "dtype: float64"
      ]
     },
     "execution_count": 19,
     "metadata": {},
     "output_type": "execute_result"
    }
   ],
   "source": [
    "tmp.loc['B'] / tmp.loc['A']"
   ]
  },
  {
   "attachments": {},
   "cell_type": "markdown",
   "id": "7f794deb-5c3d-44bf-9aef-db1199b4babf",
   "metadata": {},
   "source": [
    "Размер целевой выборки в четыре раза превышает размер контрольной. Такой дизайн эксперимента не является оптимальным, поскольку столь большие различия в размере выборок негативно влияют на надежность оценок, получаемых с помощью целого ряда статистических тестов. Например, даже если значения в рассматриваемых выборках имеют распределение, близкое к нормальному, и их дисперсии приблизительно равны, вместо стандартного t-теста для сравнения средних настолько несбалансированных данных следует применять t-тест Уэлча.\n",
    "\n",
    "Если ли пользователи, которые совершили покупку, но не зашли на платформу?"
   ]
  },
  {
   "cell_type": "code",
   "execution_count": 20,
   "id": "ced0568a-c8a1-409a-98b4-aed648493147",
   "metadata": {},
   "outputs": [
    {
     "name": "stdout",
     "output_type": "stream",
     "text": [
      "Number of paying but inactive users is 149\n"
     ]
    }
   ],
   "source": [
    "print(\"Number of paying but inactive users is\",\n",
    "      f\"{df.query('revenue != 0 and active == 0').shape[0]}\")"
   ]
  },
  {
   "cell_type": "markdown",
   "id": "a8271467-1318-420a-8e93-003f45bff375",
   "metadata": {},
   "source": [
    "Действительно, такие пользователи есть. Можно предположить, что они ранее, до начала сбора данных, оформили подписку на некоторую услугу, предоставляемую платформой, и произошло её автоматическое продление.\n",
    "\n",
    "Поскольку исследуется влияние новой механики оплаты услуг на сайте на \"вероятность\" совершения покупки, пользователи, которые не посещали сайт за время наблюдения, не представляют для нас интереса и исключаются из дальнейших вычислений."
   ]
  },
  {
   "cell_type": "code",
   "execution_count": 21,
   "id": "8aa68c38-487e-42d7-9758-e3aec1c17c96",
   "metadata": {},
   "outputs": [
    {
     "name": "stdout",
     "output_type": "stream",
     "text": [
      "Number of paying but inactive users is 0\n"
     ]
    }
   ],
   "source": [
    "df = df.query('active == 1')\n",
    "# небольшая проверка\n",
    "print(\"Number of paying but inactive users is\",\n",
    "      f\"{df.query('revenue != 0 and active == 0').shape[0]}\")"
   ]
  },
  {
   "cell_type": "code",
   "execution_count": 22,
   "id": "137ec5c5-cd01-48cf-a90c-7ff377e5114e",
   "metadata": {},
   "outputs": [
    {
     "name": "stdout",
     "output_type": "stream",
     "text": [
      "<class 'pandas.core.frame.DataFrame'>\n",
      "Index: 8328 entries, 1 to 74469\n",
      "Data columns (total 4 columns):\n",
      " #   Column   Non-Null Count  Dtype  \n",
      "---  ------   --------------  -----  \n",
      " 0   id       8328 non-null   int64  \n",
      " 1   group    8328 non-null   object \n",
      " 2   active   8328 non-null   float64\n",
      " 3   revenue  8328 non-null   float64\n",
      "dtypes: float64(2), int64(1), object(1)\n",
      "memory usage: 325.3+ KB\n"
     ]
    }
   ],
   "source": [
    "df.info()"
   ]
  },
  {
   "cell_type": "markdown",
   "id": "7852f6cd-9979-40ff-91a9-2b8648cba6ea",
   "metadata": {},
   "source": [
    "Как изменился размер групп после фильтрации?"
   ]
  },
  {
   "cell_type": "code",
   "execution_count": 23,
   "id": "a61b2897-8ffc-4c2c-9a20-969228ef1cfd",
   "metadata": {},
   "outputs": [
    {
     "data": {
      "text/html": [
       "<div>\n",
       "<style scoped>\n",
       "    .dataframe tbody tr th:only-of-type {\n",
       "        vertical-align: middle;\n",
       "    }\n",
       "\n",
       "    .dataframe tbody tr th {\n",
       "        vertical-align: top;\n",
       "    }\n",
       "\n",
       "    .dataframe thead th {\n",
       "        text-align: right;\n",
       "    }\n",
       "</style>\n",
       "<table border=\"1\" class=\"dataframe\">\n",
       "  <thead>\n",
       "    <tr style=\"text-align: right;\">\n",
       "      <th></th>\n",
       "      <th>id</th>\n",
       "    </tr>\n",
       "    <tr>\n",
       "      <th>group</th>\n",
       "      <th></th>\n",
       "    </tr>\n",
       "  </thead>\n",
       "  <tbody>\n",
       "    <tr>\n",
       "      <th>A</th>\n",
       "      <td>1535</td>\n",
       "    </tr>\n",
       "    <tr>\n",
       "      <th>B</th>\n",
       "      <td>6793</td>\n",
       "    </tr>\n",
       "  </tbody>\n",
       "</table>\n",
       "</div>"
      ],
      "text/plain": [
       "         id\n",
       "group      \n",
       "A      1535\n",
       "B      6793"
      ]
     },
     "execution_count": 23,
     "metadata": {},
     "output_type": "execute_result"
    }
   ],
   "source": [
    "tmp = df.groupby(by='group').agg({'id':'count'})\n",
    "tmp"
   ]
  },
  {
   "cell_type": "code",
   "execution_count": 24,
   "id": "98896366-c9cf-4782-9d16-027cd4200a50",
   "metadata": {},
   "outputs": [
    {
     "data": {
      "text/plain": [
       "id    4.425407\n",
       "dtype: float64"
      ]
     },
     "execution_count": 24,
     "metadata": {},
     "output_type": "execute_result"
    }
   ],
   "source": [
    "tmp.loc['B'] / tmp.loc['A']"
   ]
  },
  {
   "cell_type": "markdown",
   "id": "e18ac003-b0b7-4049-a5bd-8dc1d3df9939",
   "metadata": {},
   "source": [
    "После фильтрации соотношение целевой выборки к контрольной увеличилось до ~4.42, что делает проведенный эксперимент методологически ещё менее корректным.\n",
    "\n",
    "Удалим из **df** столбец *active*; добавим столбец *made_purchase*, который будет содержать два значения: 0 (пользователь ничего не покупал) и 1 (пользователь совершал покупку). "
   ]
  },
  {
   "cell_type": "code",
   "execution_count": 25,
   "id": "94436c21-0f7f-441e-9d44-8793fa4056f2",
   "metadata": {},
   "outputs": [
    {
     "data": {
      "text/html": [
       "<div>\n",
       "<style scoped>\n",
       "    .dataframe tbody tr th:only-of-type {\n",
       "        vertical-align: middle;\n",
       "    }\n",
       "\n",
       "    .dataframe tbody tr th {\n",
       "        vertical-align: top;\n",
       "    }\n",
       "\n",
       "    .dataframe thead th {\n",
       "        text-align: right;\n",
       "    }\n",
       "</style>\n",
       "<table border=\"1\" class=\"dataframe\">\n",
       "  <thead>\n",
       "    <tr style=\"text-align: right;\">\n",
       "      <th></th>\n",
       "      <th>id</th>\n",
       "      <th>group</th>\n",
       "      <th>revenue</th>\n",
       "      <th>made_purchase</th>\n",
       "    </tr>\n",
       "  </thead>\n",
       "  <tbody>\n",
       "    <tr>\n",
       "      <th>1</th>\n",
       "      <td>1627</td>\n",
       "      <td>A</td>\n",
       "      <td>990.0</td>\n",
       "      <td>1</td>\n",
       "    </tr>\n",
       "    <tr>\n",
       "      <th>10</th>\n",
       "      <td>2085</td>\n",
       "      <td>B</td>\n",
       "      <td>0.0</td>\n",
       "      <td>0</td>\n",
       "    </tr>\n",
       "    <tr>\n",
       "      <th>12</th>\n",
       "      <td>2215</td>\n",
       "      <td>B</td>\n",
       "      <td>0.0</td>\n",
       "      <td>0</td>\n",
       "    </tr>\n",
       "    <tr>\n",
       "      <th>43</th>\n",
       "      <td>3391</td>\n",
       "      <td>A</td>\n",
       "      <td>0.0</td>\n",
       "      <td>0</td>\n",
       "    </tr>\n",
       "    <tr>\n",
       "      <th>45</th>\n",
       "      <td>3401</td>\n",
       "      <td>B</td>\n",
       "      <td>0.0</td>\n",
       "      <td>0</td>\n",
       "    </tr>\n",
       "  </tbody>\n",
       "</table>\n",
       "</div>"
      ],
      "text/plain": [
       "      id group  revenue  made_purchase\n",
       "1   1627     A    990.0              1\n",
       "10  2085     B      0.0              0\n",
       "12  2215     B      0.0              0\n",
       "43  3391     A      0.0              0\n",
       "45  3401     B      0.0              0"
      ]
     },
     "execution_count": 25,
     "metadata": {},
     "output_type": "execute_result"
    }
   ],
   "source": [
    "df.drop(columns='active', inplace=True)\n",
    "df['made_purchase'] = df['revenue'].apply(lambda x: 1 if x > 0 else 0)\n",
    "df.head()"
   ]
  },
  {
   "attachments": {},
   "cell_type": "markdown",
   "id": "d7d5a873-b477-4ee8-a6f6-5b7c855ee8c1",
   "metadata": {},
   "source": [
    "### Выбор и расчёт метрик\n",
    "Представляется разумным рассмотреть **конверсию в покупку (CR)** в качестве главного показателя успеха / неудачи новой механики оплаты услуг на сайте. Так, если новая механика \"лучше\" старой, то большее число пользователей должно совершать целевое действие, т.е. покупку, и наоборот. \n",
    "\n",
    "В дополнение к **CR** рассчитаем и проанализируем показатели **среднего дохода с привлеченного пользователя (ARPU)** и **среднего дохода с платящего пользователя (ARPPU)**. Эти метрики, которые в данном случае имеют вспомогательный, справочный характер, применяются исходя из предположения о том, что при наличии более удобной системы оплаты пользователи будут чаще совершать покупки и тратить больше денег, что, в свою очередь, приведет к увеличению **ARPU** и **ARPPU**.\n",
    "\n",
    "Сгруппируем данные из **df** в новую таблицу **summary_table**, в строки которой внесём такую информацию о группах А и В, как: количество пользователей, количество пользователей, совершивших покупку, и общая прибыль."
   ]
  },
  {
   "cell_type": "code",
   "execution_count": 26,
   "id": "50e51415-64d9-4868-a6e9-f35685a664f7",
   "metadata": {},
   "outputs": [
    {
     "data": {
      "text/html": [
       "<div>\n",
       "<style scoped>\n",
       "    .dataframe tbody tr th:only-of-type {\n",
       "        vertical-align: middle;\n",
       "    }\n",
       "\n",
       "    .dataframe tbody tr th {\n",
       "        vertical-align: top;\n",
       "    }\n",
       "\n",
       "    .dataframe thead th {\n",
       "        text-align: right;\n",
       "    }\n",
       "</style>\n",
       "<table border=\"1\" class=\"dataframe\">\n",
       "  <thead>\n",
       "    <tr style=\"text-align: right;\">\n",
       "      <th></th>\n",
       "      <th>users_total</th>\n",
       "      <th>users_purchase</th>\n",
       "      <th>revenue_total</th>\n",
       "    </tr>\n",
       "    <tr>\n",
       "      <th>group</th>\n",
       "      <th></th>\n",
       "      <th></th>\n",
       "      <th></th>\n",
       "    </tr>\n",
       "  </thead>\n",
       "  <tbody>\n",
       "    <tr>\n",
       "      <th>A</th>\n",
       "      <td>1535</td>\n",
       "      <td>78</td>\n",
       "      <td>72820.0000</td>\n",
       "    </tr>\n",
       "    <tr>\n",
       "      <th>B</th>\n",
       "      <td>6793</td>\n",
       "      <td>313</td>\n",
       "      <td>393074.0035</td>\n",
       "    </tr>\n",
       "  </tbody>\n",
       "</table>\n",
       "</div>"
      ],
      "text/plain": [
       "       users_total  users_purchase  revenue_total\n",
       "group                                            \n",
       "A             1535              78     72820.0000\n",
       "B             6793             313    393074.0035"
      ]
     },
     "execution_count": 26,
     "metadata": {},
     "output_type": "execute_result"
    }
   ],
   "source": [
    "summary_table = df.groupby(by='group') \\\n",
    "    .agg({'id':'count', 'made_purchase': 'sum', 'revenue': 'sum'}) \\\n",
    "    .rename(columns={'id': 'users_total', 'made_purchase': 'users_purchase',\n",
    "                     'revenue': 'revenue_total'})\n",
    "summary_table"
   ]
  },
  {
   "cell_type": "markdown",
   "id": "f2aa76a7-257f-454a-bc60-ea2cc45eeeb1",
   "metadata": {},
   "source": [
    "Используя **summary_table**, рассчитаем метрики **CR**, **ARPU** и **ARPPU**:\n",
    "* CR = число пользователей, совершивших покупку / общее число пользователей;\n",
    "* ARPU = сумма всех трат пользователей / общее число пользователей;\n",
    "* ARPPU = сумма всех трат пользователей / число пользователей, совершивших покупку."
   ]
  },
  {
   "cell_type": "code",
   "execution_count": 27,
   "id": "8c4df743-b7c6-43f8-8139-1ff603f2e009",
   "metadata": {},
   "outputs": [
    {
     "data": {
      "text/html": [
       "<div>\n",
       "<style scoped>\n",
       "    .dataframe tbody tr th:only-of-type {\n",
       "        vertical-align: middle;\n",
       "    }\n",
       "\n",
       "    .dataframe tbody tr th {\n",
       "        vertical-align: top;\n",
       "    }\n",
       "\n",
       "    .dataframe thead th {\n",
       "        text-align: right;\n",
       "    }\n",
       "</style>\n",
       "<table border=\"1\" class=\"dataframe\">\n",
       "  <thead>\n",
       "    <tr style=\"text-align: right;\">\n",
       "      <th></th>\n",
       "      <th>CR</th>\n",
       "      <th>ARPU</th>\n",
       "      <th>ARPPU</th>\n",
       "    </tr>\n",
       "    <tr>\n",
       "      <th>group</th>\n",
       "      <th></th>\n",
       "      <th></th>\n",
       "      <th></th>\n",
       "    </tr>\n",
       "  </thead>\n",
       "  <tbody>\n",
       "    <tr>\n",
       "      <th>A</th>\n",
       "      <td>5.081</td>\n",
       "      <td>47.440</td>\n",
       "      <td>933.590</td>\n",
       "    </tr>\n",
       "    <tr>\n",
       "      <th>B</th>\n",
       "      <td>4.608</td>\n",
       "      <td>57.865</td>\n",
       "      <td>1255.827</td>\n",
       "    </tr>\n",
       "  </tbody>\n",
       "</table>\n",
       "</div>"
      ],
      "text/plain": [
       "          CR    ARPU     ARPPU\n",
       "group                         \n",
       "A      5.081  47.440   933.590\n",
       "B      4.608  57.865  1255.827"
      ]
     },
     "execution_count": 27,
     "metadata": {},
     "output_type": "execute_result"
    }
   ],
   "source": [
    "metrics = pd.DataFrame()\n",
    "# Запишем CR в %\n",
    "metrics['CR'] = 100*(summary_table['users_purchase'] / summary_table['users_total'])\n",
    "metrics['ARPU'] = (summary_table['revenue_total'] / summary_table['users_total']) \n",
    "metrics['ARPPU'] = (summary_table['revenue_total'] / summary_table['users_purchase']) \n",
    "metrics.round(3)"
   ]
  },
  {
   "cell_type": "markdown",
   "id": "f5247bc9-bc6d-4158-b065-50761bc16391",
   "metadata": {},
   "source": [
    "Из таблицы видно, что показатель **CR** группы В, пользователи из которой взаимодействовали с новым механизмом, ниже, чем у контрольной группы А, а **ARPU** и **ARPPU** выше.\n",
    "\n",
    "Прежде чем приступить к оценке стат. значимости этих различий, напишем функции для выполнения описанных выше операций с данными, а также для учета дополнительных файлов вида **groups_add.csv**. "
   ]
  },
  {
   "cell_type": "markdown",
   "id": "c81ed9a7-a86e-4555-956b-d229546c43da",
   "metadata": {},
   "source": [
    "### Рефакторинг и учёт дополнительных данных \n",
    "Удалим избыточные объекты"
   ]
  },
  {
   "cell_type": "code",
   "execution_count": 28,
   "id": "16eb476e-7983-47e3-92cf-3f517e40c20c",
   "metadata": {},
   "outputs": [],
   "source": [
    "try:\n",
    "    del (groups, groups_add, active_studs, checks, summary_table, metrics, tmp)\n",
    "except Exception as e:\n",
    "    print(e, type(e))"
   ]
  },
  {
   "cell_type": "markdown",
   "id": "67213a12-c2f3-4565-8809-e91a1d4ae3db",
   "metadata": {},
   "source": [
    "Сохраним URL файлов и API облачного хранилища в переменные."
   ]
  },
  {
   "cell_type": "code",
   "execution_count": 29,
   "id": "428b94d1-9dcd-4196-84e2-3c3681a4cf53",
   "metadata": {},
   "outputs": [],
   "source": [
    "# API URL\n",
    "api_url = r'https://cloud-api.yandex.net/v1/disk/public/resources/download?'\n",
    "# Публичные URL файлов\n",
    "groups_url = r'https://disk.yandex.ru/d/UhyYx41rTt3clQ'\n",
    "groups_add_url = r'https://disk.yandex.ru/d/5Kxrz02m3IBUwQ'\n",
    "active_studs_url = r'https://disk.yandex.ru/d/Tbs44Bm6H_FwFQ'\n",
    "checks_url = r'https://disk.yandex.ru/d/pH1q-VqcxXjsVA'"
   ]
  },
  {
   "cell_type": "markdown",
   "id": "7703577b-6b29-4886-856f-991f6966c7f0",
   "metadata": {},
   "source": [
    "Определение функций."
   ]
  },
  {
   "cell_type": "code",
   "execution_count": 30,
   "id": "6727f188-2b80-4b02-b84a-62c05720743e",
   "metadata": {},
   "outputs": [],
   "source": [
    "def read_csv(public_url,\n",
    "             api_url=r'https://cloud-api.yandex.net/v1/disk/public/resources/download?',\n",
    "             delimiter=','):\n",
    "    \"\"\"\n",
    "    Считывает данные из CSV файла, сохраненного в облачном хранилище,\n",
    "    в объект DataFrame библиотеки pandas.\n",
    "    \n",
    "    Параметры:\n",
    "    public_url (str): Публичный URL-адрес CSV файла.\n",
    "    \n",
    "    api_url (str): URL-адрес API облачного сервиса; по умолчанию используется\n",
    "    адрес API Яндекс Диска.\n",
    "    \n",
    "    delimiter (str): разделитель, используемый при считывании CSV файлов;\n",
    "    ',' - значение по умолчанию.\n",
    "\n",
    "    Возвращает:\n",
    "    pandas.DataFrame, содержащий данные из CSV файла.\n",
    "    \"\"\"\n",
    "    response = requests.get(api_url, params={'public_key': public_url})\n",
    "    # Проверка входных URL.\n",
    "    if response.status_code != 200:\n",
    "        print(\"Something's wrong. Check the public and/or API URL!\")\n",
    "        exit()\n",
    "    return pd.read_csv(response.json()['href'], delimiter=delimiter)"
   ]
  },
  {
   "cell_type": "code",
   "execution_count": 31,
   "id": "cc9be8af-be5b-4c5b-a96a-992aac9e545c",
   "metadata": {},
   "outputs": [],
   "source": [
    "def prepare_data(public_urls, api_url='', delimiters=[\",\", \",\", \",\"]):\n",
    "    \"\"\"\n",
    "    Считывает из облачного хранилища CSV-таблицы active_studs, checks\n",
    "    и groups (groups_add) в объекты pandas.DataFrame, а затем формирует на их основе \n",
    "    новый DataFrame, предназначенный для последующего расчета метрик CR, ARPU\n",
    "    и ARPPU.\n",
    "\n",
    "    Параметры:\n",
    "    public_urls (list): список публичных URL-адресов CSV файлов.\n",
    "    Первый элемент списка должен соответствовать таблице active_studs,\n",
    "    второй - checks, третий - groups.\n",
    "    \n",
    "    api_url (str): URL-адрес API облачного хранилища; по умолчанию используется\n",
    "    адрес API Яндекс Диска.\n",
    "    \n",
    "    delimiters (list): список разделителей, используемых при считывании CSV файлов.\n",
    "    Первый элемент списка задаёт разделитель для active_studs, второй - checks,\n",
    "    третий - groups (groups_add). По умолчанию для всех трех случаев\n",
    "    используется ','.\n",
    "\n",
    "    Возвращает:\n",
    "    df (pandas.DataFrame): таблица со следующими столбцами:\n",
    "    - id: уникальный идентификатор пользователя;\n",
    "    - group: группа, к которой отнесен пользователь (А или В);\n",
    "    - revenue: сумма денежных средств, потраченных пользователем;\n",
    "    - made_purchase: флаг совершения покупки (1 - покупка совершена,\n",
    "    0 - покупка не совершена).\n",
    "    \"\"\"\n",
    "    if len(public_urls) != 3:\n",
    "        raise ValueError(\"Need to pass 3 public URLs\")\n",
    "\n",
    "    if api_url:  # В api_url было что-то передано.\n",
    "        # Чтение active_studs.\n",
    "        active_studs = read_csv(public_urls[0], api_url, delimiter=delimiters[0])\n",
    "        active_studs.rename(columns={\"student_id\": \"id\"}, inplace=True)\n",
    "        # Чтение checks.\n",
    "        checks = read_csv(public_urls[1], api_url, delimiter=delimiters[1])\n",
    "        checks.rename(columns={\"student_id\": \"id\",\n",
    "                      \"rev\": \"revenue\"}, inplace=True)\n",
    "        # Чтение groups.\n",
    "        groups = read_csv(public_urls[2], api_url, delimiter=delimiters[2])\n",
    "        groups.rename(columns={\"grp\": \"group\"}, inplace=True)\n",
    "    else:  # Используется значение api_url по умолчанию.\n",
    "        # Чтение active_studs.\n",
    "        active_studs = read_csv(public_urls[0], delimiter=delimiters[0])\n",
    "        active_studs.rename(columns={\"student_id\": \"id\"}, inplace=True)\n",
    "        # Чтение checks.\n",
    "        checks = read_csv(public_urls[1], delimiter=delimiters[1])\n",
    "        checks.rename(columns={\"student_id\": \"id\",\n",
    "                      \"rev\": \"revenue\"}, inplace=True)\n",
    "        # Чтение groups.\n",
    "        groups = read_csv(public_urls[2], delimiter=delimiters[2])\n",
    "        groups.rename(columns={\"grp\": \"group\"}, inplace=True)\n",
    "\n",
    "    # Поскольку при расчете метрик интерес представляют только активные\n",
    "    # пользователи, первый pd.merge выполняется с ключом inner (пересечение по id).\n",
    "    df = pd.merge(left=groups, right=active_studs, how=\"inner\", on=\"id\")\n",
    "    # Отсутствующие значения заменяем нулями.\n",
    "    df = pd.merge(left=df, right=checks, how=\"left\", on=\"id\") \\\n",
    "        .fillna(value=0)\n",
    "\n",
    "    # Добавим столбец со значениями:\n",
    "    # 0, если пользователь ничего не покупал,\n",
    "    # 1, если пользователь совершал покупку.\n",
    "    df[\"made_purchase\"] = df[\"revenue\"].apply(lambda x: 1 if x > 0 else 0)\n",
    "\n",
    "    return df"
   ]
  },
  {
   "cell_type": "code",
   "execution_count": 32,
   "id": "395d2259-bf63-4b27-961c-325f4e441e62",
   "metadata": {},
   "outputs": [],
   "source": [
    "def process_data(df):\n",
    "    \"\"\"\n",
    "    На основе pandas.DataFrame, полученного при помощи функции prepare_data,\n",
    "    создает два новых объекта DataFrame: summary и metrics.\n",
    "    \n",
    "    Параметры:\n",
    "    df (pandas.DataFrame): таблица со следующими столбцами:\n",
    "    - id: уникальный идентификатор пользователя;\n",
    "    - group: группа, к которой отнесен пользователь (А или В);\n",
    "    - revenue: сумма денежных средств, потраченных пользователем;\n",
    "    - made_purchase: флаг совершения покупки (1 - покупка совершена,\n",
    "    0 - покупка не совершена).\n",
    "    \n",
    "    Возвращает:\n",
    "    summary (pandas.DataFrame): таблица, содержащая следующую информацию\n",
    "    о группах А и В:\n",
    "    - users_total: общее число пользователей;\n",
    "    - users_purchase: количество пользователей, совершивших покупку;\n",
    "    - revenue_total: сумма всех потраченных пользователями денег.\n",
    "    \n",
    "    metrics (pandas.DataFrame): таблица с рассчитанными для групп A и B метриками:\n",
    "    - CR в %: 100 * (число пользователей, совершивших покупку /\n",
    "    общее число пользователей);\n",
    "    - ARPU: сумма всех трат пользователей / общее число пользователей;\n",
    "    - ARPPU: сумма всех трат пользователей / число пользователей,\n",
    "    совершивших покупку.\n",
    "    \"\"\"\n",
    "    # Расчет сводной таблицы.\n",
    "    summary = df.groupby(by='group') \\\n",
    "        .agg({'id':'count', 'made_purchase': 'sum', 'revenue': 'sum'}) \\\n",
    "        .rename(columns={'id': 'users_total', 'made_purchase': 'users_purchase',\n",
    "                         'revenue': 'revenue_total'})\n",
    "    # summary = summary.round(3)\n",
    "\n",
    "    # Расчет метрик, их сохранение в таблице.\n",
    "    metrics = pd.DataFrame()\n",
    "    metrics['CR'] = 100 * (summary['users_purchase'] / summary['users_total'])\n",
    "    metrics['ARPU'] = (summary['revenue_total'] / summary['users_total']) \n",
    "    metrics['ARPPU'] = (summary['revenue_total'] / summary['users_purchase']) \n",
    "    # metrics = metrics.round(3)\n",
    "\n",
    "    return summary, metrics "
   ]
  },
  {
   "cell_type": "code",
   "execution_count": 33,
   "id": "75d7ed78-dcd6-4bda-81d2-cdb6146886f8",
   "metadata": {},
   "outputs": [],
   "source": [
    "def combine_data(df1, public_urls, api_url='', delimiters=[\",\", \",\", \",\"]):\n",
    "    \"\"\"\n",
    "    Считывает из облачного хранилища CSV-таблицы active_studs, checks\n",
    "    и groups_add в объекты pandas.DataFrame, а затем объединяет их в новый\n",
    "    DataFrame df2. Далее df2 конкатенируется к df1, и на основе результирующей\n",
    "    таблицы создаются обновленные summary и metrics.\n",
    "\n",
    "    Параметры:\n",
    "    df1 (pandas.DataFrame): таблица со следующими столбцами:\n",
    "    - id: уникальный идентификатор пользователя;\n",
    "    - group: группа, к которой отнесен пользователь (А или В);\n",
    "    - revenue: сумма денежных средств, потраченных пользователем;\n",
    "    - made_purchase: флаг совершения покупки (1 - покупка совершена,\n",
    "    0 - покупка не совершена).\n",
    "    \n",
    "    public_urls (list): список публичных URL-адресов CSV файлов.\n",
    "    Первый элемент списка должен соответствовать таблице active_studs,\n",
    "    второй - checks, третий - groups_add.\n",
    "    \n",
    "    api_url (str): URL-адрес API облачного хранилища; по умолчанию используется\n",
    "    адрес API Яндекс Диска.\n",
    "    \n",
    "    delimiters (list): список разделителей, используемых при считывании CSV файлов.\n",
    "    Первый элемент списка задаёт разделитель для active_studs, второй - checks,\n",
    "    третий - groups_add. По умолчанию для всех трех случаев используется ','.\n",
    "\n",
    "    Возвращает:\n",
    "    df3 (pandas.DataFrame) - таблица, аналогичная по структуре df1, но включающая\n",
    "    в себя данные не только из groups.csv, но и groups_add.csv.\n",
    "    \n",
    "    df3_summary (pandas.DataFrame): таблица, содержащая следующую информацию\n",
    "    об обновленных группах А и В:\n",
    "    - users_total: общее число пользователей;\n",
    "    - users_purchase: количество пользователей, совершивших покупку;\n",
    "    - revenue_total: сумма всех потраченных пользователями денег.\n",
    "    \n",
    "    df3_metrics (pandas.DataFrame): таблица с рассчитанными для обновленных групп\n",
    "    A и B метриками:\n",
    "    - CR в %: 100 * (число пользователей, совершивших покупку /\n",
    "    общее число пользователей);\n",
    "    - ARPU: сумма всех трат пользователей / общее число пользователей;\n",
    "    - ARPPU: сумма всех трат пользователей / число пользователей,\n",
    "    совершивших покупку.\n",
    "    \"\"\"\n",
    "    \n",
    "    # Подготовка новых данных...\n",
    "    df2 = prepare_data(public_urls, api_url, delimiters)\n",
    "    # ...и их конкатенация к уже имеющимся.\n",
    "    df3 = pd.concat([df1, df2])\n",
    "\n",
    "    # Проверка на повторяющиеся ID пользователей\n",
    "    if not df3[df3['id'].duplicated()].empty:\n",
    "        print('There are duplicated IDs in the data!')\n",
    "\n",
    "    # Построение сводной таблицы и таблицы метрик.\n",
    "    df3_summary, df3_metrics = process_data(df3)\n",
    "    \n",
    "    return df3, df3_summary, df3_metrics"
   ]
  },
  {
   "cell_type": "markdown",
   "id": "e7bfa353-83dc-41b8-84a4-07ff195e7dff",
   "metadata": {},
   "source": [
    "Применим функции для обработки основного набора данных - т.е, файлов **groups.csv**, **active_studs.csv** и **checks.csv**."
   ]
  },
  {
   "cell_type": "code",
   "execution_count": 34,
   "id": "9310006a-c3d4-478f-910e-97115e261cb7",
   "metadata": {},
   "outputs": [
    {
     "name": "stdout",
     "output_type": "stream",
     "text": [
      "<class 'pandas.core.frame.DataFrame'>\n",
      "RangeIndex: 8328 entries, 0 to 8327\n",
      "Data columns (total 4 columns):\n",
      " #   Column         Non-Null Count  Dtype  \n",
      "---  ------         --------------  -----  \n",
      " 0   id             8328 non-null   int64  \n",
      " 1   group          8328 non-null   object \n",
      " 2   revenue        8328 non-null   float64\n",
      " 3   made_purchase  8328 non-null   int64  \n",
      "dtypes: float64(1), int64(2), object(1)\n",
      "memory usage: 260.4+ KB\n"
     ]
    }
   ],
   "source": [
    "df = prepare_data(public_urls=[active_studs_url, checks_url, groups_url],\n",
    "                   delimiters=[',', ';', ';'])\n",
    "df.info()"
   ]
  },
  {
   "cell_type": "code",
   "execution_count": 35,
   "id": "f4b32997-a867-4c24-8706-f9e8f0da9d5f",
   "metadata": {},
   "outputs": [
    {
     "data": {
      "text/html": [
       "<div>\n",
       "<style scoped>\n",
       "    .dataframe tbody tr th:only-of-type {\n",
       "        vertical-align: middle;\n",
       "    }\n",
       "\n",
       "    .dataframe tbody tr th {\n",
       "        vertical-align: top;\n",
       "    }\n",
       "\n",
       "    .dataframe thead th {\n",
       "        text-align: right;\n",
       "    }\n",
       "</style>\n",
       "<table border=\"1\" class=\"dataframe\">\n",
       "  <thead>\n",
       "    <tr style=\"text-align: right;\">\n",
       "      <th></th>\n",
       "      <th>id</th>\n",
       "      <th>group</th>\n",
       "      <th>revenue</th>\n",
       "      <th>made_purchase</th>\n",
       "    </tr>\n",
       "  </thead>\n",
       "  <tbody>\n",
       "    <tr>\n",
       "      <th>0</th>\n",
       "      <td>1627</td>\n",
       "      <td>A</td>\n",
       "      <td>990.0</td>\n",
       "      <td>1</td>\n",
       "    </tr>\n",
       "    <tr>\n",
       "      <th>1</th>\n",
       "      <td>2085</td>\n",
       "      <td>B</td>\n",
       "      <td>0.0</td>\n",
       "      <td>0</td>\n",
       "    </tr>\n",
       "    <tr>\n",
       "      <th>2</th>\n",
       "      <td>2215</td>\n",
       "      <td>B</td>\n",
       "      <td>0.0</td>\n",
       "      <td>0</td>\n",
       "    </tr>\n",
       "    <tr>\n",
       "      <th>3</th>\n",
       "      <td>3391</td>\n",
       "      <td>A</td>\n",
       "      <td>0.0</td>\n",
       "      <td>0</td>\n",
       "    </tr>\n",
       "    <tr>\n",
       "      <th>4</th>\n",
       "      <td>3401</td>\n",
       "      <td>B</td>\n",
       "      <td>0.0</td>\n",
       "      <td>0</td>\n",
       "    </tr>\n",
       "  </tbody>\n",
       "</table>\n",
       "</div>"
      ],
      "text/plain": [
       "     id group  revenue  made_purchase\n",
       "0  1627     A    990.0              1\n",
       "1  2085     B      0.0              0\n",
       "2  2215     B      0.0              0\n",
       "3  3391     A      0.0              0\n",
       "4  3401     B      0.0              0"
      ]
     },
     "execution_count": 35,
     "metadata": {},
     "output_type": "execute_result"
    }
   ],
   "source": [
    "df.head()"
   ]
  },
  {
   "cell_type": "markdown",
   "id": "3f992d2c-989b-4320-9b5e-1ae2015d0b3c",
   "metadata": {},
   "source": [
    "Все ли id в таблице **df** уникальны?"
   ]
  },
  {
   "cell_type": "code",
   "execution_count": 36,
   "id": "14320a6a-f293-46e7-8ddd-dddb16bc73ed",
   "metadata": {},
   "outputs": [
    {
     "data": {
      "text/plain": [
       "8328"
      ]
     },
     "execution_count": 36,
     "metadata": {},
     "output_type": "execute_result"
    }
   ],
   "source": [
    "df.id.nunique()"
   ]
  },
  {
   "cell_type": "code",
   "execution_count": 37,
   "id": "a2b760b1-339e-4664-9a15-0a5c34d432c3",
   "metadata": {},
   "outputs": [],
   "source": [
    "df_summary, df_metrics = process_data(df)"
   ]
  },
  {
   "cell_type": "code",
   "execution_count": 38,
   "id": "93b4ae64-3a7e-460f-b298-dccb3310a029",
   "metadata": {},
   "outputs": [
    {
     "data": {
      "text/html": [
       "<div>\n",
       "<style scoped>\n",
       "    .dataframe tbody tr th:only-of-type {\n",
       "        vertical-align: middle;\n",
       "    }\n",
       "\n",
       "    .dataframe tbody tr th {\n",
       "        vertical-align: top;\n",
       "    }\n",
       "\n",
       "    .dataframe thead th {\n",
       "        text-align: right;\n",
       "    }\n",
       "</style>\n",
       "<table border=\"1\" class=\"dataframe\">\n",
       "  <thead>\n",
       "    <tr style=\"text-align: right;\">\n",
       "      <th></th>\n",
       "      <th>users_total</th>\n",
       "      <th>users_purchase</th>\n",
       "      <th>revenue_total</th>\n",
       "    </tr>\n",
       "    <tr>\n",
       "      <th>group</th>\n",
       "      <th></th>\n",
       "      <th></th>\n",
       "      <th></th>\n",
       "    </tr>\n",
       "  </thead>\n",
       "  <tbody>\n",
       "    <tr>\n",
       "      <th>A</th>\n",
       "      <td>1535</td>\n",
       "      <td>78</td>\n",
       "      <td>72820.000</td>\n",
       "    </tr>\n",
       "    <tr>\n",
       "      <th>B</th>\n",
       "      <td>6793</td>\n",
       "      <td>313</td>\n",
       "      <td>393074.004</td>\n",
       "    </tr>\n",
       "  </tbody>\n",
       "</table>\n",
       "</div>"
      ],
      "text/plain": [
       "       users_total  users_purchase  revenue_total\n",
       "group                                            \n",
       "A             1535              78      72820.000\n",
       "B             6793             313     393074.004"
      ]
     },
     "execution_count": 38,
     "metadata": {},
     "output_type": "execute_result"
    }
   ],
   "source": [
    "df_summary.round(3)"
   ]
  },
  {
   "cell_type": "code",
   "execution_count": 39,
   "id": "4fa5a78f-7062-49a6-99cb-d854ff31491b",
   "metadata": {},
   "outputs": [
    {
     "data": {
      "text/html": [
       "<div>\n",
       "<style scoped>\n",
       "    .dataframe tbody tr th:only-of-type {\n",
       "        vertical-align: middle;\n",
       "    }\n",
       "\n",
       "    .dataframe tbody tr th {\n",
       "        vertical-align: top;\n",
       "    }\n",
       "\n",
       "    .dataframe thead th {\n",
       "        text-align: right;\n",
       "    }\n",
       "</style>\n",
       "<table border=\"1\" class=\"dataframe\">\n",
       "  <thead>\n",
       "    <tr style=\"text-align: right;\">\n",
       "      <th></th>\n",
       "      <th>CR</th>\n",
       "      <th>ARPU</th>\n",
       "      <th>ARPPU</th>\n",
       "    </tr>\n",
       "    <tr>\n",
       "      <th>group</th>\n",
       "      <th></th>\n",
       "      <th></th>\n",
       "      <th></th>\n",
       "    </tr>\n",
       "  </thead>\n",
       "  <tbody>\n",
       "    <tr>\n",
       "      <th>A</th>\n",
       "      <td>5.081</td>\n",
       "      <td>47.440</td>\n",
       "      <td>933.590</td>\n",
       "    </tr>\n",
       "    <tr>\n",
       "      <th>B</th>\n",
       "      <td>4.608</td>\n",
       "      <td>57.865</td>\n",
       "      <td>1255.827</td>\n",
       "    </tr>\n",
       "  </tbody>\n",
       "</table>\n",
       "</div>"
      ],
      "text/plain": [
       "          CR    ARPU     ARPPU\n",
       "group                         \n",
       "A      5.081  47.440   933.590\n",
       "B      4.608  57.865  1255.827"
      ]
     },
     "execution_count": 39,
     "metadata": {},
     "output_type": "execute_result"
    }
   ],
   "source": [
    "df_metrics.round(3)"
   ]
  },
  {
   "cell_type": "markdown",
   "id": "d92ba1c9-d295-4338-89b1-ec5a329bb050",
   "metadata": {},
   "source": [
    "Теперь применим функцию **combine_data**, чтобы учесть новые данные из **groups_add.csv** и с их учетом пересчитать интересующие метрики."
   ]
  },
  {
   "cell_type": "code",
   "execution_count": 40,
   "id": "1da5cf91-1a11-4d5c-911a-ff353af4c659",
   "metadata": {
    "scrolled": true
   },
   "outputs": [
    {
     "name": "stdout",
     "output_type": "stream",
     "text": [
      "<class 'pandas.core.frame.DataFrame'>\n",
      "Index: 8341 entries, 0 to 12\n",
      "Data columns (total 4 columns):\n",
      " #   Column         Non-Null Count  Dtype  \n",
      "---  ------         --------------  -----  \n",
      " 0   id             8341 non-null   int64  \n",
      " 1   group          8341 non-null   object \n",
      " 2   revenue        8341 non-null   float64\n",
      " 3   made_purchase  8341 non-null   int64  \n",
      "dtypes: float64(1), int64(2), object(1)\n",
      "memory usage: 325.8+ KB\n"
     ]
    }
   ],
   "source": [
    "upd_df, upd_df_summary, upd_df_metrics = combine_data(\n",
    "    df, [active_studs_url, checks_url, groups_add_url],\n",
    "    delimiters=[',', ';', ',']\n",
    ")\n",
    "upd_df.info()"
   ]
  },
  {
   "cell_type": "code",
   "execution_count": 41,
   "id": "f035efde-ba7f-4421-8b5f-8d19da22e79a",
   "metadata": {},
   "outputs": [
    {
     "data": {
      "text/html": [
       "<div>\n",
       "<style scoped>\n",
       "    .dataframe tbody tr th:only-of-type {\n",
       "        vertical-align: middle;\n",
       "    }\n",
       "\n",
       "    .dataframe tbody tr th {\n",
       "        vertical-align: top;\n",
       "    }\n",
       "\n",
       "    .dataframe thead th {\n",
       "        text-align: right;\n",
       "    }\n",
       "</style>\n",
       "<table border=\"1\" class=\"dataframe\">\n",
       "  <thead>\n",
       "    <tr style=\"text-align: right;\">\n",
       "      <th></th>\n",
       "      <th>users_total</th>\n",
       "      <th>users_purchase</th>\n",
       "      <th>revenue_total</th>\n",
       "    </tr>\n",
       "    <tr>\n",
       "      <th>group</th>\n",
       "      <th></th>\n",
       "      <th></th>\n",
       "      <th></th>\n",
       "    </tr>\n",
       "  </thead>\n",
       "  <tbody>\n",
       "    <tr>\n",
       "      <th>A</th>\n",
       "      <td>1538</td>\n",
       "      <td>78</td>\n",
       "      <td>72820.000</td>\n",
       "    </tr>\n",
       "    <tr>\n",
       "      <th>B</th>\n",
       "      <td>6803</td>\n",
       "      <td>314</td>\n",
       "      <td>394974.004</td>\n",
       "    </tr>\n",
       "  </tbody>\n",
       "</table>\n",
       "</div>"
      ],
      "text/plain": [
       "       users_total  users_purchase  revenue_total\n",
       "group                                            \n",
       "A             1538              78      72820.000\n",
       "B             6803             314     394974.004"
      ]
     },
     "execution_count": 41,
     "metadata": {},
     "output_type": "execute_result"
    }
   ],
   "source": [
    "upd_df_summary.round(3)"
   ]
  },
  {
   "cell_type": "code",
   "execution_count": 42,
   "id": "f068b3aa-f3fd-44f0-9bfb-23809dde56e4",
   "metadata": {},
   "outputs": [
    {
     "data": {
      "text/html": [
       "<div>\n",
       "<style scoped>\n",
       "    .dataframe tbody tr th:only-of-type {\n",
       "        vertical-align: middle;\n",
       "    }\n",
       "\n",
       "    .dataframe tbody tr th {\n",
       "        vertical-align: top;\n",
       "    }\n",
       "\n",
       "    .dataframe thead th {\n",
       "        text-align: right;\n",
       "    }\n",
       "</style>\n",
       "<table border=\"1\" class=\"dataframe\">\n",
       "  <thead>\n",
       "    <tr style=\"text-align: right;\">\n",
       "      <th></th>\n",
       "      <th>CR</th>\n",
       "      <th>ARPU</th>\n",
       "      <th>ARPPU</th>\n",
       "    </tr>\n",
       "    <tr>\n",
       "      <th>group</th>\n",
       "      <th></th>\n",
       "      <th></th>\n",
       "      <th></th>\n",
       "    </tr>\n",
       "  </thead>\n",
       "  <tbody>\n",
       "    <tr>\n",
       "      <th>A</th>\n",
       "      <td>5.072</td>\n",
       "      <td>47.347</td>\n",
       "      <td>933.590</td>\n",
       "    </tr>\n",
       "    <tr>\n",
       "      <th>B</th>\n",
       "      <td>4.616</td>\n",
       "      <td>58.059</td>\n",
       "      <td>1257.879</td>\n",
       "    </tr>\n",
       "  </tbody>\n",
       "</table>\n",
       "</div>"
      ],
      "text/plain": [
       "          CR    ARPU     ARPPU\n",
       "group                         \n",
       "A      5.072  47.347   933.590\n",
       "B      4.616  58.059  1257.879"
      ]
     },
     "execution_count": 42,
     "metadata": {},
     "output_type": "execute_result"
    }
   ],
   "source": [
    "upd_df_metrics.round(3)"
   ]
  },
  {
   "cell_type": "markdown",
   "id": "db2b9c18-b3b0-4b7f-90f3-c7c2a39fcf1b",
   "metadata": {},
   "source": [
    "Таким образом, все имеющиеся данные были успешно объединены, а на их основе построены сводная таблица **upd_df_summary** и таблица со значениями метрик **upd_df_metrics**. Перейдем непосредственно к статистическому анализу полученных результатов."
   ]
  },
  {
   "attachments": {},
   "cell_type": "markdown",
   "id": "75af5ba8-d09b-499f-9d82-f14c1421a700",
   "metadata": {},
   "source": [
    "## Тестирование гипотез\n",
    "### CR\n",
    "**CR (conversion rate)** - это отношение числа пользователей, совершивших покупку, к общему числу пользователей. Начнем оценку различия между **CR** групп A и B с составления на основе  **upd_df** так называемой таблицы сопряженности - представления совместного распределения двух категориальных переменных, в нашем случае *group* и *made_purchase*."
   ]
  },
  {
   "cell_type": "code",
   "execution_count": 43,
   "id": "4dffc537-ee37-44f5-9409-c3afc54afba5",
   "metadata": {},
   "outputs": [
    {
     "data": {
      "text/html": [
       "<div>\n",
       "<style scoped>\n",
       "    .dataframe tbody tr th:only-of-type {\n",
       "        vertical-align: middle;\n",
       "    }\n",
       "\n",
       "    .dataframe tbody tr th {\n",
       "        vertical-align: top;\n",
       "    }\n",
       "\n",
       "    .dataframe thead th {\n",
       "        text-align: right;\n",
       "    }\n",
       "</style>\n",
       "<table border=\"1\" class=\"dataframe\">\n",
       "  <thead>\n",
       "    <tr style=\"text-align: right;\">\n",
       "      <th>group</th>\n",
       "      <th>A</th>\n",
       "      <th>B</th>\n",
       "    </tr>\n",
       "    <tr>\n",
       "      <th>made_purchase</th>\n",
       "      <th></th>\n",
       "      <th></th>\n",
       "    </tr>\n",
       "  </thead>\n",
       "  <tbody>\n",
       "    <tr>\n",
       "      <th>0</th>\n",
       "      <td>1460</td>\n",
       "      <td>6489</td>\n",
       "    </tr>\n",
       "    <tr>\n",
       "      <th>1</th>\n",
       "      <td>78</td>\n",
       "      <td>314</td>\n",
       "    </tr>\n",
       "  </tbody>\n",
       "</table>\n",
       "</div>"
      ],
      "text/plain": [
       "group             A     B\n",
       "made_purchase            \n",
       "0              1460  6489\n",
       "1                78   314"
      ]
     },
     "execution_count": 43,
     "metadata": {},
     "output_type": "execute_result"
    }
   ],
   "source": [
    "contingency_table = pd.crosstab(index=upd_df.made_purchase, columns=upd_df.group)\n",
    "contingency_table"
   ]
  },
  {
   "cell_type": "markdown",
   "id": "d7a58a0c-d9e0-4ad6-b4d3-68b75f787544",
   "metadata": {},
   "source": [
    "Исследуем полученную **contingency_table** при помощи критерия *хи-квадрат*:\n",
    "* **нулевая гипотеза H<sub>0</sub>**: доли пользователей, совершивших покупку на сайте, одинаковы в обеих группах (или: категориальные переменные *group* и *made_purchase* независимы);\n",
    "* **альтернативная гипотеза H<sub>1</sub>**: доли пользователей, совершивших покупку на сайте, различаются (или: существует связь между категориальными переменными *group* и *made_purchase*)."
   ]
  },
  {
   "cell_type": "code",
   "execution_count": 44,
   "id": "51882e7c-94b6-43eb-9d8c-06840fe5523f",
   "metadata": {},
   "outputs": [
    {
     "name": "stdout",
     "output_type": "stream",
     "text": [
      "P-value is 0.48625240457231045\n"
     ]
    }
   ],
   "source": [
    "chi_res = stats.chi2_contingency(contingency_table)\n",
    "print(f'P-value is {chi_res.pvalue}')"
   ]
  },
  {
   "cell_type": "markdown",
   "id": "b4cd020d-30cc-41e1-887e-038759f163ab",
   "metadata": {},
   "source": [
    "Полученное p-value существенно превышает стандартное пороговое значение 0.05 (5%), поэтому нулевая гипотеза не отклоняется. \n",
    "\n",
    "Данный результат свидетельствует об отсутствии статистически значимой взаимосвязи между группой пользователя и совершением им покупки и, как следствие, об отсутствии статистически значимой разницы между показателями конверсии групп A и B."
   ]
  },
  {
   "attachments": {},
   "cell_type": "markdown",
   "id": "d140ebbe-107d-4650-9fd3-bae64b2c5a14",
   "metadata": {},
   "source": [
    "### ARPU\n",
    "**ARPU (average revenue per user)** - это отношение дохода, полученного со всех пользователей, к числу всех пользователей. В нашем случае общий **ARPU** рассчитывается как арифметическое среднее значений колонки *revenue* таблицы **upd_df**. Чтобы получить **ARPU** группы А или В, необходимо предварительно отфильтровать данные по столбцу *group*, содержащем значения-маркеры ‘A’ и ‘B’.\n",
    "\n",
    "Профильтруем таблицу **upd_df** по значению 'А' / 'В' колонки *group*, затем исключим из результата столбцы *group* и *made_purchase* и сохраним его в переменную **group_a** / **group_b**."
   ]
  },
  {
   "cell_type": "code",
   "execution_count": 45,
   "id": "e5e22cff-be93-44dc-861c-1f38bd2a93ae",
   "metadata": {},
   "outputs": [],
   "source": [
    "group_a = upd_df.query(\"group=='A'\").drop(columns=['group', 'made_purchase'])\n",
    "group_b = upd_df.query(\"group=='B'\").drop(columns=['group', 'made_purchase'])"
   ]
  },
  {
   "attachments": {},
   "cell_type": "markdown",
   "id": "6f494a0f-c39e-4559-a7c6-f72ea62c1753",
   "metadata": {},
   "source": [
    "Таким образом, в этих двух новых переменных сохранены значения *revenue*, усреднение которых даст **ARPU** соответствующей группы."
   ]
  },
  {
   "cell_type": "code",
   "execution_count": 46,
   "id": "147d2932-1bca-49ad-81e8-373084196886",
   "metadata": {},
   "outputs": [
    {
     "name": "stdout",
     "output_type": "stream",
     "text": [
      "ARPU of A: 47.34720416124838, ARPU of B: 58.058798103777754\n",
      "Difference: 10.711593942529376\n"
     ]
    }
   ],
   "source": [
    "arpu_a = group_a['revenue'].mean()\n",
    "arpu_b = group_b['revenue'].mean()\n",
    "delta = arpu_b - arpu_a  # мы ожидаем, что ARPU группы В будет больше\n",
    "print(f\"ARPU of A: {arpu_a}, ARPU of B: {arpu_b}\\nDifference: {delta}\")"
   ]
  },
  {
   "cell_type": "markdown",
   "id": "e624633f-737c-46ee-b587-92a977203a54",
   "metadata": {},
   "source": [
    "Уточним размер исследуемых групп."
   ]
  },
  {
   "cell_type": "code",
   "execution_count": 47,
   "id": "b1893327-9d94-4ab1-811c-35eed7a4d09c",
   "metadata": {},
   "outputs": [
    {
     "name": "stdout",
     "output_type": "stream",
     "text": [
      "Group\tSize\n",
      "A\t1538\n",
      "B\t6803\n"
     ]
    }
   ],
   "source": [
    "print('Group\\tSize')\n",
    "print(f'A\\t{group_a.shape[0]}\\nB\\t{group_b.shape[0]}')"
   ]
  },
  {
   "cell_type": "markdown",
   "id": "1194a55a-8814-4501-ab4f-970224673e43",
   "metadata": {},
   "source": [
    "Стандартным способом оценки статистической значимости различия между двумя средними выборок является t-тест. Однако применение t-теста корректно и уместно только для данных, которые отвечают следующим требованиям:\n",
    "* обе выборки должны быть взяты из приблизительно нормально распределенных генеральных совокупностей;\n",
    "* дисперсии и размеры выборок должны быть приблизительно равны;\n",
    "* выборки должны быть независимыми друг от друга.\n",
    "\n",
    "Мы не имеем инструментария для проверки выполнения последнего требования. Будем считать, что оно действительно выполняется.\n",
    "\n",
    "Оценим соответствие распределения выборок *revenue* групп А и В нормальному распределению:\n",
    "* при помощи визуализаций;\n",
    "* посредством статистических тестов.\n",
    "\n",
    "Построим гистограммы и Q-Q графики для значений *revenue* групп A и B."
   ]
  },
  {
   "cell_type": "code",
   "execution_count": 48,
   "id": "785fe390-cb88-4e0d-a8d8-598f4b8d2f64",
   "metadata": {},
   "outputs": [
    {
     "data": {
      "image/png": "[encoded data removed]",
      "text/plain": [
       "<Figure size 1500x600 with 2 Axes>"
      ]
     },
     "metadata": {},
     "output_type": "display_data"
    },
    {
     "data": {
      "image/png": "[encoded data removed]",
      "text/plain": [
       "<Figure size 1500x600 with 2 Axes>"
      ]
     },
     "metadata": {},
     "output_type": "display_data"
    }
   ],
   "source": [
    "## Group A\n",
    "fig, ax = plt.subplots(1, 2, dpi=150, figsize=(10, 4), constrained_layout=True,\n",
    "                       sharey=True)\n",
    "fig.suptitle('Group A')\n",
    "#\n",
    "sns.histplot(y=group_a['revenue'], stat='probability', color='dodgerblue',\n",
    "             linewidth=1.5, ax=ax[0], zorder=3)\n",
    "ax[0].set(title='Distribution of revenue', ylabel='Observed Values',\n",
    "          ylim=[-100, group_a['revenue'].max() + 100])\n",
    "ax[0].grid(zorder=-1)\n",
    "#\n",
    "probplot = stats.probplot(group_a['revenue'], plot=ax[1])\n",
    "ax[1].get_lines()[0].set_markerfacecolor('dodgerblue')\n",
    "ax[1].get_lines()[0].set_color('k')\n",
    "ax[1].set(title='Q-Q plot for revenue', ylabel='')\n",
    "ax[1].grid();\n",
    "\n",
    "## Group B\n",
    "fig, ax = plt.subplots(1, 2, dpi=150, figsize=(10, 4), constrained_layout=True,\n",
    "                       sharey=True)\n",
    "fig.suptitle('Group B')\n",
    "#\n",
    "sns.histplot(y=group_b['revenue'], stat='probability', color='darkgreen',\n",
    "             linewidth=1.5, ax=ax[0], zorder=3)\n",
    "ax[0].set(title='Distribution of revenue', ylabel='Observed Values',\n",
    "          ylim=[-100, group_b['revenue'].max() + 100])\n",
    "ax[0].grid(zorder=-1)\n",
    "#\n",
    "probplot = stats.probplot(group_b['revenue'], plot=ax[1])\n",
    "ax[1].get_lines()[0].set_markerfacecolor('darkgreen')\n",
    "ax[1].get_lines()[0].set_color('k')\n",
    "ax[1].set(title='Q-Q plot for revenue', ylabel='')\n",
    "ax[1].grid();"
   ]
  },
  {
   "attachments": {},
   "cell_type": "markdown",
   "id": "962a3874-7043-4279-b427-e9fc235f4789",
   "metadata": {},
   "source": [
    "Хорошо видно, что данные из обеих групп не распределены нормально: подавляющая часть измерений сосредоточена в нуле (= большинство пользователей не тратили деньги). "
   ]
  },
  {
   "cell_type": "code",
   "execution_count": 49,
   "id": "62afbac6-e6b7-46bf-9219-bf374c5f5a7e",
   "metadata": {},
   "outputs": [
    {
     "data": {
      "text/plain": [
       "revenue\n",
       "0.0      1460\n",
       "290.0      25\n",
       "580.0       6\n",
       "199.0       5\n",
       "990.0       5\n",
       "Name: count, dtype: int64"
      ]
     },
     "execution_count": 49,
     "metadata": {},
     "output_type": "execute_result"
    }
   ],
   "source": [
    "group_a['revenue'].value_counts().head()"
   ]
  },
  {
   "cell_type": "code",
   "execution_count": 50,
   "id": "b01b18cf-184a-42c1-9a95-241c57a50bc9",
   "metadata": {},
   "outputs": [
    {
     "data": {
      "text/plain": [
       "revenue\n",
       "0.0000       6489\n",
       "1900.0000      93\n",
       "290.0000       45\n",
       "1900.0001      35\n",
       "199.0000       27\n",
       "Name: count, dtype: int64"
      ]
     },
     "execution_count": 50,
     "metadata": {},
     "output_type": "execute_result"
    }
   ],
   "source": [
    "group_b['revenue'].value_counts().head()"
   ]
  },
  {
   "cell_type": "markdown",
   "id": "9905e797-d12c-45ac-8b43-18422145303a",
   "metadata": {},
   "source": [
    "В распределении *revenue* группы В обнаружено 93 повторения значения 1900 и 35 повторений значения 1900.0001. Столь малое различие между двумя значениями, а также большое число их повторений могут свидетельствовать об ошибке, сделанной на этапе сбора данных. Тем не менее, поскольку имеющаяся информация не позволяет однозначно определить природу этого кластера наблюдений, он не будет исключен из дальнейших построений.\n",
    "\n",
    "Созданные визуализации свидетельствуют о том, что распределения выборок *revenue* обеих групп не являются нормальными. Тем не менее, подтвердим данное предположение при помощи статистических тестов Шапиро-Уилка и Харке-Бера. Эти тесты существенно различаются с точки зрения вычислений и математического устройства, однако, с некоторыми оговорками, они проверяют одинаковые гипотезы: \n",
    "* **нулевая гипотеза H<sub>0</sub>**: данные взяты из популяции, которая имеет нормальное распределение;\n",
    "* **альтернативная гипотеза H<sub>1</sub>**: популяция, из которой были взяты данные, не подчиняется нормальному распределению.\n",
    "\n",
    "Главное различие между этими тестами состоит в их области применения. Так, если размер проверяемого набора данных меньше 5000 наблюдений (как в группе А), тест Шапиро-Уилка даст более надежный результат. В случае, если набор данных превышает 5000 наблюдений, следует использовать тест Харке-Бера (группе В)."
   ]
  },
  {
   "cell_type": "code",
   "execution_count": 51,
   "id": "172a41cf-a087-4756-baf2-40df309fced4",
   "metadata": {},
   "outputs": [
    {
     "name": "stdout",
     "output_type": "stream",
     "text": [
      "Group A:\n",
      "                W          pval  normal\n",
      "revenue  0.154167  1.113974e-63   False\n",
      "\n",
      "Group B:\n",
      "                     W  pval  normal\n",
      "revenue  547732.488043   0.0   False\n"
     ]
    }
   ],
   "source": [
    "print(f\"Group A:\\n{pg.normality(group_a['revenue'], method='shapiro')}\")\n",
    "print(f\"\\nGroup B:\\n{pg.normality(group_b['revenue'], method='jarque_bera')}\")"
   ]
  },
  {
   "attachments": {},
   "cell_type": "markdown",
   "id": "db43d26a-11ac-43c3-8f66-2bbf2035a8e4",
   "metadata": {},
   "source": [
    "Для обеих групп полученное в результате теста p-value меньше порогового значения 0.05, поэтому нулевая гипотеза отвергается в пользу альтернативной. В свою очередь, из принятия H<sub>1</sub> следует ненормальность распределения значений *revenue* выборок А и В. Таким образом, данные не удовлетворяют как минимум одной из трёх предпосылок, лежащих в основе t-теста.\n",
    "\n",
    "Какие существуют альтернативные подходы оценки статистической значимости разницы между показателями **ARPU** групп А и В?\n",
    "1. **Непараметрический тест Манна-Уитни.** Сравнивая кумулятивные функции двух независимых выборок, оценивает разницу между лежащими в их основе популяциями.\n",
    "Однако, в отличие от t-теста, тест Манна-Уитни не делает выводов о средних значениях групп / популяций. Если с помощью теста Манна-Уитни была отвергнута нулевая гипотеза, это означает, что статистически значимо различаются именно распределения двух групп, что не обязательно связано с разницей в их средних значениях. Таким образом, тест Манна-Уитни не дает однозначного ответа на вопрос: «является ли различие метрик **ARPU** групп A и B статистически значимым?». Кроме того, при значительных различиях в размерах выборок, как в рассматриваемой ситуации, данный тест может быть смещён в сторону более крупной из них.\n",
    "2. **Перестановочный тест для разницы средних значений выборок.** Оценивает вероятность того, что наблюдаемая разница между средними значениями является результатом случайной вариации, а не систематического различия между группами. Предъявляет минимум требований к тестируемым данным (независимость измерений, одинаковое распределение данных в пределах выборки).\n",
    "\n",
    "Реализуем перестановочный тест для оценки стат. значимости различия между средними значения (=**ARPU**) групп А и В. Прежде всего, зададим функцию для расчета тестовой статистики - разности между средним значением группы В и средним значением группы А. Такой порядок членов обусловлен выполненным для наблюдённых данных предположением, что пользователи из В, взаимодействующие с новой механикой оплаты, тратят в среднем больше денег."
   ]
  },
  {
   "cell_type": "code",
   "execution_count": 52,
   "id": "9d4fb298-818a-4eff-97c5-88090317eac7",
   "metadata": {},
   "outputs": [],
   "source": [
    "def statistic (a, b, axis):\n",
    "    '''Функция для расчета тестовой статистики'''\n",
    "    return np.mean(b, axis) - np.mean(a, axis)"
   ]
  },
  {
   "attachments": {},
   "cell_type": "markdown",
   "id": "d5aff165-27ce-4820-b539-a254f51e1660",
   "metadata": {},
   "source": [
    "Сформулируем гипотезы, исследуемые перестановочным тестом для разницы средних двух выборок:\n",
    "* **нулевая гипотеза H<sub>0</sub>**: выборки А и В взяты из одной и той же популяции;\n",
    "* **альтернативная гипотеза H<sub>1</sub>**: выборки А и В взяты из разных популяций, причем среднее значение популяции В больше, чем популяции А.\n",
    "\n",
    "*p-value* будет рассчитано как процент значений из распределения нулевой гипотезы, которые больше или равны наблюдённой тестовой статистике."
   ]
  },
  {
   "cell_type": "code",
   "execution_count": 53,
   "id": "86d8d6e9-a51b-4ce7-a465-3767d6fcde2a",
   "metadata": {},
   "outputs": [
    {
     "name": "stdout",
     "output_type": "stream",
     "text": [
      "p-value is 0.1105\n"
     ]
    }
   ],
   "source": [
    "perm_res = stats.permutation_test(\n",
    "    (group_a['revenue'], group_b['revenue']),\n",
    "    statistic, vectorized=True,\n",
    "    n_resamples=9999, alternative='greater'\n",
    ")\n",
    "print(f'p-value is {perm_res.pvalue}')"
   ]
  },
  {
   "cell_type": "markdown",
   "id": "3cfed845-d2d5-41ad-91dc-f6904816be7d",
   "metadata": {},
   "source": [
    "Полученное p-value превышает пороговое значение 0.05, поэтому нулевая гипотеза не отклоняется. \n",
    "\n",
    "Визуализируем распределение нулевой гипотезы и наблюдённую тестовую статистику:"
   ]
  },
  {
   "cell_type": "code",
   "execution_count": 54,
   "id": "628fa157-51e9-49ab-9f9f-50146cff5f16",
   "metadata": {},
   "outputs": [
    {
     "data": {
      "image/png": "[encoded data removed]",
      "text/plain": [
       "<Figure size 900x450 with 1 Axes>"
      ]
     },
     "metadata": {},
     "output_type": "display_data"
    }
   ],
   "source": [
    "fig, ax = plt.subplots(dpi=150, figsize=(6, 3), constrained_layout=True)\n",
    "ax.hist(perm_res.null_distribution, bins=30, edgecolor='black', zorder=2)\n",
    "ax.axvline(x=delta, color='red', linewidth=3, label='observed\\nstatistic')\n",
    "ax.set(title='Null hypothesis distribution', xlabel='Values', ylabel='Count')\n",
    "ax.grid(zorder=-1)\n",
    "ax.legend();"
   ]
  },
  {
   "attachments": {},
   "cell_type": "markdown",
   "id": "49ca746e-d9fa-4cd6-8714-94ff78527f4b",
   "metadata": {},
   "source": [
    "Таким образом, результат перестановочного теста свидетельствует о том, что разница между показателями **ARPU** групп А и В не является статистически значимой. Иными словами, введение нового механизма оплаты не оказало существенного влияния на размер среднего чека, рассчитанного по всем активным пользователям."
   ]
  },
  {
   "attachments": {},
   "cell_type": "markdown",
   "id": "caf7388b-fc0d-44db-8a84-0cfc7f10cd2e",
   "metadata": {},
   "source": [
    "### ARPPU\n",
    "**ARPPU (average revenue per paying user)** - это отношение дохода, полученного со всех пользователей, к числу пользователей, совершивших хотя бы одну покупку. Поскольку данный показатель отличается от **ARPU** ~одной буквой~ только используемым при его расчете знаменателем, для оценки стат. значимости различия **ARPPU** групп А и В реализуем процедуру, аналогичную описанной в предыдущем разделе. Чтобы избежать лишних повторений, там, где это уместно, опустим развернутые комментарии с описанием производимых действий и их логики. \n",
    "\n",
    "Отфильтруем таблицу **upd_df** по значениям 'А' / 'В' колонки *group* и 1 колонки *made_purchase*, затем исключим из результата столбцы *group* и *made_purchase* и сохраним его в переменную **group_a** / **group_b**."
   ]
  },
  {
   "cell_type": "code",
   "execution_count": 55,
   "id": "8825e3d1-b04b-4636-a077-68237f6a9a6e",
   "metadata": {},
   "outputs": [],
   "source": [
    "group_a = upd_df.query(\"group=='A' and made_purchase==1\") \\\n",
    "    .drop(columns=['group', 'made_purchase'])\n",
    "group_b = upd_df.query(\"group=='B' and made_purchase==1\") \\\n",
    "    .drop(columns=['group', 'made_purchase'])"
   ]
  },
  {
   "attachments": {},
   "cell_type": "markdown",
   "id": "62a0f4b8-8f73-4656-a8b9-4a3751429f03",
   "metadata": {},
   "source": [
    "Чему равна дельта **ARРPU** групп?"
   ]
  },
  {
   "cell_type": "code",
   "execution_count": 56,
   "id": "c8885775-070c-4557-a2af-7c6de540ba56",
   "metadata": {},
   "outputs": [
    {
     "name": "stdout",
     "output_type": "stream",
     "text": [
      "ARPPU of A: 933.5897435897435, ARPPU of B: 1257.8789920382164\n",
      "Difference: 324.2892484484729\n"
     ]
    }
   ],
   "source": [
    "arppu_a = group_a['revenue'].mean()\n",
    "arppu_b = group_b['revenue'].mean()\n",
    "delta = arppu_b - arppu_a  # мы ожидаем, что ARРPU группы В будет больше\n",
    "print(f\"ARPPU of A: {arppu_a}, ARPPU of B: {arppu_b}\\nDifference: {delta}\")"
   ]
  },
  {
   "cell_type": "markdown",
   "id": "431ad7ba-45ca-4c71-9aa8-d67561cb7393",
   "metadata": {},
   "source": [
    "Уточним размер исследуемых групп."
   ]
  },
  {
   "cell_type": "code",
   "execution_count": 57,
   "id": "4178d2e3-77d6-4e2e-994e-32eb96b0c263",
   "metadata": {},
   "outputs": [
    {
     "name": "stdout",
     "output_type": "stream",
     "text": [
      "Group\tSize\n",
      "A\t78\n",
      "B\t314\n"
     ]
    }
   ],
   "source": [
    "print('Group\\tSize')\n",
    "print(f'A\\t{group_a.shape[0]}\\nB\\t{group_b.shape[0]}')"
   ]
  },
  {
   "attachments": {},
   "cell_type": "markdown",
   "id": "9a6ca888-2a89-4b43-870c-e346128ef027",
   "metadata": {},
   "source": [
    "Как и в случае **ARPU**, рассматриваемые выборки являются несбалансированными: количество пользователей в группах А и В соотносится как 1:4 (для **ARPU**- как 1:4.4). С другой стороны, размер выборок для расчета **ARРPU** существенно меньше размера выборок для расчета **ARPU**. Из этого следует, что при прочих равных условиях минимальный эффект, детектируемый статистическими тестами выборок **ARРPU**, будет больше, чем в случае тестов данных **ARPU**. \n",
    "\n",
    "Оценим соответствие распределения значений *revenue* групп А и В нормальному распределению:\n",
    "* при помощи визуализаций;\n",
    "* посредством статистических тестов.\n",
    "\n",
    "Построим гистограммы и Q-Q графики для значений *revenue* групп A и B."
   ]
  },
  {
   "cell_type": "code",
   "execution_count": 58,
   "id": "b615ec60-5138-4804-a5b1-a6c08a68dbb4",
   "metadata": {},
   "outputs": [
    {
     "data": {
      "image/png": "[encoded data removed]",
      "text/plain": [
       "<Figure size 1500x600 with 2 Axes>"
      ]
     },
     "metadata": {},
     "output_type": "display_data"
    },
    {
     "data": {
      "image/png": "[encoded data removed]",
      "text/plain": [
       "<Figure size 1500x600 with 2 Axes>"
      ]
     },
     "metadata": {},
     "output_type": "display_data"
    }
   ],
   "source": [
    "## Group A\n",
    "fig, ax = plt.subplots(1, 2, dpi=150, figsize=(10, 4), constrained_layout=True,\n",
    "                       sharey=True)\n",
    "fig.suptitle('Group A')\n",
    "#\n",
    "sns.histplot(y=group_a['revenue'], stat='probability', color='dodgerblue',\n",
    "             linewidth=1.5, ax=ax[0], zorder=3)\n",
    "ax[0].set(title='Distribution of revenue', ylabel='Observed Values',\n",
    "          ylim=[-100, group_a['revenue'].max() + 100])\n",
    "ax[0].grid(zorder=-1)\n",
    "#\n",
    "probplot = stats.probplot(group_a['revenue'], plot=ax[1])\n",
    "ax[1].get_lines()[0].set_markerfacecolor('dodgerblue')\n",
    "ax[1].get_lines()[0].set_color('k')\n",
    "ax[1].set(title='Q-Q plot for revenue', ylabel='')\n",
    "ax[1].grid();\n",
    "\n",
    "## Group B\n",
    "fig, ax = plt.subplots(1, 2, dpi=150, figsize=(10, 4), constrained_layout=True,\n",
    "                       sharey=True)\n",
    "fig.suptitle('Group B')\n",
    "#\n",
    "sns.histplot(y=group_b['revenue'], stat='probability', color='darkgreen',\n",
    "             linewidth=1.5, ax=ax[0], zorder=3)\n",
    "ax[0].set(title='Distribution of revenue', ylabel='Observed Values',\n",
    "          ylim=[-100, group_b['revenue'].max() + 100])\n",
    "ax[0].grid(zorder=-1)\n",
    "#\n",
    "probplot = stats.probplot(group_b['revenue'], plot=ax[1])\n",
    "ax[1].get_lines()[0].set_markerfacecolor('darkgreen')\n",
    "ax[1].get_lines()[0].set_color('k')\n",
    "ax[1].set(title='Q-Q plot for revenue', ylabel='')\n",
    "ax[1].grid();"
   ]
  },
  {
   "cell_type": "code",
   "execution_count": 59,
   "id": "bab54b6f-1126-4420-bccf-ec92733426c1",
   "metadata": {},
   "outputs": [
    {
     "data": {
      "text/plain": [
       "revenue\n",
       "290.0    25\n",
       "580.0     6\n",
       "990.0     5\n",
       "199.0     5\n",
       "590.0     5\n",
       "Name: count, dtype: int64"
      ]
     },
     "execution_count": 59,
     "metadata": {},
     "output_type": "execute_result"
    }
   ],
   "source": [
    "group_a['revenue'].value_counts().head()"
   ]
  },
  {
   "cell_type": "code",
   "execution_count": 60,
   "id": "0630b47b-46cc-497f-9016-a610fa2867fc",
   "metadata": {},
   "outputs": [
    {
     "data": {
      "text/plain": [
       "revenue\n",
       "1900.0000    93\n",
       "290.0000     45\n",
       "1900.0001    35\n",
       "199.0000     27\n",
       "840.0000     21\n",
       "Name: count, dtype: int64"
      ]
     },
     "execution_count": 60,
     "metadata": {},
     "output_type": "execute_result"
    }
   ],
   "source": [
    "group_b['revenue'].value_counts().head()"
   ]
  },
  {
   "attachments": {},
   "cell_type": "markdown",
   "id": "c459ec6f-1c2c-48a0-9c71-2545dc3ccd5a",
   "metadata": {},
   "source": [
    "Из визуализаций следует, что данные из обеих групп не распределены нормально. Распределение *revenue* группы А напоминает экспоненциальное с максимумом в диапазоне значений 250 – 500. Это кажется логичным: чем больше сумма, тем меньше число пользователей, действительно потративших её на услуги обучающей платформы. Однако в случае группы В эта логика нарушается: из-за уже упомянутых в предыдущем разделе значений 1900.0000 и 1900.0001 самый высокий столбец гистограммы не расположен ближе всех остальных к нулю оси наблюденных *revenue*. Тем не менее, ввиду отсутствия возможности исследовать природу этих данных, они не будут считаться следствием ошибки и исключаться из дальнейших построений.\n",
    "\n",
    "Поскольку обе выборки состоят из относительно небольшого числа элементов, для вероятностной оценки нормальности их распределения выполним тесты Шапиро-Уилка.\n",
    "* **нулевая гипотеза H<sub>0</sub>**: данные взяты из популяции, которая имеет нормальное распределение;\n",
    "* **альтернативная гипотеза H<sub>1</sub>**: популяция, из которой были взяты данные, не подчиняется нормальному распределению."
   ]
  },
  {
   "cell_type": "code",
   "execution_count": 61,
   "id": "657e91cc-558b-448d-98da-a98491d8fb59",
   "metadata": {},
   "outputs": [
    {
     "name": "stdout",
     "output_type": "stream",
     "text": [
      "Group A:\n",
      "                W          pval  normal\n",
      "revenue  0.735324  1.498692e-10   False\n",
      "\n",
      "Group B:\n",
      "                W          pval  normal\n",
      "revenue  0.854722  1.543336e-16   False\n"
     ]
    }
   ],
   "source": [
    "print(f\"Group A:\\n{pg.normality(group_a['revenue'], method='shapiro')}\")\n",
    "print(f\"\\nGroup B:\\n{pg.normality(group_b['revenue'], method='shapiro')}\")"
   ]
  },
  {
   "cell_type": "markdown",
   "id": "bb4fb30e-d411-45f3-991d-e0badcdd62fd",
   "metadata": {},
   "source": [
    "В обоих случаях полученное в p-value меньше порогового значения 0.05, и поэтому нулевая гипотеза отвергается в пользу альтернативной. Принятие H<sub>1</sub> указывает на ненормальность распределения значений *revenue* групп А и В, что, в свою очередь, говорит о некорректности применения t-теста для исследования разницы между средними этих выборок.\n",
    "\n",
    "Как и в случае **ARPU**, для оценки статистической значимости различия между средними значения групп реализуем перестановочный тест. \n",
    "* **нулевая гипотеза H<sub>0</sub>**: выборки А и В взяты из одной и той же популяции;\n",
    "* **альтернативная гипотеза H<sub>1</sub>**: выборки А и В взяты из разных популяций, причем среднее значение популяции В больше, чем популяции А.\n",
    "\n",
    "*p-value* будет рассчитано как процент значений из распределения нулевой гипотезы, которые больше или равны наблюдённой тестовой статистике.\n",
    "\n",
    "Зададим функцию для расчета тестовой статистики - разности между средним значением группы В и средним значением группы А."
   ]
  },
  {
   "cell_type": "code",
   "execution_count": 62,
   "id": "d6424ced-b083-480d-b7b3-f36d26294520",
   "metadata": {},
   "outputs": [],
   "source": [
    "def statistic (a, b, axis):\n",
    "    '''Функция для расчета тестовой статистики'''\n",
    "    return np.mean(b, axis) - np.mean(a, axis)"
   ]
  },
  {
   "attachments": {},
   "cell_type": "markdown",
   "id": "3a28f196-6ee3-443b-b3d1-0eb7c39722a7",
   "metadata": {},
   "source": [
    "Выполним тест и выведем полученное p-value."
   ]
  },
  {
   "cell_type": "code",
   "execution_count": 63,
   "id": "1309b361-7775-417e-825c-63cb58b92e11",
   "metadata": {},
   "outputs": [
    {
     "name": "stdout",
     "output_type": "stream",
     "text": [
      "p-value is 0.001\n"
     ]
    }
   ],
   "source": [
    "perm_res = stats.permutation_test(\n",
    "    (group_a['revenue'], group_b['revenue']),\n",
    "    statistic, vectorized=True,\n",
    "    n_resamples=9999, alternative='greater'\n",
    ")\n",
    "print(f'p-value is {perm_res.pvalue}')"
   ]
  },
  {
   "cell_type": "markdown",
   "id": "67dfeb51-442a-441a-b001-340d69003f07",
   "metadata": {},
   "source": [
    "p-value не превышает пороговое значение 0.05, поэтому нулевая гипотеза отклоняется в пользу альтернативной. \n",
    "\n",
    "Визуализируем распределение нулевой гипотезы и наблюдённую тестовую статистику:"
   ]
  },
  {
   "cell_type": "code",
   "execution_count": 64,
   "id": "6d922c77-2a31-4c55-9486-8dc972745c78",
   "metadata": {},
   "outputs": [
    {
     "data": {
      "image/png": "[encoded data removed]",
      "text/plain": [
       "<Figure size 900x450 with 1 Axes>"
      ]
     },
     "metadata": {},
     "output_type": "display_data"
    }
   ],
   "source": [
    "fig, ax = plt.subplots(dpi=150, figsize=(6, 3), constrained_layout=True)\n",
    "ax.hist(perm_res.null_distribution, bins=30, edgecolor='black', zorder=2)\n",
    "ax.axvline(x=delta, color='red', linewidth=3, label='observed\\nstatistic')\n",
    "ax.set(title='Null hypothesis distribution', xlabel='Values', ylabel='Count')\n",
    "ax.grid(zorder=-1)\n",
    "ax.legend();"
   ]
  },
  {
   "attachments": {},
   "cell_type": "markdown",
   "id": "34cc640f-e49d-4f7b-af7a-53d159ea4817",
   "metadata": {},
   "source": [
    "Согласно результатам перестановочного теста, **ARPPU** группы В статистически значимо превышает этот же показатель группы А. Это свидетельствует о том, что введение нового механизмы оплаты позволило существенно увеличить средний чек платящих пользователей.\n",
    "\n",
    "Однако при принятии окончательного решения о развертывании новой механики оплаты на всех пользователей следует учесть, что данный тест проводился на базе относительно небольших выборок, которые отличались по размеру в 4 раза: 78 элементов в группе А и 314 элементов в группе В. Помимо этого дисбаланса, нужно иметь в виду, что 128 наблюдений из группы В, соответствующих значениям 1900.0000 и 1900.0001, могут быть скомпрометированы.   "
   ]
  },
  {
   "cell_type": "markdown",
   "id": "b6b235a3-1f73-45e6-a0a2-f3aacc65af57",
   "metadata": {},
   "source": [
    "## Выводы"
   ]
  },
  {
   "cell_type": "code",
   "execution_count": 65,
   "id": "79d6e58b-43c3-4d11-9189-c8e856fa6232",
   "metadata": {},
   "outputs": [
    {
     "data": {
      "text/html": [
       "<div>\n",
       "<style scoped>\n",
       "    .dataframe tbody tr th:only-of-type {\n",
       "        vertical-align: middle;\n",
       "    }\n",
       "\n",
       "    .dataframe tbody tr th {\n",
       "        vertical-align: top;\n",
       "    }\n",
       "\n",
       "    .dataframe thead th {\n",
       "        text-align: right;\n",
       "    }\n",
       "</style>\n",
       "<table border=\"1\" class=\"dataframe\">\n",
       "  <thead>\n",
       "    <tr style=\"text-align: right;\">\n",
       "      <th></th>\n",
       "      <th>users_total</th>\n",
       "      <th>users_purchase</th>\n",
       "      <th>revenue_total</th>\n",
       "    </tr>\n",
       "    <tr>\n",
       "      <th>group</th>\n",
       "      <th></th>\n",
       "      <th></th>\n",
       "      <th></th>\n",
       "    </tr>\n",
       "  </thead>\n",
       "  <tbody>\n",
       "    <tr>\n",
       "      <th>A</th>\n",
       "      <td>1538</td>\n",
       "      <td>78</td>\n",
       "      <td>72820.000</td>\n",
       "    </tr>\n",
       "    <tr>\n",
       "      <th>B</th>\n",
       "      <td>6803</td>\n",
       "      <td>314</td>\n",
       "      <td>394974.004</td>\n",
       "    </tr>\n",
       "  </tbody>\n",
       "</table>\n",
       "</div>"
      ],
      "text/plain": [
       "       users_total  users_purchase  revenue_total\n",
       "group                                            \n",
       "A             1538              78      72820.000\n",
       "B             6803             314     394974.004"
      ]
     },
     "execution_count": 65,
     "metadata": {},
     "output_type": "execute_result"
    }
   ],
   "source": [
    "upd_df_summary.round(3)"
   ]
  },
  {
   "cell_type": "code",
   "execution_count": 66,
   "id": "f857dd52-2cb2-4044-9e52-55a680a2d695",
   "metadata": {
    "scrolled": true
   },
   "outputs": [
    {
     "data": {
      "text/html": [
       "<div>\n",
       "<style scoped>\n",
       "    .dataframe tbody tr th:only-of-type {\n",
       "        vertical-align: middle;\n",
       "    }\n",
       "\n",
       "    .dataframe tbody tr th {\n",
       "        vertical-align: top;\n",
       "    }\n",
       "\n",
       "    .dataframe thead th {\n",
       "        text-align: right;\n",
       "    }\n",
       "</style>\n",
       "<table border=\"1\" class=\"dataframe\">\n",
       "  <thead>\n",
       "    <tr style=\"text-align: right;\">\n",
       "      <th></th>\n",
       "      <th>CR</th>\n",
       "      <th>ARPU</th>\n",
       "      <th>ARPPU</th>\n",
       "    </tr>\n",
       "    <tr>\n",
       "      <th>group</th>\n",
       "      <th></th>\n",
       "      <th></th>\n",
       "      <th></th>\n",
       "    </tr>\n",
       "  </thead>\n",
       "  <tbody>\n",
       "    <tr>\n",
       "      <th>A</th>\n",
       "      <td>5.072</td>\n",
       "      <td>47.347</td>\n",
       "      <td>933.590</td>\n",
       "    </tr>\n",
       "    <tr>\n",
       "      <th>B</th>\n",
       "      <td>4.616</td>\n",
       "      <td>58.059</td>\n",
       "      <td>1257.879</td>\n",
       "    </tr>\n",
       "    <tr>\n",
       "      <th>Delta</th>\n",
       "      <td>-0.456</td>\n",
       "      <td>10.712</td>\n",
       "      <td>324.289</td>\n",
       "    </tr>\n",
       "  </tbody>\n",
       "</table>\n",
       "</div>"
      ],
      "text/plain": [
       "          CR    ARPU     ARPPU\n",
       "group                         \n",
       "A      5.072  47.347   933.590\n",
       "B      4.616  58.059  1257.879\n",
       "Delta -0.456  10.712   324.289"
      ]
     },
     "execution_count": 66,
     "metadata": {},
     "output_type": "execute_result"
    }
   ],
   "source": [
    "upd_df_metrics.loc['Delta'] = upd_df_metrics.loc['B'] - upd_df_metrics.loc['A']\n",
    "upd_df_metrics.round(3)"
   ]
  },
  {
   "attachments": {},
   "cell_type": "markdown",
   "id": "18da455b-5626-4ccc-8bed-4edcefdd1064",
   "metadata": {},
   "source": [
    "Для изучения влияния нового дизайна системы оплаты на сайте было произведено сравнение данных двух групп пользователей: участникам группы А выводился старый дизайн, а группы В - новый. Данные сравнивались по трем показателям, но в качестве основного была выбрана **конверсия (CR)**, а **ARPU** и **ARPPU** носили справочный характер.\n",
    "* Несмотря на то, что **CR** группы В на 0.456 меньше, чем **CR** группы А, из результатов применения критерия хи-квадрат следует, что эта разница не является статистически значимой.\n",
    "* Дельта метрик **ARPU** (10.712) и **ARPPU** (324.289) групп А и В была проверена на статистическую значимость при помощи перестановочных тестов. Согласно их результатам, различие между **ARPU** групп не является стат. значимым, тогда как различие между **ARPPU** - является. Однако следует учитывать, что тест для **ARPPU** проводился на относительно небольших выборках, которые также отличались по размеру в 4 раза: 78 элементов в группе А и 314 элементов в группе В. Помимо этого, значительное количество наблюдений из группы В, а именно 128, могли быть записаны некорректно. Если это действительно так, эти значения смещают среднее выборки и тем самым существенно влияют на аутпут перестановочного теста.\n",
    "\n",
    "Таким образом, из трех рассмотренных пар метрик статистически значимое различие выявлено лишь для справочной **ARPPU**, причем надежность этого результата поставлена под сомнение. Поэтому я **не рекомендую** немедленную замену старой механики оплаты услуг на новую. Вместо этого я предлагаю провести новое А/В-тестирование, в рамках которого:\n",
    "* группы будут иметь сопоставимый размер;\n",
    "* накопление данных будет осуществляться в течение более длительного времени;\n",
    "* сведения о пользователях, совершивших платеж в период накопления данных, но не посещавших на платформу, не будут сохраняться;\n",
    "* больше внимания будет уделено проверке достоверности регистрируемых данных."
   ]
  }
 ],
 "metadata": {
  "kernelspec": {
   "display_name": "Python [conda env:sandbox]",
   "language": "python",
   "name": "conda-env-sandbox-py"
  },
  "language_info": {
   "codemirror_mode": {
    "name": "ipython",
    "version": 3
   },
   "file_extension": ".py",
   "mimetype": "text/x-python",
   "name": "python",
   "nbconvert_exporter": "python",
   "pygments_lexer": "ipython3",
   "version": "3.10.13"
  }
 },
 "nbformat": 4,
 "nbformat_minor": 5
}
